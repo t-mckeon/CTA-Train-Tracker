{
 "cells": [
  {
   "cell_type": "code",
   "execution_count": 105,
   "id": "ff99d88a",
   "metadata": {},
   "outputs": [],
   "source": [
    "import dash\n",
    "import dash_core_components as dcc\n",
    "import dash_html_components as html\n",
    "import pandas as pd\n",
    "import google.auth\n",
    "from google.cloud import bigquery\n",
    "import plotly.graph_objs as go\n",
    "import plotly.express as px\n",
    "import dash_table\n",
    "from google.oauth2 import service_account\n",
    "import geopandas as gpd\n",
    "import json\n",
    "import re\n",
    "\n",
    "\n",
    "import os\n",
    "os.environ['GOOGLE_APPLICATION_CREDENTIALS'] = 'YOUR_BIGQUERY_PROJECT_ID'"
   ]
  },
  {
   "cell_type": "code",
   "execution_count": 108,
   "id": "240592cc",
   "metadata": {
    "scrolled": true
   },
   "outputs": [
    {
     "name": "stdout",
     "output_type": "stream",
     "text": [
      "Dash is running on http://127.0.0.1:8050/\n",
      "\n",
      " * Serving Flask app '__main__'\n",
      " * Debug mode: off\n"
     ]
    }
   ],
   "source": [
    "external_stylesheets = ['https://stackpath.bootstrapcdn.com/bootstrap/4.5.2/css/bootstrap.min.css']\n",
    "\n",
    "app = dash.Dash(__name__, external_stylesheets=external_stylesheets)\n",
    "server = app.server\n",
    "\n",
    "\n",
    "# Set up authentication for BigQuery\n",
    "credentials = service_account.Credentials.from_service_account_file(\n",
    "    'YOUR_BIGQUERY_CREDENTIALS',\n",
    "    scopes=[\"https://www.googleapis.com/auth/cloud-platform\"],\n",
    ")\n",
    "project_id = \"YOUR_BIGQUERY_PROJECT_ID\"\n",
    "\n",
    "client = bigquery.Client(credentials=credentials, project=project_id)\n",
    "\n",
    "def hex_to_rgb(hex_color, lighten = 0):\n",
    "    hex_color = re.search(r'^#?([a-f\\d]{2})([a-f\\d]{2})([a-f\\d]{2})$', hex_color, re.I)\n",
    "    r, g, b = [(int(hex_color.group(i), 16) + (255 - int(hex_color.group(i), 16))*lighten) for i in (1, 2, 3)]\n",
    "    return f\"rgb({r}, {g}, {b})\"\n",
    "\n",
    "\n",
    "# Define the layout of the app\n",
    "app.layout = html.Div([\n",
    "    dcc.Interval(\n",
    "        id='interval-component',\n",
    "        interval=15 * 1000,  # in milliseconds\n",
    "        n_intervals=0\n",
    "    ),\n",
    "    html.Div([\n",
    "        html.Div([\n",
    "            dcc.Graph(id='cta-map', style={'height': '800px'}),\n",
    "        ], style={'flex': '3'}),\n",
    "        html.Div([\n",
    "            html.Label('Select Route:'),\n",
    "            dcc.Dropdown(\n",
    "                id='route-dropdown',\n",
    "                options=[\n",
    "                        {'label': 'Red Line', 'value': 'Red Line', 'style': {'backgroundColor': hex_to_rgb('#fb003d')}},\n",
    "                        {'label': 'Blue Line', 'value': 'Blue Line', 'style': {'backgroundColor': hex_to_rgb('#00a8df')}},\n",
    "                        {'label': 'Green Line', 'value': 'Green Line', 'style': {'backgroundColor': hex_to_rgb('#00a447')}},\n",
    "                        {'label': 'Brown Line', 'value': 'Brown Line', 'style': {'backgroundColor': hex_to_rgb('#7b4213')}},\n",
    "                        {'label': 'Orange Line', 'value': 'Orange Line', 'style': {'backgroundColor': hex_to_rgb('#fe9307')}},\n",
    "                        {'label': 'Pink Line', 'value': 'Pink Line', 'style': {'backgroundColor': hex_to_rgb('#f68eb9')}},\n",
    "                        {'label': 'Purple Line', 'value': 'Purple Line', 'style': {'backgroundColor': hex_to_rgb('#492f8a')}},\n",
    "                        {'label': 'Yellow Line', 'value': 'Yellow Line', 'style': {'backgroundColor': hex_to_rgb('#f9ef00')}},\n",
    "                    ],\n",
    "                value='Red Line'),\n",
    "            html.Div(id='table-div', style={'marginTop': 50}),\n",
    "        ], style={'flex': '2', 'padding': '20px'}),\n",
    "    ], style={'display': 'flex', 'padding': '0px'}),\n",
    "])\n",
    "\n",
    "# Define a function to get the train location data from BigQuery\n",
    "def get_bq_data():\n",
    "    client = bigquery.Client()\n",
    "    query = \"\"\"\n",
    "        SELECT route, run_number, destination_station_name, latitude, longitude, next_station_name, timestamp, arrival_time, heading\n",
    "        FROM `YOUR_BIGQUERY_PROJECT_ID`\n",
    "    \"\"\"\n",
    "    query_job = client.query(query)\n",
    "    results = query_job.result()\n",
    "    train_data = []\n",
    "    for row in results:\n",
    "        train_data.append({\n",
    "            'route': row['route'],\n",
    "            'train_id': row['run_number'],\n",
    "            'destination': row['destination_station_name'],\n",
    "            'latitude': row['latitude'],\n",
    "            'longitude': row['longitude'],\n",
    "            'next_station_name': row['next_station_name'],\n",
    "            'timestamp': row['timestamp'],\n",
    "            'arrival_time': row['arrival_time'],\n",
    "            'heading': row['heading']\n",
    "        })\n",
    "    return pd.DataFrame(train_data)\n",
    "\n",
    "\n",
    "# Define a function to plot the train locations on the map\n",
    "def plot_train_locations(zoom, lat, lon):\n",
    "    train_df = get_bq_data()\n",
    "\n",
    "    # Read in the CTA train lines GeoJSON file\n",
    "    with open('CTA_RailLines.geojson', 'r') as f:\n",
    "        cta_lines = json.load(f)\n",
    "\n",
    "    # Create a mapbox plot of the CTA train lines\n",
    "    line_color_map = {'Yellow Line': '#f9ef00',\n",
    "     'Orange Line': '#fe9307',\n",
    "     'Pink Line': '#f68eb9',\n",
    "     'Brown Line': '#7b4213',\n",
    "     'Green Line': '#00a447',\n",
    "     'Red Line': '#fb003d',\n",
    "     \"Blue Line (O'Hare)\": '#00a8df',\n",
    "     \"Blue Line (Forest Park)\": '#00a8df',\n",
    "     'Purple Line': '#492f8a',\n",
    "     'Blue Line' : '#00a8df',\n",
    "     'Brown, Orange, Pink, Purple (Express)': ['#7b4213', '#fe9307', '#ff85bc', '#492f8a'],\n",
    "     'Brown, Purple': ['#7b4213', '#492f8a'],\n",
    "     'Green, Orange': ['#00a447', '#fe9307'],\n",
    "     'Brown, Green, Orange, Pink, Purple (Exp)': ['#7b4213', '#00a447', '#fe9307', '#f68eb9', '#492f8a'],\n",
    "     'Red, Purple Line': ['#fb003d', '#492f8a'],\n",
    "     'Brown, Purple (Express), Red':['#7b4213', '#492f8a', '#fa0034'], \n",
    "     'Green, Pink': ['#00a447', '#f68eb9']\n",
    "    }\n",
    "\n",
    "    line_color_scales = {}\n",
    "\n",
    "    for line, color in line_color_map.items():\n",
    "        if isinstance(color, list):\n",
    "            line_color_scales[line] = color\n",
    "        else:\n",
    "            line_color_scales[line] = [color]\n",
    "\n",
    "    line_traces = []\n",
    "\n",
    "    for feature in cta_lines['features']:\n",
    "        line = feature['properties']['Name']\n",
    "        geo = feature['geometry']\n",
    "        coords = geo['coordinates']\n",
    "        line_colors = line_color_map[line]\n",
    "        if isinstance(line_colors, str):\n",
    "            # If line color is a string, create a single trace with the given color\n",
    "            trace = go.Scattermapbox(\n",
    "                lat=[c[1] for c in coords],\n",
    "                lon=[c[0] for c in coords],\n",
    "                mode='lines',\n",
    "                line=dict(color=line_colors, width=3),\n",
    "                hoverinfo='none'\n",
    "            )\n",
    "            line_traces.append(trace)\n",
    "        elif isinstance(line_colors, list):\n",
    "            # If line color is a list, create multiple traces with different colors\n",
    "            n_colors = len(line_colors)\n",
    "            for i in range(n_colors):\n",
    "                trace = go.Scattermapbox(\n",
    "                    lat=[c[1] + i*.00007 for c in coords],\n",
    "                    lon=[c[0] + i*.00005 for c in coords],\n",
    "                    mode= 'lines',\n",
    "                    line=dict(color=line_colors[i], width=3),\n",
    "                    hoverinfo='none'\n",
    "                )\n",
    "                line_traces.append(trace)\n",
    "\n",
    "    \n",
    "    train_df['min_to_arrival'] = ((train_df['arrival_time'] -train_df['timestamp']).dt.total_seconds() / 60).astype('int')\n",
    "    train_df['hover_info'] = train_df['train_id'].astype('str') + ' Towards: ' + train_df['destination'].str.replace(' ', '-').astype('str') + '\\n' + 'Arriving at ' + train_df['next_station_name'].str.replace(' ', '-').astype('str') + ' in ' + train_df['min_to_arrival'].astype('str') + ' min'\n",
    "    train_df['route_color'] = train_df['route'].apply(lambda x: line_color_map[x])\n",
    "    \n",
    "    # Create a scatter mapbox plot of the train locations\n",
    "    with open('rail.svg', 'r') as f:\n",
    "        rail_svg = f.read()\n",
    "\n",
    "    hover_template = '<b>{}</b><br>{}'.format(\n",
    "        '%{text[0]} %{text[1]} %{text[2]}',\n",
    "        '%{text[3]} %{text[4]} %{text[5]} %{text[6]} %{text[7]} %{text[8]}'\n",
    "    )\n",
    "    \n",
    "    scatter_trace_outline = go.Scattermapbox(\n",
    "        lat=train_df['latitude'],\n",
    "        lon=train_df['longitude'],\n",
    "        mode='markers',\n",
    "        marker=dict(\n",
    "        symbol='circle', \n",
    "        size = 11, \n",
    "        color = 'white'\n",
    ")\n",
    "\n",
    "    )\n",
    "    scatter_trace = go.Scattermapbox(\n",
    "        lat=train_df['latitude'],\n",
    "        lon=train_df['longitude'],\n",
    "        mode='markers',\n",
    "        marker=dict(\n",
    "        symbol='circle', \n",
    "        size = 10, \n",
    "        color = train_df['route_color']),\n",
    "        text=train_df['hover_info'].apply(lambda x: x.split()),\n",
    "        hovertemplate= hover_template,\n",
    "        name=''\n",
    "\n",
    "    )\n",
    "    \n",
    "\n",
    "        \n",
    "    # Add the line and scatter traces to the figure\n",
    "    fig = go.Figure(line_traces + [scatter_trace_outline] + [scatter_trace])\n",
    "    \n",
    "    fig.update_layout(\n",
    "        mapbox=dict(\n",
    "            style='carto-darkmatter',\n",
    "            zoom=zoom,\n",
    "            center=dict(lat=lat, lon= lon),\n",
    "        ),\n",
    "        height = 800, \n",
    "        width = 720,\n",
    "        showlegend=False )\n",
    "        \n",
    "    return fig\n",
    "\n",
    "def display_table(route):\n",
    "    # Filter the train location data for the selected route\n",
    "    route_df = train_df[train_df['route'] == route]\n",
    "    \n",
    "    table_color = hex_to_rgb(route_df.route_color.unique()[0])\n",
    "    lighten_table_color = hex_to_rgb(route_df.route_color.unique()[0], lighten = .8)\n",
    "    \n",
    "    route_df = route_df[['train_id', 'destination', 'next_station_name', 'min_to_arrival']]\n",
    "    route_df.columns = ['Train #', 'Destination', 'Nest Station', 'Arriving in:']\n",
    "    # Create a Dash table component to display the data\n",
    "    table = dash_table.DataTable(\n",
    "        id='train-table',\n",
    "        columns=[{\"name\": i, \"id\": i} for i in route_df.columns],\n",
    "        data=route_df.to_dict('records'),\n",
    "        page_size=20,\n",
    "        style_data_conditional=[\n",
    "            {\n",
    "                'if': {'row_index': 'odd'},\n",
    "                'backgroundColor': 'rgb(255, 255, 255)'\n",
    "            },\n",
    "            {\n",
    "                'if': {'row_index': 'even'},\n",
    "                'backgroundColor': lighten_table_color\n",
    "            }\n",
    "        ],\n",
    "        style_header={\n",
    "            'backgroundColor': table_color,\n",
    "            'fontWeight': 'bold'\n",
    "        },\n",
    "        style_cell={\n",
    "        'width': '200px',\n",
    "        'textAlign': 'center',\n",
    "        'whiteSpace': 'normal',\n",
    "        'height': 'auto',\n",
    "        'padding': '5px'\n",
    "    }\n",
    "    )\n",
    "    return table\n",
    "\n",
    "# Define a callback function to update the map and table when the page is loaded\n",
    "@app.callback(\n",
    "    [dash.dependencies.Output('cta-map', 'figure'),\n",
    "     dash.dependencies.Output('table-div', 'children')],\n",
    "    [dash.dependencies.Input('interval-component', 'n_intervals'),\n",
    "     dash.dependencies.Input('cta-map', 'figure'),\n",
    "     dash.dependencies.Input('route-dropdown', 'value')],\n",
    "    [dash.dependencies.State('cta-map', 'figure')])\n",
    "\n",
    "\n",
    "\n",
    "def update_on_load(interval, fig, route, table_div):\n",
    "    # If the figure argument is None, then the page is being loaded for the first time\n",
    "    if fig is None:\n",
    "        init_zoom = 9.85\n",
    "        init_lat = 41.894\n",
    "        init_lon = -87.72\n",
    "        # Plot the train locations on the map\n",
    "        fig = plot_train_locations(init_zoom, init_lat, init_lon)\n",
    "        # Display the table of train location data\n",
    "        table = display_table(route)\n",
    "    else:\n",
    "        upd_zoom = fig['layout']['mapbox']['zoom']\n",
    "        upd_lat = fig['layout']['mapbox']['center']['lat']\n",
    "        upd_lon = fig['layout']['mapbox']['center']['lon']\n",
    "        # If the figure argument is not None, then the page is being reloaded due to an update\n",
    "        # so we only need to update the train locations on the map\n",
    "        fig = plot_train_locations(upd_zoom, upd_lat, upd_lon)\n",
    "        table = display_table(route)\n",
    "    return fig, table\n",
    "\n",
    "\n",
    "if __name__ == '__main__':\n",
    "    app.run(debug = False)"
   ]
  },
  {
   "cell_type": "code",
   "execution_count": 31,
   "id": "d4e9d749",
   "metadata": {},
   "outputs": [
    {
     "data": {
      "application/vnd.plotly.v1+json": {
       "config": {
        "plotlyServerURL": "https://plot.ly"
       },
       "data": [
        {
         "hoverinfo": "none",
         "lat": [
          42.019071094732,
          42.0194773140131,
          42.0198712956709,
          42.020213311325,
          42.0203630566358,
          42.0205810365459,
          42.0208126519856,
          42.0209898239808,
          42.0211538784943,
          42.0212635366053,
          42.0213498291236,
          42.0214100725885,
          42.0214400054037,
          42.021466454381,
          42.0214914965355,
          42.0215367194156,
          42.0215903595518,
          42.0216436732015,
          42.0216902809605,
          42.0217173161609,
          42.021712876987,
          42.0217152384437,
          42.0217160238852,
          42.0217162942499,
          42.0217032116371,
          42.0217043967079,
          42.0217653133074,
          42.0218074650253,
          42.0218594205686,
          42.0219285047178,
          42.0219558868211,
          42.0220084000676,
          42.0220689467503,
          42.0221166313009,
          42.022158449848,
          42.022249031999,
          42.0222648639269,
          42.0222529316224,
          42.0222393525641,
          42.0222093000052,
          42.022202390715,
          42.0222112593931,
          42.0222360844574,
          42.0223283707626,
          42.0224360188229,
          42.022475834485,
          42.0225404357194,
          42.0226020500114,
          42.0226353661711,
          42.0226303279812,
          42.0225846747353,
          42.0225287507538,
          42.0225095345182,
          42.0225171508337,
          42.0225125165422,
          42.0225027868252,
          42.0225381674666,
          42.0225518311653,
          42.0225578122122,
          42.0225634250951,
          42.022572859606,
          42.0225849043908,
          42.0226090421292,
          42.0226600666606,
          42.0226672543471,
          42.0226684683191,
          42.022663119773,
          42.0226531483386,
          42.022661409123,
          42.0226556038359,
          42.0226533822548,
          42.0226511938525,
          42.0226312051828,
          42.0226223962453,
          42.0225813230103,
          42.0225555723195,
          42.0225411452691,
          42.0225066871738,
          42.0224658419099,
          42.0224052669416,
          42.0223839926099,
          42.0223702118103,
          42.0223605120689,
          42.0223486329234,
          42.022345434436,
          42.0223436763855,
          42.022318451374,
          42.0223169354432,
          42.022361210484,
          42.0224407452982,
          42.0225151383234,
          42.0226060954422,
          42.0227133184923,
          42.0228364473622,
          42.0229750752266,
          42.0231287441671,
          42.0232969388257,
          42.0234791018188,
          42.0236746308554,
          42.0238828735868,
          42.0241031392162,
          42.0243346957513,
          42.0245767764481,
          42.0248285760892,
          42.0250892556442,
          42.0253579520602,
          42.0256337756083,
          42.0259158018412,
          42.026199732958
         ],
         "line": {
          "color": "#f9ef00",
          "width": 3
         },
         "lon": [
          -87.6728982270991,
          -87.6734037431124,
          -87.6738882542473,
          -87.6744919294801,
          -87.6747435058554,
          -87.6751390285516,
          -87.6755615305113,
          -87.6758941928055,
          -87.676290278476,
          -87.6766055606864,
          -87.6769297233615,
          -87.6771703938185,
          -87.6773373374524,
          -87.6774848546831,
          -87.6776238029568,
          -87.6778373569103,
          -87.6781207186485,
          -87.6786288323141,
          -87.6791625609953,
          -87.6796401960723,
          -87.6821737585671,
          -87.6848441444371,
          -87.6857488640489,
          -87.6860620799462,
          -87.6874618442931,
          -87.6880141301444,
          -87.6887850287107,
          -87.6892345278705,
          -87.6896020254796,
          -87.6900585689625,
          -87.6904932274806,
          -87.6909610900235,
          -87.6913518409713,
          -87.6916147633623,
          -87.6918622525629,
          -87.6925663341864,
          -87.6933331414398,
          -87.6943016547364,
          -87.6949757940037,
          -87.6958050413033,
          -87.6966417977847,
          -87.697199504249,
          -87.6975091467532,
          -87.6985648276377,
          -87.6994796854776,
          -87.6997898392072,
          -87.7003171889148,
          -87.7010149812709,
          -87.7018203590596,
          -87.7030057286755,
          -87.7041605132324,
          -87.7066091769558,
          -87.7073221065964,
          -87.7078759501256,
          -87.7083254570854,
          -87.7087914084417,
          -87.7098247466569,
          -87.7102238926313,
          -87.7103985941064,
          -87.7107474517564,
          -87.7113313425065,
          -87.7118092395117,
          -87.7127459053454,
          -87.7138265263728,
          -87.7144080483481,
          -87.7149677060422,
          -87.7153381995566,
          -87.716028792883,
          -87.7169122216977,
          -87.717906657276,
          -87.7180588850745,
          -87.7182087737301,
          -87.7185267550694,
          -87.7191469317715,
          -87.7198092587089,
          -87.7201142566474,
          -87.7204609434961,
          -87.7208967780429,
          -87.7213259443259,
          -87.7219570146484,
          -87.722199326255,
          -87.7224365213035,
          -87.7227342083535,
          -87.723329503059,
          -87.7282111701309,
          -87.7308134791047,
          -87.7378867816945,
          -87.7405951872698,
          -87.7412461961564,
          -87.7420107332842,
          -87.7423992679135,
          -87.7427814077037,
          -87.7431558842445,
          -87.7435214598574,
          -87.7438769141688,
          -87.7442210682962,
          -87.7445527764513,
          -87.7448709475294,
          -87.745174510118,
          -87.7454624620483,
          -87.7457338521759,
          -87.7459877719535,
          -87.746223383144,
          -87.7464398949136,
          -87.7466365951853,
          -87.7468128288159,
          -87.746968007284,
          -87.7471016208414,
          -87.7472059613419
         ],
         "mode": "lines",
         "type": "scattermapbox"
        },
        {
         "hoverinfo": "none",
         "lat": [
          41.8043562458141,
          41.8043384674327,
          41.8042931639406,
          41.8042586362967,
          41.8042364794445,
          41.8041759807031,
          41.8041209587154,
          41.8040283546516,
          41.8039096650077,
          41.8037975370965,
          41.8035773377745,
          41.803173061273,
          41.8026206142465,
          41.8015172876908,
          41.7998956551215
         ],
         "line": {
          "color": "#fe9307",
          "width": 3
         },
         "lon": [
          -87.7043264299819,
          -87.706739942397,
          -87.709796852203,
          -87.7117775233506,
          -87.7125259348242,
          -87.7132333257518,
          -87.7136318331468,
          -87.7141293986428,
          -87.7146495016473,
          -87.7150612899697,
          -87.7157542885822,
          -87.7167706089022,
          -87.7181449134607,
          -87.7207501694306,
          -87.724455411955
         ],
         "mode": "lines",
         "type": "scattermapbox"
        },
        {
         "hoverinfo": "none",
         "lat": [
          41.9297358999808,
          41.9308380441975,
          41.9316018004349,
          41.9317453897666,
          41.931828459,
          41.9319459012776,
          41.9320836363619,
          41.9322416670486,
          41.9324294574844,
          41.9345829746491,
          41.936773166041,
          41.9381395288976
         ],
         "line": {
          "color": "#00a8df",
          "width": 3
         },
         "lon": [
          -87.7085471633271,
          -87.7103262166506,
          -87.7116042020647,
          -87.7118020114112,
          -87.7119299101913,
          -87.7120666706225,
          -87.712148074895,
          -87.7121741190826,
          -87.7122033471837,
          -87.71225253216,
          -87.7123140284677,
          -87.7123651312808
         ],
         "mode": "lines",
         "type": "scattermapbox"
        },
        {
         "hoverinfo": "none",
         "lat": [
          41.8755374238653,
          41.8754995275522,
          41.8754794942112,
          41.8754776991413,
          41.8754170092109,
          41.8754036513615,
          41.8754060361962,
          41.8753875074777,
          41.8753639126398,
          41.8753374585174,
          41.875304155568,
          41.8752706233434,
          41.8752229723126,
          41.875184567525,
          41.8750928824788,
          41.8747318131625,
          41.8744333581058
         ],
         "line": {
          "color": "#00a8df",
          "width": 3
         },
         "lon": [
          -87.688440278454,
          -87.6910405119545,
          -87.6914832368663,
          -87.6923352185267,
          -87.6960228950837,
          -87.6967354651487,
          -87.6977858752179,
          -87.6983119706061,
          -87.6987839324379,
          -87.6991698622491,
          -87.6996100451371,
          -87.7000087942793,
          -87.7004395552361,
          -87.700819227504,
          -87.701473534811,
          -87.7039458520603,
          -87.7059840677601
         ],
         "mode": "lines",
         "type": "scattermapbox"
        },
        {
         "hoverinfo": "none",
         "lat": [
          41.8852504951233,
          41.8852055321472,
          41.8851373639026,
          41.8850717004189,
          41.8849504415815,
          41.8848888234288,
          41.8848114033964,
          41.8846946844545,
          41.8845677080943,
          41.8843964371417,
          41.8840013775021,
          41.8834184761756,
          41.8830722528022,
          41.8827548729644,
          41.8805898896545,
          41.8789341912761,
          41.8785824243777,
          41.8784897234705,
          41.878372515592,
          41.8782723240555,
          41.8781781326694,
          41.8780558713437,
          41.8780048520301,
          41.8779548480258,
          41.8779111137874,
          41.8778736362786,
          41.8778083610004,
          41.8777690066645,
          41.8775546080196,
          41.8768927047272,
          41.8757470730777,
          41.8754343566307,
          41.8751575706565,
          41.8715708546185
         ],
         "line": {
          "color": "#f68eb9",
          "width": 3
         },
         "lon": [
          -87.6694344325993,
          -87.669640198157,
          -87.6697924420606,
          -87.6699003057553,
          -87.6700175011048,
          -87.67006742735,
          -87.6701187603203,
          -87.6701370556676,
          -87.6701494557352,
          -87.670143835298,
          -87.6701257448097,
          -87.6701022068163,
          -87.670140559364,
          -87.6701928310835,
          -87.670124914723,
          -87.6700634515025,
          -87.6700620750003,
          -87.6700614626427,
          -87.6700436039496,
          -87.6700056180198,
          -87.669950069245,
          -87.6698646051819,
          -87.669832406891,
          -87.669809823794,
          -87.6697935933668,
          -87.6697811472844,
          -87.669771554817,
          -87.6697661877728,
          -87.6697600643687,
          -87.669740602471,
          -87.6697177582065,
          -87.6697068962933,
          -87.6696490761784,
          -87.6695489887748
         ],
         "mode": "lines",
         "type": "scattermapbox"
        },
        {
         "hoverinfo": "none",
         "lat": [
          41.896083092569,
          41.8964518532753,
          41.8970608614966,
          41.8977817101692,
          41.8984028689053,
          41.8991047887212,
          41.899752654847,
          41.9002281207136,
          41.9008317925065,
          41.9014699656756,
          41.9018502926807,
          41.9025285144232,
          41.9029793525863,
          41.9033629413559
         ],
         "line": {
          "color": "#00a8df",
          "width": 3
         },
         "lon": [
          -87.6552200373308,
          -87.6558025601044,
          -87.6567227906936,
          -87.6578200326091,
          -87.6587913852029,
          -87.6598746421727,
          -87.6609072059224,
          -87.6616280818691,
          -87.6625927002052,
          -87.6635802439975,
          -87.6641758922837,
          -87.6652426503946,
          -87.6659321617672,
          -87.6665018309868
         ],
         "mode": "lines",
         "type": "scattermapbox"
        },
        {
         "hoverinfo": "none",
         "lat": [
          41.9360404655646,
          41.936274487269,
          41.9371774381042,
          41.9376400458112,
          41.9386581399768,
          41.9389366163354,
          41.939395485106,
          41.9397586084045
         ],
         "line": {
          "color": "#7b4213",
          "width": 3
         },
         "lon": [
          -87.6532722121844,
          -87.6532808977199,
          -87.6533144139885,
          -87.6533315841112,
          -87.653369374597,
          -87.653373647706,
          -87.6533806807614,
          -87.6533862517653
         ],
         "mode": "lines",
         "type": "scattermapbox"
        },
        {
         "hoverinfo": "none",
         "lat": [
          41.9361104655646,
          41.936344487269004,
          41.9372474381042,
          41.9377100458112,
          41.9387281399768,
          41.9390066163354,
          41.939465485106,
          41.939828608404504
         ],
         "line": {
          "color": "#492f8a",
          "width": 3
         },
         "lon": [
          -87.6532222121844,
          -87.6532308977199,
          -87.6532644139885,
          -87.6532815841112,
          -87.653319374597,
          -87.653323647706,
          -87.6533306807614,
          -87.6533362517653
         ],
         "mode": "lines",
         "type": "scattermapbox"
        },
        {
         "hoverinfo": "none",
         "lat": [
          41.936180465564604,
          41.936414487269005,
          41.9373174381042,
          41.9377800458112,
          41.938798139976804,
          41.9390766163354,
          41.939535485106,
          41.939898608404505
         ],
         "line": {
          "color": "#fa0034",
          "width": 3
         },
         "lon": [
          -87.6531722121844,
          -87.65318089771989,
          -87.6532144139885,
          -87.6532315841112,
          -87.653269374597,
          -87.653273647706,
          -87.6532806807614,
          -87.6532862517653
         ],
         "mode": "lines",
         "type": "scattermapbox"
        },
        {
         "hoverinfo": "none",
         "lat": [
          41.9470365188989,
          41.9485993602801,
          41.9495952518092,
          41.9510214396926,
          41.9520291847603,
          41.9530307009502,
          41.9539304325282,
          41.9545310040863
         ],
         "line": {
          "color": "#7b4213",
          "width": 3
         },
         "lon": [
          -87.6747418779021,
          -87.6747704657001,
          -87.6747985073867,
          -87.6748412674624,
          -87.6748596147567,
          -87.6748716449302,
          -87.6749134447906,
          -87.6749615149041
         ],
         "mode": "lines",
         "type": "scattermapbox"
        },
        {
         "hoverinfo": "none",
         "lat": [
          42.0083696918601,
          42.0105976712859,
          42.0118407649057,
          42.0122760038622,
          42.0126009370884,
          42.0129816952062,
          42.0135567397178,
          42.0138896518784,
          42.0142227730154,
          42.0146708373526,
          42.0158840544707
         ],
         "line": {
          "color": "#fb003d",
          "width": 3
         },
         "lon": [
          -87.6659148623224,
          -87.6659770421915,
          -87.6660195974498,
          -87.6660613396856,
          -87.6661320129429,
          -87.6663039464711,
          -87.6666405121153,
          -87.6668962791967,
          -87.667189086098,
          -87.6676979812544,
          -87.6690978869621
         ],
         "mode": "lines",
         "type": "scattermapbox"
        },
        {
         "hoverinfo": "none",
         "lat": [
          42.008439691860104,
          42.0106676712859,
          42.0119107649057,
          42.0123460038622,
          42.0126709370884,
          42.0130516952062,
          42.0136267397178,
          42.0139596518784,
          42.0142927730154,
          42.0147408373526,
          42.015954054470704
         ],
         "line": {
          "color": "#492f8a",
          "width": 3
         },
         "lon": [
          -87.6658648623224,
          -87.6659270421915,
          -87.6659695974498,
          -87.6660113396856,
          -87.6660820129429,
          -87.6662539464711,
          -87.66659051211529,
          -87.6668462791967,
          -87.667139086098,
          -87.6676479812544,
          -87.6690478869621
         ],
         "mode": "lines",
         "type": "scattermapbox"
        },
        {
         "hoverinfo": "none",
         "lat": [
          41.8532136454739,
          41.8535210784205,
          41.8539009258281,
          41.8545479546836,
          41.8557597579432,
          41.8574687274324,
          41.8587003510324,
          41.8589480793943,
          41.8592385863877,
          41.8595264978921,
          41.8597714359599,
          41.8599685964134,
          41.8601372312349,
          41.860283543986,
          41.8603529226131,
          41.8609362236304,
          41.8613892369367,
          41.8621225826465,
          41.8626938481032,
          41.8629721465155,
          41.863163542507,
          41.8632620430301,
          41.8633813159732,
          41.863640672553,
          41.8640444460007,
          41.865761841367,
          41.8673755182111
         ],
         "line": {
          "color": "#fb003d",
          "width": 3
         },
         "lon": [
          -87.6309735745971,
          -87.631067420726,
          -87.631160945338,
          -87.631283011758,
          -87.6313669706537,
          -87.6314244324078,
          -87.6314462141427,
          -87.6314435051557,
          -87.6314243958596,
          -87.6313702629295,
          -87.6313006657214,
          -87.6312092844224,
          -87.6311277749875,
          -87.6310200925236,
          -87.6309501525493,
          -87.6305873463666,
          -87.6301835756349,
          -87.6293470046084,
          -87.6284962586825,
          -87.6280406872923,
          -87.6277868321055,
          -87.6276831253377,
          -87.6275613653481,
          -87.6273980536939,
          -87.6273147519332,
          -87.6273652048833,
          -87.6274081308717
         ],
         "mode": "lines",
         "type": "scattermapbox"
        },
        {
         "hoverinfo": "none",
         "lat": [
          41.8755240610582,
          41.8755296624585,
          41.8755204714777,
          41.8755467574394
         ],
         "line": {
          "color": "#00a8df",
          "width": 3
         },
         "lon": [
          -87.6496479861494,
          -87.6471061315641,
          -87.6419135949997,
          -87.6409899691766
         ],
         "mode": "lines",
         "type": "scattermapbox"
        },
        {
         "hoverinfo": "none",
         "lat": [
          41.8740470967729,
          41.8747220873009,
          41.8759327762872,
          41.8768823746021,
          41.8781606098482
         ],
         "line": {
          "color": "#fb003d",
          "width": 3
         },
         "lon": [
          -87.6274848644505,
          -87.6275174029209,
          -87.6275490714007,
          -87.6275715689276,
          -87.6276018464021
         ],
         "mode": "lines",
         "type": "scattermapbox"
        },
        {
         "hoverinfo": "none",
         "lat": [
          41.8889757889061,
          41.889434057641,
          41.889529790004,
          41.889631586153,
          41.8897098185044,
          41.8897951150043,
          41.8898482373478,
          41.8898942065383,
          41.889919638166,
          41.889944124462,
          41.8899779544185,
          41.8900193407267,
          41.8900779539213,
          41.8901328057278,
          41.8902142396113,
          41.8903100226077,
          41.8905199288589,
          41.8914752244404,
          41.8926141662019,
          41.8932788779388,
          41.8943439000713,
          41.8954278804664,
          41.8963357104308,
          41.8964595937239,
          41.896552800669,
          41.8966759529936,
          41.8967820284628
         ],
         "line": {
          "color": "#7b4213",
          "width": 3
         },
         "lon": [
          -87.6339791131933,
          -87.6339991674411,
          -87.6340258125093,
          -87.6340774468365,
          -87.6341425214532,
          -87.6342521318493,
          -87.6343695108659,
          -87.6344734534937,
          -87.6346215183084,
          -87.6347597022213,
          -87.6349387619398,
          -87.6350849628516,
          -87.6352456754257,
          -87.6353323965481,
          -87.6354048354807,
          -87.635486683249,
          -87.6355322192572,
          -87.6355409506008,
          -87.635585942669,
          -87.6356010257793,
          -87.6356340691212,
          -87.6356509667288,
          -87.635688912128,
          -87.6356907512124,
          -87.6357407518053,
          -87.6358398402634,
          -87.6359524103699
         ],
         "mode": "lines",
         "type": "scattermapbox"
        },
        {
         "hoverinfo": "none",
         "lat": [
          41.8890457889061,
          41.889504057641,
          41.889599790004,
          41.889701586153,
          41.8897798185044,
          41.8898651150043,
          41.8899182373478,
          41.8899642065383,
          41.889989638166,
          41.890014124462,
          41.8900479544185,
          41.8900893407267,
          41.8901479539213,
          41.8902028057278,
          41.890284239611304,
          41.8903800226077,
          41.8905899288589,
          41.8915452244404,
          41.8926841662019,
          41.8933488779388,
          41.8944139000713,
          41.8954978804664,
          41.8964057104308,
          41.8965295937239,
          41.896622800669,
          41.8967459529936,
          41.8968520284628
         ],
         "line": {
          "color": "#492f8a",
          "width": 3
         },
         "lon": [
          -87.6339291131933,
          -87.6339491674411,
          -87.63397581250929,
          -87.6340274468365,
          -87.6340925214532,
          -87.63420213184929,
          -87.6343195108659,
          -87.6344234534937,
          -87.6345715183084,
          -87.6347097022213,
          -87.63488876193979,
          -87.63503496285159,
          -87.63519567542569,
          -87.63528239654809,
          -87.6353548354807,
          -87.635436683249,
          -87.6354822192572,
          -87.6354909506008,
          -87.635535942669,
          -87.6355510257793,
          -87.6355840691212,
          -87.6356009667288,
          -87.635638912128,
          -87.63564075121239,
          -87.6356907518053,
          -87.6357898402634,
          -87.6359024103699
         ],
         "mode": "lines",
         "type": "scattermapbox"
        },
        {
         "hoverinfo": "none",
         "lat": [
          41.8857448395519,
          41.8857453724799,
          41.885745567667,
          41.8857460142089,
          41.8857462583252,
          41.8857470398402,
          41.8857484407698,
          41.8857482651943
         ],
         "line": {
          "color": "#7b4213",
          "width": 3
         },
         "lon": [
          -87.630891768284,
          -87.6302042722754,
          -87.6301196952021,
          -87.6299274035705,
          -87.6298220409721,
          -87.6294839555606,
          -87.6288775368762,
          -87.6278409317012
         ],
         "mode": "lines",
         "type": "scattermapbox"
        },
        {
         "hoverinfo": "none",
         "lat": [
          41.8858148395519,
          41.885815372479904,
          41.885815567667,
          41.8858160142089,
          41.8858162583252,
          41.8858170398402,
          41.8858184407698,
          41.8858182651943
         ],
         "line": {
          "color": "#00a447",
          "width": 3
         },
         "lon": [
          -87.630841768284,
          -87.6301542722754,
          -87.6300696952021,
          -87.6298774035705,
          -87.6297720409721,
          -87.6294339555606,
          -87.6288275368762,
          -87.6277909317012
         ],
         "mode": "lines",
         "type": "scattermapbox"
        },
        {
         "hoverinfo": "none",
         "lat": [
          41.8858848395519,
          41.885885372479905,
          41.885885567667,
          41.8858860142089,
          41.8858862583252,
          41.8858870398402,
          41.885888440769804,
          41.8858882651943
         ],
         "line": {
          "color": "#fe9307",
          "width": 3
         },
         "lon": [
          -87.630791768284,
          -87.6301042722754,
          -87.6300196952021,
          -87.6298274035705,
          -87.6297220409721,
          -87.6293839555606,
          -87.6287775368762,
          -87.6277409317012
         ],
         "mode": "lines",
         "type": "scattermapbox"
        },
        {
         "hoverinfo": "none",
         "lat": [
          41.8859548395519,
          41.885955372479906,
          41.885955567667004,
          41.8859560142089,
          41.8859562583252,
          41.8859570398402,
          41.885958440769805,
          41.885958265194304
         ],
         "line": {
          "color": "#f68eb9",
          "width": 3
         },
         "lon": [
          -87.630741768284,
          -87.6300542722754,
          -87.62996969520209,
          -87.6297774035705,
          -87.6296720409721,
          -87.6293339555606,
          -87.6287275368762,
          -87.6276909317012
         ],
         "mode": "lines",
         "type": "scattermapbox"
        },
        {
         "hoverinfo": "none",
         "lat": [
          41.886024839551894,
          41.8860253724799,
          41.886025567667,
          41.886026014208895,
          41.886026258325195,
          41.886027039840194,
          41.8860284407698,
          41.8860282651943
         ],
         "line": {
          "color": "#492f8a",
          "width": 3
         },
         "lon": [
          -87.630691768284,
          -87.6300042722754,
          -87.62991969520209,
          -87.6297274035705,
          -87.6296220409721,
          -87.6292839555606,
          -87.6286775368762,
          -87.6276409317012
         ],
         "mode": "lines",
         "type": "scattermapbox"
        },
        {
         "hoverinfo": "none",
         "lat": [
          41.9106624374159,
          41.9117533707298,
          41.9122634471752,
          41.9129414130687,
          41.9129953497796,
          41.9130890914629,
          41.9131697030581,
          41.9132760197549,
          41.9140673299076
         ],
         "line": {
          "color": "#fb003d",
          "width": 3
         },
         "lon": [
          -87.6491830249658,
          -87.6507037756612,
          -87.6514127793945,
          -87.6523585926451,
          -87.6524301498585,
          -87.6524915785109,
          -87.6524967450456,
          -87.6524995687795,
          -87.6525061864663
         ],
         "mode": "lines",
         "type": "scattermapbox"
        },
        {
         "hoverinfo": "none",
         "lat": [
          41.7504201752088,
          41.7512912450769,
          41.7518954475624,
          41.7526477900685,
          41.7531690323035,
          41.7538840219906,
          41.7551663199185,
          41.7560471695234,
          41.7581548159938,
          41.762903581443,
          41.7654235066522,
          41.7683757012028
         ],
         "line": {
          "color": "#fb003d",
          "width": 3
         },
         "lon": [
          -87.6251840900823,
          -87.6251966451651,
          -87.6252105849372,
          -87.6252558246263,
          -87.6253118377114,
          -87.6253805563531,
          -87.6255014051998,
          -87.6255386379744,
          -87.6255800575161,
          -87.6256779103271,
          -87.6256968217627,
          -87.6258150885691
         ],
         "mode": "lines",
         "type": "scattermapbox"
        },
        {
         "hoverinfo": "none",
         "lat": [
          41.8164710670136,
          41.8186968507258,
          41.8209603396689,
          41.8211414126288,
          41.8213391193017,
          41.8214766376426,
          41.8215946682303,
          41.821683357002,
          41.8217579713538,
          41.8217991777704,
          41.8218334956821,
          41.8218494887546,
          41.8218230407767
         ],
         "line": {
          "color": "#00a447",
          "width": 3
         },
         "lon": [
          -87.6190415221625,
          -87.6190979477743,
          -87.6191651486875,
          -87.6191695063165,
          -87.6191673094253,
          -87.6192011758838,
          -87.619272749194,
          -87.6193609341805,
          -87.6194843081558,
          -87.6195984987918,
          -87.6197541670678,
          -87.6200278722191,
          -87.6214685536977
         ],
         "mode": "lines",
         "type": "scattermapbox"
        },
        {
         "hoverinfo": "none",
         "lat": [
          41.8871710740841,
          41.8870524684218,
          41.8869631221736,
          41.8869046083633,
          41.8867978597873,
          41.8866648999931,
          41.8866019684357,
          41.8865272009792
         ],
         "line": {
          "color": "#00a447",
          "width": 3
         },
         "lon": [
          -87.7549922824435,
          -87.7532742792873,
          -87.7516257087129,
          -87.750356296452,
          -87.7487078924982,
          -87.7464634821417,
          -87.7454728872887,
          -87.7447041843611
         ],
         "mode": "lines",
         "type": "scattermapbox"
        },
        {
         "hoverinfo": "none",
         "lat": [
          41.8538646760374,
          41.8538750759907,
          41.8539200961978,
          41.8539535001359,
          41.8539997998715
         ],
         "line": {
          "color": "#f68eb9",
          "width": 3
         },
         "lon": [
          -87.7243325009003,
          -87.7230391764122,
          -87.7201463089911,
          -87.7167108555621,
          -87.7148860364167
         ],
         "mode": "lines",
         "type": "scattermapbox"
        },
        {
         "hoverinfo": "none",
         "lat": [
          41.9661004715607,
          41.9660827529688,
          41.9660823508888,
          41.966068761221,
          41.9660601314842,
          41.966053484614,
          41.9660567649525,
          41.9660547911329,
          41.9660794808307,
          41.9661228427189,
          41.966158197155,
          41.9662227948642,
          41.9663031232296,
          41.9663611940746,
          41.9664421812238,
          41.9666745321414,
          41.9679360160609
         ],
         "line": {
          "color": "#7b4213",
          "width": 3
         },
         "lon": [
          -87.7088495751247,
          -87.7102802589883,
          -87.7110846137114,
          -87.7117317664479,
          -87.7121930268237,
          -87.7124044476395,
          -87.7125580278759,
          -87.7126868609547,
          -87.7128082766715,
          -87.7129259344245,
          -87.7129851416074,
          -87.7130394652746,
          -87.7130931478845,
          -87.7131044131361,
          -87.7131160557014,
          -87.7131209582687,
          -87.7131478193651
         ],
         "mode": "lines",
         "type": "scattermapbox"
        },
        {
         "hoverinfo": "none",
         "lat": [
          41.8046913979137,
          41.8046429194259,
          41.8045998837659,
          41.8045461586683,
          41.8044631185998,
          41.8043562458141
         ],
         "line": {
          "color": "#fe9307",
          "width": 3
         },
         "lon": [
          -87.6840707456663,
          -87.6868793785997,
          -87.6910983938224,
          -87.6942795783702,
          -87.6982060645957,
          -87.7043264299819
         ],
         "mode": "lines",
         "type": "scattermapbox"
        },
        {
         "hoverinfo": "none",
         "lat": [
          41.9664188391096,
          41.9663904336277,
          41.9663713595827,
          41.9663610398391,
          41.9663325015712,
          41.9663169767761,
          41.9662885957503,
          41.9662579136293
         ],
         "line": {
          "color": "#7b4213",
          "width": 3
         },
         "lon": [
          -87.6786406582611,
          -87.6803454123606,
          -87.6816000143143,
          -87.6827204679261,
          -87.6839911251216,
          -87.6854595443814,
          -87.6871866372152,
          -87.6885083821724
         ],
         "mode": "lines",
         "type": "scattermapbox"
        },
        {
         "hoverinfo": "none",
         "lat": [
          41.8853192483222,
          41.8853589764139,
          41.88538524818,
          41.8853971945305,
          41.8854412832986,
          41.8854909181591,
          41.8855100256156,
          41.8855426738832,
          41.8855680848624,
          41.8855864852067
         ],
         "line": {
          "color": "#00a447",
          "width": 3
         },
         "lon": [
          -87.6669566986234,
          -87.665169605485,
          -87.6641490553723,
          -87.6631286541676,
          -87.6614852124461,
          -87.6583520083823,
          -87.6567327748168,
          -87.6555924000274,
          -87.6531152691293,
          -87.6520244962054
         ],
         "mode": "lines",
         "type": "scattermapbox"
        },
        {
         "hoverinfo": "none",
         "lat": [
          41.8853892483222,
          41.8854289764139,
          41.88545524818,
          41.8854671945305,
          41.8855112832986,
          41.8855609181591,
          41.8855800256156,
          41.8856126738832,
          41.8856380848624,
          41.8856564852067
         ],
         "line": {
          "color": "#f68eb9",
          "width": 3
         },
         "lon": [
          -87.6669066986234,
          -87.665119605485,
          -87.6640990553723,
          -87.66307865416759,
          -87.6614352124461,
          -87.6583020083823,
          -87.6566827748168,
          -87.6555424000274,
          -87.6530652691293,
          -87.6519744962054
         ],
         "mode": "lines",
         "type": "scattermapbox"
        },
        {
         "hoverinfo": "none",
         "lat": [
          41.9545310040863,
          41.9551385389807,
          41.9566656854932,
          41.9579927992085,
          41.9607793719945,
          41.9617595773874
         ],
         "line": {
          "color": "#7b4213",
          "width": 3
         },
         "lon": [
          -87.6749615149041,
          -87.6749776014862,
          -87.6750129454514,
          -87.6750599242978,
          -87.6751365658258,
          -87.6751711612231
         ],
         "mode": "lines",
         "type": "scattermapbox"
        },
        {
         "hoverinfo": "none",
         "lat": [
          41.7954261020888,
          41.7977615683738,
          41.8008451105388,
          41.8018974210496,
          41.8030609824896,
          41.8053553449621,
          41.8069064965045,
          41.8076901459103,
          41.8080536435948,
          41.8083067382468,
          41.80853735419,
          41.8087082274641,
          41.8089613429267,
          41.8089999920043,
          41.8091967451337,
          41.8092474613561,
          41.8092938653547,
          41.8093376582955,
          41.8094751006052,
          41.8098554035752,
          41.8103459746632
         ],
         "line": {
          "color": "#fb003d",
          "width": 3
         },
         "lon": [
          -87.6311749126874,
          -87.6312470523658,
          -87.6313278429807,
          -87.6313507973154,
          -87.6314676075004,
          -87.6316260448286,
          -87.6317386377566,
          -87.6317948479793,
          -87.6318124687041,
          -87.6317971992234,
          -87.6317774226053,
          -87.6317463237447,
          -87.6317014483262,
          -87.6316860668976,
          -87.6316194778345,
          -87.6316062655441,
          -87.631591949823,
          -87.6315730594819,
          -87.6315220769031,
          -87.6313418562522,
          -87.6310315404715
         ],
         "mode": "lines",
         "type": "scattermapbox"
        },
        {
         "hoverinfo": "none",
         "lat": [
          41.8587665624876,
          41.8583966601269,
          41.858252159176,
          41.8581294251754,
          41.8580726656014,
          41.8579922465113,
          41.8579191875983,
          41.8578440029528,
          41.8577995873665,
          41.857759955501,
          41.8577322528919,
          41.8576943042468,
          41.8576431753893,
          41.8575988677025,
          41.8575529604063,
          41.8574696013946,
          41.8573275472808,
          41.8571164516266,
          41.8568456857879,
          41.8565765818918,
          41.8555433013397,
          41.854959145532,
          41.8543268424007,
          41.8526895045585,
          41.8516777819511,
          41.8503059873889,
          41.8501759957258,
          41.8499562174143,
          41.8495857154406,
          41.8488196046087,
          41.8486063135749,
          41.8483733895025,
          41.8481896787515,
          41.8479815339502,
          41.8476858596089,
          41.8469092882045
         ],
         "line": {
          "color": "#fe9307",
          "width": 3
         },
         "lon": [
          -87.6264237360407,
          -87.6264615219085,
          -87.6264755215826,
          -87.6265534919843,
          -87.6266045377584,
          -87.6266978306787,
          -87.6268260932929,
          -87.626995804447,
          -87.6271333112717,
          -87.6272739519463,
          -87.6274176479125,
          -87.627832305441,
          -87.6307612239827,
          -87.6313065941012,
          -87.6315906900419,
          -87.6319835360229,
          -87.6325172232554,
          -87.6330580370132,
          -87.6335803767762,
          -87.6339847981573,
          -87.635254665985,
          -87.6359524515964,
          -87.6365679030154,
          -87.6380099120212,
          -87.6389129958893,
          -87.6401512943347,
          -87.640321560053,
          -87.6406138663695,
          -87.6412300728082,
          -87.6428246953119,
          -87.6435149582353,
          -87.6443967965318,
          -87.6451442896534,
          -87.6457900884624,
          -87.6465387718066,
          -87.6481368571609
         ],
         "mode": "lines",
         "type": "scattermapbox"
        },
        {
         "hoverinfo": "none",
         "lat": [
          41.8857323806163,
          41.8857379955916,
          41.8857445108962,
          41.8857448395519
         ],
         "line": {
          "color": "#7b4213",
          "width": 3
         },
         "lon": [
          -87.6339189266405,
          -87.6328514670137,
          -87.6320455055585,
          -87.630891768284
         ],
         "mode": "lines",
         "type": "scattermapbox"
        },
        {
         "hoverinfo": "none",
         "lat": [
          41.8858023806163,
          41.8858079955916,
          41.8858145108962,
          41.8858148395519
         ],
         "line": {
          "color": "#00a447",
          "width": 3
         },
         "lon": [
          -87.6338689266405,
          -87.63280146701369,
          -87.63199550555849,
          -87.630841768284
         ],
         "mode": "lines",
         "type": "scattermapbox"
        },
        {
         "hoverinfo": "none",
         "lat": [
          41.8858723806163,
          41.8858779955916,
          41.885884510896204,
          41.8858848395519
         ],
         "line": {
          "color": "#fe9307",
          "width": 3
         },
         "lon": [
          -87.6338189266405,
          -87.63275146701369,
          -87.63194550555849,
          -87.630791768284
         ],
         "mode": "lines",
         "type": "scattermapbox"
        },
        {
         "hoverinfo": "none",
         "lat": [
          41.8859423806163,
          41.8859479955916,
          41.885954510896205,
          41.8859548395519
         ],
         "line": {
          "color": "#f68eb9",
          "width": 3
         },
         "lon": [
          -87.6337689266405,
          -87.63270146701369,
          -87.63189550555849,
          -87.630741768284
         ],
         "mode": "lines",
         "type": "scattermapbox"
        },
        {
         "hoverinfo": "none",
         "lat": [
          41.88601238061629,
          41.886017995591594,
          41.8860245108962,
          41.886024839551894
         ],
         "line": {
          "color": "#492f8a",
          "width": 3
         },
         "lon": [
          -87.6337189266405,
          -87.63265146701369,
          -87.63184550555849,
          -87.630691768284
         ],
         "mode": "lines",
         "type": "scattermapbox"
        },
        {
         "hoverinfo": "none",
         "lat": [
          41.8848167226655,
          41.8857482652165,
          41.8859689109038,
          41.8878403352435,
          41.8896564604573,
          41.8907225707369,
          41.8916730572819
         ],
         "line": {
          "color": "#fb003d",
          "width": 3
         },
         "lon": [
          -87.6278191314659,
          -87.6278409353155,
          -87.6278365980758,
          -87.6279407251953,
          -87.6279950745479,
          -87.6280010936565,
          -87.6280270087574
         ],
         "mode": "lines",
         "type": "scattermapbox"
        },
        {
         "hoverinfo": "none",
         "lat": [
          41.9039281704908,
          41.9038761601935,
          41.9038326507174,
          41.903798365807,
          41.9037986809134,
          41.9038415163585,
          41.9039254315032,
          41.904048637864,
          41.9045883676479,
          41.908074893786,
          41.909715579931,
          41.9106624374159
         ],
         "line": {
          "color": "#fb003d",
          "width": 3
         },
         "lon": [
          -87.6314180452581,
          -87.6344758873969,
          -87.6369863018318,
          -87.638962386841,
          -87.6392627630106,
          -87.6395112832178,
          -87.6397178617435,
          -87.6399397941584,
          -87.6406918621952,
          -87.6455511019833,
          -87.6478601178614,
          -87.6491830249658
         ],
         "mode": "lines",
         "type": "scattermapbox"
        },
        {
         "hoverinfo": "none",
         "lat": [
          41.9614944950344,
          41.9616983428002,
          41.9618590353167,
          41.9620222242083,
          41.9621687065689,
          41.9623007973529,
          41.962437880144,
          41.9625686312529,
          41.9626688264869,
          41.9627918779382,
          41.962919887901,
          41.9630579311938,
          41.9631816309326,
          41.9633633622515,
          41.9635156431413,
          41.9636317690101,
          41.9637358538946,
          41.9638274909661,
          41.9639625730966,
          41.9640830222929,
          41.9641985921058,
          41.9643308518599,
          41.9647841010012,
          41.9653729872405,
          41.9657402481069,
          41.9660235226343,
          41.9664606481462,
          41.9668307341313,
          41.9672273090424,
          41.9675902571761,
          41.9679003482181,
          41.968203210043,
          41.96877089666,
          41.969445632402,
          41.9698012535165,
          41.9700841683071,
          41.9703137380294,
          41.9705048614365,
          41.9706420007559
         ],
         "line": {
          "color": "#00a8df",
          "width": 3
         },
         "lon": [
          -87.7436227660726,
          -87.7438889855656,
          -87.7441013464703,
          -87.7443360248422,
          -87.744564475684,
          -87.7447739111849,
          -87.7450279843246,
          -87.745260965397,
          -87.7454695049987,
          -87.7457747779616,
          -87.7461183070024,
          -87.7465606873484,
          -87.7469936277735,
          -87.7475951982308,
          -87.7480278799312,
          -87.7483779087483,
          -87.7487025157635,
          -87.7489219092653,
          -87.7492526177492,
          -87.7495164336126,
          -87.7497579536298,
          -87.7500025130426,
          -87.7508640914004,
          -87.751636801459,
          -87.7521888414695,
          -87.752620361759,
          -87.7533281826619,
          -87.7539695900941,
          -87.7546682197256,
          -87.7553129004414,
          -87.7558686890808,
          -87.7564059297572,
          -87.7573891446675,
          -87.7585743478065,
          -87.7591872174867,
          -87.7597041048343,
          -87.7601320779858,
          -87.7605779634349,
          -87.7608980764385
         ],
         "mode": "lines",
         "type": "scattermapbox"
        },
        {
         "hoverinfo": "none",
         "lat": [
          41.8541384318186,
          41.8541559500295,
          41.854184981014,
          41.8542021959283,
          41.8542555260891,
          41.8542874766599
         ],
         "line": {
          "color": "#f68eb9",
          "width": 3
         },
         "lon": [
          -87.7054337264749,
          -87.7042617912248,
          -87.7023179244374,
          -87.7011642195356,
          -87.6983087721589,
          -87.6948286813098
         ],
         "mode": "lines",
         "type": "scattermapbox"
        },
        {
         "hoverinfo": "none",
         "lat": [
          41.8842273832401,
          41.8842616498171,
          41.8843226380701,
          41.8843578742623,
          41.8843813581751,
          41.8844167076186,
          41.8844635352116,
          41.884567130259,
          41.8846046123897,
          41.8846914363658,
          41.884777300641,
          41.884838773525,
          41.884879510209,
          41.884933445328,
          41.8849850231602,
          41.8850148204483,
          41.8850641140069,
          41.8851092057783,
          41.885144763344,
          41.8852119048717,
          41.8852504951233
         ],
         "line": {
          "color": "#00a447",
          "width": 3
         },
         "lon": [
          -87.6962399852839,
          -87.6951168762512,
          -87.6935985966938,
          -87.6926535708951,
          -87.6916776866112,
          -87.6907558869878,
          -87.6898184842452,
          -87.687657075426,
          -87.6860925568812,
          -87.6840474561473,
          -87.6818397496638,
          -87.680437587465,
          -87.6794615169325,
          -87.6777574418511,
          -87.6766573631344,
          -87.6757975508646,
          -87.6743025841339,
          -87.673086418872,
          -87.6722265427548,
          -87.6708243062379,
          -87.6694344325993
         ],
         "mode": "lines",
         "type": "scattermapbox"
        },
        {
         "hoverinfo": "none",
         "lat": [
          41.9662579136293,
          41.9662609234488,
          41.9662510680433,
          41.9662386742266,
          41.9662178145283
         ],
         "line": {
          "color": "#7b4213",
          "width": 3
         },
         "lon": [
          -87.6885083821724,
          -87.689469104947,
          -87.6902607884965,
          -87.6914514814697,
          -87.6941169025643
         ],
         "mode": "lines",
         "type": "scattermapbox"
        },
        {
         "hoverinfo": "none",
         "lat": [
          41.8579155564504,
          41.860095270598,
          41.8610363907102,
          41.8628018561838,
          41.864816298431,
          41.8667457217103,
          41.8680865681442,
          41.8691538065537,
          41.8697350419277,
          41.8715708546185
         ],
         "line": {
          "color": "#f68eb9",
          "width": 3
         },
         "lon": [
          -87.6691658845026,
          -87.669221561905,
          -87.669250063256,
          -87.6692987166362,
          -87.6693543557602,
          -87.6694260852473,
          -87.6694602375073,
          -87.6694874214552,
          -87.6695022260803,
          -87.6695489887748
         ],
         "mode": "lines",
         "type": "scattermapbox"
        },
        {
         "hoverinfo": "none",
         "lat": [
          41.8758934865899,
          41.8758886824439,
          41.8758906984098,
          41.87590319144,
          41.8759043301887,
          41.8759081945963,
          41.8758839818397,
          41.8758546991987,
          41.875842802908,
          41.8757871066957,
          41.8756066068748,
          41.8754734065009,
          41.8754849602563,
          41.8755240610582
         ],
         "line": {
          "color": "#00a8df",
          "width": 3
         },
         "lon": [
          -87.6594612674364,
          -87.6593502013148,
          -87.658986270221,
          -87.6586388967611,
          -87.6582138834307,
          -87.6578686340996,
          -87.6573913834037,
          -87.6569789689689,
          -87.6568114269956,
          -87.6558482983964,
          -87.6537612082629,
          -87.6518009555759,
          -87.6504039963159,
          -87.6496479861494
         ],
         "mode": "lines",
         "type": "scattermapbox"
        },
        {
         "hoverinfo": "none",
         "lat": [
          41.8852504951233,
          41.8853192483222
         ],
         "line": {
          "color": "#00a447",
          "width": 3
         },
         "lon": [
          -87.6694344325993,
          -87.6669566986234
         ],
         "mode": "lines",
         "type": "scattermapbox"
        },
        {
         "hoverinfo": "none",
         "lat": [
          41.8853204951233,
          41.8853892483222
         ],
         "line": {
          "color": "#f68eb9",
          "width": 3
         },
         "lon": [
          -87.6693844325993,
          -87.6669066986234
         ],
         "mode": "lines",
         "type": "scattermapbox"
        },
        {
         "hoverinfo": "none",
         "lat": [
          41.9537828118747,
          41.9537733072796,
          41.9537717827142,
          41.9537816573679,
          41.9538089019345,
          41.9538849059902,
          41.9539740921152,
          41.9540498860901,
          41.9541743364541,
          41.9543073638993,
          41.954418108337,
          41.9549144381456,
          41.9569304592477,
          41.9586185764054,
          41.9618220542055,
          41.963962052679,
          41.9642625598462
         ],
         "line": {
          "color": "#fb003d",
          "width": 3
         },
         "lon": [
          -87.6549351560049,
          -87.6555761974257,
          -87.6560687859351,
          -87.6562407864824,
          -87.6563532552175,
          -87.6564711447557,
          -87.6565710900526,
          -87.6566533734013,
          -87.6567232714327,
          -87.6567456014073,
          -87.6567444301034,
          -87.6567747911816,
          -87.6568424901058,
          -87.6568958539005,
          -87.6570044211734,
          -87.6576373013953,
          -87.6577401341247
         ],
         "mode": "lines",
         "type": "scattermapbox"
        },
        {
         "hoverinfo": "none",
         "lat": [
          41.953852811874704,
          41.9538433072796,
          41.9538417827142,
          41.9538516573679,
          41.9538789019345,
          41.9539549059902,
          41.954044092115204,
          41.9541198860901,
          41.9542443364541,
          41.9543773638993,
          41.954488108337,
          41.9549844381456,
          41.9570004592477,
          41.9586885764054,
          41.9618920542055,
          41.964032052679,
          41.9643325598462
         ],
         "line": {
          "color": "#492f8a",
          "width": 3
         },
         "lon": [
          -87.6548851560049,
          -87.6555261974257,
          -87.6560187859351,
          -87.6561907864824,
          -87.6563032552175,
          -87.6564211447557,
          -87.65652109005259,
          -87.6566033734013,
          -87.6566732714327,
          -87.65669560140729,
          -87.6566944301034,
          -87.6567247911816,
          -87.6567924901058,
          -87.65684585390049,
          -87.6569544211734,
          -87.6575873013953,
          -87.65769013412469
         ],
         "mode": "lines",
         "type": "scattermapbox"
        },
        {
         "hoverinfo": "none",
         "lat": [
          41.7790357041972,
          41.7790857584523,
          41.7791266616641,
          41.7791495173274,
          41.7792315169472,
          41.7792676863213,
          41.7793001827863,
          41.7793141677833,
          41.779350458919,
          41.7794912258332,
          41.7796630115494,
          41.7799957661464,
          41.7802023088696,
          41.780298214171,
          41.7803636714568,
          41.78046426315,
          41.7805493448623,
          41.7807461008224,
          41.7815513784229,
          41.7819064090879,
          41.7833036853382,
          41.7836806121199,
          41.7857448945751,
          41.7861416878508,
          41.7862576374175,
          41.7863384516658,
          41.7864213865989,
          41.7864846354004,
          41.7865346450616,
          41.7865976604324,
          41.7866669635115,
          41.7867228313685,
          41.7867634482816,
          41.786779495034,
          41.7867888759734,
          41.7868269556096,
          41.786852913459,
          41.7869137539891,
          41.7869009893127,
          41.7869127156021,
          41.786927411171,
          41.7869460643877,
          41.7869779966615,
          41.7870053379106,
          41.7870484380553,
          41.7871200624701,
          41.787211537982,
          41.787296693767,
          41.7874761907081
         ],
         "line": {
          "color": "#00a447",
          "width": 3
         },
         "lon": [
          -87.6440288721395,
          -87.6396013252115,
          -87.6373053950228,
          -87.6356538010863,
          -87.634721831749,
          -87.634182702729,
          -87.6337607273062,
          -87.6335380529739,
          -87.6333795504739,
          -87.6331027931697,
          -87.6328813285479,
          -87.6324619371201,
          -87.6321903153064,
          -87.6321043592075,
          -87.6320567986166,
          -87.6320205675706,
          -87.6320084524624,
          -87.6320061365003,
          -87.6320350738271,
          -87.6320341331195,
          -87.6320569728183,
          -87.6320528655069,
          -87.632021585775,
          -87.6320406860108,
          -87.6320072122637,
          -87.6319624077903,
          -87.6319058665227,
          -87.6318553970997,
          -87.6317904302276,
          -87.6317018954605,
          -87.631566439921,
          -87.6313842785661,
          -87.631216923833,
          -87.6309737026591,
          -87.6307159124089,
          -87.6294182746716,
          -87.627933357229,
          -87.6257101314194,
          -87.6247058753184,
          -87.6241200912544,
          -87.6229515485017,
          -87.6206555764235,
          -87.618740129771,
          -87.6185553452083,
          -87.6184377357166,
          -87.6183256641536,
          -87.618233872214,
          -87.6181831440624,
          -87.6181489384272
         ],
         "mode": "lines",
         "type": "scattermapbox"
        },
        {
         "hoverinfo": "none",
         "lat": [
          41.8769161943032,
          41.8768939929018,
          41.8768631883765
         ],
         "line": {
          "color": "#7b4213",
          "width": 3
         },
         "lon": [
          -87.6282148945424,
          -87.6292587102634,
          -87.6317395847616
         ],
         "mode": "lines",
         "type": "scattermapbox"
        },
        {
         "hoverinfo": "none",
         "lat": [
          41.8769861943032,
          41.8769639929018,
          41.8769331883765
         ],
         "line": {
          "color": "#fe9307",
          "width": 3
         },
         "lon": [
          -87.6281648945424,
          -87.6292087102634,
          -87.6316895847616
         ],
         "mode": "lines",
         "type": "scattermapbox"
        },
        {
         "hoverinfo": "none",
         "lat": [
          41.8770561943032,
          41.8770339929018,
          41.8770031883765
         ],
         "line": {
          "color": "#ff85bc",
          "width": 3
         },
         "lon": [
          -87.62811489454239,
          -87.6291587102634,
          -87.6316395847616
         ],
         "mode": "lines",
         "type": "scattermapbox"
        },
        {
         "hoverinfo": "none",
         "lat": [
          41.8771261943032,
          41.8771039929018,
          41.8770731883765
         ],
         "line": {
          "color": "#492f8a",
          "width": 3
         },
         "lon": [
          -87.62806489454239,
          -87.6291087102634,
          -87.6315895847616
         ],
         "mode": "lines",
         "type": "scattermapbox"
        },
        {
         "hoverinfo": "none",
         "lat": [
          41.8674128120025,
          41.8699825828834,
          41.8736192612715,
          41.8737919202835,
          41.8739029610164,
          41.8740056797842,
          41.8741041872716,
          41.8742209217493,
          41.8743296688698,
          41.8744770582469,
          41.8745875913141,
          41.8747061078387,
          41.8747919464457,
          41.874906419814,
          41.8750005794488,
          41.8751111808631,
          41.8752709668064,
          41.875390058663,
          41.875701367583,
          41.8767114751458
         ],
         "line": {
          "color": "#00a447",
          "width": 3
         },
         "lon": [
          -87.6265956346338,
          -87.6267167377052,
          -87.6267983954381,
          -87.6268019942093,
          -87.6268117707795,
          -87.6268051391293,
          -87.6267820551129,
          -87.6267401730284,
          -87.6266860793729,
          -87.6265909608832,
          -87.6265182473224,
          -87.6264069485534,
          -87.6263290061351,
          -87.6262287497086,
          -87.6261672152325,
          -87.6261054993061,
          -87.626021242566,
          -87.6260034291713,
          -87.6259843876016,
          -87.6260357842179
         ],
         "mode": "lines",
         "type": "scattermapbox"
        },
        {
         "hoverinfo": "none",
         "lat": [
          41.8674828120025,
          41.8700525828834,
          41.8736892612715,
          41.8738619202835,
          41.8739729610164,
          41.8740756797842,
          41.8741741872716,
          41.8742909217493,
          41.8743996688698,
          41.874547058246904,
          41.874657591314104,
          41.8747761078387,
          41.8748619464457,
          41.874976419814004,
          41.8750705794488,
          41.8751811808631,
          41.8753409668064,
          41.875460058663,
          41.875771367583,
          41.8767814751458
         ],
         "line": {
          "color": "#fe9307",
          "width": 3
         },
         "lon": [
          -87.6265456346338,
          -87.6266667377052,
          -87.6267483954381,
          -87.6267519942093,
          -87.6267617707795,
          -87.6267551391293,
          -87.6267320551129,
          -87.6266901730284,
          -87.6266360793729,
          -87.6265409608832,
          -87.62646824732239,
          -87.6263569485534,
          -87.62627900613509,
          -87.6261787497086,
          -87.6261172152325,
          -87.6260554993061,
          -87.625971242566,
          -87.6259534291713,
          -87.6259343876016,
          -87.6259857842179
         ],
         "mode": "lines",
         "type": "scattermapbox"
        },
        {
         "hoverinfo": "none",
         "lat": [
          41.8855864852067,
          41.8855889300151,
          41.8856118820623,
          41.8856299971588,
          41.885653534599,
          41.8856716718653,
          41.8856867523828,
          41.8857021899524,
          41.8857147082049,
          41.8857103226011,
          41.8857112782613
         ],
         "line": {
          "color": "#00a447",
          "width": 3
         },
         "lon": [
          -87.6520244962054,
          -87.6518794973039,
          -87.650885615478,
          -87.6497270362128,
          -87.6485117677917,
          -87.6473609100563,
          -87.6463439415789,
          -87.6450669764355,
          -87.6439470674723,
          -87.6428051719669,
          -87.641777058709
         ],
         "mode": "lines",
         "type": "scattermapbox"
        },
        {
         "hoverinfo": "none",
         "lat": [
          41.8856564852067,
          41.885658930015104,
          41.8856818820623,
          41.8856999971588,
          41.885723534599,
          41.885741671865304,
          41.885756752382804,
          41.8857721899524,
          41.8857847082049,
          41.8857803226011,
          41.8857812782613
         ],
         "line": {
          "color": "#f68eb9",
          "width": 3
         },
         "lon": [
          -87.6519744962054,
          -87.6518294973039,
          -87.650835615478,
          -87.6496770362128,
          -87.6484617677917,
          -87.6473109100563,
          -87.6462939415789,
          -87.6450169764355,
          -87.6438970674723,
          -87.6427551719669,
          -87.641727058709
         ],
         "mode": "lines",
         "type": "scattermapbox"
        },
        {
         "hoverinfo": "none",
         "lat": [
          41.8857112782613,
          41.8857104768779,
          41.8857155876441,
          41.8857239200672,
          41.8857323806163
         ],
         "line": {
          "color": "#00a447",
          "width": 3
         },
         "lon": [
          -87.641777058709,
          -87.6394489470812,
          -87.6381647351058,
          -87.6360630420923,
          -87.6339189266405
         ],
         "mode": "lines",
         "type": "scattermapbox"
        },
        {
         "hoverinfo": "none",
         "lat": [
          41.8857812782613,
          41.8857804768779,
          41.8857855876441,
          41.8857939200672,
          41.8858023806163
         ],
         "line": {
          "color": "#f68eb9",
          "width": 3
         },
         "lon": [
          -87.641727058709,
          -87.6393989470812,
          -87.6381147351058,
          -87.6360130420923,
          -87.6338689266405
         ],
         "mode": "lines",
         "type": "scattermapbox"
        },
        {
         "hoverinfo": "none",
         "lat": [
          41.870894238177,
          41.870986045981,
          41.8713091452167,
          41.8714584000557,
          41.871731756494,
          41.8721158174934
         ],
         "line": {
          "color": "#00a8df",
          "width": 3
         },
         "lon": [
          -87.7767910618494,
          -87.7782681340013,
          -87.7825216284025,
          -87.7841887401173,
          -87.7872427115807,
          -87.7916079460048
         ],
         "mode": "lines",
         "type": "scattermapbox"
        },
        {
         "hoverinfo": "none",
         "lat": [
          41.8868561488323,
          41.8868725847528,
          41.8868886296025,
          41.8869022387126,
          41.8869191735664,
          41.8869275523809,
          41.8869319754896,
          41.8869434734924,
          41.8869531462722,
          41.8869653017116,
          41.8869818531895,
          41.8869953670712
         ],
         "line": {
          "color": "#00a447",
          "width": 3
         },
         "lon": [
          -87.8031817889909,
          -87.8021108331176,
          -87.8013588702486,
          -87.8007208718249,
          -87.7999267721332,
          -87.7986374145467,
          -87.7979557702728,
          -87.7971351738055,
          -87.7964444113436,
          -87.7955761689343,
          -87.7945002503644,
          -87.7937891500914
         ],
         "mode": "lines",
         "type": "scattermapbox"
        },
        {
         "hoverinfo": "none",
         "lat": [
          41.9706420007559,
          41.9708864090543,
          41.9710817115859,
          41.9712273061922,
          41.9713531958326,
          41.9714631525886,
          41.9716223382083,
          41.9717625410433,
          41.9719217573754,
          41.97201586535,
          41.9721727810661,
          41.9724420822982,
          41.9729927959099,
          41.9733934514424,
          41.974219474839,
          41.9756397341186,
          41.9766407600069,
          41.9775193059644,
          41.9785327297652,
          41.9792873956387,
          41.9801151881864,
          41.9806887210527,
          41.9812023495987,
          41.9816467408148,
          41.9818994750364,
          41.9821255615112,
          41.9822771127434,
          41.9823836536871,
          41.9824544055798,
          41.9824889678099,
          41.9825089269986,
          41.9825054819526,
          41.9824935385421,
          41.9824854232828,
          41.9824685790789,
          41.9824392528988,
          41.9824041976846,
          41.9823910880035,
          41.9823717524142,
          41.9823545644248,
          41.9823478250498,
          41.9823312318923
         ],
         "line": {
          "color": "#00a8df",
          "width": 3
         },
         "lon": [
          -87.7608980764385,
          -87.7614956139515,
          -87.7621006477952,
          -87.7626895050479,
          -87.763207824506,
          -87.7637154128003,
          -87.7643029642853,
          -87.7647205399847,
          -87.7651354016456,
          -87.765350682914,
          -87.7657233375106,
          -87.7662446175971,
          -87.7672289000554,
          -87.767973465024,
          -87.7694457814057,
          -87.7719353675703,
          -87.773688888508,
          -87.7752426639341,
          -87.7770206682259,
          -87.778387582495,
          -87.7798359868225,
          -87.7808326991003,
          -87.7817581101429,
          -87.7825284918191,
          -87.783073056706,
          -87.7836497813496,
          -87.7842071968403,
          -87.7846931651876,
          -87.7851674694256,
          -87.785546305591,
          -87.7859851284118,
          -87.7865119525062,
          -87.7871306379746,
          -87.7879288799893,
          -87.7906575751129,
          -87.7940388794703,
          -87.7987675423695,
          -87.8010727711775,
          -87.8030715524865,
          -87.8060632396777,
          -87.8071903111862,
          -87.8089007487516
         ],
         "mode": "lines",
         "type": "scattermapbox"
        },
        {
         "hoverinfo": "none",
         "lat": [
          41.8873006319817,
          41.8873132348829,
          41.8873417879386,
          41.8873615039096,
          41.8873681713964,
          41.8873691210805,
          41.887389214177,
          41.8873962812731,
          41.8873968612886
         ],
         "line": {
          "color": "#00a447",
          "width": 3
         },
         "lon": [
          -87.77414104894,
          -87.7731652443534,
          -87.7719027864789,
          -87.7700209152181,
          -87.7690219309054,
          -87.7680384844817,
          -87.7674188160605,
          -87.7665050073644,
          -87.7656552971061
         ],
         "mode": "lines",
         "type": "scattermapbox"
        },
        {
         "hoverinfo": "none",
         "lat": [
          41.8517811523277,
          41.851891569522,
          41.851887551559,
          41.8519325583217
         ],
         "line": {
          "color": "#f68eb9",
          "width": 3
         },
         "lon": [
          -87.7566978002568,
          -87.7521356513782,
          -87.7492162154407,
          -87.745347791325
         ],
         "mode": "lines",
         "type": "scattermapbox"
        },
        {
         "hoverinfo": "none",
         "lat": [
          41.9529481226917,
          41.9536502964307,
          41.9549582205572,
          41.9559582566174,
          41.9567115581944,
          41.9574346050834,
          41.9594146704549,
          41.9597086472362,
          41.9600060899015,
          41.9602906568778,
          41.9605664775239,
          41.9607653993441,
          41.9609834928525,
          41.9611828487959,
          41.961338198219,
          41.9614944950344
         ],
         "line": {
          "color": "#00a8df",
          "width": 3
         },
         "lon": [
          -87.729183052557,
          -87.7304369643412,
          -87.7327351467677,
          -87.7344714310923,
          -87.7359483803023,
          -87.7372505406992,
          -87.7407461325223,
          -87.7412200786815,
          -87.7416985242116,
          -87.742151293631,
          -87.7425157778294,
          -87.7427501174795,
          -87.7430066242671,
          -87.7432699209151,
          -87.7434349908829,
          -87.7436227660726
         ],
         "mode": "lines",
         "type": "scattermapbox"
        },
        {
         "hoverinfo": "none",
         "lat": [
          41.8756432797114,
          41.8756171417074,
          41.8755886429511,
          41.8755529790527,
          41.875546130696,
          41.8755374238653
         ],
         "line": {
          "color": "#00a8df",
          "width": 3
         },
         "lon": [
          -87.6739516424767,
          -87.6764571734724,
          -87.6802737144786,
          -87.6861346375497,
          -87.6870335399229,
          -87.688440278454
         ],
         "mode": "lines",
         "type": "scattermapbox"
        },
        {
         "hoverinfo": "none",
         "lat": [
          41.9097516489735,
          41.9109254681397,
          41.9120444850193,
          41.9127430231935,
          41.9138699228179,
          41.9147746906155,
          41.9161652859286
         ],
         "line": {
          "color": "#00a8df",
          "width": 3
         },
         "lon": [
          -87.6774424221587,
          -87.6792832992508,
          -87.6809991663751,
          -87.6820979527573,
          -87.6838243713928,
          -87.6852265805162,
          -87.6873701509231
         ],
         "mode": "lines",
         "type": "scattermapbox"
        },
        {
         "hoverinfo": "none",
         "lat": [
          41.8757696802508,
          41.8757424270658,
          41.8756626315014,
          41.8756589675165,
          41.8756432797114
         ],
         "line": {
          "color": "#00a8df",
          "width": 3
         },
         "lon": [
          -87.6675368284109,
          -87.6688701883381,
          -87.672759370859,
          -87.6733650075607,
          -87.6739516424767
         ],
         "mode": "lines",
         "type": "scattermapbox"
        },
        {
         "hoverinfo": "none",
         "lat": [
          41.9033629413559,
          41.9044112861115,
          41.904659357178,
          41.9051458539229,
          41.9053847089596,
          41.90561097324,
          41.907266435315,
          41.9086079712072,
          41.9097516489735
         ],
         "line": {
          "color": "#00a8df",
          "width": 3
         },
         "lon": [
          -87.6665018309868,
          -87.668281703585,
          -87.6690057704408,
          -87.6701486184956,
          -87.6706411116894,
          -87.67104147698,
          -87.6736336542031,
          -87.675726179192,
          -87.6774424221587
         ],
         "mode": "lines",
         "type": "scattermapbox"
        },
        {
         "hoverinfo": "none",
         "lat": [
          41.8911971490473,
          41.8918490386958,
          41.8923769537034,
          41.8930319534362,
          41.8939853758835,
          41.8946035421593,
          41.8952097643835,
          41.8958580901543,
          41.896083092569
         ],
         "line": {
          "color": "#00a8df",
          "width": 3
         },
         "lon": [
          -87.6475840672401,
          -87.6485916509231,
          -87.6494287070149,
          -87.6504489194808,
          -87.6519348067301,
          -87.6528532425993,
          -87.653806067441,
          -87.6548515267684,
          -87.6552200373308
         ],
         "mode": "lines",
         "type": "scattermapbox"
        },
        {
         "hoverinfo": "none",
         "lat": [
          41.9437170111757,
          41.9437098367334,
          41.9436944303418,
          41.9436937193428,
          41.9437095348456,
          41.9437345847406,
          41.9437716531629,
          41.9438081719587,
          41.9438712222653,
          41.9439413811072,
          41.9440496703395,
          41.9441505564286,
          41.9442440587444,
          41.9443895787758,
          41.9445591765977,
          41.944745393491,
          41.9449482102726,
          41.9451389525021,
          41.9459704505681,
          41.9470365188989
         ],
         "line": {
          "color": "#7b4213",
          "width": 3
         },
         "lon": [
          -87.6708897113686,
          -87.6715059555796,
          -87.6723449257479,
          -87.6726352905498,
          -87.6728999596817,
          -87.6731134810204,
          -87.6733460230317,
          -87.6734828486337,
          -87.6736768343428,
          -87.6738643664808,
          -87.6740546959502,
          -87.674200432446,
          -87.6743047640627,
          -87.6744245152383,
          -87.6745057296896,
          -87.6745772005075,
          -87.6746357380614,
          -87.6746656823528,
          -87.6746890327881,
          -87.6747418779021
         ],
         "mode": "lines",
         "type": "scattermapbox"
        },
        {
         "hoverinfo": "none",
         "lat": [
          41.9438201193626,
          41.9437977236166,
          41.9437902680828,
          41.943775970844,
          41.9437345509983,
          41.9437170111757
         ],
         "line": {
          "color": "#7b4213",
          "width": 3
         },
         "lon": [
          -87.6636153263714,
          -87.6650864970154,
          -87.6658523544935,
          -87.6674925486257,
          -87.6693898787371,
          -87.6708897113686
         ],
         "mode": "lines",
         "type": "scattermapbox"
        },
        {
         "hoverinfo": "none",
         "lat": [
          41.9250592275336,
          41.9253763474654,
          41.9259991058643,
          41.9271566525525,
          41.9276859488844,
          41.9284259891579,
          41.9287106367659,
          41.929515362593,
          41.9303095898094,
          41.9309095969421,
          41.9315225429246,
          41.9321848302485,
          41.9327393618077
         ],
         "line": {
          "color": "#7b4213",
          "width": 3
         },
         "lon": [
          -87.6528715981382,
          -87.6528808292875,
          -87.6528971050489,
          -87.6529273609531,
          -87.652941199255,
          -87.6529605446977,
          -87.6529679851635,
          -87.6529989356317,
          -87.6530294798492,
          -87.6530525596719,
          -87.6530761341678,
          -87.6531016107008,
          -87.6531366197265
         ],
         "mode": "lines",
         "type": "scattermapbox"
        },
        {
         "hoverinfo": "none",
         "lat": [
          41.9251292275336,
          41.9254463474654,
          41.9260691058643,
          41.9272266525525,
          41.9277559488844,
          41.9284959891579,
          41.9287806367659,
          41.929585362593,
          41.9303795898094,
          41.9309795969421,
          41.9315925429246,
          41.9322548302485,
          41.9328093618077
         ],
         "line": {
          "color": "#492f8a",
          "width": 3
         },
         "lon": [
          -87.6528215981382,
          -87.6528308292875,
          -87.65284710504889,
          -87.6528773609531,
          -87.652891199255,
          -87.6529105446977,
          -87.6529179851635,
          -87.6529489356317,
          -87.6529794798492,
          -87.6530025596719,
          -87.6530261341678,
          -87.6530516107008,
          -87.6530866197265
         ],
         "mode": "lines",
         "type": "scattermapbox"
        },
        {
         "hoverinfo": "none",
         "lat": [
          41.925199227533604,
          41.925516347465404,
          41.9261391058643,
          41.9272966525525,
          41.927825948884404,
          41.9285659891579,
          41.9288506367659,
          41.929655362593,
          41.9304495898094,
          41.9310495969421,
          41.9316625429246,
          41.932324830248504,
          41.9328793618077
         ],
         "line": {
          "color": "#fa0034",
          "width": 3
         },
         "lon": [
          -87.6527715981382,
          -87.6527808292875,
          -87.65279710504889,
          -87.6528273609531,
          -87.652841199255,
          -87.6528605446977,
          -87.6528679851635,
          -87.6528989356317,
          -87.65292947984919,
          -87.6529525596719,
          -87.6529761341678,
          -87.6530016107008,
          -87.65303661972649
         ],
         "mode": "lines",
         "type": "scattermapbox"
        },
        {
         "hoverinfo": "none",
         "lat": [
          41.9835120944546,
          41.9845098358284,
          41.9876094198266,
          41.9888197390807,
          41.9902673647687
         ],
         "line": {
          "color": "#fb003d",
          "width": 3
         },
         "lon": [
          -87.6588460537024,
          -87.6588793579021,
          -87.6589891177563,
          -87.6590201831818,
          -87.6590816285986
         ],
         "mode": "lines",
         "type": "scattermapbox"
        },
        {
         "hoverinfo": "none",
         "lat": [
          41.983582094454604,
          41.9845798358284,
          41.9876794198266,
          41.9888897390807,
          41.9903373647687
         ],
         "line": {
          "color": "#492f8a",
          "width": 3
         },
         "lon": [
          -87.6587960537024,
          -87.65882935790209,
          -87.6589391177563,
          -87.6589701831818,
          -87.6590316285986
         ],
         "mode": "lines",
         "type": "scattermapbox"
        },
        {
         "hoverinfo": "none",
         "lat": [
          42.0158840544707,
          42.0165846709156,
          42.0169843171896,
          42.0173336272166,
          42.0178579126384,
          42.0181505958372,
          42.0186032347881,
          42.019071094732
         ],
         "line": {
          "color": "#fb003d",
          "width": 3
         },
         "lon": [
          -87.6690978869621,
          -87.6698879050711,
          -87.67037087959,
          -87.6707930195656,
          -87.6714266380863,
          -87.6717803568046,
          -87.672330047723,
          -87.6728982270991
         ],
         "mode": "lines",
         "type": "scattermapbox"
        },
        {
         "hoverinfo": "none",
         "lat": [
          42.015954054470704,
          42.0166546709156,
          42.017054317189604,
          42.0174036272166,
          42.0179279126384,
          42.0182205958372,
          42.0186732347881,
          42.019141094732
         ],
         "line": {
          "color": "#492f8a",
          "width": 3
         },
         "lon": [
          -87.6690478869621,
          -87.6698379050711,
          -87.67032087959,
          -87.67074301956559,
          -87.6713766380863,
          -87.6717303568046,
          -87.67228004772299,
          -87.6728482270991
         ],
         "mode": "lines",
         "type": "scattermapbox"
        },
        {
         "hoverinfo": "none",
         "lat": [
          41.8755754792177,
          41.8756161324327,
          41.8756364933528,
          41.8756733120153,
          41.8757484884496,
          41.8758690374278,
          41.8759847311396,
          41.8763141173806,
          41.876506141283,
          41.8768512306791,
          41.8768939929018,
          41.8781903710703
         ],
         "line": {
          "color": "#00a8df",
          "width": 3
         },
         "lon": [
          -87.6317278263445,
          -87.6296960270064,
          -87.6295537493324,
          -87.6294264023209,
          -87.6292915290375,
          -87.6292324275112,
          -87.6292265328681,
          -87.6292396093683,
          -87.6292459331987,
          -87.6292573027298,
          -87.6292587102634,
          -87.629301413904
         ],
         "mode": "lines",
         "type": "scattermapbox"
        },
        {
         "hoverinfo": "none",
         "lat": [
          41.8673755182111,
          41.8692224954718,
          41.8707712200847,
          41.8718985879038,
          41.8730650969251,
          41.8740470967729
         ],
         "line": {
          "color": "#fb003d",
          "width": 3
         },
         "lon": [
          -87.6274081308717,
          -87.627457162117,
          -87.6274747981021,
          -87.6274623946697,
          -87.6274929068507,
          -87.6274848644505
         ],
         "mode": "lines",
         "type": "scattermapbox"
        },
        {
         "hoverinfo": "none",
         "lat": [
          41.8916730572819,
          41.8923420579087,
          41.8941267033572,
          41.8956308126668,
          41.8966790696385
         ],
         "line": {
          "color": "#fb003d",
          "width": 3
         },
         "lon": [
          -87.6280270087574,
          -87.6280452509893,
          -87.6280939169549,
          -87.6281349366155,
          -87.6281821040788
         ],
         "mode": "lines",
         "type": "scattermapbox"
        },
        {
         "hoverinfo": "none",
         "lat": [
          41.7951844940029,
          41.7956837856263,
          41.7970433747262,
          41.7993329526204,
          41.801564191219,
          41.8020994255918
         ],
         "line": {
          "color": "#00a447",
          "width": 3
         },
         "lon": [
          -87.6183298460096,
          -87.6183447057973,
          -87.618370001935,
          -87.6184553763046,
          -87.6184987898919,
          -87.6185073393227
         ],
         "mode": "lines",
         "type": "scattermapbox"
        },
        {
         "hoverinfo": "none",
         "lat": [
          41.8871672452821,
          41.8872020706439,
          41.8872181483114,
          41.8872354763976,
          41.8872411079406,
          41.8872642724949,
          41.8872756249269,
          41.8872995914886,
          41.8873006319817
         ],
         "line": {
          "color": "#00a447",
          "width": 3
         },
         "lon": [
          -87.7836668281808,
          -87.7824817594737,
          -87.7810103392744,
          -87.7798021878189,
          -87.7785709066705,
          -87.7773781924243,
          -87.7761391170302,
          -87.7751167512997,
          -87.77414104894
         ],
         "mode": "lines",
         "type": "scattermapbox"
        },
        {
         "hoverinfo": "none",
         "lat": [
          41.8873968612886,
          41.8873945993042,
          41.8874186256139,
          41.8874463835005,
          41.8874479930409,
          41.8874832539613,
          41.8875092939601,
          41.8875022647728,
          41.8874834313345,
          41.8874532189814,
          41.8874230838045,
          41.8873870054288,
          41.8873099974001,
          41.8872442872388,
          41.8871842848114,
          41.8871710740841
         ],
         "line": {
          "color": "#00a447",
          "width": 3
         },
         "lon": [
          -87.7656552971061,
          -87.7651372933457,
          -87.7640036218144,
          -87.7626017795213,
          -87.7607805258522,
          -87.7584639693801,
          -87.7578156550901,
          -87.7575679222416,
          -87.7572738336126,
          -87.7570185666511,
          -87.7567787845061,
          -87.7565080831183,
          -87.7561525695251,
          -87.7557427495119,
          -87.755317392476,
          -87.7549922824435
         ],
         "mode": "lines",
         "type": "scattermapbox"
        },
        {
         "hoverinfo": "none",
         "lat": [
          41.8519325583217,
          41.851968503945,
          41.8520245164762,
          41.8520380329514,
          41.8520448462345,
          41.852056471844,
          41.8520771052723,
          41.8521068696503,
          41.8521437176283,
          41.8522113946983,
          41.8523290970447,
          41.8524160042836,
          41.8526039288724,
          41.8530879273716,
          41.8533367881823,
          41.8534166107441,
          41.8534838533749,
          41.8535493212068,
          41.8536206356013,
          41.8536690512711,
          41.8537005869306,
          41.8537231149513,
          41.8537364734085,
          41.8537417427949,
          41.853758531126
         ],
         "line": {
          "color": "#f68eb9",
          "width": 3
         },
         "lon": [
          -87.745347791325,
          -87.7425313548541,
          -87.7398807252761,
          -87.7390394453871,
          -87.7379401469842,
          -87.7377703755894,
          -87.7376148568796,
          -87.7374974875691,
          -87.7373681052412,
          -87.7371770569122,
          -87.7369410254465,
          -87.7368183460315,
          -87.7365952201439,
          -87.7361597203026,
          -87.7359160457707,
          -87.7358053775665,
          -87.7356804871432,
          -87.7355580034303,
          -87.7353906967786,
          -87.7352199397426,
          -87.7351001618586,
          -87.7349661275023,
          -87.7347867743712,
          -87.7346101700615,
          -87.7332694370623
         ],
         "mode": "lines",
         "type": "scattermapbox"
        },
        {
         "hoverinfo": "none",
         "lat": [
          41.8738965719657,
          41.8738829797543,
          41.8738361887533,
          41.8738158555208,
          41.8737807900074,
          41.8737036201091,
          41.8736141389339,
          41.8734823550825,
          41.8733851448559,
          41.8730688085222,
          41.8728776485503,
          41.8724391648676,
          41.8723066162331,
          41.8721509116932,
          41.872072313797,
          41.8719798535164,
          41.8719153433263,
          41.8717959580288,
          41.8717459424329,
          41.8717104069366,
          41.8716916734633,
          41.8716745785672,
          41.8716418872692,
          41.8716119095561,
          41.8716158968258
         ],
         "line": {
          "color": "#00a8df",
          "width": 3
         },
         "lon": [
          -87.7256307080426,
          -87.7270717436635,
          -87.7302692941833,
          -87.7326846566776,
          -87.7331894595843,
          -87.7337545607139,
          -87.734218882711,
          -87.73470566818,
          -87.7350439396361,
          -87.7358414280226,
          -87.7362404757199,
          -87.7371147571627,
          -87.7374565013504,
          -87.7378772811565,
          -87.7381712290738,
          -87.7385189023316,
          -87.7388032596148,
          -87.7394128697069,
          -87.7397664530544,
          -87.7401861125962,
          -87.7406655210004,
          -87.7414633524529,
          -87.7438125347299,
          -87.7448595593955,
          -87.7451779610035
         ],
         "mode": "lines",
         "type": "scattermapbox"
        },
        {
         "hoverinfo": "none",
         "lat": [
          41.853758531126,
          41.8538219699796,
          41.8538744345109,
          41.8538829773828,
          41.8538646760374
         ],
         "line": {
          "color": "#f68eb9",
          "width": 3
         },
         "lon": [
          -87.7332694370623,
          -87.7299563769573,
          -87.7273654374217,
          -87.7259386985672,
          -87.7243325009003
         ],
         "mode": "lines",
         "type": "scattermapbox"
        },
        {
         "hoverinfo": "none",
         "lat": [
          41.8854198277098,
          41.8853755871841,
          41.8852827471217,
          41.8852521571195,
          41.8852035307016,
          41.8851648140234,
          41.8851135438527,
          41.8849284296125,
          41.8849122292596
         ],
         "line": {
          "color": "#00a447",
          "width": 3
         },
         "lon": [
          -87.7254095452949,
          -87.7246225116525,
          -87.7229711027904,
          -87.722427069164,
          -87.7215623434456,
          -87.7208739864845,
          -87.7199624981829,
          -87.7168048510845,
          -87.7165286096911
         ],
         "mode": "lines",
         "type": "scattermapbox"
        },
        {
         "hoverinfo": "none",
         "lat": [
          41.9381395288976,
          41.9392724027975,
          41.9401494455137,
          41.9404661277536,
          41.9406613215543,
          41.9409179632336,
          41.9411016057901,
          41.9412735224463,
          41.9414334469249,
          41.941569037573,
          41.94173769941,
          41.9418618288454,
          41.9419636721631,
          41.9421399035331,
          41.9423126529826,
          41.9425618791987,
          41.9427947014143,
          41.9430055878994,
          41.9432281609156,
          41.9434053039452,
          41.9435822582438,
          41.943802243615,
          41.9441727048765,
          41.9445717857826,
          41.9449922686713,
          41.9453673901842,
          41.9456947520683,
          41.946105774346,
          41.9464163767658,
          41.9466699124042,
          41.9469471820706,
          41.947071660947,
          41.9472080846424,
          41.9473679633494
         ],
         "line": {
          "color": "#00a8df",
          "width": 3
         },
         "lon": [
          -87.7123651312808,
          -87.7124001103675,
          -87.712423180098,
          -87.7124852957727,
          -87.7125811808804,
          -87.7127905461454,
          -87.7130006230448,
          -87.7132922976991,
          -87.7136166833012,
          -87.7139413060271,
          -87.7142839979862,
          -87.7145287859115,
          -87.7147360365382,
          -87.7150336075912,
          -87.715299647644,
          -87.7156286890353,
          -87.7159400024225,
          -87.7161740807041,
          -87.716366568316,
          -87.7165275882294,
          -87.7166535117409,
          -87.716807738691,
          -87.7170370969344,
          -87.7172725630511,
          -87.7175014440981,
          -87.7177116195517,
          -87.717899920668,
          -87.7181416649785,
          -87.7183141773133,
          -87.7185063849921,
          -87.7186824118828,
          -87.7187960889401,
          -87.7189160339756,
          -87.7191050859651
         ],
         "mode": "lines",
         "type": "scattermapbox"
        },
        {
         "hoverinfo": "none",
         "lat": [
          41.8544046838239,
          41.8544362075553,
          41.8544413476568,
          41.8544502172694,
          41.8545227088584
         ],
         "line": {
          "color": "#f68eb9",
          "width": 3
         },
         "lon": [
          -87.6851849849327,
          -87.683223037574,
          -87.6829121560472,
          -87.6823504472796,
          -87.6759798572999
         ],
         "mode": "lines",
         "type": "scattermapbox"
        },
        {
         "hoverinfo": "none",
         "lat": [
          41.9161652859286,
          41.9171558931342,
          41.9184738249834,
          41.9202456681766,
          41.9219470285986
         ],
         "line": {
          "color": "#00a8df",
          "width": 3
         },
         "lon": [
          -87.6873701509231,
          -87.6889733390835,
          -87.6911341364129,
          -87.6940678446929,
          -87.6968955718318
         ],
         "mode": "lines",
         "type": "scattermapbox"
        },
        {
         "hoverinfo": "none",
         "lat": [
          42.0276197249624,
          42.0289513939389,
          42.0306082149437,
          42.0321241055177,
          42.0334635884778
         ],
         "line": {
          "color": "#492f8a",
          "width": 3
         },
         "lon": [
          -87.6783351948529,
          -87.678560485524,
          -87.6789212739364,
          -87.6792646334169,
          -87.679543702829
         ],
         "mode": "lines",
         "type": "scattermapbox"
        },
        {
         "hoverinfo": "none",
         "lat": [
          42.0639944250275,
          42.0641932813115,
          42.0648012619318,
          42.0655719440482,
          42.0661175761142,
          42.067003010657,
          42.0682328675318,
          42.0687933084156,
          42.0694124038418,
          42.0701330077854,
          42.0706723989518,
          42.0711263655958,
          42.071623063235,
          42.0724026787428,
          42.0731606457274
         ],
         "line": {
          "color": "#492f8a",
          "width": 3
         },
         "lon": [
          -87.685623041275,
          -87.6857373638205,
          -87.6860868977128,
          -87.6865159556763,
          -87.6868197275648,
          -87.6873126981296,
          -87.6879209423745,
          -87.6882152497019,
          -87.6885303872938,
          -87.6889159326667,
          -87.6892533182311,
          -87.6895415780096,
          -87.6898579796748,
          -87.6903286680214,
          -87.6907353054427
         ],
         "mode": "lines",
         "type": "scattermapbox"
        },
        {
         "hoverinfo": "none",
         "lat": [
          42.0541681048939,
          42.0546411820095,
          42.0553057345201,
          42.0557789827407,
          42.0569161403153,
          42.0573948073208,
          42.0579467024884,
          42.058290351857
         ],
         "line": {
          "color": "#492f8a",
          "width": 3
         },
         "lon": [
          -87.6835661099688,
          -87.6835461678929,
          -87.6835167147352,
          -87.6835270104277,
          -87.6833944721838,
          -87.6833669164772,
          -87.6833386135306,
          -87.683342663302
         ],
         "mode": "lines",
         "type": "scattermapbox"
        },
        {
         "hoverinfo": "none",
         "lat": [
          42.058290351857,
          42.0584536625017,
          42.0585719960976,
          42.0590283853537,
          42.0594004143006,
          42.0596372090098,
          42.0600265192185,
          42.0602634868552,
          42.060438406539,
          42.0605343777222,
          42.0606641928947,
          42.0608674456334,
          42.0614890733772,
          42.0627491372526,
          42.0639944250275
         ],
         "line": {
          "color": "#492f8a",
          "width": 3
         },
         "lon": [
          -87.683342663302,
          -87.6833334434788,
          -87.6833397910527,
          -87.6833578168459,
          -87.6833993762473,
          -87.6834347569669,
          -87.6835441778077,
          -87.6836097976747,
          -87.6836609280275,
          -87.6836977481254,
          -87.6837417816172,
          -87.6838228642123,
          -87.6841718218556,
          -87.6848544753557,
          -87.685623041275
         ],
         "mode": "lines",
         "type": "scattermapbox"
        },
        {
         "hoverinfo": "none",
         "lat": [
          41.8469092882045,
          41.8462642476827,
          41.8459871888241,
          41.8457856321251,
          41.8455543719502,
          41.8453985576414,
          41.8452423999342,
          41.8450880366094,
          41.8449263173554,
          41.8446425956399,
          41.8429549715722,
          41.8425173444576,
          41.84081101342,
          41.839363723964
         ],
         "line": {
          "color": "#fe9307",
          "width": 3
         },
         "lon": [
          -87.6481368571609,
          -87.6494244695188,
          -87.650102829113,
          -87.6506593145526,
          -87.6514295657738,
          -87.6520683916214,
          -87.6526498728812,
          -87.6531325700833,
          -87.6535803001548,
          -87.6543447132177,
          -87.6578031488849,
          -87.6587316084179,
          -87.6622728359902,
          -87.6653174204984
         ],
         "mode": "lines",
         "type": "scattermapbox"
        },
        {
         "hoverinfo": "none",
         "lat": [
          41.8545227088584,
          41.8545470261727,
          41.8545651688832,
          41.8546069973157,
          41.8546121453378,
          41.8546259532622,
          41.8546355170299,
          41.8546530356365,
          41.8546711521046,
          41.8546993284548,
          41.8547214654111,
          41.8547449586581,
          41.8548201796776,
          41.8548682037664,
          41.8549381664289,
          41.8549972868551,
          41.855049070275,
          41.8551054339692,
          41.8551826677879,
          41.8552199968565,
          41.8553331835699,
          41.8579155564504
         ],
         "line": {
          "color": "#f68eb9",
          "width": 3
         },
         "lon": [
          -87.6759798572999,
          -87.6746108094074,
          -87.6735788240655,
          -87.6699607038229,
          -87.6699003550608,
          -87.6698163888885,
          -87.6697589364935,
          -87.6696971760483,
          -87.6696468006215,
          -87.6695759207333,
          -87.6695276569067,
          -87.6694813299482,
          -87.6693702559227,
          -87.6693094634086,
          -87.6692396212994,
          -87.6691963625057,
          -87.6691745760153,
          -87.6691481573955,
          -87.6691223838502,
          -87.6691131738138,
          -87.669103178848,
          -87.6691658845026
         ],
         "mode": "lines",
         "type": "scattermapbox"
        },
        {
         "hoverinfo": "none",
         "lat": [
          41.9397586084045,
          41.9399216372874,
          41.940840272411,
          41.9414647108029,
          41.9418602102823,
          41.9421846769564
         ],
         "line": {
          "color": "#7b4213",
          "width": 3
         },
         "lon": [
          -87.6533862517653,
          -87.6533887536253,
          -87.6534028442674,
          -87.6534286804638,
          -87.6534476974301,
          -87.6534596813753
         ],
         "mode": "lines",
         "type": "scattermapbox"
        },
        {
         "hoverinfo": "none",
         "lat": [
          41.939828608404504,
          41.9399916372874,
          41.940910272411,
          41.9415347108029,
          41.9419302102823,
          41.9422546769564
         ],
         "line": {
          "color": "#492f8a",
          "width": 3
         },
         "lon": [
          -87.6533362517653,
          -87.65333875362529,
          -87.6533528442674,
          -87.6533786804638,
          -87.6533976974301,
          -87.6534096813753
         ],
         "mode": "lines",
         "type": "scattermapbox"
        },
        {
         "hoverinfo": "none",
         "lat": [
          41.939898608404505,
          41.9400616372874,
          41.940980272411004,
          41.9416047108029,
          41.9420002102823,
          41.9423246769564
         ],
         "line": {
          "color": "#fa0034",
          "width": 3
         },
         "lon": [
          -87.6532862517653,
          -87.65328875362529,
          -87.6533028442674,
          -87.6533286804638,
          -87.65334769743009,
          -87.65335968137529
         ],
         "mode": "lines",
         "type": "scattermapbox"
        },
        {
         "hoverinfo": "none",
         "lat": [
          41.9617595773874,
          41.9637192525799,
          41.9643720442424,
          41.9646198434608,
          41.9647770723165,
          41.9649176829547,
          41.9650416287474,
          41.9651968230544,
          41.9653701904131,
          41.9654787201669,
          41.9656533545041,
          41.9657969871726,
          41.9659696046719,
          41.9661234215201,
          41.9662392187428,
          41.9663288859346,
          41.9663878056218,
          41.966410767265,
          41.9664213709183,
          41.9664299758425,
          41.9664188391096
         ],
         "line": {
          "color": "#7b4213",
          "width": 3
         },
         "lon": [
          -87.6751711612231,
          -87.6751956774495,
          -87.6752113016799,
          -87.6752215181521,
          -87.6752230920172,
          -87.6752344117038,
          -87.6752475001477,
          -87.6753097396432,
          -87.6753967942043,
          -87.6754504703842,
          -87.675579538729,
          -87.6757025437238,
          -87.6758954727503,
          -87.6761332812695,
          -87.6763874394609,
          -87.6766546364102,
          -87.6769604522093,
          -87.6772267377913,
          -87.6774149505249,
          -87.677670212566,
          -87.6786406582611
         ],
         "mode": "lines",
         "type": "scattermapbox"
        },
        {
         "hoverinfo": "none",
         "lat": [
          41.9642625598462,
          41.9657842270065,
          41.9661893250597,
          41.9664977869133,
          41.9666978892334,
          41.9668893707426,
          41.9674668290406,
          41.9683840105696,
          41.9691468073954
         ],
         "line": {
          "color": "#fb003d",
          "width": 3
         },
         "lon": [
          -87.6577401341247,
          -87.6582045477273,
          -87.6583195458828,
          -87.6583566996581,
          -87.6583643542459,
          -87.6583900508923,
          -87.6584278561688,
          -87.6584713355362,
          -87.6584987290284
         ],
         "mode": "lines",
         "type": "scattermapbox"
        },
        {
         "hoverinfo": "none",
         "lat": [
          41.9643325598462,
          41.9658542270065,
          41.9662593250597,
          41.9665677869133,
          41.9667678892334,
          41.9669593707426,
          41.967536829040604,
          41.9684540105696,
          41.9692168073954
         ],
         "line": {
          "color": "#492f8a",
          "width": 3
         },
         "lon": [
          -87.65769013412469,
          -87.65815454772729,
          -87.6582695458828,
          -87.6583066996581,
          -87.6583143542459,
          -87.65834005089229,
          -87.6583778561688,
          -87.6584213355362,
          -87.6584487290284
         ],
         "mode": "lines",
         "type": "scattermapbox"
        },
        {
         "hoverinfo": "none",
         "lat": [
          41.9779918604896,
          41.9796765259214,
          41.9806006862315,
          41.9818519561937,
          41.9835120944546
         ],
         "line": {
          "color": "#fb003d",
          "width": 3
         },
         "lon": [
          -87.6586741876597,
          -87.6587221563387,
          -87.6587562352474,
          -87.6587978213343,
          -87.6588460537024
         ],
         "mode": "lines",
         "type": "scattermapbox"
        },
        {
         "hoverinfo": "none",
         "lat": [
          41.9780618604896,
          41.9797465259214,
          41.9806706862315,
          41.9819219561937,
          41.983582094454604
         ],
         "line": {
          "color": "#492f8a",
          "width": 3
         },
         "lon": [
          -87.6586241876597,
          -87.6586721563387,
          -87.6587062352474,
          -87.6587478213343,
          -87.6587960537024
         ],
         "mode": "lines",
         "type": "scattermapbox"
        },
        {
         "hoverinfo": "none",
         "lat": [
          41.8587665624876,
          41.8601694850312,
          41.8618961005937,
          41.8657409183868,
          41.8674128120025
         ],
         "line": {
          "color": "#00a447",
          "width": 3
         },
         "lon": [
          -87.6264237360407,
          -87.6264784236417,
          -87.6265053409609,
          -87.6265690369676,
          -87.6265956346338
         ],
         "mode": "lines",
         "type": "scattermapbox"
        },
        {
         "hoverinfo": "none",
         "lat": [
          41.8588365624876,
          41.8602394850312,
          41.8619661005937,
          41.8658109183868,
          41.8674828120025
         ],
         "line": {
          "color": "#fe9307",
          "width": 3
         },
         "lon": [
          -87.6263737360407,
          -87.6264284236417,
          -87.6264553409609,
          -87.6265190369676,
          -87.6265456346338
         ],
         "mode": "lines",
         "type": "scattermapbox"
        },
        {
         "hoverinfo": "none",
         "lat": [
          41.8755467574394,
          41.8756118157876,
          41.8755764756845,
          41.8755754792177
         ],
         "line": {
          "color": "#00a8df",
          "width": 3
         },
         "lon": [
          -87.6409899691766,
          -87.6373045236955,
          -87.6336313201932,
          -87.6317278263445
         ],
         "mode": "lines",
         "type": "scattermapbox"
        },
        {
         "hoverinfo": "none",
         "lat": [
          41.8767114751458,
          41.8768140382881,
          41.8768883119553,
          41.8769534307927,
          41.8769683310257,
          41.8769671538071,
          41.8769399642897,
          41.8769161943032
         ],
         "line": {
          "color": "#7b4213",
          "width": 3
         },
         "lon": [
          -87.6260357842179,
          -87.6260569653438,
          -87.6261262690023,
          -87.626256236003,
          -87.6263548817916,
          -87.6265018021264,
          -87.6275729326653,
          -87.6282148945424
         ],
         "mode": "lines",
         "type": "scattermapbox"
        },
        {
         "hoverinfo": "none",
         "lat": [
          41.8767814751458,
          41.876884038288104,
          41.8769583119553,
          41.877023430792704,
          41.8770383310257,
          41.8770371538071,
          41.8770099642897,
          41.8769861943032
         ],
         "line": {
          "color": "#fe9307",
          "width": 3
         },
         "lon": [
          -87.6259857842179,
          -87.6260069653438,
          -87.6260762690023,
          -87.626206236003,
          -87.6263048817916,
          -87.6264518021264,
          -87.6275229326653,
          -87.6281648945424
         ],
         "mode": "lines",
         "type": "scattermapbox"
        },
        {
         "hoverinfo": "none",
         "lat": [
          41.8768514751458,
          41.876954038288105,
          41.8770283119553,
          41.877093430792705,
          41.8771083310257,
          41.8771071538071,
          41.8770799642897,
          41.8770561943032
         ],
         "line": {
          "color": "#ff85bc",
          "width": 3
         },
         "lon": [
          -87.6259357842179,
          -87.6259569653438,
          -87.6260262690023,
          -87.626156236003,
          -87.6262548817916,
          -87.6264018021264,
          -87.6274729326653,
          -87.62811489454239
         ],
         "mode": "lines",
         "type": "scattermapbox"
        },
        {
         "hoverinfo": "none",
         "lat": [
          41.8769214751458,
          41.877024038288106,
          41.8770983119553,
          41.877163430792706,
          41.8771783310257,
          41.877177153807104,
          41.8771499642897,
          41.8771261943032
         ],
         "line": {
          "color": "#492f8a",
          "width": 3
         },
         "lon": [
          -87.6258857842179,
          -87.6259069653438,
          -87.6259762690023,
          -87.626106236003,
          -87.6262048817916,
          -87.6263518021264,
          -87.6274229326653,
          -87.62806489454239
         ],
         "mode": "lines",
         "type": "scattermapbox"
        },
        {
         "hoverinfo": "none",
         "lat": [
          41.9182244264862,
          41.9211364241568,
          41.9217260616863,
          41.92353017732,
          41.9250592275336
         ],
         "line": {
          "color": "#7b4213",
          "width": 3
         },
         "lon": [
          -87.6526500672848,
          -87.6527469042993,
          -87.6527656386748,
          -87.6528229642588,
          -87.6528715981382
         ],
         "mode": "lines",
         "type": "scattermapbox"
        },
        {
         "hoverinfo": "none",
         "lat": [
          41.9182944264862,
          41.9212064241568,
          41.9217960616863,
          41.923600177320004,
          41.9251292275336
         ],
         "line": {
          "color": "#492f8a",
          "width": 3
         },
         "lon": [
          -87.6526000672848,
          -87.6526969042993,
          -87.65271563867479,
          -87.6527729642588,
          -87.6528215981382
         ],
         "mode": "lines",
         "type": "scattermapbox"
        },
        {
         "hoverinfo": "none",
         "lat": [
          41.9183644264862,
          41.9212764241568,
          41.9218660616863,
          41.923670177320005,
          41.925199227533604
         ],
         "line": {
          "color": "#fa0034",
          "width": 3
         },
         "lon": [
          -87.65255006728479,
          -87.6526469042993,
          -87.65266563867479,
          -87.6527229642588,
          -87.6527715981382
         ],
         "mode": "lines",
         "type": "scattermapbox"
        },
        {
         "hoverinfo": "none",
         "lat": [
          41.9140673299076,
          41.9137730836003,
          41.9136264651873,
          41.9135149417216,
          41.9133961386209,
          41.9132248572043,
          41.9126087201913,
          41.9120382359277,
          41.9118052253065,
          41.9117218841454,
          41.9116526164163,
          41.9116096633792,
          41.9115878949352,
          41.9115349068031,
          41.9115077452326,
          41.9115067479569,
          41.9115125989286,
          41.9115201521654,
          41.9115077393135,
          41.9114668600671,
          41.9113930249134,
          41.911228126792,
          41.9111325967675,
          41.9110204323521,
          41.9108660579131,
          41.9107150068058,
          41.9106205517044,
          41.9105187949831,
          41.9104521838048,
          41.9104045133539,
          41.9103707445252,
          41.9103462576849,
          41.910337868781,
          41.9103404896512,
          41.9103495974548,
          41.9103485441132,
          41.9103710542028,
          41.910394993052,
          41.9104048701074,
          41.9104088283362,
          41.9104128464045,
          41.9104170378312
         ],
         "line": {
          "color": "#7b4213",
          "width": 3
         },
         "lon": [
          -87.6525061864663,
          -87.6524276223111,
          -87.6523498002798,
          -87.6522341676071,
          -87.6520838834066,
          -87.6518331270872,
          -87.6509319879094,
          -87.6501740293122,
          -87.6498544849155,
          -87.6497196159131,
          -87.6495719686659,
          -87.6494871851752,
          -87.649395859646,
          -87.6492101529052,
          -87.6490052298705,
          -87.6488379125531,
          -87.6486326345418,
          -87.6479221974991,
          -87.6478181441621,
          -87.6476859819975,
          -87.6475636431196,
          -87.6474542423926,
          -87.6474102530748,
          -87.6473964463357,
          -87.6473830144269,
          -87.647362531993,
          -87.6473414436703,
          -87.6472825490748,
          -87.6471853914076,
          -87.6471006604218,
          -87.6469747394846,
          -87.6468234617461,
          -87.6466493202433,
          -87.6464617540246,
          -87.6458095903011,
          -87.6452354245265,
          -87.64348457786,
          -87.6425554203495,
          -87.6410055278554,
          -87.6403836214143,
          -87.6397519077655,
          -87.63930792093
         ],
         "mode": "lines",
         "type": "scattermapbox"
        },
        {
         "hoverinfo": "none",
         "lat": [
          41.914137329907604,
          41.9138430836003,
          41.9136964651873,
          41.9135849417216,
          41.9134661386209,
          41.9132948572043,
          41.9126787201913,
          41.912108235927704,
          41.9118752253065,
          41.9117918841454,
          41.9117226164163,
          41.9116796633792,
          41.9116578949352,
          41.9116049068031,
          41.9115777452326,
          41.9115767479569,
          41.911582598928604,
          41.9115901521654,
          41.9115777393135,
          41.9115368600671,
          41.9114630249134,
          41.911298126792,
          41.9112025967675,
          41.911090432352104,
          41.9109360579131,
          41.9107850068058,
          41.9106905517044,
          41.9105887949831,
          41.9105221838048,
          41.910474513353904,
          41.910440744525204,
          41.9104162576849,
          41.910407868781,
          41.9104104896512,
          41.9104195974548,
          41.9104185441132,
          41.9104410542028,
          41.910464993052,
          41.9104748701074,
          41.9104788283362,
          41.9104828464045,
          41.9104870378312
         ],
         "line": {
          "color": "#492f8a",
          "width": 3
         },
         "lon": [
          -87.6524561864663,
          -87.65237762231109,
          -87.65229980027979,
          -87.6521841676071,
          -87.6520338834066,
          -87.6517831270872,
          -87.6508819879094,
          -87.6501240293122,
          -87.64980448491549,
          -87.6496696159131,
          -87.6495219686659,
          -87.6494371851752,
          -87.649345859646,
          -87.6491601529052,
          -87.6489552298705,
          -87.6487879125531,
          -87.6485826345418,
          -87.6478721974991,
          -87.6477681441621,
          -87.6476359819975,
          -87.6475136431196,
          -87.6474042423926,
          -87.6473602530748,
          -87.6473464463357,
          -87.64733301442689,
          -87.647312531993,
          -87.6472914436703,
          -87.6472325490748,
          -87.6471353914076,
          -87.6470506604218,
          -87.6469247394846,
          -87.6467734617461,
          -87.6465993202433,
          -87.6464117540246,
          -87.6457595903011,
          -87.6451854245265,
          -87.64343457785999,
          -87.6425054203495,
          -87.6409555278554,
          -87.6403336214143,
          -87.6397019077655,
          -87.63925792092999
         ],
         "mode": "lines",
         "type": "scattermapbox"
        },
        {
         "hoverinfo": "none",
         "lat": [
          41.7803166054758,
          41.7802524911387,
          41.780180312646,
          41.7801375547008
         ],
         "line": {
          "color": "#00a447",
          "width": 3
         },
         "lon": [
          -87.6058631507948,
          -87.6097114577922,
          -87.6122941986811,
          -87.615551619367
         ],
         "mode": "lines",
         "type": "scattermapbox"
        },
        {
         "hoverinfo": "none",
         "lat": [
          41.7874761907081,
          41.7889732480926,
          41.7893149100788,
          41.7915420965828,
          41.7933011190375,
          41.7951844940029
         ],
         "line": {
          "color": "#00a447",
          "width": 3
         },
         "lon": [
          -87.6181489384272,
          -87.6181820806466,
          -87.6181460715507,
          -87.6182325966463,
          -87.6182774730644,
          -87.6183298460096
         ],
         "mode": "lines",
         "type": "scattermapbox"
        },
        {
         "hoverinfo": "none",
         "lat": [
          41.8531229334703,
          41.8533266254867,
          41.8553850504839,
          41.8564690587965,
          41.8580771650976,
          41.8583966601269,
          41.8587665624876
         ],
         "line": {
          "color": "#00a447",
          "width": 3
         },
         "lon": [
          -87.6264081313519,
          -87.626412641793,
          -87.6264505147781,
          -87.6264704423312,
          -87.6264941576751,
          -87.6264615219085,
          -87.6264237360407
         ],
         "mode": "lines",
         "type": "scattermapbox"
        },
        {
         "hoverinfo": "none",
         "lat": [
          41.9823312318923,
          41.9823217774328,
          41.982297739238,
          41.9822901240763,
          41.9823156099748,
          41.9823570060889,
          41.9824633350357,
          41.9825436806288,
          41.9826657637023,
          41.9828410411783,
          41.9830642604839,
          41.9832674801221,
          41.9834494946967,
          41.983582930876,
          41.9837562861116,
          41.9838964511552,
          41.9840442848825,
          41.9841706871022,
          41.9843208567689,
          41.9844426493818,
          41.9845135574218,
          41.9845558195103,
          41.9845810635035,
          41.9845443876895,
          41.9844749469898,
          41.9844031661258,
          41.9843479683163,
          41.9843019186394
         ],
         "line": {
          "color": "#00a8df",
          "width": 3
         },
         "lon": [
          -87.8089007487516,
          -87.8098491614055,
          -87.811128687808,
          -87.8124865944581,
          -87.8130406090721,
          -87.8135575461606,
          -87.8142094342945,
          -87.8147045046747,
          -87.815285449679,
          -87.81594602165,
          -87.8168543856832,
          -87.8177335270674,
          -87.8186128448431,
          -87.8194948063276,
          -87.8207589159334,
          -87.8217954444811,
          -87.8230089653126,
          -87.8240548505925,
          -87.8252822188699,
          -87.8268500602099,
          -87.82834440994,
          -87.8295972784571,
          -87.8311643528174,
          -87.8327611656908,
          -87.8342242901192,
          -87.8356181506017,
          -87.8367920909434,
          -87.8380318065809
         ],
         "mode": "lines",
         "type": "scattermapbox"
        },
        {
         "hoverinfo": "none",
         "lat": [
          41.8721158174934,
          41.8722203090334,
          41.8725146941129,
          41.8729749289432,
          41.8732566774028,
          41.873371009916,
          41.873497893919
         ],
         "line": {
          "color": "#00a8df",
          "width": 3
         },
         "lon": [
          -87.7916079460048,
          -87.7927959505532,
          -87.7963602352753,
          -87.8015234050115,
          -87.8044891515149,
          -87.8056928728303,
          -87.8069666736692
         ],
         "mode": "lines",
         "type": "scattermapbox"
        },
        {
         "hoverinfo": "none",
         "lat": [
          41.8849122292596,
          41.8848821842202,
          41.8848403933146,
          41.8847966268767,
          41.8847729174257,
          41.8846939829365,
          41.8846613081215,
          41.8846067641269,
          41.8845141603897,
          41.8844724122424,
          41.8844056613917,
          41.8843603581371,
          41.8843289474067
         ],
         "line": {
          "color": "#00a447",
          "width": 3
         },
         "lon": [
          -87.7165286096911,
          -87.7160162608626,
          -87.7153037134362,
          -87.7145575299711,
          -87.7141481417492,
          -87.7126851276266,
          -87.7120796015281,
          -87.7110689614358,
          -87.7093534121539,
          -87.708580191318,
          -87.707454590637,
          -87.7066907048117,
          -87.7061611915269
         ],
         "mode": "lines",
         "type": "scattermapbox"
        },
        {
         "hoverinfo": "none",
         "lat": [
          41.8295679306378,
          41.8288883975192,
          41.8273043988861,
          41.8270380886898,
          41.8268495564978,
          41.8266702456499,
          41.8264999770364,
          41.826289160491,
          41.8261135712157,
          41.8258902150689,
          41.8255809617991,
          41.8254380572627,
          41.8252593319369,
          41.8249897837066,
          41.8248536130059,
          41.8246290176087,
          41.8242654569471,
          41.8231892245505,
          41.820589336673,
          41.8185971702935,
          41.8165551621793,
          41.8161133974069,
          41.8156860151152,
          41.8151921702546,
          41.8148177003093,
          41.8146341735695,
          41.8142550840797,
          41.8118964036464,
          41.8108932893557,
          41.8086942409605,
          41.8069406707267,
          41.8066740268359,
          41.8064122723526,
          41.8061792844475,
          41.8059204201359,
          41.8057400902864,
          41.8055292280235,
          41.8053210733114,
          41.8051392478755,
          41.8049744026492,
          41.8048760736684,
          41.8047691180268,
          41.804723245901,
          41.8047010677319,
          41.8047117836201,
          41.8046913979137
         ],
         "line": {
          "color": "#fe9307",
          "width": 3
         },
         "lon": [
          -87.6805931282853,
          -87.681749656044,
          -87.6843009467936,
          -87.684810042731,
          -87.6851718436698,
          -87.6854794048433,
          -87.6857008811124,
          -87.6859132106134,
          -87.6860360060685,
          -87.6861369875283,
          -87.6862133538955,
          -87.6862179780217,
          -87.6862070375714,
          -87.6861428709279,
          -87.6860741751975,
          -87.6859554137294,
          -87.685694736507,
          -87.6849412411501,
          -87.6830917246594,
          -87.6817138706735,
          -87.6803716360881,
          -87.6801850595031,
          -87.6800142597528,
          -87.6798855358577,
          -87.6798033658508,
          -87.6797861256333,
          -87.6797294774944,
          -87.6796738518176,
          -87.6796362887429,
          -87.6795854120391,
          -87.6795363780015,
          -87.6795645596975,
          -87.6796149802675,
          -87.6796969466608,
          -87.6798364855215,
          -87.6799624889866,
          -87.6801652160802,
          -87.6804252238945,
          -87.6807072499912,
          -87.6810432274344,
          -87.6813466907937,
          -87.6818094316772,
          -87.6821219125939,
          -87.6824118674172,
          -87.683042159271,
          -87.6840707456663
         ],
         "mode": "lines",
         "type": "scattermapbox"
        },
        {
         "hoverinfo": "none",
         "lat": [
          41.8542874766599,
          41.8543916407171,
          41.8544046838239
         ],
         "line": {
          "color": "#f68eb9",
          "width": 3
         },
         "lon": [
          -87.6948286813098,
          -87.6885216315763,
          -87.6851849849327
         ],
         "mode": "lines",
         "type": "scattermapbox"
        },
        {
         "hoverinfo": "none",
         "lat": [
          41.9662178145283,
          41.9662133559571,
          41.9662062701619,
          41.9661911618554,
          41.9661672033828,
          41.9661597543036,
          41.9661545513129,
          41.9661547603867
         ],
         "line": {
          "color": "#7b4213",
          "width": 3
         },
         "lon": [
          -87.6941169025643,
          -87.6950282262671,
          -87.6967550991957,
          -87.6978979386582,
          -87.6987344466299,
          -87.699542063001,
          -87.7007582168617,
          -87.70166151306
         ],
         "mode": "lines",
         "type": "scattermapbox"
        },
        {
         "hoverinfo": "none",
         "lat": [
          41.7789612406872,
          41.7789995957552,
          41.7790848710678,
          41.7791373956964,
          41.7791873012669,
          41.7792229974276,
          41.7791595187467,
          41.7790918481851,
          41.7790352219335,
          41.779030241294,
          41.7790357041972
         ],
         "line": {
          "color": "#00a447",
          "width": 3
         },
         "lon": [
          -87.6638505975286,
          -87.6615684490974,
          -87.6570956425174,
          -87.6526300115746,
          -87.649593227964,
          -87.6463926282758,
          -87.6460390274174,
          -87.6457176785818,
          -87.645410853566,
          -87.6449453672791,
          -87.6440288721395
         ],
         "mode": "lines",
         "type": "scattermapbox"
        },
        {
         "hoverinfo": "none",
         "lat": [
          41.9474358602955,
          41.9482067288772,
          41.950607812818,
          41.9510907510561,
          41.9520033320511,
          41.9524638387946,
          41.9531194024296,
          41.9533281493964,
          41.9534388222193,
          41.9535232292403,
          41.9535899927039,
          41.9536523943719,
          41.9537105053026,
          41.9537419026075,
          41.9537614074034,
          41.9537828118747
         ],
         "line": {
          "color": "#fb003d",
          "width": 3
         },
         "lon": [
          -87.6536316943489,
          -87.6536413077234,
          -87.6536514032287,
          -87.6536640768884,
          -87.6536662510622,
          -87.6536316846232,
          -87.6536773487048,
          -87.6536904499915,
          -87.6536984769854,
          -87.6537391231037,
          -87.6537918227032,
          -87.6538564431494,
          -87.6539448436541,
          -87.6540843944252,
          -87.6543122511209,
          -87.6549351560049
         ],
         "mode": "lines",
         "type": "scattermapbox"
        },
        {
         "hoverinfo": "none",
         "lat": [
          41.9475058602955,
          41.948276728877204,
          41.950677812818,
          41.9511607510561,
          41.9520733320511,
          41.9525338387946,
          41.9531894024296,
          41.9533981493964,
          41.9535088222193,
          41.9535932292403,
          41.9536599927039,
          41.9537223943719,
          41.9537805053026,
          41.9538119026075,
          41.9538314074034,
          41.953852811874704
         ],
         "line": {
          "color": "#492f8a",
          "width": 3
         },
         "lon": [
          -87.6535816943489,
          -87.6535913077234,
          -87.65360140322869,
          -87.6536140768884,
          -87.6536162510622,
          -87.6535816846232,
          -87.6536273487048,
          -87.6536404499915,
          -87.6536484769854,
          -87.6536891231037,
          -87.6537418227032,
          -87.65380644314939,
          -87.6538948436541,
          -87.6540343944252,
          -87.6542622511209,
          -87.6548851560049
         ],
         "mode": "lines",
         "type": "scattermapbox"
        },
        {
         "hoverinfo": "none",
         "lat": [
          41.9734611909612,
          41.9752358636372,
          41.9779918604896
         ],
         "line": {
          "color": "#fb003d",
          "width": 3
         },
         "lon": [
          -87.6585357303,
          -87.658593698834,
          -87.6586741876597
         ],
         "mode": "lines",
         "type": "scattermapbox"
        },
        {
         "hoverinfo": "none",
         "lat": [
          41.973531190961204,
          41.9753058636372,
          41.9780618604896
         ],
         "line": {
          "color": "#492f8a",
          "width": 3
         },
         "lon": [
          -87.6584857303,
          -87.658543698834,
          -87.6586241876597
         ],
         "mode": "lines",
         "type": "scattermapbox"
        },
        {
         "hoverinfo": "none",
         "lat": [
          41.9691468073954,
          41.9711878409382,
          41.9734611909612
         ],
         "line": {
          "color": "#fb003d",
          "width": 3
         },
         "lon": [
          -87.6584987290284,
          -87.6584939818116,
          -87.6585357303
         ],
         "mode": "lines",
         "type": "scattermapbox"
        },
        {
         "hoverinfo": "none",
         "lat": [
          41.9692168073954,
          41.9712578409382,
          41.973531190961204
         ],
         "line": {
          "color": "#492f8a",
          "width": 3
         },
         "lon": [
          -87.6584487290284,
          -87.6584439818116,
          -87.6584857303
         ],
         "mode": "lines",
         "type": "scattermapbox"
        },
        {
         "hoverinfo": "none",
         "lat": [
          41.7683757012028,
          41.7701567886536,
          41.7718793586311,
          41.7721889516155,
          41.7725321380411,
          41.7725940858961,
          41.7728721307241,
          41.7729650953683,
          41.7734404649954,
          41.7734966145767,
          41.773837974386,
          41.7739820518551,
          41.774028649193,
          41.7741683606492,
          41.7744582987862,
          41.7746396250527,
          41.7749135240929,
          41.7750142177738,
          41.7751513329769,
          41.775416661556,
          41.7762406950696,
          41.7764497240529,
          41.7767775072812,
          41.7769873875714,
          41.7772366717268,
          41.7774969998359,
          41.7778401652991,
          41.7781563905357,
          41.7784760501978,
          41.7787499292165,
          41.7789311557731,
          41.779429269537,
          41.7798300617756,
          41.780542171265
         ],
         "line": {
          "color": "#fb003d",
          "width": 3
         },
         "lon": [
          -87.6258150885691,
          -87.6258545693106,
          -87.6259035538045,
          -87.6259257412532,
          -87.6259593730546,
          -87.6259685344064,
          -87.6260127231486,
          -87.6260333559736,
          -87.6261810837586,
          -87.6261997615694,
          -87.6263554643369,
          -87.6264208122483,
          -87.6264498284183,
          -87.6265240830366,
          -87.6267049598491,
          -87.6268368311417,
          -87.6270454471378,
          -87.6271250538627,
          -87.6272564284945,
          -87.6275094333994,
          -87.6285320727816,
          -87.6288263077865,
          -87.6292619691527,
          -87.6295451240999,
          -87.6297958623522,
          -87.6300452501754,
          -87.6302863522524,
          -87.6304896077426,
          -87.6306522244265,
          -87.6307725882033,
          -87.6308244390891,
          -87.630937790184,
          -87.6309770470116,
          -87.6310061903463
         ],
         "mode": "lines",
         "type": "scattermapbox"
        },
        {
         "hoverinfo": "none",
         "lat": [
          41.8857323806163,
          41.8870771299671,
          41.8889757889061
         ],
         "line": {
          "color": "#7b4213",
          "width": 3
         },
         "lon": [
          -87.6339189266405,
          -87.6339613991533,
          -87.6339791131933
         ],
         "mode": "lines",
         "type": "scattermapbox"
        },
        {
         "hoverinfo": "none",
         "lat": [
          41.8858023806163,
          41.887147129967104,
          41.8890457889061
         ],
         "line": {
          "color": "#492f8a",
          "width": 3
         },
         "lon": [
          -87.6338689266405,
          -87.6339113991533,
          -87.6339291131933
         ],
         "mode": "lines",
         "type": "scattermapbox"
        },
        {
         "hoverinfo": "none",
         "lat": [
          41.8966790696385,
          41.8991443435775,
          41.9002695532937,
          41.9021281869616,
          41.9031712171529,
          41.903650252994,
          41.9037639846128,
          41.9038263560903,
          41.9038780466948,
          41.9039108534176,
          41.9039439895796,
          41.9039531038096,
          41.9039281704908
         ],
         "line": {
          "color": "#fb003d",
          "width": 3
         },
         "lon": [
          -87.6281821040788,
          -87.6282698979187,
          -87.6283031002336,
          -87.6283536957689,
          -87.6286258801237,
          -87.6286481631119,
          -87.6286722517265,
          -87.6287005267739,
          -87.6287506369768,
          -87.6288081993165,
          -87.6289200547206,
          -87.6290828589034,
          -87.6314180452581
         ],
         "mode": "lines",
         "type": "scattermapbox"
        },
        {
         "hoverinfo": "none",
         "lat": [
          41.9843019186394,
          41.9841971299778,
          41.9841022982695,
          41.9840385518621,
          41.9839858563695,
          41.9839838296759,
          41.9838891220114,
          41.9837961845787,
          41.9837797276049,
          41.9837535641981,
          41.9836297301817,
          41.9835151467296
         ],
         "line": {
          "color": "#00a8df",
          "width": 3
         },
         "lon": [
          -87.8380318065809,
          -87.8402241089531,
          -87.8418627460876,
          -87.8433970779721,
          -87.844779509472,
          -87.8456817755668,
          -87.8481490877377,
          -87.8506731694672,
          -87.8523874442903,
          -87.8536021449789,
          -87.8566916787995,
          -87.8593935292431
         ],
         "mode": "lines",
         "type": "scattermapbox"
        },
        {
         "hoverinfo": "none",
         "lat": [
          41.873497893919,
          41.8737012156471,
          41.8738471098674,
          41.8738479792862,
          41.8738275532153,
          41.8738221757549,
          41.873818978022,
          41.8738059712545,
          41.8737632882735,
          41.8737443777348,
          41.8737261933873,
          41.8736894820278,
          41.8736804197618,
          41.8736616321403,
          41.8736375424921,
          41.873618557129,
          41.8736102676629,
          41.8735893379847,
          41.8736147039497,
          41.8736597787278,
          41.8737492988165,
          41.8738239605573,
          41.8739209116873,
          41.8739880965468,
          41.8740405998699,
          41.8740785089302,
          41.8741095224441,
          41.8741480093253,
          41.8742651534074
         ],
         "line": {
          "color": "#00a8df",
          "width": 3
         },
         "lon": [
          -87.8069666736692,
          -87.8090082208203,
          -87.8104522987695,
          -87.8108051361587,
          -87.8111060186135,
          -87.8112534160519,
          -87.8113410276472,
          -87.8114950776764,
          -87.8118174880181,
          -87.8119781775653,
          -87.8121326813374,
          -87.8124184841089,
          -87.8126902329637,
          -87.8128661958163,
          -87.8130273363823,
          -87.8132179995629,
          -87.8134309628573,
          -87.8137100146819,
          -87.8139392244718,
          -87.8141068554559,
          -87.8143037767821,
          -87.8144810531298,
          -87.8146877958559,
          -87.8148453678066,
          -87.8150228232642,
          -87.8152399272235,
          -87.8155657928804,
          -87.8159113595502,
          -87.8173235824148
         ],
         "mode": "lines",
         "type": "scattermapbox"
        },
        {
         "hoverinfo": "none",
         "lat": [
          41.8744333581058,
          41.8744039804103,
          41.8743207011243,
          41.8742617900138,
          41.8742164494976,
          41.8741829245338,
          41.8741403328932,
          41.8741043976363,
          41.8740726161618,
          41.8740715718737,
          41.8740453658635,
          41.8740246263724,
          41.8739758054281,
          41.8739244692174,
          41.8739010875542,
          41.8738965719657
         ],
         "line": {
          "color": "#00a8df",
          "width": 3
         },
         "lon": [
          -87.7059840677601,
          -87.7061963149139,
          -87.7067655043584,
          -87.7071980395306,
          -87.7075263929681,
          -87.707860934632,
          -87.7082617785997,
          -87.7094539553588,
          -87.71076276227,
          -87.712528427462,
          -87.7142218294214,
          -87.7156219502299,
          -87.7197023672278,
          -87.7242242187379,
          -87.725148261163,
          -87.7256307080426
         ],
         "mode": "lines",
         "type": "scattermapbox"
        },
        {
         "hoverinfo": "none",
         "lat": [
          41.9661547603867,
          41.9661460308683,
          41.9661413896132,
          41.9661238693281,
          41.9661160021957,
          41.9661004715607
         ],
         "line": {
          "color": "#7b4213",
          "width": 3
         },
         "lon": [
          -87.70166151306,
          -87.7026734215452,
          -87.7039980911119,
          -87.7064560025006,
          -87.7076338766221,
          -87.7088495751247
         ],
         "mode": "lines",
         "type": "scattermapbox"
        },
        {
         "hoverinfo": "none",
         "lat": [
          41.8843289474067,
          41.8843266356172,
          41.8843003383302,
          41.8842962216912,
          41.8842119436086,
          41.8841820693122,
          41.8841223022355,
          41.8840292985107,
          41.8840302332953,
          41.8840392647403,
          41.8840466833621,
          41.8840656345737,
          41.8840835824987,
          41.8841200647522,
          41.8841380718881,
          41.8842273832401
         ],
         "line": {
          "color": "#00a447",
          "width": 3
         },
         "lon": [
          -87.7061611915269,
          -87.7061221739541,
          -87.7056788687028,
          -87.7056094697213,
          -87.7041889746295,
          -87.7037192853917,
          -87.702779721676,
          -87.7013178994929,
          -87.7012958564107,
          -87.701082757635,
          -87.7006312033117,
          -87.7002376402307,
          -87.6995322774487,
          -87.6988040536219,
          -87.69787469116,
          -87.6962399852839
         ],
         "mode": "lines",
         "type": "scattermapbox"
        },
        {
         "hoverinfo": "none",
         "lat": [
          42.0334635884778,
          42.0336400467849,
          42.0339722167794,
          42.0342333843523,
          42.0359256188586,
          42.0382452122706,
          42.0405176279487,
          42.0410590272491,
          42.0413297067571,
          42.041662522131
         ],
         "line": {
          "color": "#492f8a",
          "width": 3
         },
         "lon": [
          -87.679543702829,
          -87.6796174556693,
          -87.6798312929722,
          -87.6799419610899,
          -87.680340232379,
          -87.6808549005774,
          -87.6813700874271,
          -87.6814779086022,
          -87.6815280444977,
          -87.6816077685658
         ],
         "mode": "lines",
         "type": "scattermapbox"
        },
        {
         "hoverinfo": "none",
         "lat": [
          41.839363723964,
          41.8388998514446,
          41.8385225911894,
          41.8379038729077,
          41.8370724225757,
          41.8358531537538,
          41.8341212247628,
          41.8331483815755,
          41.8311823975001,
          41.8295679306378
         ],
         "line": {
          "color": "#fe9307",
          "width": 3
         },
         "lon": [
          -87.6653174204984,
          -87.6662492350505,
          -87.6669189253705,
          -87.6678523203762,
          -87.6690745886703,
          -87.6707945624452,
          -87.6732619166413,
          -87.6747626091804,
          -87.6779742829647,
          -87.6805931282853
         ],
         "mode": "lines",
         "type": "scattermapbox"
        },
        {
         "hoverinfo": "none",
         "lat": [
          41.9327393618077,
          41.9331246200238,
          41.934459969419,
          41.9349180654021,
          41.9353277990035,
          41.9360404655646
         ],
         "line": {
          "color": "#7b4213",
          "width": 3
         },
         "lon": [
          -87.6531366197265,
          -87.6531430706095,
          -87.6532022377216,
          -87.6532225340702,
          -87.6532406881242,
          -87.6532722121844
         ],
         "mode": "lines",
         "type": "scattermapbox"
        },
        {
         "hoverinfo": "none",
         "lat": [
          41.9328093618077,
          41.9331946200238,
          41.934529969419,
          41.9349880654021,
          41.9353977990035,
          41.9361104655646
         ],
         "line": {
          "color": "#492f8a",
          "width": 3
         },
         "lon": [
          -87.6530866197265,
          -87.6530930706095,
          -87.6531522377216,
          -87.6531725340702,
          -87.6531906881242,
          -87.6532222121844
         ],
         "mode": "lines",
         "type": "scattermapbox"
        },
        {
         "hoverinfo": "none",
         "lat": [
          41.9328793618077,
          41.9332646200238,
          41.934599969419004,
          41.9350580654021,
          41.935467799003504,
          41.936180465564604
         ],
         "line": {
          "color": "#fa0034",
          "width": 3
         },
         "lon": [
          -87.65303661972649,
          -87.6530430706095,
          -87.6531022377216,
          -87.65312253407019,
          -87.6531406881242,
          -87.6531722121844
         ],
         "mode": "lines",
         "type": "scattermapbox"
        },
        {
         "hoverinfo": "none",
         "lat": [
          42.0010812324704,
          42.0013746377415,
          42.0015328407258,
          42.0018767531075,
          42.0022730834862,
          42.0026453206292,
          42.0026457792917,
          42.0030552932178,
          42.0034879307903,
          42.0038232284687,
          42.0041557246762,
          42.0046731327479,
          42.0052575454031,
          42.005867544311,
          42.006192326145,
          42.0068739324683,
          42.0083696918601
         ],
         "line": {
          "color": "#fb003d",
          "width": 3
         },
         "lon": [
          -87.6610664723575,
          -87.6614260091433,
          -87.6616632541365,
          -87.6622549886699,
          -87.6628863029108,
          -87.6634670410833,
          -87.6634675722073,
          -87.6640112689862,
          -87.6644812014463,
          -87.6647740237225,
          -87.665004867758,
          -87.6652769671597,
          -87.6655313752938,
          -87.6657182403758,
          -87.6657754799134,
          -87.6658373758342,
          -87.6659148623224
         ],
         "mode": "lines",
         "type": "scattermapbox"
        },
        {
         "hoverinfo": "none",
         "lat": [
          42.0011512324704,
          42.0014446377415,
          42.0016028407258,
          42.001946753107504,
          42.0023430834862,
          42.0027153206292,
          42.0027157792917,
          42.0031252932178,
          42.0035579307903,
          42.0038932284687,
          42.0042257246762,
          42.0047431327479,
          42.0053275454031,
          42.005937544311,
          42.006262326145,
          42.0069439324683,
          42.008439691860104
         ],
         "line": {
          "color": "#492f8a",
          "width": 3
         },
         "lon": [
          -87.6610164723575,
          -87.6613760091433,
          -87.6616132541365,
          -87.6622049886699,
          -87.6628363029108,
          -87.66341704108329,
          -87.6634175722073,
          -87.6639612689862,
          -87.6644312014463,
          -87.6647240237225,
          -87.664954867758,
          -87.6652269671597,
          -87.6654813752938,
          -87.6656682403758,
          -87.6657254799134,
          -87.6657873758342,
          -87.6658648623224
         ],
         "mode": "lines",
         "type": "scattermapbox"
        },
        {
         "hoverinfo": "none",
         "lat": [
          41.9936721323951,
          41.9946424803987,
          41.9954979931664,
          41.9963306028278,
          41.9972323446391,
          41.997517555967,
          41.9979912956266,
          41.9982306986796,
          41.9985023332619,
          41.998810903804,
          41.9990043899477,
          41.999225616689,
          41.9994423144643,
          41.9996960566538,
          41.9998945056106,
          42.0000931678076,
          42.000282704108,
          42.0004445041866,
          42.000597104296,
          42.0007637079085,
          42.0009072276749,
          42.0010812324704
         ],
         "line": {
          "color": "#fb003d",
          "width": 3
         },
         "lon": [
          -87.6592080481102,
          -87.6591889034554,
          -87.6591949443742,
          -87.6592169872633,
          -87.6592629603664,
          -87.6592722832127,
          -87.6592734525436,
          -87.6593140863432,
          -87.6593605467957,
          -87.6594312802941,
          -87.6594847350769,
          -87.6595625588727,
          -87.6596527604793,
          -87.6597857393325,
          -87.6599008036169,
          -87.6600528576808,
          -87.6602173445735,
          -87.6603574568329,
          -87.6604976715481,
          -87.6606758452244,
          -87.6608335454584,
          -87.6610664723575
         ],
         "mode": "lines",
         "type": "scattermapbox"
        },
        {
         "hoverinfo": "none",
         "lat": [
          41.9937421323951,
          41.994712480398704,
          41.995567993166404,
          41.9964006028278,
          41.9973023446391,
          41.997587555967,
          41.9980612956266,
          41.9983006986796,
          41.9985723332619,
          41.998880903804,
          41.9990743899477,
          41.999295616689004,
          41.9995123144643,
          41.9997660566538,
          41.9999645056106,
          42.0001631678076,
          42.000352704108,
          42.000514504186604,
          42.000667104296,
          42.0008337079085,
          42.0009772276749,
          42.0011512324704
         ],
         "line": {
          "color": "#492f8a",
          "width": 3
         },
         "lon": [
          -87.6591580481102,
          -87.6591389034554,
          -87.6591449443742,
          -87.6591669872633,
          -87.6592129603664,
          -87.6592222832127,
          -87.6592234525436,
          -87.6592640863432,
          -87.6593105467957,
          -87.6593812802941,
          -87.6594347350769,
          -87.65951255887269,
          -87.6596027604793,
          -87.6597357393325,
          -87.6598508036169,
          -87.6600028576808,
          -87.6601673445735,
          -87.6603074568329,
          -87.6604476715481,
          -87.6606258452244,
          -87.6607835454584,
          -87.6610164723575
         ],
         "mode": "lines",
         "type": "scattermapbox"
        },
        {
         "hoverinfo": "none",
         "lat": [
          41.780542171265,
          41.782707677628,
          41.78336763771,
          41.785590086655,
          41.7872233378753,
          41.7877296434788,
          41.7916802836172,
          41.7939095120525,
          41.7954261020888
         ],
         "line": {
          "color": "#fb003d",
          "width": 3
         },
         "lon": [
          -87.6310061903463,
          -87.6310507156046,
          -87.6310657935208,
          -87.6311278121108,
          -87.6310369232153,
          -87.6310095347996,
          -87.6311049056732,
          -87.63115047738,
          -87.6311749126874
         ],
         "mode": "lines",
         "type": "scattermapbox"
        },
        {
         "hoverinfo": "none",
         "lat": [
          41.8827028730225,
          41.8844134762947,
          41.8857323806163
         ],
         "line": {
          "color": "#7b4213",
          "width": 3
         },
         "lon": [
          -87.6338592819792,
          -87.6338948159896,
          -87.6339189266405
         ],
         "mode": "lines",
         "type": "scattermapbox"
        },
        {
         "hoverinfo": "none",
         "lat": [
          41.8827728730225,
          41.8844834762947,
          41.8858023806163
         ],
         "line": {
          "color": "#fe9307",
          "width": 3
         },
         "lon": [
          -87.6338092819792,
          -87.6338448159896,
          -87.6338689266405
         ],
         "mode": "lines",
         "type": "scattermapbox"
        },
        {
         "hoverinfo": "none",
         "lat": [
          41.882842873022504,
          41.8845534762947,
          41.8858723806163
         ],
         "line": {
          "color": "#ff85bc",
          "width": 3
         },
         "lon": [
          -87.6337592819792,
          -87.6337948159896,
          -87.6338189266405
         ],
         "mode": "lines",
         "type": "scattermapbox"
        },
        {
         "hoverinfo": "none",
         "lat": [
          41.882912873022505,
          41.8846234762947,
          41.8859423806163
         ],
         "line": {
          "color": "#492f8a",
          "width": 3
         },
         "lon": [
          -87.6337092819792,
          -87.6337448159896,
          -87.6337689266405
         ],
         "mode": "lines",
         "type": "scattermapbox"
        },
        {
         "hoverinfo": "none",
         "lat": [
          41.8781903710703,
          41.8782074116444,
          41.8787382418192,
          41.8790433829659,
          41.8795054006315,
          41.8807113144901
         ],
         "line": {
          "color": "#00a8df",
          "width": 3
         },
         "lon": [
          -87.629301413904,
          -87.6293019725819,
          -87.6293194598512,
          -87.6293295083704,
          -87.6293444502994,
          -87.6293834498268
         ],
         "mode": "lines",
         "type": "scattermapbox"
        },
        {
         "hoverinfo": "none",
         "lat": [
          41.8781606098482,
          41.880752412153
         ],
         "line": {
          "color": "#fb003d",
          "width": 3
         },
         "lon": [
          -87.6276018464021,
          -87.6277022096758
         ],
         "mode": "lines",
         "type": "scattermapbox"
        },
        {
         "hoverinfo": "none",
         "lat": [
          41.8857448395519,
          41.8857445108962,
          41.8857379955916,
          41.8857323806163,
          41.8857239200672,
          41.8857156211632,
          41.8857104768779,
          41.8857389050654,
          41.8857584192724,
          41.8857988297566,
          41.8858471788506,
          41.8862646901687,
          41.8864701858594,
          41.8867204034602,
          41.8872824516313,
          41.8877943301772,
          41.888309337915,
          41.8891071783368,
          41.8895261324978,
          41.8899774784564,
          41.89067476311,
          41.8911971490473
         ],
         "line": {
          "color": "#00a8df",
          "width": 3
         },
         "lon": [
          -87.630891768284,
          -87.6320455055585,
          -87.6328514670137,
          -87.6339189266405,
          -87.6360630420923,
          -87.63815614291,
          -87.6394489470812,
          -87.6397034884247,
          -87.6398548411806,
          -87.6399433467934,
          -87.6400132745091,
          -87.6405808407729,
          -87.6408601978238,
          -87.6412003538633,
          -87.6419646177825,
          -87.6426607189872,
          -87.6433591110089,
          -87.6444495358007,
          -87.6450618770634,
          -87.6457215763152,
          -87.6467830176752,
          -87.6475840672401
         ],
         "mode": "lines",
         "type": "scattermapbox"
        },
        {
         "hoverinfo": "none",
         "lat": [
          41.9140673299076,
          41.9147615783984,
          41.9151022979502,
          41.9154096693546,
          41.915633652419,
          41.9171872051466,
          41.9176404224086,
          41.9180895783071,
          41.9182244264862
         ],
         "line": {
          "color": "#7b4213",
          "width": 3
         },
         "lon": [
          -87.6525061864663,
          -87.6525187308978,
          -87.6525310561052,
          -87.6525437358349,
          -87.6525541123461,
          -87.6526155731281,
          -87.6526306454509,
          -87.6526455802851,
          -87.6526500672848
         ],
         "mode": "lines",
         "type": "scattermapbox"
        },
        {
         "hoverinfo": "none",
         "lat": [
          41.914137329907604,
          41.9148315783984,
          41.9151722979502,
          41.9154796693546,
          41.915703652419,
          41.9172572051466,
          41.917710422408604,
          41.9181595783071,
          41.9182944264862
         ],
         "line": {
          "color": "#492f8a",
          "width": 3
         },
         "lon": [
          -87.6524561864663,
          -87.6524687308978,
          -87.6524810561052,
          -87.6524937358349,
          -87.6525041123461,
          -87.6525655731281,
          -87.6525806454509,
          -87.6525955802851,
          -87.6526000672848
         ],
         "mode": "lines",
         "type": "scattermapbox"
        },
        {
         "hoverinfo": "none",
         "lat": [
          41.914207329907605,
          41.9149015783984,
          41.9152422979502,
          41.915549669354604,
          41.915773652419,
          41.9173272051466,
          41.917780422408605,
          41.9182295783071,
          41.9183644264862
         ],
         "line": {
          "color": "#fa0034",
          "width": 3
         },
         "lon": [
          -87.6524061864663,
          -87.6524187308978,
          -87.6524310561052,
          -87.6524437358349,
          -87.65245411234609,
          -87.6525155731281,
          -87.6525306454509,
          -87.65254558028509,
          -87.65255006728479
         ],
         "mode": "lines",
         "type": "scattermapbox"
        },
        {
         "hoverinfo": "none",
         "lat": [
          41.7801375547008,
          41.7800963429824,
          41.7800634531318,
          41.7800787732736,
          41.7801505793462,
          41.7802291897156,
          41.7803642889848,
          41.7814646632882,
          41.7838159314692,
          41.784774061631,
          41.7874761907081
         ],
         "line": {
          "color": "#00a447",
          "width": 3
         },
         "lon": [
          -87.615551619367,
          -87.6170940800765,
          -87.6175117273519,
          -87.6176917454253,
          -87.6178237182564,
          -87.6179081970579,
          -87.6179446306465,
          -87.617960852008,
          -87.6180082881191,
          -87.6180198832097,
          -87.6181489384272
         ],
         "mode": "lines",
         "type": "scattermapbox"
        },
        {
         "hoverinfo": "none",
         "lat": [
          41.8020994255918,
          41.8039323843155,
          41.8058014373438,
          41.806096925877,
          41.8062185279868,
          41.8063735974565,
          41.8064905144442,
          41.806755471549,
          41.8092166773954
         ],
         "line": {
          "color": "#00a447",
          "width": 3
         },
         "lon": [
          -87.6185073393227,
          -87.6185864984748,
          -87.6186091922354,
          -87.6186250113821,
          -87.6186427632663,
          -87.6186792467284,
          -87.6187097861197,
          -87.6187734387628,
          -87.61883186836
         ],
         "mode": "lines",
         "type": "scattermapbox"
        },
        {
         "hoverinfo": "none",
         "lat": [
          41.9811950107506,
          41.9813263329598,
          41.9814752821826,
          41.9815940957866,
          41.9816817481327,
          41.9817460890637,
          41.9817127233206,
          41.9816542615262,
          41.9814755125861,
          41.9811763717229,
          41.9808515357433,
          41.980441469001,
          41.9800257811888,
          41.9798344193364,
          41.9796484452097,
          41.979457005646,
          41.9791670451679,
          41.9788845941731
         ],
         "line": {
          "color": "#00a8df",
          "width": 3
         },
         "lon": [
          -87.8956292363712,
          -87.8957681542876,
          -87.8960185192785,
          -87.8962792504644,
          -87.8965898428249,
          -87.8971387076828,
          -87.8977783659061,
          -87.8982359388675,
          -87.8987212232127,
          -87.8992073214142,
          -87.8996544805173,
          -87.900143098815,
          -87.9005949331185,
          -87.900824421588,
          -87.9010244268043,
          -87.9012318258212,
          -87.9015282189283,
          -87.9018542390136
         ],
         "mode": "lines",
         "type": "scattermapbox"
        },
        {
         "hoverinfo": "none",
         "lat": [
          41.9835151467296,
          41.9834479227258,
          41.9833577927955,
          41.9833055747649,
          41.9832721440733,
          41.9832413089308,
          41.9832189913852,
          41.9832176363743,
          41.9831982725859,
          41.9831628680179,
          41.9831334867975,
          41.9830732561071,
          41.982982276204,
          41.9828478677935,
          41.9827808458142,
          41.9826705642393,
          41.9822415740865,
          41.9809884797343,
          41.9809861893486,
          41.9782373372818,
          41.9774739993826,
          41.977375463477,
          41.9772853158704,
          41.977178544506,
          41.9771017175371,
          41.9770520682679,
          41.9770394753728,
          41.9770405329732,
          41.9770451479605,
          41.9770906420193,
          41.9771634906674,
          41.9772498106222,
          41.9773631328898,
          41.9774968157408,
          41.9776337396398,
          41.9777943713739,
          41.9787141013864,
          41.9796549705978,
          41.9811912800389,
          41.9811950107506
         ],
         "line": {
          "color": "#00a8df",
          "width": 3
         },
         "lon": [
          -87.8593935292431,
          -87.8613038292733,
          -87.8639597117737,
          -87.8663327068508,
          -87.8687719288173,
          -87.8703317693003,
          -87.8709375272038,
          -87.8713959799315,
          -87.8719414727193,
          -87.8723731130879,
          -87.8727632281554,
          -87.8731784543176,
          -87.8736436722163,
          -87.8740843176692,
          -87.8743502627553,
          -87.8746331121707,
          -87.8757063380636,
          -87.8787442060073,
          -87.8787499032378,
          -87.8855136650736,
          -87.8872609110257,
          -87.8874780232702,
          -87.8877228242434,
          -87.8880552455121,
          -87.8884065839916,
          -87.8887531741348,
          -87.8890129459912,
          -87.8892862910804,
          -87.8896006135675,
          -87.8899374316092,
          -87.8903150651004,
          -87.8906607124697,
          -87.8909560606777,
          -87.8912421569392,
          -87.8914872295306,
          -87.8917093588342,
          -87.8927961916323,
          -87.8938322148409,
          -87.8956252883872,
          -87.8956292363712
         ],
         "mode": "lines",
         "type": "scattermapbox"
        },
        {
         "hoverinfo": "none",
         "lat": [
          41.8869953670712,
          41.8870180689442,
          41.8870470535684,
          41.8870680410168,
          41.88708084851,
          41.8871066183055,
          41.8871330475826,
          41.8871539593054,
          41.8871672452821
         ],
         "line": {
          "color": "#00a447",
          "width": 3
         },
         "lon": [
          -87.7937891500914,
          -87.7924648085725,
          -87.7912488213886,
          -87.7895682872759,
          -87.7886079748493,
          -87.7879418091302,
          -87.7861992755792,
          -87.7845187371584,
          -87.7836668281808
         ],
         "mode": "lines",
         "type": "scattermapbox"
        },
        {
         "hoverinfo": "none",
         "lat": [
          41.8716158968258,
          41.8715650459626,
          41.871506677595,
          41.8714956489874,
          41.8714884129824,
          41.8714694033822,
          41.8714398408231,
          41.8714191633814,
          41.8713579522795,
          41.8712656164427,
          41.8711423474843,
          41.871033200246,
          41.8709656969451,
          41.8708352935975,
          41.8706814818673,
          41.8704926213027,
          41.8703971070054,
          41.8703181485714,
          41.8702392846033,
          41.8702047212984,
          41.8701587366496,
          41.8701128776908,
          41.8700789081855,
          41.8700541921437,
          41.8700462983879,
          41.8700533710756,
          41.8701057445359,
          41.8703206815267,
          41.8703838292496,
          41.8704968201271,
          41.8706360092081,
          41.8707277660731,
          41.8707502364897,
          41.870894238177
         ],
         "line": {
          "color": "#00a8df",
          "width": 3
         },
         "lon": [
          -87.7451779610035,
          -87.7499928398504,
          -87.7533574653508,
          -87.7558451666314,
          -87.756750099902,
          -87.7576582934535,
          -87.758342726956,
          -87.7589198837334,
          -87.7594028170671,
          -87.7597882897891,
          -87.7601141336806,
          -87.7604366978265,
          -87.7606044002965,
          -87.76091769279,
          -87.7612627225504,
          -87.7616679652242,
          -87.7618895131244,
          -87.7621235224121,
          -87.7623764480409,
          -87.7625343950787,
          -87.7627649572917,
          -87.7630207416852,
          -87.7632984889347,
          -87.7635414718654,
          -87.7638505142247,
          -87.7643265234994,
          -87.7649093234513,
          -87.7673949758261,
          -87.7682551336573,
          -87.7701489745228,
          -87.7724631143029,
          -87.7739595225842,
          -87.774456728652,
          -87.7767910618494
         ],
         "mode": "lines",
         "type": "scattermapbox"
        },
        {
         "hoverinfo": "none",
         "lat": [
          41.7998956551215,
          41.7984289379919,
          41.7961225246376,
          41.795826365358,
          41.7956191138374,
          41.7953123753529,
          41.7950928445598,
          41.7948138926351,
          41.7945489672746,
          41.7942529744954,
          41.7940041768243,
          41.7938143695778,
          41.7933916791134,
          41.7932348899349,
          41.7929755236403,
          41.7927113268848,
          41.7923325915429,
          41.7866213827539
         ],
         "line": {
          "color": "#fe9307",
          "width": 3
         },
         "lon": [
          -87.724455411955,
          -87.7281972122511,
          -87.7340190975694,
          -87.7347858733447,
          -87.7352430283044,
          -87.7358093376111,
          -87.7361965648232,
          -87.7366098053645,
          -87.7369719805459,
          -87.7373153406335,
          -87.7375723106501,
          -87.7377205008844,
          -87.7379790767807,
          -87.738063293118,
          -87.7381198080982,
          -87.738163634722,
          -87.7381703217722,
          -87.7379621447884
         ],
         "mode": "lines",
         "type": "scattermapbox"
        },
        {
         "hoverinfo": "none",
         "lat": [
          41.8865272009792,
          41.8865267595664,
          41.8864238851535,
          41.8863250384988,
          41.8862801415096,
          41.8861400558102,
          41.8860012429485,
          41.8859296735409,
          41.8859008336911,
          41.8858615755513,
          41.8858002260553,
          41.8857480712459,
          41.8856799480855,
          41.8856404924842,
          41.8854961978289,
          41.8854679552698,
          41.8854383138916,
          41.8854198277098
         ],
         "line": {
          "color": "#00a447",
          "width": 3
         },
         "lon": [
          -87.7447041843611,
          -87.7446967591561,
          -87.7429660725579,
          -87.7413035898252,
          -87.7405486316383,
          -87.7380614239799,
          -87.735591263073,
          -87.7343180753697,
          -87.7338051142687,
          -87.7331197040615,
          -87.7320488017166,
          -87.7311385047976,
          -87.7299497107618,
          -87.7292612601035,
          -87.7267441630815,
          -87.7262516351955,
          -87.7257347203042,
          -87.7254095452949
         ],
         "mode": "lines",
         "type": "scattermapbox"
        },
        {
         "hoverinfo": "none",
         "lat": [
          42.026199732958,
          42.0262144492981,
          42.0264915022936,
          42.0267958343001,
          42.0273373795865,
          42.0277741979759,
          42.0280848409166,
          42.0284656385091,
          42.0292707269166,
          42.0306600537241,
          42.0309196945787,
          42.0320264737878,
          42.0324692005706,
          42.0325626918332,
          42.0329388271892,
          42.0333587034609,
          42.0334693980411,
          42.033967359296,
          42.0347360088133,
          42.0353372391624,
          42.0355081026874,
          42.0363619655709,
          42.0371777760384,
          42.0373644732596,
          42.0381202444325,
          42.0389585668971
         ],
         "line": {
          "color": "#f9ef00",
          "width": 3
         },
         "lon": [
          -87.7472059613419,
          -87.7472113698366,
          -87.7473260238479,
          -87.7474322788097,
          -87.7475884208429,
          -87.7477264583869,
          -87.7478304435701,
          -87.7479579165876,
          -87.7482056563571,
          -87.7486182927589,
          -87.7486894317215,
          -87.7490818802133,
          -87.7492170723127,
          -87.7492456196474,
          -87.749371256447,
          -87.7494878621443,
          -87.7495265190201,
          -87.749700413489,
          -87.7500646562443,
          -87.7503317470214,
          -87.7504035655394,
          -87.7508050063554,
          -87.7511780771226,
          -87.7512634618453,
          -87.751612027645,
          -87.7519244270264
         ],
         "mode": "lines",
         "type": "scattermapbox"
        },
        {
         "hoverinfo": "none",
         "lat": [
          41.8539997998715,
          41.8540541813529,
          41.8541384318186
         ],
         "line": {
          "color": "#f68eb9",
          "width": 3
         },
         "lon": [
          -87.7148860364167,
          -87.7097761040755,
          -87.7054337264749
         ],
         "mode": "lines",
         "type": "scattermapbox"
        },
        {
         "hoverinfo": "none",
         "lat": [
          41.9219470285986,
          41.9227823161475,
          41.9238290994598,
          41.9250674143654,
          41.9262748932242,
          41.9265808153134,
          41.9268390288964,
          41.9271029856853,
          41.927378908791,
          41.9276128328215,
          41.9279667445571,
          41.9283388906584,
          41.9286995463173,
          41.9290030598416,
          41.9297358999808
         ],
         "line": {
          "color": "#00a8df",
          "width": 3
         },
         "lon": [
          -87.6968955718318,
          -87.6982361885338,
          -87.6999487116653,
          -87.7020333707521,
          -87.7039581379754,
          -87.7043774586519,
          -87.7047102676892,
          -87.705003103203,
          -87.7053038075129,
          -87.7055570173653,
          -87.705944791593,
          -87.7063962686129,
          -87.7069277109983,
          -87.7073556116938,
          -87.7085471633271
         ],
         "mode": "lines",
         "type": "scattermapbox"
        },
        {
         "hoverinfo": "none",
         "lat": [
          41.9473679633494,
          41.9475197683123,
          41.9476872353894,
          41.9478473650895,
          41.9479636832495,
          41.9480630317522,
          41.9482113773511,
          41.9483352839164,
          41.9484526477638,
          41.9485492166869,
          41.9486955767408,
          41.948816521601,
          41.9491097239316,
          41.9494440323777,
          41.9497573178227,
          41.950856311623,
          41.9513278523458,
          41.9522758144565,
          41.9529481226917
         ],
         "line": {
          "color": "#00a8df",
          "width": 3
         },
         "lon": [
          -87.7191050859651,
          -87.7192840086051,
          -87.7195022092025,
          -87.7197244238086,
          -87.7199253931841,
          -87.720125378983,
          -87.7204323754089,
          -87.7207394456301,
          -87.7209884268339,
          -87.7212223176904,
          -87.7215531235744,
          -87.7218138360139,
          -87.7224088567873,
          -87.7230223512294,
          -87.7235736892367,
          -87.7254813775259,
          -87.7263270187297,
          -87.7279842847487,
          -87.729183052557
         ],
         "mode": "lines",
         "type": "scattermapbox"
        },
        {
         "hoverinfo": "none",
         "lat": [
          42.041662522131,
          42.0427511710166,
          42.0439305913413,
          42.0444556077901,
          42.0452800261831,
          42.0458335052255,
          42.0463925756554,
          42.0467655005177,
          42.0470027672336,
          42.0470928917378,
          42.0477179735509
         ],
         "line": {
          "color": "#492f8a",
          "width": 3
         },
         "lon": [
          -87.6816077685658,
          -87.6818611472454,
          -87.682226968249,
          -87.6824256597732,
          -87.682772448255,
          -87.683023760715,
          -87.6832674651263,
          -87.6834677203416,
          -87.6835862262938,
          -87.6835853079048,
          -87.6835487087939
         ],
         "mode": "lines",
         "type": "scattermapbox"
        },
        {
         "hoverinfo": "none",
         "lat": [
          42.0477179735509,
          42.0484953561025,
          42.0490079071615,
          42.0516609125925,
          42.0521735498184,
          42.0523482130235,
          42.0529737613068,
          42.0541681048939
         ],
         "line": {
          "color": "#492f8a",
          "width": 3
         },
         "lon": [
          -87.6835487087939,
          -87.6835483394779,
          -87.6835355625895,
          -87.6834934028939,
          -87.683495735796,
          -87.6835015162496,
          -87.6835480446363,
          -87.6835661099688
         ],
         "mode": "lines",
         "type": "scattermapbox"
        },
        {
         "hoverinfo": "none",
         "lat": [
          41.8757696802508,
          41.8757799423136,
          41.875818048262,
          41.8758790710845,
          41.8758934865899
         ],
         "line": {
          "color": "#00a8df",
          "width": 3
         },
         "lon": [
          -87.6675368284109,
          -87.6665870727205,
          -87.6649959959668,
          -87.6601892373717,
          -87.6594612674364
         ],
         "mode": "lines",
         "type": "scattermapbox"
        },
        {
         "hoverinfo": "none",
         "lat": [
          41.9421846769564,
          41.9423908307356,
          41.9425792346538,
          41.9426938340078,
          41.9428108712397,
          41.9429279385646,
          41.9430713481989,
          41.9431932826669,
          41.9433177125003,
          41.9434278117312,
          41.9435212746598,
          41.9436484072085,
          41.9437541956497,
          41.9438097544097,
          41.9438678469299,
          41.9439117973036,
          41.9439365027834,
          41.9439495056298,
          41.9439487823375,
          41.9439403360888,
          41.9439186940416,
          41.9439151870588,
          41.9438201193626
         ],
         "line": {
          "color": "#7b4213",
          "width": 3
         },
         "lon": [
          -87.6534596813753,
          -87.6534807318599,
          -87.6535170185855,
          -87.6535604712604,
          -87.6536134708787,
          -87.6536712543075,
          -87.6537526900091,
          -87.6538279722666,
          -87.653922373835,
          -87.6540105448328,
          -87.6541052745691,
          -87.6542538907736,
          -87.654418686309,
          -87.6545489171696,
          -87.6547046489657,
          -87.654886056168,
          -87.6550357592924,
          -87.6552206858089,
          -87.6555014791242,
          -87.6560886686369,
          -87.6576715124977,
          -87.6591010083559,
          -87.6636153263714
         ],
         "mode": "lines",
         "type": "scattermapbox"
        },
        {
         "hoverinfo": "none",
         "lat": [
          41.9421846769564,
          41.9423801086468,
          41.9426900416155,
          41.9428892723227,
          41.9431815608201,
          41.9435804041855,
          41.9438994462503,
          41.9440723089283,
          41.9442185216158,
          41.9443561585104,
          41.9444848636921,
          41.9453975511004,
          41.9468998020002,
          41.9474358602955
         ],
         "line": {
          "color": "#fb003d",
          "width": 3
         },
         "lon": [
          -87.6534596813753,
          -87.6534302464241,
          -87.6534032197848,
          -87.653383303474,
          -87.6533683302743,
          -87.6533937599005,
          -87.6534081723158,
          -87.6534241367664,
          -87.6534285154014,
          -87.6534804602183,
          -87.6535206286377,
          -87.6535405997274,
          -87.6536255191321,
          -87.6536316943489
         ],
         "mode": "lines",
         "type": "scattermapbox"
        },
        {
         "hoverinfo": "none",
         "lat": [
          41.9422546769564,
          41.9424501086468,
          41.9427600416155,
          41.9429592723227,
          41.9432515608201,
          41.9436504041855,
          41.9439694462503,
          41.9441423089283,
          41.9442885216158,
          41.9444261585104,
          41.9445548636921,
          41.9454675511004,
          41.946969802000204,
          41.9475058602955
         ],
         "line": {
          "color": "#492f8a",
          "width": 3
         },
         "lon": [
          -87.6534096813753,
          -87.65338024642409,
          -87.6533532197848,
          -87.653333303474,
          -87.6533183302743,
          -87.6533437599005,
          -87.6533581723158,
          -87.6533741367664,
          -87.6533785154014,
          -87.6534304602183,
          -87.65347062863769,
          -87.6534905997274,
          -87.6535755191321,
          -87.6535816943489
         ],
         "mode": "lines",
         "type": "scattermapbox"
        },
        {
         "hoverinfo": "none",
         "lat": [
          41.9902673647687,
          41.990839754851,
          41.9923608981213,
          41.9936721323951
         ],
         "line": {
          "color": "#fb003d",
          "width": 3
         },
         "lon": [
          -87.6590816285986,
          -87.6590865507386,
          -87.6591362575646,
          -87.6592080481102
         ],
         "mode": "lines",
         "type": "scattermapbox"
        },
        {
         "hoverinfo": "none",
         "lat": [
          41.9903373647687,
          41.990909754851,
          41.9924308981213,
          41.9937421323951
         ],
         "line": {
          "color": "#492f8a",
          "width": 3
         },
         "lon": [
          -87.6590316285986,
          -87.6590365507386,
          -87.6590862575646,
          -87.6591580481102
         ],
         "mode": "lines",
         "type": "scattermapbox"
        },
        {
         "hoverinfo": "none",
         "lat": [
          42.019071094732,
          42.0194773140131,
          42.0198712956709,
          42.0200299508762,
          42.0213070490792,
          42.0219822415463,
          42.0220937550116,
          42.0222410364434,
          42.0224186439606,
          42.022751146828,
          42.023218877828,
          42.0243288429766,
          42.0261068994186,
          42.0276197249624
         ],
         "line": {
          "color": "#492f8a",
          "width": 3
         },
         "lon": [
          -87.6728982270991,
          -87.6734037431124,
          -87.6738882542473,
          -87.6740622177688,
          -87.675741460298,
          -87.6768973085184,
          -87.6770593020808,
          -87.6771912666987,
          -87.6773080880471,
          -87.6774381490252,
          -87.6775260376788,
          -87.6777593489061,
          -87.6781155855423,
          -87.6783351948529
         ],
         "mode": "lines",
         "type": "scattermapbox"
        },
        {
         "hoverinfo": "none",
         "lat": [
          41.8103459746632,
          41.8110938646346,
          41.811392606123,
          41.8114802065427,
          41.8118265160108,
          41.8121461980405,
          41.8124751979822,
          41.8128186755739,
          41.81351534214,
          41.8152478384296,
          41.8164749384735,
          41.8176944943246,
          41.8226934042708,
          41.8251978432007,
          41.8274915912304,
          41.8311984061385
         ],
         "line": {
          "color": "#fb003d",
          "width": 3
         },
         "lon": [
          -87.6310315404715,
          -87.6305630512376,
          -87.6304205379549,
          -87.6303850552429,
          -87.6302776945289,
          -87.6302242604013,
          -87.6301992499567,
          -87.6301920417564,
          -87.6302166458867,
          -87.630257542541,
          -87.6302848641519,
          -87.6303147038365,
          -87.6304418637526,
          -87.6305075655144,
          -87.6305647161859,
          -87.630642040869
         ],
         "mode": "lines",
         "type": "scattermapbox"
        },
        {
         "hoverinfo": "none",
         "lat": [
          41.8311984061385,
          41.8349540909589,
          41.8372195433623,
          41.8395331543355,
          41.8403735935885,
          41.8418450890431,
          41.8428594545772,
          41.844591021084,
          41.8454794402115,
          41.8458642024377,
          41.8464803121521,
          41.8466973417785,
          41.8468615837496,
          41.8471828043307,
          41.8474848720167,
          41.8483700444542,
          41.8489767359258,
          41.8496101544461,
          41.8510800685647,
          41.8517990493789,
          41.8524362300066,
          41.8526841543772,
          41.8529467838624,
          41.8532136454739
         ],
         "line": {
          "color": "#fb003d",
          "width": 3
         },
         "lon": [
          -87.630642040869,
          -87.6307521309678,
          -87.6308170717827,
          -87.6308727267461,
          -87.6309361387716,
          -87.6310373714935,
          -87.6311415091811,
          -87.6312622794913,
          -87.6312849664282,
          -87.6312775052069,
          -87.6312092254494,
          -87.6311760039342,
          -87.6311550924528,
          -87.6310942329719,
          -87.6310176527912,
          -87.6308550431916,
          -87.6307305224986,
          -87.6306917309569,
          -87.630694497411,
          -87.6307406319567,
          -87.6308264833859,
          -87.6308556321419,
          -87.6309116879379,
          -87.6309735745971
         ],
         "mode": "lines",
         "type": "scattermapbox"
        },
        {
         "hoverinfo": "none",
         "lat": [
          41.8787311367445,
          41.8801487701951,
          41.8814474247079,
          41.8827028730225
         ],
         "line": {
          "color": "#7b4213",
          "width": 3
         },
         "lon": [
          -87.633745725906,
          -87.6337883224695,
          -87.6338506608852,
          -87.6338592819792
         ],
         "mode": "lines",
         "type": "scattermapbox"
        },
        {
         "hoverinfo": "none",
         "lat": [
          41.8788011367445,
          41.8802187701951,
          41.8815174247079,
          41.8827728730225
         ],
         "line": {
          "color": "#fe9307",
          "width": 3
         },
         "lon": [
          -87.633695725906,
          -87.6337383224695,
          -87.6338006608852,
          -87.6338092819792
         ],
         "mode": "lines",
         "type": "scattermapbox"
        },
        {
         "hoverinfo": "none",
         "lat": [
          41.8788711367445,
          41.8802887701951,
          41.8815874247079,
          41.882842873022504
         ],
         "line": {
          "color": "#ff85bc",
          "width": 3
         },
         "lon": [
          -87.63364572590599,
          -87.6336883224695,
          -87.6337506608852,
          -87.6337592819792
         ],
         "mode": "lines",
         "type": "scattermapbox"
        },
        {
         "hoverinfo": "none",
         "lat": [
          41.8789411367445,
          41.8803587701951,
          41.8816574247079,
          41.882912873022505
         ],
         "line": {
          "color": "#492f8a",
          "width": 3
         },
         "lon": [
          -87.63359572590599,
          -87.6336383224695,
          -87.6337006608852,
          -87.6337092819792
         ],
         "mode": "lines",
         "type": "scattermapbox"
        },
        {
         "hoverinfo": "none",
         "lat": [
          41.8768631883765,
          41.8768567270936,
          41.876854149084,
          41.876866505674,
          41.8768884287399,
          41.8769149810006,
          41.876960608006,
          41.877070655827,
          41.8772691071849,
          41.8787311367445
         ],
         "line": {
          "color": "#7b4213",
          "width": 3
         },
         "lon": [
          -87.6317395847616,
          -87.6326321319514,
          -87.63338120261,
          -87.6334543779928,
          -87.6335338242583,
          -87.6335909079962,
          -87.6336509713298,
          -87.6336988573995,
          -87.6336922041357,
          -87.633745725906
         ],
         "mode": "lines",
         "type": "scattermapbox"
        },
        {
         "hoverinfo": "none",
         "lat": [
          41.8769331883765,
          41.876926727093604,
          41.876924149084,
          41.876936505674,
          41.876958428739904,
          41.876984981000604,
          41.877030608006,
          41.877140655827,
          41.8773391071849,
          41.8788011367445
         ],
         "line": {
          "color": "#fe9307",
          "width": 3
         },
         "lon": [
          -87.6316895847616,
          -87.6325821319514,
          -87.63333120261,
          -87.6334043779928,
          -87.63348382425829,
          -87.63354090799619,
          -87.6336009713298,
          -87.63364885739949,
          -87.6336422041357,
          -87.633695725906
         ],
         "mode": "lines",
         "type": "scattermapbox"
        },
        {
         "hoverinfo": "none",
         "lat": [
          41.8770031883765,
          41.876996727093605,
          41.876994149084,
          41.877006505674004,
          41.877028428739905,
          41.877054981000605,
          41.877100608006,
          41.877210655827,
          41.8774091071849,
          41.8788711367445
         ],
         "line": {
          "color": "#ff85bc",
          "width": 3
         },
         "lon": [
          -87.6316395847616,
          -87.6325321319514,
          -87.63328120261,
          -87.6333543779928,
          -87.63343382425829,
          -87.63349090799619,
          -87.6335509713298,
          -87.63359885739949,
          -87.6335922041357,
          -87.63364572590599
         ],
         "mode": "lines",
         "type": "scattermapbox"
        },
        {
         "hoverinfo": "none",
         "lat": [
          41.8770731883765,
          41.877066727093606,
          41.877064149084,
          41.877076505674005,
          41.877098428739906,
          41.877124981000605,
          41.877170608006004,
          41.877280655827,
          41.877479107184904,
          41.8789411367445
         ],
         "line": {
          "color": "#492f8a",
          "width": 3
         },
         "lon": [
          -87.6315895847616,
          -87.63248213195139,
          -87.63323120260999,
          -87.6333043779928,
          -87.63338382425829,
          -87.63344090799619,
          -87.6335009713298,
          -87.63354885739949,
          -87.6335422041357,
          -87.63359572590599
         ],
         "mode": "lines",
         "type": "scattermapbox"
        },
        {
         "hoverinfo": "none",
         "lat": [
          41.8807113144901,
          41.8807664217439,
          41.8813527189734,
          41.882010798301,
          41.8821357713869,
          41.8831722797599
         ],
         "line": {
          "color": "#00a8df",
          "width": 3
         },
         "lon": [
          -87.6293834498268,
          -87.6293852316108,
          -87.6294041930272,
          -87.6294254776119,
          -87.6294295190529,
          -87.6294458095462
         ],
         "mode": "lines",
         "type": "scattermapbox"
        },
        {
         "hoverinfo": "none",
         "lat": [
          41.880752412153,
          41.8832225604856,
          41.8848167226655
         ],
         "line": {
          "color": "#fb003d",
          "width": 3
         },
         "lon": [
          -87.6277022096758,
          -87.6277541159871,
          -87.6278191314659
         ],
         "mode": "lines",
         "type": "scattermapbox"
        },
        {
         "hoverinfo": "none",
         "lat": [
          41.9104170378312,
          41.910426813055,
          41.9104170655628,
          41.9104003131877,
          41.9103486854681,
          41.9102787481413,
          41.9102159052676,
          41.9101162968011,
          41.9099984536486,
          41.9098667435416,
          41.9097371766996,
          41.9095154585265,
          41.9087496608954,
          41.9075836255088,
          41.9060750335544,
          41.9054416338667,
          41.903819124548,
          41.9036852790716,
          41.9033455297849,
          41.9032274288245,
          41.9031235085168,
          41.9030022246928,
          41.9029327967558,
          41.9027996971806,
          41.9026608168325,
          41.9025568028386,
          41.9024587088451,
          41.9023577609388,
          41.9022167737782,
          41.9021189369576,
          41.9020298983635,
          41.9019091763009,
          41.9017800057815,
          41.9015645354076,
          41.9014352021068,
          41.9013201194996,
          41.9012021344282,
          41.9002950220989,
          41.900087037064,
          41.8997597247282,
          41.8989234376235,
          41.898673818554,
          41.8976175115402,
          41.8973843511219,
          41.8972631605178,
          41.8971561513242,
          41.8970866529721,
          41.8969938475375,
          41.8967820284628
         ],
         "line": {
          "color": "#7b4213",
          "width": 3
         },
         "lon": [
          -87.63930792093,
          -87.6381449572359,
          -87.6379816154385,
          -87.6378769837675,
          -87.6377172390555,
          -87.6375761914609,
          -87.6374658931055,
          -87.6373683259262,
          -87.637301785447,
          -87.6372743165564,
          -87.6372680162197,
          -87.6372550115345,
          -87.6372325046369,
          -87.6371873725126,
          -87.6371382571969,
          -87.6371143138691,
          -87.6370212741799,
          -87.637029361881,
          -87.63701378845,
          -87.6369996597646,
          -87.6369506990825,
          -87.636886515388,
          -87.6368294742657,
          -87.636715331023,
          -87.6365973969481,
          -87.6365330266035,
          -87.6364955626221,
          -87.6364619839182,
          -87.6364712228156,
          -87.6364761395642,
          -87.6365079321829,
          -87.6365362150828,
          -87.636595414065,
          -87.6366632554806,
          -87.63669548555,
          -87.6367044422005,
          -87.636709577507,
          -87.6366423798764,
          -87.6366450745487,
          -87.636627859766,
          -87.6365838797904,
          -87.6365707522372,
          -87.6365481960226,
          -87.6365468779835,
          -87.6364981113262,
          -87.6364145159394,
          -87.6363459221771,
          -87.6362313519738,
          -87.6359524103699
         ],
         "mode": "lines",
         "type": "scattermapbox"
        },
        {
         "hoverinfo": "none",
         "lat": [
          41.9104870378312,
          41.910496813055,
          41.9104870655628,
          41.9104703131877,
          41.9104186854681,
          41.9103487481413,
          41.9102859052676,
          41.9101862968011,
          41.9100684536486,
          41.9099367435416,
          41.9098071766996,
          41.9095854585265,
          41.908819660895404,
          41.9076536255088,
          41.9061450335544,
          41.9055116338667,
          41.903889124548,
          41.9037552790716,
          41.9034155297849,
          41.9032974288245,
          41.9031935085168,
          41.9030722246928,
          41.9030027967558,
          41.9028696971806,
          41.9027308168325,
          41.902626802838604,
          41.902528708845104,
          41.9024277609388,
          41.9022867737782,
          41.9021889369576,
          41.9020998983635,
          41.9019791763009,
          41.9018500057815,
          41.9016345354076,
          41.901505202106804,
          41.9013901194996,
          41.901272134428204,
          41.9003650220989,
          41.900157037064,
          41.8998297247282,
          41.8989934376235,
          41.898743818554,
          41.8976875115402,
          41.8974543511219,
          41.8973331605178,
          41.8972261513242,
          41.8971566529721,
          41.8970638475375,
          41.8968520284628
         ],
         "line": {
          "color": "#492f8a",
          "width": 3
         },
         "lon": [
          -87.63925792092999,
          -87.6380949572359,
          -87.6379316154385,
          -87.6378269837675,
          -87.6376672390555,
          -87.63752619146089,
          -87.6374158931055,
          -87.6373183259262,
          -87.63725178544699,
          -87.6372243165564,
          -87.6372180162197,
          -87.6372050115345,
          -87.6371825046369,
          -87.6371373725126,
          -87.6370882571969,
          -87.6370643138691,
          -87.6369712741799,
          -87.636979361881,
          -87.63696378845,
          -87.6369496597646,
          -87.6369006990825,
          -87.636836515388,
          -87.6367794742657,
          -87.636665331023,
          -87.6365473969481,
          -87.6364830266035,
          -87.6364455626221,
          -87.6364119839182,
          -87.6364212228156,
          -87.6364261395642,
          -87.63645793218289,
          -87.6364862150828,
          -87.636545414065,
          -87.6366132554806,
          -87.63664548555,
          -87.6366544422005,
          -87.636659577507,
          -87.6365923798764,
          -87.6365950745487,
          -87.63657785976599,
          -87.63653387979039,
          -87.6365207522372,
          -87.6364981960226,
          -87.6364968779835,
          -87.6364481113262,
          -87.6363645159394,
          -87.6362959221771,
          -87.6361813519738,
          -87.6359024103699
         ],
         "mode": "lines",
         "type": "scattermapbox"
        },
        {
         "hoverinfo": "none",
         "lat": [
          41.8831722797599,
          41.8853769661372,
          41.8854728282832,
          41.8855229518178,
          41.885578680455,
          41.8856409135796,
          41.885685522453,
          41.8857156732802,
          41.8857307953163,
          41.8857410966654,
          41.8857462583252,
          41.8857460142089,
          41.885745567667,
          41.8857453724799,
          41.8857448395519
         ],
         "line": {
          "color": "#00a8df",
          "width": 3
         },
         "lon": [
          -87.6294458095462,
          -87.6294713412234,
          -87.6294731493249,
          -87.6294763522677,
          -87.6294837480306,
          -87.6295304374328,
          -87.6295891604655,
          -87.6296660439967,
          -87.6297101143682,
          -87.6297585522456,
          -87.6298220409721,
          -87.6299274035705,
          -87.6301196952021,
          -87.6302042722754,
          -87.630891768284
         ],
         "mode": "lines",
         "type": "scattermapbox"
        },
        {
         "hoverinfo": "none",
         "lat": [
          41.8857482652165,
          41.8857466611448,
          41.8857463122051,
          41.8857441006914,
          41.8857408382589,
          41.8857303668879,
          41.8856972561699,
          41.8856661073419,
          41.8856256231321,
          41.8855778773776,
          41.8855292152635,
          41.8853505657988,
          41.8832278682829
         ],
         "line": {
          "color": "#7b4213",
          "width": 3
         },
         "lon": [
          -87.6278409353155,
          -87.6268356143564,
          -87.6266179499657,
          -87.6265601183195,
          -87.6265089840114,
          -87.6264264197676,
          -87.6263525897503,
          -87.6263080221859,
          -87.626273439818,
          -87.6262586959607,
          -87.6262605060626,
          -87.6262624759252,
          -87.6261945340447
         ],
         "mode": "lines",
         "type": "scattermapbox"
        },
        {
         "hoverinfo": "none",
         "lat": [
          41.8858182652165,
          41.8858166611448,
          41.8858163122051,
          41.8858141006914,
          41.8858108382589,
          41.8858003668879,
          41.8857672561699,
          41.8857361073419,
          41.8856956231321,
          41.8856478773776,
          41.885599215263504,
          41.8854205657988,
          41.8832978682829
         ],
         "line": {
          "color": "#00a447",
          "width": 3
         },
         "lon": [
          -87.6277909353155,
          -87.6267856143564,
          -87.6265679499657,
          -87.6265101183195,
          -87.62645898401139,
          -87.6263764197676,
          -87.6263025897503,
          -87.6262580221859,
          -87.62622343981799,
          -87.6262086959607,
          -87.62621050606259,
          -87.6262124759252,
          -87.6261445340447
         ],
         "mode": "lines",
         "type": "scattermapbox"
        },
        {
         "hoverinfo": "none",
         "lat": [
          41.8858882652165,
          41.8858866611448,
          41.8858863122051,
          41.8858841006914,
          41.8858808382589,
          41.8858703668879,
          41.8858372561699,
          41.8858061073419,
          41.8857656231321,
          41.8857178773776,
          41.885669215263505,
          41.885490565798804,
          41.8833678682829
         ],
         "line": {
          "color": "#fe9307",
          "width": 3
         },
         "lon": [
          -87.6277409353155,
          -87.62673561435639,
          -87.6265179499657,
          -87.6264601183195,
          -87.62640898401139,
          -87.6263264197676,
          -87.6262525897503,
          -87.62620802218589,
          -87.62617343981799,
          -87.6261586959607,
          -87.62616050606259,
          -87.6261624759252,
          -87.6260945340447
         ],
         "mode": "lines",
         "type": "scattermapbox"
        },
        {
         "hoverinfo": "none",
         "lat": [
          41.8859582652165,
          41.8859566611448,
          41.8859563122051,
          41.8859541006914,
          41.8859508382589,
          41.8859403668879,
          41.8859072561699,
          41.8858761073419,
          41.8858356231321,
          41.8857878773776,
          41.885739215263506,
          41.885560565798805,
          41.883437868282904
         ],
         "line": {
          "color": "#f68eb9",
          "width": 3
         },
         "lon": [
          -87.6276909353155,
          -87.62668561435639,
          -87.6264679499657,
          -87.6264101183195,
          -87.62635898401139,
          -87.62627641976759,
          -87.62620258975029,
          -87.62615802218589,
          -87.62612343981799,
          -87.6261086959607,
          -87.62611050606259,
          -87.6261124759252,
          -87.6260445340447
         ],
         "mode": "lines",
         "type": "scattermapbox"
        },
        {
         "hoverinfo": "none",
         "lat": [
          41.886028265216495,
          41.8860266611448,
          41.8860263122051,
          41.886024100691394,
          41.886020838258894,
          41.886010366887895,
          41.885977256169895,
          41.885946107341894,
          41.885905623132096,
          41.885857877377596,
          41.8858092152635,
          41.8856305657988,
          41.8835078682829
         ],
         "line": {
          "color": "#492f8a",
          "width": 3
         },
         "lon": [
          -87.6276409353155,
          -87.62663561435639,
          -87.6264179499657,
          -87.6263601183195,
          -87.62630898401139,
          -87.62622641976759,
          -87.62615258975029,
          -87.62610802218589,
          -87.62607343981799,
          -87.6260586959607,
          -87.62606050606259,
          -87.6260624759252,
          -87.6259945340447
         ],
         "mode": "lines",
         "type": "scattermapbox"
        },
        {
         "hoverinfo": "none",
         "lat": [
          41.7353790410194,
          41.7361427143393,
          41.7394912367867,
          41.7430376203909,
          41.7446072887257,
          41.7504201752088
         ],
         "line": {
          "color": "#fb003d",
          "width": 3
         },
         "lon": [
          -87.6247588078634,
          -87.6247896187955,
          -87.6248285634721,
          -87.624972734292,
          -87.6250037860022,
          -87.6251840900823
         ],
         "mode": "lines",
         "type": "scattermapbox"
        },
        {
         "hoverinfo": "none",
         "lat": [
          41.7223838118166,
          41.7280091675602,
          41.7290525611213,
          41.7321252856815,
          41.7344909136583,
          41.7353790410194
         ],
         "line": {
          "color": "#fb003d",
          "width": 3
         },
         "lon": [
          -87.6244204786409,
          -87.6245494382768,
          -87.6245898176287,
          -87.6246399988014,
          -87.6247274999549,
          -87.6247588078634
         ],
         "mode": "lines",
         "type": "scattermapbox"
        },
        {
         "hoverinfo": "none",
         "lat": [
          41.8218230407767,
          41.8217986155996,
          41.8217755181574,
          41.8217635641986,
          41.8217745845468,
          41.8217943477889,
          41.8218405288289,
          41.8219177544969,
          41.8219944296442,
          41.8220590191491,
          41.8221554624721,
          41.822469236982,
          41.8247943582921,
          41.8278566613259,
          41.8309833676811,
          41.8316858681808
         ],
         "line": {
          "color": "#00a447",
          "width": 3
         },
         "lon": [
          -87.6214685536977,
          -87.6235443261274,
          -87.6244331072914,
          -87.6248122163855,
          -87.6250541309841,
          -87.625168561513,
          -87.6253177323277,
          -87.6254793009578,
          -87.6255517040335,
          -87.6255955787656,
          -87.6256414138604,
          -87.6256738641703,
          -87.6257155408188,
          -87.6257886009156,
          -87.6258722462793,
          -87.6258872175477
         ],
         "mode": "lines",
         "type": "scattermapbox"
        },
        {
         "hoverinfo": "none",
         "lat": [
          41.8092166773954,
          41.8106033359596,
          41.8127082953582,
          41.8147609885876,
          41.8164710670136
         ],
         "line": {
          "color": "#00a447",
          "width": 3
         },
         "lon": [
          -87.61883186836,
          -87.6188639768287,
          -87.6189261185414,
          -87.6189844897902,
          -87.6190415221625
         ],
         "mode": "lines",
         "type": "scattermapbox"
        },
        {
         "hoverinfo": "none",
         "lat": [
          41.8316858681808,
          41.8349495604592,
          41.8372256459011,
          41.8382874324182,
          41.84116327903,
          41.8418751909226,
          41.8427080000909,
          41.8443308131189,
          41.8471061737297,
          41.8474779426727,
          41.8479875986284,
          41.8495594330747,
          41.8502513054448,
          41.8531229334703
         ],
         "line": {
          "color": "#00a447",
          "width": 3
         },
         "lon": [
          -87.6258872175477,
          -87.6259330279001,
          -87.6259877635283,
          -87.6260072234867,
          -87.6261201970997,
          -87.6261304122744,
          -87.6261528731384,
          -87.6261577610772,
          -87.626235810323,
          -87.6262603905392,
          -87.6262712293624,
          -87.626329863931,
          -87.6263445481136,
          -87.6264081313519
         ],
         "mode": "lines",
         "type": "scattermapbox"
        },
        {
         "hoverinfo": "none",
         "lat": [
          41.8832278682829,
          41.8820387531077,
          41.8795180733519
         ],
         "line": {
          "color": "#7b4213",
          "width": 3
         },
         "lon": [
          -87.6261945340447,
          -87.626161920254,
          -87.6261036489066
         ],
         "mode": "lines",
         "type": "scattermapbox"
        },
        {
         "hoverinfo": "none",
         "lat": [
          41.8832978682829,
          41.8821087531077,
          41.879588073351904
         ],
         "line": {
          "color": "#00a447",
          "width": 3
         },
         "lon": [
          -87.6261445340447,
          -87.626111920254,
          -87.62605364890659
         ],
         "mode": "lines",
         "type": "scattermapbox"
        },
        {
         "hoverinfo": "none",
         "lat": [
          41.8833678682829,
          41.8821787531077,
          41.879658073351905
         ],
         "line": {
          "color": "#fe9307",
          "width": 3
         },
         "lon": [
          -87.6260945340447,
          -87.626061920254,
          -87.62600364890659
         ],
         "mode": "lines",
         "type": "scattermapbox"
        },
        {
         "hoverinfo": "none",
         "lat": [
          41.883437868282904,
          41.8822487531077,
          41.879728073351906
         ],
         "line": {
          "color": "#f68eb9",
          "width": 3
         },
         "lon": [
          -87.6260445340447,
          -87.626011920254,
          -87.62595364890659
         ],
         "mode": "lines",
         "type": "scattermapbox"
        },
        {
         "hoverinfo": "none",
         "lat": [
          41.8835078682829,
          41.8823187531077,
          41.8797980733519
         ],
         "line": {
          "color": "#492f8a",
          "width": 3
         },
         "lon": [
          -87.6259945340447,
          -87.625961920254,
          -87.62590364890659
         ],
         "mode": "lines",
         "type": "scattermapbox"
        },
        {
         "hoverinfo": "none",
         "lat": [
          41.8795180733519,
          41.8783148133867,
          41.8767114751458
         ],
         "line": {
          "color": "#7b4213",
          "width": 3
         },
         "lon": [
          -87.6261036489066,
          -87.6260595416769,
          -87.6260357842179
         ],
         "mode": "lines",
         "type": "scattermapbox"
        },
        {
         "hoverinfo": "none",
         "lat": [
          41.879588073351904,
          41.8783848133867,
          41.8767814751458
         ],
         "line": {
          "color": "#00a447",
          "width": 3
         },
         "lon": [
          -87.62605364890659,
          -87.6260095416769,
          -87.6259857842179
         ],
         "mode": "lines",
         "type": "scattermapbox"
        },
        {
         "hoverinfo": "none",
         "lat": [
          41.879658073351905,
          41.8784548133867,
          41.8768514751458
         ],
         "line": {
          "color": "#fe9307",
          "width": 3
         },
         "lon": [
          -87.62600364890659,
          -87.62595954167689,
          -87.6259357842179
         ],
         "mode": "lines",
         "type": "scattermapbox"
        },
        {
         "hoverinfo": "none",
         "lat": [
          41.879728073351906,
          41.878524813386704,
          41.8769214751458
         ],
         "line": {
          "color": "#f68eb9",
          "width": 3
         },
         "lon": [
          -87.62595364890659,
          -87.62590954167689,
          -87.6258857842179
         ],
         "mode": "lines",
         "type": "scattermapbox"
        },
        {
         "hoverinfo": "none",
         "lat": [
          41.8797980733519,
          41.8785948133867,
          41.87699147514579
         ],
         "line": {
          "color": "#492f8a",
          "width": 3
         },
         "lon": [
          -87.62590364890659,
          -87.62585954167689,
          -87.6258357842179
         ],
         "mode": "lines",
         "type": "scattermapbox"
        },
        {
         "lat": [
          41.8781,
          41.93024,
          41.9662,
          41.94371,
          41.88574,
          41.8795,
          41.88705,
          41.88571,
          41.82959,
          41.85386,
          41.88558,
          41.93294,
          41.87557,
          41.98244,
          41.97063,
          41.87562,
          41.98429,
          41.98384,
          41.97729,
          41.87395,
          41.90336,
          41.87089,
          42.01588,
          41.88618,
          41.96914,
          41.96427,
          41.91709,
          41.8479,
          41.80112,
          41.75042,
          41.85764,
          41.80468,
          42.06399,
          42.03346,
          41.88572,
          41.93922,
          41.98429,
          41.97699,
          41.92505,
          41.95451,
          41.78493,
          41.83168,
          41.88516,
          41.87161,
          41.87818,
          41.90336,
          41.95257,
          41.87578,
          41.92505,
          41.94743,
          41.85323,
          41.9835,
          41.7561,
          41.82127,
          41.80928,
          41.88074,
          41.85272,
          41.88558,
          41.88571,
          41.88716,
          41.87332,
          41.84149,
          41.87872,
          41.80435,
          42.01906
         ],
         "lon": [
          -87.63372,
          -87.65302,
          -87.69646,
          -87.67091,
          -87.6305,
          -87.6261,
          -87.75332,
          -87.63799,
          -87.62583,
          -87.72431,
          -87.65219,
          -87.71221,
          -87.63913,
          -87.7851,
          -87.76089,
          -87.62961,
          -87.83803,
          -87.84917,
          -87.88769,
          -87.72158,
          -87.6665,
          -87.77681,
          -87.66909,
          -87.62784,
          -87.65849,
          -87.65759,
          -87.65261,
          -87.63094,
          -87.63133,
          -87.62518,
          -87.63066,
          -87.68402,
          -87.68562,
          -87.67954,
          -87.63457,
          -87.71239,
          -87.83803,
          -87.77432,
          -87.65287,
          -87.67496,
          -87.63203,
          -87.62588,
          -87.72096,
          -87.74515,
          -87.6293,
          -87.6665,
          -87.72852,
          -87.66636,
          -87.65287,
          -87.65363,
          -87.63098,
          -87.65884,
          -87.62553,
          -87.6304,
          -87.63159,
          -87.6277,
          -87.73648,
          -87.65219,
          -87.63633,
          -87.75499,
          -87.62679,
          -87.66085,
          -87.63374,
          -87.70441,
          -87.67289
         ],
         "marker": {
          "color": "white",
          "size": 11,
          "symbol": "circle"
         },
         "mode": "markers",
         "type": "scattermapbox"
        },
        {
         "hovertemplate": "<b>%{text[0]} %{text[1]} %{text[2]}</b><br>%{text[3]} %{text[4]} %{text[5]} %{text[6]} %{text[7]} %{text[8]}",
         "lat": [
          41.8781,
          41.93024,
          41.9662,
          41.94371,
          41.88574,
          41.8795,
          41.88705,
          41.88571,
          41.82959,
          41.85386,
          41.88558,
          41.93294,
          41.87557,
          41.98244,
          41.97063,
          41.87562,
          41.98429,
          41.98384,
          41.97729,
          41.87395,
          41.90336,
          41.87089,
          42.01588,
          41.88618,
          41.96914,
          41.96427,
          41.91709,
          41.8479,
          41.80112,
          41.75042,
          41.85764,
          41.80468,
          42.06399,
          42.03346,
          41.88572,
          41.93922,
          41.98429,
          41.97699,
          41.92505,
          41.95451,
          41.78493,
          41.83168,
          41.88516,
          41.87161,
          41.87818,
          41.90336,
          41.95257,
          41.87578,
          41.92505,
          41.94743,
          41.85323,
          41.9835,
          41.7561,
          41.82127,
          41.80928,
          41.88074,
          41.85272,
          41.88558,
          41.88571,
          41.88716,
          41.87332,
          41.84149,
          41.87872,
          41.80435,
          42.01906
         ],
         "lon": [
          -87.63372,
          -87.65302,
          -87.69646,
          -87.67091,
          -87.6305,
          -87.6261,
          -87.75332,
          -87.63799,
          -87.62583,
          -87.72431,
          -87.65219,
          -87.71221,
          -87.63913,
          -87.7851,
          -87.76089,
          -87.62961,
          -87.83803,
          -87.84917,
          -87.88769,
          -87.72158,
          -87.6665,
          -87.77681,
          -87.66909,
          -87.62784,
          -87.65849,
          -87.65759,
          -87.65261,
          -87.63094,
          -87.63133,
          -87.62518,
          -87.63066,
          -87.68402,
          -87.68562,
          -87.67954,
          -87.63457,
          -87.71239,
          -87.83803,
          -87.77432,
          -87.65287,
          -87.67496,
          -87.63203,
          -87.62588,
          -87.72096,
          -87.74515,
          -87.6293,
          -87.6665,
          -87.72852,
          -87.66636,
          -87.65287,
          -87.65363,
          -87.63098,
          -87.65884,
          -87.62553,
          -87.6304,
          -87.63159,
          -87.6277,
          -87.73648,
          -87.65219,
          -87.63633,
          -87.75499,
          -87.62679,
          -87.66085,
          -87.63374,
          -87.70441,
          -87.67289
         ],
         "marker": {
          "color": [
           "#7b4213",
           "#7b4213",
           "#7b4213",
           "#7b4213",
           "#7b4213",
           "#00a447",
           "#00a447",
           "#00a447",
           "#00a447",
           "#f68eb9",
           "#f68eb9",
           "#00a8df",
           "#00a8df",
           "#00a8df",
           "#00a8df",
           "#00a8df",
           "#00a8df",
           "#00a8df",
           "#00a8df",
           "#00a8df",
           "#00a8df",
           "#00a8df",
           "#fb003d",
           "#fb003d",
           "#fb003d",
           "#fb003d",
           "#fb003d",
           "#fb003d",
           "#fb003d",
           "#fb003d",
           "#fe9307",
           "#fe9307",
           "#492f8a",
           "#492f8a",
           "#00a8df",
           "#00a8df",
           "#00a8df",
           "#00a8df",
           "#7b4213",
           "#7b4213",
           "#00a447",
           "#00a447",
           "#00a447",
           "#00a8df",
           "#00a8df",
           "#00a8df",
           "#00a8df",
           "#00a8df",
           "#fb003d",
           "#fb003d",
           "#fb003d",
           "#fb003d",
           "#fb003d",
           "#fb003d",
           "#fb003d",
           "#fb003d",
           "#f68eb9",
           "#f68eb9",
           "#00a447",
           "#00a447",
           "#fe9307",
           "#fe9307",
           "#fe9307",
           "#fe9307",
           "#492f8a"
          ],
          "size": 10,
          "symbol": "circle"
         },
         "mode": "markers",
         "text": [
          [
           "400",
           "Towards:",
           "Kimball",
           "Arriving",
           "at",
           "LaSalle/Van",
           "Buren",
           "in",
           "1",
           "min"
          ],
          [
           "401",
           "Towards:",
           "Kimball",
           "Arriving",
           "at",
           "Diversey",
           "in",
           "1",
           "min"
          ],
          [
           "406",
           "Towards:",
           "Kimball",
           "Arriving",
           "at",
           "Francisco",
           "in",
           "1",
           "min"
          ],
          [
           "407",
           "Towards:",
           "Kimball",
           "Arriving",
           "at",
           "Addison",
           "in",
           "2",
           "min"
          ],
          [
           "413",
           "Towards:",
           "Kimball",
           "Arriving",
           "at",
           "Clark/Lake",
           "in",
           "1",
           "min"
          ],
          [
           "11",
           "Towards:",
           "Harlem/Lake",
           "Arriving",
           "at",
           "Washington/Wabash",
           "in",
           "1",
           "min"
          ],
          [
           "607",
           "Towards:",
           "Harlem/Lake",
           "Arriving",
           "at",
           "Laramie",
           "in",
           "1",
           "min"
          ],
          [
           "612",
           "Towards:",
           "Harlem/Lake",
           "Arriving",
           "at",
           "Clinton",
           "in",
           "1",
           "min"
          ],
          [
           "613",
           "Towards:",
           "Harlem/Lake",
           "Arriving",
           "at",
           "35th-Bronzeville-IIT",
           "in",
           "1",
           "min"
          ],
          [
           "307",
           "Towards:",
           "Loop",
           "Arriving",
           "at",
           "Central",
           "Park",
           "in",
           "1",
           "min"
          ],
          [
           "312",
           "Towards:",
           "54th/Cermak",
           "Arriving",
           "at",
           "Ashland",
           "in",
           "1",
           "min"
          ],
          [
           "104",
           "Towards:",
           "O'Hare",
           "Arriving",
           "at",
           "Belmont",
           "in",
           "1",
           "min"
          ],
          [
           "111",
           "Towards:",
           "O'Hare",
           "Arriving",
           "at",
           "LaSalle",
           "in",
           "1",
           "min"
          ],
          [
           "113",
           "Towards:",
           "O'Hare",
           "Arriving",
           "at",
           "Harlem",
           "(O'Hare",
           "Branch)",
           "in",
           "1",
           "min"
          ],
          [
           "119",
           "Towards:",
           "O'Hare",
           "Arriving",
           "at",
           "Jefferson",
           "Park",
           "in",
           "1",
           "min"
          ],
          [
           "120",
           "Towards:",
           "O'Hare",
           "Arriving",
           "at",
           "Jackson",
           "in",
           "1",
           "min"
          ],
          [
           "207",
           "Towards:",
           "O'Hare",
           "Arriving",
           "at",
           "Cumberland",
           "in",
           "2",
           "min"
          ],
          [
           "208",
           "Towards:",
           "O'Hare",
           "Arriving",
           "at",
           "Rosemont",
           "in",
           "1",
           "min"
          ],
          [
           "211",
           "Towards:",
           "O'Hare",
           "Arriving",
           "at",
           "O'Hare",
           "in",
           "2",
           "min"
          ],
          [
           "212",
           "Towards:",
           "O'Hare",
           "Arriving",
           "at",
           "Kedzie-Homan",
           "in",
           "1",
           "min"
          ],
          [
           "213",
           "Towards:",
           "O'Hare",
           "Arriving",
           "at",
           "Damen",
           "in",
           "2",
           "min"
          ],
          [
           "216",
           "Towards:",
           "O'Hare",
           "Arriving",
           "at",
           "Cicero",
           "in",
           "5",
           "min"
          ],
          [
           "805",
           "Towards:",
           "Howard",
           "Arriving",
           "at",
           "Howard",
           "in",
           "2",
           "min"
          ],
          [
           "806",
           "Towards:",
           "Howard",
           "Arriving",
           "at",
           "Grand",
           "in",
           "1",
           "min"
          ],
          [
           "812",
           "Towards:",
           "Howard",
           "Arriving",
           "at",
           "Argyle",
           "in",
           "1",
           "min"
          ],
          [
           "823",
           "Towards:",
           "Howard",
           "Arriving",
           "at",
           "Wilson",
           "in",
           "2",
           "min"
          ],
          [
           "906",
           "Towards:",
           "Howard",
           "Arriving",
           "at",
           "Fullerton",
           "in",
           "2",
           "min"
          ],
          [
           "914",
           "Towards:",
           "Howard",
           "Arriving",
           "at",
           "Cermak-Chinatown",
           "in",
           "1",
           "min"
          ],
          [
           "916",
           "Towards:",
           "Howard",
           "Arriving",
           "at",
           "47th",
           "in",
           "1",
           "min"
          ],
          [
           "917",
           "Towards:",
           "Howard",
           "Arriving",
           "at",
           "69th",
           "in",
           "2",
           "min"
          ],
          [
           "707",
           "Towards:",
           "Loop",
           "Arriving",
           "at",
           "Roosevelt",
           "in",
           "3",
           "min"
          ],
          [
           "714",
           "Towards:",
           "Loop",
           "Arriving",
           "at",
           "35th/Archer",
           "in",
           "4",
           "min"
          ],
          [
           "512",
           "Towards:",
           "Linden",
           "Arriving",
           "at",
           "Linden",
           "in",
           "2",
           "min"
          ],
          [
           "515",
           "Towards:",
           "Linden",
           "Arriving",
           "at",
           "Dempster",
           "in",
           "1",
           "min"
          ],
          [
           "107",
           "Towards:",
           "UIC-Halsted",
           "Arriving",
           "at",
           "Clark/Lake",
           "in",
           "1",
           "min"
          ],
          [
           "109",
           "Towards:",
           "UIC-Halsted",
           "Arriving",
           "at",
           "Belmont",
           "in",
           "1",
           "min"
          ],
          [
           "117",
           "Towards:",
           "UIC-Halsted",
           "Arriving",
           "at",
           "Cumberland",
           "in",
           "1",
           "min"
          ],
          [
           "215",
           "Towards:",
           "UIC-Halsted",
           "Arriving",
           "at",
           "Jefferson",
           "Park",
           "in",
           "2",
           "min"
          ],
          [
           "402",
           "Towards:",
           "Loop",
           "Arriving",
           "at",
           "Armitage",
           "in",
           "2",
           "min"
          ],
          [
           "409",
           "Towards:",
           "Loop",
           "Arriving",
           "at",
           "Addison",
           "in",
           "1",
           "min"
          ],
          [
           "8",
           "Towards:",
           "Ashland/63rd",
           "Arriving",
           "at",
           "Halsted",
           "in",
           "2",
           "min"
          ],
          [
           "10",
           "Towards:",
           "Ashland/63rd",
           "Arriving",
           "at",
           "35th-Bronzeville-IIT",
           "in",
           "3",
           "min"
          ],
          [
           "13",
           "Towards:",
           "Ashland/63rd",
           "Arriving",
           "at",
           "Conservatory-Central",
           "Park",
           "Drive",
           "in",
           "1",
           "min"
          ],
          [
           "110",
           "Towards:",
           "Forest",
           "Park",
           "Arriving",
           "at",
           "Austin",
           "in",
           "5",
           "min"
          ],
          [
           "114",
           "Towards:",
           "Forest",
           "Park",
           "Arriving",
           "at",
           "Clinton",
           "in",
           "2",
           "min"
          ],
          [
           "205",
           "Towards:",
           "Forest",
           "Park",
           "Arriving",
           "at",
           "Chicago",
           "in",
           "2",
           "min"
          ],
          [
           "206",
           "Towards:",
           "Forest",
           "Park",
           "Arriving",
           "at",
           "Addison",
           "in",
           "1",
           "min"
          ],
          [
           "214",
           "Towards:",
           "Forest",
           "Park",
           "Arriving",
           "at",
           "Illinois",
           "Medical",
           "District",
           "in",
           "1",
           "min"
          ],
          [
           "808",
           "Towards:",
           "95th/Dan",
           "Ryan",
           "Arriving",
           "at",
           "North/Clybourn",
           "in",
           "2",
           "min"
          ],
          [
           "809",
           "Towards:",
           "95th/Dan",
           "Ryan",
           "Arriving",
           "at",
           "Belmont",
           "in",
           "2",
           "min"
          ],
          [
           "818",
           "Towards:",
           "95th/Dan",
           "Ryan",
           "Arriving",
           "at",
           "Sox-35th",
           "in",
           "3",
           "min"
          ],
          [
           "819",
           "Towards:",
           "95th/Dan",
           "Ryan",
           "Arriving",
           "at",
           "Bryn",
           "Mawr",
           "in",
           "1",
           "min"
          ],
          [
           "903",
           "Towards:",
           "95th/Dan",
           "Ryan",
           "Arriving",
           "at",
           "79th",
           "in",
           "1",
           "min"
          ],
          [
           "904",
           "Towards:",
           "95th/Dan",
           "Ryan",
           "Arriving",
           "at",
           "47th",
           "in",
           "1",
           "min"
          ],
          [
           "909",
           "Towards:",
           "95th/Dan",
           "Ryan",
           "Arriving",
           "at",
           "Garfield",
           "in",
           "2",
           "min"
          ],
          [
           "915",
           "Towards:",
           "95th/Dan",
           "Ryan",
           "Arriving",
           "at",
           "Jackson",
           "in",
           "1",
           "min"
          ],
          [
           "305",
           "Towards:",
           "54th/Cermak",
           "Arriving",
           "at",
           "Cicero",
           "in",
           "1",
           "min"
          ],
          [
           "310",
           "Towards:",
           "Loop",
           "Arriving",
           "at",
           "Clinton",
           "in",
           "1",
           "min"
          ],
          [
           "12",
           "Towards:",
           "Cottage",
           "Grove",
           "Arriving",
           "at",
           "Clark/Lake",
           "in",
           "1",
           "min"
          ],
          [
           "14",
           "Towards:",
           "Cottage",
           "Grove",
           "Arriving",
           "at",
           "Cicero",
           "in",
           "1",
           "min"
          ],
          [
           "706",
           "Towards:",
           "Midway",
           "Arriving",
           "at",
           "Roosevelt",
           "in",
           "2",
           "min"
          ],
          [
           "708",
           "Towards:",
           "Midway",
           "Arriving",
           "at",
           "Ashland",
           "in",
           "1",
           "min"
          ],
          [
           "711",
           "Towards:",
           "Midway",
           "Arriving",
           "at",
           "Washington/Wells",
           "in",
           "1",
           "min"
          ],
          [
           "713",
           "Towards:",
           "Midway",
           "Arriving",
           "at",
           "Pulaski",
           "in",
           "2",
           "min"
          ],
          [
           "510",
           "Towards:",
           "See",
           "train",
           "Arriving",
           "at",
           "Wilson",
           "in",
           "12",
           "min"
          ]
         ],
         "type": "scattermapbox"
        }
       ],
       "layout": {
        "height": 800,
        "mapbox": {
         "center": {
          "lat": 41.894,
          "lon": -87.72
         },
         "style": "carto-darkmatter",
         "zoom": 9.85
        },
        "showlegend": false,
        "template": {
         "data": {
          "bar": [
           {
            "error_x": {
             "color": "#2a3f5f"
            },
            "error_y": {
             "color": "#2a3f5f"
            },
            "marker": {
             "line": {
              "color": "#E5ECF6",
              "width": 0.5
             },
             "pattern": {
              "fillmode": "overlay",
              "size": 10,
              "solidity": 0.2
             }
            },
            "type": "bar"
           }
          ],
          "barpolar": [
           {
            "marker": {
             "line": {
              "color": "#E5ECF6",
              "width": 0.5
             },
             "pattern": {
              "fillmode": "overlay",
              "size": 10,
              "solidity": 0.2
             }
            },
            "type": "barpolar"
           }
          ],
          "carpet": [
           {
            "aaxis": {
             "endlinecolor": "#2a3f5f",
             "gridcolor": "white",
             "linecolor": "white",
             "minorgridcolor": "white",
             "startlinecolor": "#2a3f5f"
            },
            "baxis": {
             "endlinecolor": "#2a3f5f",
             "gridcolor": "white",
             "linecolor": "white",
             "minorgridcolor": "white",
             "startlinecolor": "#2a3f5f"
            },
            "type": "carpet"
           }
          ],
          "choropleth": [
           {
            "colorbar": {
             "outlinewidth": 0,
             "ticks": ""
            },
            "type": "choropleth"
           }
          ],
          "contour": [
           {
            "colorbar": {
             "outlinewidth": 0,
             "ticks": ""
            },
            "colorscale": [
             [
              0,
              "#0d0887"
             ],
             [
              0.1111111111111111,
              "#46039f"
             ],
             [
              0.2222222222222222,
              "#7201a8"
             ],
             [
              0.3333333333333333,
              "#9c179e"
             ],
             [
              0.4444444444444444,
              "#bd3786"
             ],
             [
              0.5555555555555556,
              "#d8576b"
             ],
             [
              0.6666666666666666,
              "#ed7953"
             ],
             [
              0.7777777777777778,
              "#fb9f3a"
             ],
             [
              0.8888888888888888,
              "#fdca26"
             ],
             [
              1,
              "#f0f921"
             ]
            ],
            "type": "contour"
           }
          ],
          "contourcarpet": [
           {
            "colorbar": {
             "outlinewidth": 0,
             "ticks": ""
            },
            "type": "contourcarpet"
           }
          ],
          "heatmap": [
           {
            "colorbar": {
             "outlinewidth": 0,
             "ticks": ""
            },
            "colorscale": [
             [
              0,
              "#0d0887"
             ],
             [
              0.1111111111111111,
              "#46039f"
             ],
             [
              0.2222222222222222,
              "#7201a8"
             ],
             [
              0.3333333333333333,
              "#9c179e"
             ],
             [
              0.4444444444444444,
              "#bd3786"
             ],
             [
              0.5555555555555556,
              "#d8576b"
             ],
             [
              0.6666666666666666,
              "#ed7953"
             ],
             [
              0.7777777777777778,
              "#fb9f3a"
             ],
             [
              0.8888888888888888,
              "#fdca26"
             ],
             [
              1,
              "#f0f921"
             ]
            ],
            "type": "heatmap"
           }
          ],
          "heatmapgl": [
           {
            "colorbar": {
             "outlinewidth": 0,
             "ticks": ""
            },
            "colorscale": [
             [
              0,
              "#0d0887"
             ],
             [
              0.1111111111111111,
              "#46039f"
             ],
             [
              0.2222222222222222,
              "#7201a8"
             ],
             [
              0.3333333333333333,
              "#9c179e"
             ],
             [
              0.4444444444444444,
              "#bd3786"
             ],
             [
              0.5555555555555556,
              "#d8576b"
             ],
             [
              0.6666666666666666,
              "#ed7953"
             ],
             [
              0.7777777777777778,
              "#fb9f3a"
             ],
             [
              0.8888888888888888,
              "#fdca26"
             ],
             [
              1,
              "#f0f921"
             ]
            ],
            "type": "heatmapgl"
           }
          ],
          "histogram": [
           {
            "marker": {
             "pattern": {
              "fillmode": "overlay",
              "size": 10,
              "solidity": 0.2
             }
            },
            "type": "histogram"
           }
          ],
          "histogram2d": [
           {
            "colorbar": {
             "outlinewidth": 0,
             "ticks": ""
            },
            "colorscale": [
             [
              0,
              "#0d0887"
             ],
             [
              0.1111111111111111,
              "#46039f"
             ],
             [
              0.2222222222222222,
              "#7201a8"
             ],
             [
              0.3333333333333333,
              "#9c179e"
             ],
             [
              0.4444444444444444,
              "#bd3786"
             ],
             [
              0.5555555555555556,
              "#d8576b"
             ],
             [
              0.6666666666666666,
              "#ed7953"
             ],
             [
              0.7777777777777778,
              "#fb9f3a"
             ],
             [
              0.8888888888888888,
              "#fdca26"
             ],
             [
              1,
              "#f0f921"
             ]
            ],
            "type": "histogram2d"
           }
          ],
          "histogram2dcontour": [
           {
            "colorbar": {
             "outlinewidth": 0,
             "ticks": ""
            },
            "colorscale": [
             [
              0,
              "#0d0887"
             ],
             [
              0.1111111111111111,
              "#46039f"
             ],
             [
              0.2222222222222222,
              "#7201a8"
             ],
             [
              0.3333333333333333,
              "#9c179e"
             ],
             [
              0.4444444444444444,
              "#bd3786"
             ],
             [
              0.5555555555555556,
              "#d8576b"
             ],
             [
              0.6666666666666666,
              "#ed7953"
             ],
             [
              0.7777777777777778,
              "#fb9f3a"
             ],
             [
              0.8888888888888888,
              "#fdca26"
             ],
             [
              1,
              "#f0f921"
             ]
            ],
            "type": "histogram2dcontour"
           }
          ],
          "mesh3d": [
           {
            "colorbar": {
             "outlinewidth": 0,
             "ticks": ""
            },
            "type": "mesh3d"
           }
          ],
          "parcoords": [
           {
            "line": {
             "colorbar": {
              "outlinewidth": 0,
              "ticks": ""
             }
            },
            "type": "parcoords"
           }
          ],
          "pie": [
           {
            "automargin": true,
            "type": "pie"
           }
          ],
          "scatter": [
           {
            "fillpattern": {
             "fillmode": "overlay",
             "size": 10,
             "solidity": 0.2
            },
            "type": "scatter"
           }
          ],
          "scatter3d": [
           {
            "line": {
             "colorbar": {
              "outlinewidth": 0,
              "ticks": ""
             }
            },
            "marker": {
             "colorbar": {
              "outlinewidth": 0,
              "ticks": ""
             }
            },
            "type": "scatter3d"
           }
          ],
          "scattercarpet": [
           {
            "marker": {
             "colorbar": {
              "outlinewidth": 0,
              "ticks": ""
             }
            },
            "type": "scattercarpet"
           }
          ],
          "scattergeo": [
           {
            "marker": {
             "colorbar": {
              "outlinewidth": 0,
              "ticks": ""
             }
            },
            "type": "scattergeo"
           }
          ],
          "scattergl": [
           {
            "marker": {
             "colorbar": {
              "outlinewidth": 0,
              "ticks": ""
             }
            },
            "type": "scattergl"
           }
          ],
          "scattermapbox": [
           {
            "marker": {
             "colorbar": {
              "outlinewidth": 0,
              "ticks": ""
             }
            },
            "type": "scattermapbox"
           }
          ],
          "scatterpolar": [
           {
            "marker": {
             "colorbar": {
              "outlinewidth": 0,
              "ticks": ""
             }
            },
            "type": "scatterpolar"
           }
          ],
          "scatterpolargl": [
           {
            "marker": {
             "colorbar": {
              "outlinewidth": 0,
              "ticks": ""
             }
            },
            "type": "scatterpolargl"
           }
          ],
          "scatterternary": [
           {
            "marker": {
             "colorbar": {
              "outlinewidth": 0,
              "ticks": ""
             }
            },
            "type": "scatterternary"
           }
          ],
          "surface": [
           {
            "colorbar": {
             "outlinewidth": 0,
             "ticks": ""
            },
            "colorscale": [
             [
              0,
              "#0d0887"
             ],
             [
              0.1111111111111111,
              "#46039f"
             ],
             [
              0.2222222222222222,
              "#7201a8"
             ],
             [
              0.3333333333333333,
              "#9c179e"
             ],
             [
              0.4444444444444444,
              "#bd3786"
             ],
             [
              0.5555555555555556,
              "#d8576b"
             ],
             [
              0.6666666666666666,
              "#ed7953"
             ],
             [
              0.7777777777777778,
              "#fb9f3a"
             ],
             [
              0.8888888888888888,
              "#fdca26"
             ],
             [
              1,
              "#f0f921"
             ]
            ],
            "type": "surface"
           }
          ],
          "table": [
           {
            "cells": {
             "fill": {
              "color": "#EBF0F8"
             },
             "line": {
              "color": "white"
             }
            },
            "header": {
             "fill": {
              "color": "#C8D4E3"
             },
             "line": {
              "color": "white"
             }
            },
            "type": "table"
           }
          ]
         },
         "layout": {
          "annotationdefaults": {
           "arrowcolor": "#2a3f5f",
           "arrowhead": 0,
           "arrowwidth": 1
          },
          "autotypenumbers": "strict",
          "coloraxis": {
           "colorbar": {
            "outlinewidth": 0,
            "ticks": ""
           }
          },
          "colorscale": {
           "diverging": [
            [
             0,
             "#8e0152"
            ],
            [
             0.1,
             "#c51b7d"
            ],
            [
             0.2,
             "#de77ae"
            ],
            [
             0.3,
             "#f1b6da"
            ],
            [
             0.4,
             "#fde0ef"
            ],
            [
             0.5,
             "#f7f7f7"
            ],
            [
             0.6,
             "#e6f5d0"
            ],
            [
             0.7,
             "#b8e186"
            ],
            [
             0.8,
             "#7fbc41"
            ],
            [
             0.9,
             "#4d9221"
            ],
            [
             1,
             "#276419"
            ]
           ],
           "sequential": [
            [
             0,
             "#0d0887"
            ],
            [
             0.1111111111111111,
             "#46039f"
            ],
            [
             0.2222222222222222,
             "#7201a8"
            ],
            [
             0.3333333333333333,
             "#9c179e"
            ],
            [
             0.4444444444444444,
             "#bd3786"
            ],
            [
             0.5555555555555556,
             "#d8576b"
            ],
            [
             0.6666666666666666,
             "#ed7953"
            ],
            [
             0.7777777777777778,
             "#fb9f3a"
            ],
            [
             0.8888888888888888,
             "#fdca26"
            ],
            [
             1,
             "#f0f921"
            ]
           ],
           "sequentialminus": [
            [
             0,
             "#0d0887"
            ],
            [
             0.1111111111111111,
             "#46039f"
            ],
            [
             0.2222222222222222,
             "#7201a8"
            ],
            [
             0.3333333333333333,
             "#9c179e"
            ],
            [
             0.4444444444444444,
             "#bd3786"
            ],
            [
             0.5555555555555556,
             "#d8576b"
            ],
            [
             0.6666666666666666,
             "#ed7953"
            ],
            [
             0.7777777777777778,
             "#fb9f3a"
            ],
            [
             0.8888888888888888,
             "#fdca26"
            ],
            [
             1,
             "#f0f921"
            ]
           ]
          },
          "colorway": [
           "#636efa",
           "#EF553B",
           "#00cc96",
           "#ab63fa",
           "#FFA15A",
           "#19d3f3",
           "#FF6692",
           "#B6E880",
           "#FF97FF",
           "#FECB52"
          ],
          "font": {
           "color": "#2a3f5f"
          },
          "geo": {
           "bgcolor": "white",
           "lakecolor": "white",
           "landcolor": "#E5ECF6",
           "showlakes": true,
           "showland": true,
           "subunitcolor": "white"
          },
          "hoverlabel": {
           "align": "left"
          },
          "hovermode": "closest",
          "mapbox": {
           "style": "light"
          },
          "paper_bgcolor": "white",
          "plot_bgcolor": "#E5ECF6",
          "polar": {
           "angularaxis": {
            "gridcolor": "white",
            "linecolor": "white",
            "ticks": ""
           },
           "bgcolor": "#E5ECF6",
           "radialaxis": {
            "gridcolor": "white",
            "linecolor": "white",
            "ticks": ""
           }
          },
          "scene": {
           "xaxis": {
            "backgroundcolor": "#E5ECF6",
            "gridcolor": "white",
            "gridwidth": 2,
            "linecolor": "white",
            "showbackground": true,
            "ticks": "",
            "zerolinecolor": "white"
           },
           "yaxis": {
            "backgroundcolor": "#E5ECF6",
            "gridcolor": "white",
            "gridwidth": 2,
            "linecolor": "white",
            "showbackground": true,
            "ticks": "",
            "zerolinecolor": "white"
           },
           "zaxis": {
            "backgroundcolor": "#E5ECF6",
            "gridcolor": "white",
            "gridwidth": 2,
            "linecolor": "white",
            "showbackground": true,
            "ticks": "",
            "zerolinecolor": "white"
           }
          },
          "shapedefaults": {
           "line": {
            "color": "#2a3f5f"
           }
          },
          "ternary": {
           "aaxis": {
            "gridcolor": "white",
            "linecolor": "white",
            "ticks": ""
           },
           "baxis": {
            "gridcolor": "white",
            "linecolor": "white",
            "ticks": ""
           },
           "bgcolor": "#E5ECF6",
           "caxis": {
            "gridcolor": "white",
            "linecolor": "white",
            "ticks": ""
           }
          },
          "title": {
           "x": 0.05
          },
          "xaxis": {
           "automargin": true,
           "gridcolor": "white",
           "linecolor": "white",
           "ticks": "",
           "title": {
            "standoff": 15
           },
           "zerolinecolor": "white",
           "zerolinewidth": 2
          },
          "yaxis": {
           "automargin": true,
           "gridcolor": "white",
           "linecolor": "white",
           "ticks": "",
           "title": {
            "standoff": 15
           },
           "zerolinecolor": "white",
           "zerolinewidth": 2
          }
         }
        },
        "width": 720
       }
      },
      "text/html": [
       "<div>                            <div id=\"9fb604c2-27db-4cab-8939-08961ba050da\" class=\"plotly-graph-div\" style=\"height:800px; width:720px;\"></div>            <script type=\"text/javascript\">                require([\"plotly\"], function(Plotly) {                    window.PLOTLYENV=window.PLOTLYENV || {};                                    if (document.getElementById(\"9fb604c2-27db-4cab-8939-08961ba050da\")) {                    Plotly.newPlot(                        \"9fb604c2-27db-4cab-8939-08961ba050da\",                        [{\"hoverinfo\":\"none\",\"lat\":[42.019071094732,42.0194773140131,42.0198712956709,42.020213311325,42.0203630566358,42.0205810365459,42.0208126519856,42.0209898239808,42.0211538784943,42.0212635366053,42.0213498291236,42.0214100725885,42.0214400054037,42.021466454381,42.0214914965355,42.0215367194156,42.0215903595518,42.0216436732015,42.0216902809605,42.0217173161609,42.021712876987,42.0217152384437,42.0217160238852,42.0217162942499,42.0217032116371,42.0217043967079,42.0217653133074,42.0218074650253,42.0218594205686,42.0219285047178,42.0219558868211,42.0220084000676,42.0220689467503,42.0221166313009,42.022158449848,42.022249031999,42.0222648639269,42.0222529316224,42.0222393525641,42.0222093000052,42.022202390715,42.0222112593931,42.0222360844574,42.0223283707626,42.0224360188229,42.022475834485,42.0225404357194,42.0226020500114,42.0226353661711,42.0226303279812,42.0225846747353,42.0225287507538,42.0225095345182,42.0225171508337,42.0225125165422,42.0225027868252,42.0225381674666,42.0225518311653,42.0225578122122,42.0225634250951,42.022572859606,42.0225849043908,42.0226090421292,42.0226600666606,42.0226672543471,42.0226684683191,42.022663119773,42.0226531483386,42.022661409123,42.0226556038359,42.0226533822548,42.0226511938525,42.0226312051828,42.0226223962453,42.0225813230103,42.0225555723195,42.0225411452691,42.0225066871738,42.0224658419099,42.0224052669416,42.0223839926099,42.0223702118103,42.0223605120689,42.0223486329234,42.022345434436,42.0223436763855,42.022318451374,42.0223169354432,42.022361210484,42.0224407452982,42.0225151383234,42.0226060954422,42.0227133184923,42.0228364473622,42.0229750752266,42.0231287441671,42.0232969388257,42.0234791018188,42.0236746308554,42.0238828735868,42.0241031392162,42.0243346957513,42.0245767764481,42.0248285760892,42.0250892556442,42.0253579520602,42.0256337756083,42.0259158018412,42.026199732958],\"line\":{\"color\":\"#f9ef00\",\"width\":3},\"lon\":[-87.6728982270991,-87.6734037431124,-87.6738882542473,-87.6744919294801,-87.6747435058554,-87.6751390285516,-87.6755615305113,-87.6758941928055,-87.676290278476,-87.6766055606864,-87.6769297233615,-87.6771703938185,-87.6773373374524,-87.6774848546831,-87.6776238029568,-87.6778373569103,-87.6781207186485,-87.6786288323141,-87.6791625609953,-87.6796401960723,-87.6821737585671,-87.6848441444371,-87.6857488640489,-87.6860620799462,-87.6874618442931,-87.6880141301444,-87.6887850287107,-87.6892345278705,-87.6896020254796,-87.6900585689625,-87.6904932274806,-87.6909610900235,-87.6913518409713,-87.6916147633623,-87.6918622525629,-87.6925663341864,-87.6933331414398,-87.6943016547364,-87.6949757940037,-87.6958050413033,-87.6966417977847,-87.697199504249,-87.6975091467532,-87.6985648276377,-87.6994796854776,-87.6997898392072,-87.7003171889148,-87.7010149812709,-87.7018203590596,-87.7030057286755,-87.7041605132324,-87.7066091769558,-87.7073221065964,-87.7078759501256,-87.7083254570854,-87.7087914084417,-87.7098247466569,-87.7102238926313,-87.7103985941064,-87.7107474517564,-87.7113313425065,-87.7118092395117,-87.7127459053454,-87.7138265263728,-87.7144080483481,-87.7149677060422,-87.7153381995566,-87.716028792883,-87.7169122216977,-87.717906657276,-87.7180588850745,-87.7182087737301,-87.7185267550694,-87.7191469317715,-87.7198092587089,-87.7201142566474,-87.7204609434961,-87.7208967780429,-87.7213259443259,-87.7219570146484,-87.722199326255,-87.7224365213035,-87.7227342083535,-87.723329503059,-87.7282111701309,-87.7308134791047,-87.7378867816945,-87.7405951872698,-87.7412461961564,-87.7420107332842,-87.7423992679135,-87.7427814077037,-87.7431558842445,-87.7435214598574,-87.7438769141688,-87.7442210682962,-87.7445527764513,-87.7448709475294,-87.745174510118,-87.7454624620483,-87.7457338521759,-87.7459877719535,-87.746223383144,-87.7464398949136,-87.7466365951853,-87.7468128288159,-87.746968007284,-87.7471016208414,-87.7472059613419],\"mode\":\"lines\",\"type\":\"scattermapbox\"},{\"hoverinfo\":\"none\",\"lat\":[41.8043562458141,41.8043384674327,41.8042931639406,41.8042586362967,41.8042364794445,41.8041759807031,41.8041209587154,41.8040283546516,41.8039096650077,41.8037975370965,41.8035773377745,41.803173061273,41.8026206142465,41.8015172876908,41.7998956551215],\"line\":{\"color\":\"#fe9307\",\"width\":3},\"lon\":[-87.7043264299819,-87.706739942397,-87.709796852203,-87.7117775233506,-87.7125259348242,-87.7132333257518,-87.7136318331468,-87.7141293986428,-87.7146495016473,-87.7150612899697,-87.7157542885822,-87.7167706089022,-87.7181449134607,-87.7207501694306,-87.724455411955],\"mode\":\"lines\",\"type\":\"scattermapbox\"},{\"hoverinfo\":\"none\",\"lat\":[41.9297358999808,41.9308380441975,41.9316018004349,41.9317453897666,41.931828459,41.9319459012776,41.9320836363619,41.9322416670486,41.9324294574844,41.9345829746491,41.936773166041,41.9381395288976],\"line\":{\"color\":\"#00a8df\",\"width\":3},\"lon\":[-87.7085471633271,-87.7103262166506,-87.7116042020647,-87.7118020114112,-87.7119299101913,-87.7120666706225,-87.712148074895,-87.7121741190826,-87.7122033471837,-87.71225253216,-87.7123140284677,-87.7123651312808],\"mode\":\"lines\",\"type\":\"scattermapbox\"},{\"hoverinfo\":\"none\",\"lat\":[41.8755374238653,41.8754995275522,41.8754794942112,41.8754776991413,41.8754170092109,41.8754036513615,41.8754060361962,41.8753875074777,41.8753639126398,41.8753374585174,41.875304155568,41.8752706233434,41.8752229723126,41.875184567525,41.8750928824788,41.8747318131625,41.8744333581058],\"line\":{\"color\":\"#00a8df\",\"width\":3},\"lon\":[-87.688440278454,-87.6910405119545,-87.6914832368663,-87.6923352185267,-87.6960228950837,-87.6967354651487,-87.6977858752179,-87.6983119706061,-87.6987839324379,-87.6991698622491,-87.6996100451371,-87.7000087942793,-87.7004395552361,-87.700819227504,-87.701473534811,-87.7039458520603,-87.7059840677601],\"mode\":\"lines\",\"type\":\"scattermapbox\"},{\"hoverinfo\":\"none\",\"lat\":[41.8852504951233,41.8852055321472,41.8851373639026,41.8850717004189,41.8849504415815,41.8848888234288,41.8848114033964,41.8846946844545,41.8845677080943,41.8843964371417,41.8840013775021,41.8834184761756,41.8830722528022,41.8827548729644,41.8805898896545,41.8789341912761,41.8785824243777,41.8784897234705,41.878372515592,41.8782723240555,41.8781781326694,41.8780558713437,41.8780048520301,41.8779548480258,41.8779111137874,41.8778736362786,41.8778083610004,41.8777690066645,41.8775546080196,41.8768927047272,41.8757470730777,41.8754343566307,41.8751575706565,41.8715708546185],\"line\":{\"color\":\"#f68eb9\",\"width\":3},\"lon\":[-87.6694344325993,-87.669640198157,-87.6697924420606,-87.6699003057553,-87.6700175011048,-87.67006742735,-87.6701187603203,-87.6701370556676,-87.6701494557352,-87.670143835298,-87.6701257448097,-87.6701022068163,-87.670140559364,-87.6701928310835,-87.670124914723,-87.6700634515025,-87.6700620750003,-87.6700614626427,-87.6700436039496,-87.6700056180198,-87.669950069245,-87.6698646051819,-87.669832406891,-87.669809823794,-87.6697935933668,-87.6697811472844,-87.669771554817,-87.6697661877728,-87.6697600643687,-87.669740602471,-87.6697177582065,-87.6697068962933,-87.6696490761784,-87.6695489887748],\"mode\":\"lines\",\"type\":\"scattermapbox\"},{\"hoverinfo\":\"none\",\"lat\":[41.896083092569,41.8964518532753,41.8970608614966,41.8977817101692,41.8984028689053,41.8991047887212,41.899752654847,41.9002281207136,41.9008317925065,41.9014699656756,41.9018502926807,41.9025285144232,41.9029793525863,41.9033629413559],\"line\":{\"color\":\"#00a8df\",\"width\":3},\"lon\":[-87.6552200373308,-87.6558025601044,-87.6567227906936,-87.6578200326091,-87.6587913852029,-87.6598746421727,-87.6609072059224,-87.6616280818691,-87.6625927002052,-87.6635802439975,-87.6641758922837,-87.6652426503946,-87.6659321617672,-87.6665018309868],\"mode\":\"lines\",\"type\":\"scattermapbox\"},{\"hoverinfo\":\"none\",\"lat\":[41.9360404655646,41.936274487269,41.9371774381042,41.9376400458112,41.9386581399768,41.9389366163354,41.939395485106,41.9397586084045],\"line\":{\"color\":\"#7b4213\",\"width\":3},\"lon\":[-87.6532722121844,-87.6532808977199,-87.6533144139885,-87.6533315841112,-87.653369374597,-87.653373647706,-87.6533806807614,-87.6533862517653],\"mode\":\"lines\",\"type\":\"scattermapbox\"},{\"hoverinfo\":\"none\",\"lat\":[41.9361104655646,41.936344487269004,41.9372474381042,41.9377100458112,41.9387281399768,41.9390066163354,41.939465485106,41.939828608404504],\"line\":{\"color\":\"#492f8a\",\"width\":3},\"lon\":[-87.6532222121844,-87.6532308977199,-87.6532644139885,-87.6532815841112,-87.653319374597,-87.653323647706,-87.6533306807614,-87.6533362517653],\"mode\":\"lines\",\"type\":\"scattermapbox\"},{\"hoverinfo\":\"none\",\"lat\":[41.936180465564604,41.936414487269005,41.9373174381042,41.9377800458112,41.938798139976804,41.9390766163354,41.939535485106,41.939898608404505],\"line\":{\"color\":\"#fa0034\",\"width\":3},\"lon\":[-87.6531722121844,-87.65318089771989,-87.6532144139885,-87.6532315841112,-87.653269374597,-87.653273647706,-87.6532806807614,-87.6532862517653],\"mode\":\"lines\",\"type\":\"scattermapbox\"},{\"hoverinfo\":\"none\",\"lat\":[41.9470365188989,41.9485993602801,41.9495952518092,41.9510214396926,41.9520291847603,41.9530307009502,41.9539304325282,41.9545310040863],\"line\":{\"color\":\"#7b4213\",\"width\":3},\"lon\":[-87.6747418779021,-87.6747704657001,-87.6747985073867,-87.6748412674624,-87.6748596147567,-87.6748716449302,-87.6749134447906,-87.6749615149041],\"mode\":\"lines\",\"type\":\"scattermapbox\"},{\"hoverinfo\":\"none\",\"lat\":[42.0083696918601,42.0105976712859,42.0118407649057,42.0122760038622,42.0126009370884,42.0129816952062,42.0135567397178,42.0138896518784,42.0142227730154,42.0146708373526,42.0158840544707],\"line\":{\"color\":\"#fb003d\",\"width\":3},\"lon\":[-87.6659148623224,-87.6659770421915,-87.6660195974498,-87.6660613396856,-87.6661320129429,-87.6663039464711,-87.6666405121153,-87.6668962791967,-87.667189086098,-87.6676979812544,-87.6690978869621],\"mode\":\"lines\",\"type\":\"scattermapbox\"},{\"hoverinfo\":\"none\",\"lat\":[42.008439691860104,42.0106676712859,42.0119107649057,42.0123460038622,42.0126709370884,42.0130516952062,42.0136267397178,42.0139596518784,42.0142927730154,42.0147408373526,42.015954054470704],\"line\":{\"color\":\"#492f8a\",\"width\":3},\"lon\":[-87.6658648623224,-87.6659270421915,-87.6659695974498,-87.6660113396856,-87.6660820129429,-87.6662539464711,-87.66659051211529,-87.6668462791967,-87.667139086098,-87.6676479812544,-87.6690478869621],\"mode\":\"lines\",\"type\":\"scattermapbox\"},{\"hoverinfo\":\"none\",\"lat\":[41.8532136454739,41.8535210784205,41.8539009258281,41.8545479546836,41.8557597579432,41.8574687274324,41.8587003510324,41.8589480793943,41.8592385863877,41.8595264978921,41.8597714359599,41.8599685964134,41.8601372312349,41.860283543986,41.8603529226131,41.8609362236304,41.8613892369367,41.8621225826465,41.8626938481032,41.8629721465155,41.863163542507,41.8632620430301,41.8633813159732,41.863640672553,41.8640444460007,41.865761841367,41.8673755182111],\"line\":{\"color\":\"#fb003d\",\"width\":3},\"lon\":[-87.6309735745971,-87.631067420726,-87.631160945338,-87.631283011758,-87.6313669706537,-87.6314244324078,-87.6314462141427,-87.6314435051557,-87.6314243958596,-87.6313702629295,-87.6313006657214,-87.6312092844224,-87.6311277749875,-87.6310200925236,-87.6309501525493,-87.6305873463666,-87.6301835756349,-87.6293470046084,-87.6284962586825,-87.6280406872923,-87.6277868321055,-87.6276831253377,-87.6275613653481,-87.6273980536939,-87.6273147519332,-87.6273652048833,-87.6274081308717],\"mode\":\"lines\",\"type\":\"scattermapbox\"},{\"hoverinfo\":\"none\",\"lat\":[41.8755240610582,41.8755296624585,41.8755204714777,41.8755467574394],\"line\":{\"color\":\"#00a8df\",\"width\":3},\"lon\":[-87.6496479861494,-87.6471061315641,-87.6419135949997,-87.6409899691766],\"mode\":\"lines\",\"type\":\"scattermapbox\"},{\"hoverinfo\":\"none\",\"lat\":[41.8740470967729,41.8747220873009,41.8759327762872,41.8768823746021,41.8781606098482],\"line\":{\"color\":\"#fb003d\",\"width\":3},\"lon\":[-87.6274848644505,-87.6275174029209,-87.6275490714007,-87.6275715689276,-87.6276018464021],\"mode\":\"lines\",\"type\":\"scattermapbox\"},{\"hoverinfo\":\"none\",\"lat\":[41.8889757889061,41.889434057641,41.889529790004,41.889631586153,41.8897098185044,41.8897951150043,41.8898482373478,41.8898942065383,41.889919638166,41.889944124462,41.8899779544185,41.8900193407267,41.8900779539213,41.8901328057278,41.8902142396113,41.8903100226077,41.8905199288589,41.8914752244404,41.8926141662019,41.8932788779388,41.8943439000713,41.8954278804664,41.8963357104308,41.8964595937239,41.896552800669,41.8966759529936,41.8967820284628],\"line\":{\"color\":\"#7b4213\",\"width\":3},\"lon\":[-87.6339791131933,-87.6339991674411,-87.6340258125093,-87.6340774468365,-87.6341425214532,-87.6342521318493,-87.6343695108659,-87.6344734534937,-87.6346215183084,-87.6347597022213,-87.6349387619398,-87.6350849628516,-87.6352456754257,-87.6353323965481,-87.6354048354807,-87.635486683249,-87.6355322192572,-87.6355409506008,-87.635585942669,-87.6356010257793,-87.6356340691212,-87.6356509667288,-87.635688912128,-87.6356907512124,-87.6357407518053,-87.6358398402634,-87.6359524103699],\"mode\":\"lines\",\"type\":\"scattermapbox\"},{\"hoverinfo\":\"none\",\"lat\":[41.8890457889061,41.889504057641,41.889599790004,41.889701586153,41.8897798185044,41.8898651150043,41.8899182373478,41.8899642065383,41.889989638166,41.890014124462,41.8900479544185,41.8900893407267,41.8901479539213,41.8902028057278,41.890284239611304,41.8903800226077,41.8905899288589,41.8915452244404,41.8926841662019,41.8933488779388,41.8944139000713,41.8954978804664,41.8964057104308,41.8965295937239,41.896622800669,41.8967459529936,41.8968520284628],\"line\":{\"color\":\"#492f8a\",\"width\":3},\"lon\":[-87.6339291131933,-87.6339491674411,-87.63397581250929,-87.6340274468365,-87.6340925214532,-87.63420213184929,-87.6343195108659,-87.6344234534937,-87.6345715183084,-87.6347097022213,-87.63488876193979,-87.63503496285159,-87.63519567542569,-87.63528239654809,-87.6353548354807,-87.635436683249,-87.6354822192572,-87.6354909506008,-87.635535942669,-87.6355510257793,-87.6355840691212,-87.6356009667288,-87.635638912128,-87.63564075121239,-87.6356907518053,-87.6357898402634,-87.6359024103699],\"mode\":\"lines\",\"type\":\"scattermapbox\"},{\"hoverinfo\":\"none\",\"lat\":[41.8857448395519,41.8857453724799,41.885745567667,41.8857460142089,41.8857462583252,41.8857470398402,41.8857484407698,41.8857482651943],\"line\":{\"color\":\"#7b4213\",\"width\":3},\"lon\":[-87.630891768284,-87.6302042722754,-87.6301196952021,-87.6299274035705,-87.6298220409721,-87.6294839555606,-87.6288775368762,-87.6278409317012],\"mode\":\"lines\",\"type\":\"scattermapbox\"},{\"hoverinfo\":\"none\",\"lat\":[41.8858148395519,41.885815372479904,41.885815567667,41.8858160142089,41.8858162583252,41.8858170398402,41.8858184407698,41.8858182651943],\"line\":{\"color\":\"#00a447\",\"width\":3},\"lon\":[-87.630841768284,-87.6301542722754,-87.6300696952021,-87.6298774035705,-87.6297720409721,-87.6294339555606,-87.6288275368762,-87.6277909317012],\"mode\":\"lines\",\"type\":\"scattermapbox\"},{\"hoverinfo\":\"none\",\"lat\":[41.8858848395519,41.885885372479905,41.885885567667,41.8858860142089,41.8858862583252,41.8858870398402,41.885888440769804,41.8858882651943],\"line\":{\"color\":\"#fe9307\",\"width\":3},\"lon\":[-87.630791768284,-87.6301042722754,-87.6300196952021,-87.6298274035705,-87.6297220409721,-87.6293839555606,-87.6287775368762,-87.6277409317012],\"mode\":\"lines\",\"type\":\"scattermapbox\"},{\"hoverinfo\":\"none\",\"lat\":[41.8859548395519,41.885955372479906,41.885955567667004,41.8859560142089,41.8859562583252,41.8859570398402,41.885958440769805,41.885958265194304],\"line\":{\"color\":\"#f68eb9\",\"width\":3},\"lon\":[-87.630741768284,-87.6300542722754,-87.62996969520209,-87.6297774035705,-87.6296720409721,-87.6293339555606,-87.6287275368762,-87.6276909317012],\"mode\":\"lines\",\"type\":\"scattermapbox\"},{\"hoverinfo\":\"none\",\"lat\":[41.886024839551894,41.8860253724799,41.886025567667,41.886026014208895,41.886026258325195,41.886027039840194,41.8860284407698,41.8860282651943],\"line\":{\"color\":\"#492f8a\",\"width\":3},\"lon\":[-87.630691768284,-87.6300042722754,-87.62991969520209,-87.6297274035705,-87.6296220409721,-87.6292839555606,-87.6286775368762,-87.6276409317012],\"mode\":\"lines\",\"type\":\"scattermapbox\"},{\"hoverinfo\":\"none\",\"lat\":[41.9106624374159,41.9117533707298,41.9122634471752,41.9129414130687,41.9129953497796,41.9130890914629,41.9131697030581,41.9132760197549,41.9140673299076],\"line\":{\"color\":\"#fb003d\",\"width\":3},\"lon\":[-87.6491830249658,-87.6507037756612,-87.6514127793945,-87.6523585926451,-87.6524301498585,-87.6524915785109,-87.6524967450456,-87.6524995687795,-87.6525061864663],\"mode\":\"lines\",\"type\":\"scattermapbox\"},{\"hoverinfo\":\"none\",\"lat\":[41.7504201752088,41.7512912450769,41.7518954475624,41.7526477900685,41.7531690323035,41.7538840219906,41.7551663199185,41.7560471695234,41.7581548159938,41.762903581443,41.7654235066522,41.7683757012028],\"line\":{\"color\":\"#fb003d\",\"width\":3},\"lon\":[-87.6251840900823,-87.6251966451651,-87.6252105849372,-87.6252558246263,-87.6253118377114,-87.6253805563531,-87.6255014051998,-87.6255386379744,-87.6255800575161,-87.6256779103271,-87.6256968217627,-87.6258150885691],\"mode\":\"lines\",\"type\":\"scattermapbox\"},{\"hoverinfo\":\"none\",\"lat\":[41.8164710670136,41.8186968507258,41.8209603396689,41.8211414126288,41.8213391193017,41.8214766376426,41.8215946682303,41.821683357002,41.8217579713538,41.8217991777704,41.8218334956821,41.8218494887546,41.8218230407767],\"line\":{\"color\":\"#00a447\",\"width\":3},\"lon\":[-87.6190415221625,-87.6190979477743,-87.6191651486875,-87.6191695063165,-87.6191673094253,-87.6192011758838,-87.619272749194,-87.6193609341805,-87.6194843081558,-87.6195984987918,-87.6197541670678,-87.6200278722191,-87.6214685536977],\"mode\":\"lines\",\"type\":\"scattermapbox\"},{\"hoverinfo\":\"none\",\"lat\":[41.8871710740841,41.8870524684218,41.8869631221736,41.8869046083633,41.8867978597873,41.8866648999931,41.8866019684357,41.8865272009792],\"line\":{\"color\":\"#00a447\",\"width\":3},\"lon\":[-87.7549922824435,-87.7532742792873,-87.7516257087129,-87.750356296452,-87.7487078924982,-87.7464634821417,-87.7454728872887,-87.7447041843611],\"mode\":\"lines\",\"type\":\"scattermapbox\"},{\"hoverinfo\":\"none\",\"lat\":[41.8538646760374,41.8538750759907,41.8539200961978,41.8539535001359,41.8539997998715],\"line\":{\"color\":\"#f68eb9\",\"width\":3},\"lon\":[-87.7243325009003,-87.7230391764122,-87.7201463089911,-87.7167108555621,-87.7148860364167],\"mode\":\"lines\",\"type\":\"scattermapbox\"},{\"hoverinfo\":\"none\",\"lat\":[41.9661004715607,41.9660827529688,41.9660823508888,41.966068761221,41.9660601314842,41.966053484614,41.9660567649525,41.9660547911329,41.9660794808307,41.9661228427189,41.966158197155,41.9662227948642,41.9663031232296,41.9663611940746,41.9664421812238,41.9666745321414,41.9679360160609],\"line\":{\"color\":\"#7b4213\",\"width\":3},\"lon\":[-87.7088495751247,-87.7102802589883,-87.7110846137114,-87.7117317664479,-87.7121930268237,-87.7124044476395,-87.7125580278759,-87.7126868609547,-87.7128082766715,-87.7129259344245,-87.7129851416074,-87.7130394652746,-87.7130931478845,-87.7131044131361,-87.7131160557014,-87.7131209582687,-87.7131478193651],\"mode\":\"lines\",\"type\":\"scattermapbox\"},{\"hoverinfo\":\"none\",\"lat\":[41.8046913979137,41.8046429194259,41.8045998837659,41.8045461586683,41.8044631185998,41.8043562458141],\"line\":{\"color\":\"#fe9307\",\"width\":3},\"lon\":[-87.6840707456663,-87.6868793785997,-87.6910983938224,-87.6942795783702,-87.6982060645957,-87.7043264299819],\"mode\":\"lines\",\"type\":\"scattermapbox\"},{\"hoverinfo\":\"none\",\"lat\":[41.9664188391096,41.9663904336277,41.9663713595827,41.9663610398391,41.9663325015712,41.9663169767761,41.9662885957503,41.9662579136293],\"line\":{\"color\":\"#7b4213\",\"width\":3},\"lon\":[-87.6786406582611,-87.6803454123606,-87.6816000143143,-87.6827204679261,-87.6839911251216,-87.6854595443814,-87.6871866372152,-87.6885083821724],\"mode\":\"lines\",\"type\":\"scattermapbox\"},{\"hoverinfo\":\"none\",\"lat\":[41.8853192483222,41.8853589764139,41.88538524818,41.8853971945305,41.8854412832986,41.8854909181591,41.8855100256156,41.8855426738832,41.8855680848624,41.8855864852067],\"line\":{\"color\":\"#00a447\",\"width\":3},\"lon\":[-87.6669566986234,-87.665169605485,-87.6641490553723,-87.6631286541676,-87.6614852124461,-87.6583520083823,-87.6567327748168,-87.6555924000274,-87.6531152691293,-87.6520244962054],\"mode\":\"lines\",\"type\":\"scattermapbox\"},{\"hoverinfo\":\"none\",\"lat\":[41.8853892483222,41.8854289764139,41.88545524818,41.8854671945305,41.8855112832986,41.8855609181591,41.8855800256156,41.8856126738832,41.8856380848624,41.8856564852067],\"line\":{\"color\":\"#f68eb9\",\"width\":3},\"lon\":[-87.6669066986234,-87.665119605485,-87.6640990553723,-87.66307865416759,-87.6614352124461,-87.6583020083823,-87.6566827748168,-87.6555424000274,-87.6530652691293,-87.6519744962054],\"mode\":\"lines\",\"type\":\"scattermapbox\"},{\"hoverinfo\":\"none\",\"lat\":[41.9545310040863,41.9551385389807,41.9566656854932,41.9579927992085,41.9607793719945,41.9617595773874],\"line\":{\"color\":\"#7b4213\",\"width\":3},\"lon\":[-87.6749615149041,-87.6749776014862,-87.6750129454514,-87.6750599242978,-87.6751365658258,-87.6751711612231],\"mode\":\"lines\",\"type\":\"scattermapbox\"},{\"hoverinfo\":\"none\",\"lat\":[41.7954261020888,41.7977615683738,41.8008451105388,41.8018974210496,41.8030609824896,41.8053553449621,41.8069064965045,41.8076901459103,41.8080536435948,41.8083067382468,41.80853735419,41.8087082274641,41.8089613429267,41.8089999920043,41.8091967451337,41.8092474613561,41.8092938653547,41.8093376582955,41.8094751006052,41.8098554035752,41.8103459746632],\"line\":{\"color\":\"#fb003d\",\"width\":3},\"lon\":[-87.6311749126874,-87.6312470523658,-87.6313278429807,-87.6313507973154,-87.6314676075004,-87.6316260448286,-87.6317386377566,-87.6317948479793,-87.6318124687041,-87.6317971992234,-87.6317774226053,-87.6317463237447,-87.6317014483262,-87.6316860668976,-87.6316194778345,-87.6316062655441,-87.631591949823,-87.6315730594819,-87.6315220769031,-87.6313418562522,-87.6310315404715],\"mode\":\"lines\",\"type\":\"scattermapbox\"},{\"hoverinfo\":\"none\",\"lat\":[41.8587665624876,41.8583966601269,41.858252159176,41.8581294251754,41.8580726656014,41.8579922465113,41.8579191875983,41.8578440029528,41.8577995873665,41.857759955501,41.8577322528919,41.8576943042468,41.8576431753893,41.8575988677025,41.8575529604063,41.8574696013946,41.8573275472808,41.8571164516266,41.8568456857879,41.8565765818918,41.8555433013397,41.854959145532,41.8543268424007,41.8526895045585,41.8516777819511,41.8503059873889,41.8501759957258,41.8499562174143,41.8495857154406,41.8488196046087,41.8486063135749,41.8483733895025,41.8481896787515,41.8479815339502,41.8476858596089,41.8469092882045],\"line\":{\"color\":\"#fe9307\",\"width\":3},\"lon\":[-87.6264237360407,-87.6264615219085,-87.6264755215826,-87.6265534919843,-87.6266045377584,-87.6266978306787,-87.6268260932929,-87.626995804447,-87.6271333112717,-87.6272739519463,-87.6274176479125,-87.627832305441,-87.6307612239827,-87.6313065941012,-87.6315906900419,-87.6319835360229,-87.6325172232554,-87.6330580370132,-87.6335803767762,-87.6339847981573,-87.635254665985,-87.6359524515964,-87.6365679030154,-87.6380099120212,-87.6389129958893,-87.6401512943347,-87.640321560053,-87.6406138663695,-87.6412300728082,-87.6428246953119,-87.6435149582353,-87.6443967965318,-87.6451442896534,-87.6457900884624,-87.6465387718066,-87.6481368571609],\"mode\":\"lines\",\"type\":\"scattermapbox\"},{\"hoverinfo\":\"none\",\"lat\":[41.8857323806163,41.8857379955916,41.8857445108962,41.8857448395519],\"line\":{\"color\":\"#7b4213\",\"width\":3},\"lon\":[-87.6339189266405,-87.6328514670137,-87.6320455055585,-87.630891768284],\"mode\":\"lines\",\"type\":\"scattermapbox\"},{\"hoverinfo\":\"none\",\"lat\":[41.8858023806163,41.8858079955916,41.8858145108962,41.8858148395519],\"line\":{\"color\":\"#00a447\",\"width\":3},\"lon\":[-87.6338689266405,-87.63280146701369,-87.63199550555849,-87.630841768284],\"mode\":\"lines\",\"type\":\"scattermapbox\"},{\"hoverinfo\":\"none\",\"lat\":[41.8858723806163,41.8858779955916,41.885884510896204,41.8858848395519],\"line\":{\"color\":\"#fe9307\",\"width\":3},\"lon\":[-87.6338189266405,-87.63275146701369,-87.63194550555849,-87.630791768284],\"mode\":\"lines\",\"type\":\"scattermapbox\"},{\"hoverinfo\":\"none\",\"lat\":[41.8859423806163,41.8859479955916,41.885954510896205,41.8859548395519],\"line\":{\"color\":\"#f68eb9\",\"width\":3},\"lon\":[-87.6337689266405,-87.63270146701369,-87.63189550555849,-87.630741768284],\"mode\":\"lines\",\"type\":\"scattermapbox\"},{\"hoverinfo\":\"none\",\"lat\":[41.88601238061629,41.886017995591594,41.8860245108962,41.886024839551894],\"line\":{\"color\":\"#492f8a\",\"width\":3},\"lon\":[-87.6337189266405,-87.63265146701369,-87.63184550555849,-87.630691768284],\"mode\":\"lines\",\"type\":\"scattermapbox\"},{\"hoverinfo\":\"none\",\"lat\":[41.8848167226655,41.8857482652165,41.8859689109038,41.8878403352435,41.8896564604573,41.8907225707369,41.8916730572819],\"line\":{\"color\":\"#fb003d\",\"width\":3},\"lon\":[-87.6278191314659,-87.6278409353155,-87.6278365980758,-87.6279407251953,-87.6279950745479,-87.6280010936565,-87.6280270087574],\"mode\":\"lines\",\"type\":\"scattermapbox\"},{\"hoverinfo\":\"none\",\"lat\":[41.9039281704908,41.9038761601935,41.9038326507174,41.903798365807,41.9037986809134,41.9038415163585,41.9039254315032,41.904048637864,41.9045883676479,41.908074893786,41.909715579931,41.9106624374159],\"line\":{\"color\":\"#fb003d\",\"width\":3},\"lon\":[-87.6314180452581,-87.6344758873969,-87.6369863018318,-87.638962386841,-87.6392627630106,-87.6395112832178,-87.6397178617435,-87.6399397941584,-87.6406918621952,-87.6455511019833,-87.6478601178614,-87.6491830249658],\"mode\":\"lines\",\"type\":\"scattermapbox\"},{\"hoverinfo\":\"none\",\"lat\":[41.9614944950344,41.9616983428002,41.9618590353167,41.9620222242083,41.9621687065689,41.9623007973529,41.962437880144,41.9625686312529,41.9626688264869,41.9627918779382,41.962919887901,41.9630579311938,41.9631816309326,41.9633633622515,41.9635156431413,41.9636317690101,41.9637358538946,41.9638274909661,41.9639625730966,41.9640830222929,41.9641985921058,41.9643308518599,41.9647841010012,41.9653729872405,41.9657402481069,41.9660235226343,41.9664606481462,41.9668307341313,41.9672273090424,41.9675902571761,41.9679003482181,41.968203210043,41.96877089666,41.969445632402,41.9698012535165,41.9700841683071,41.9703137380294,41.9705048614365,41.9706420007559],\"line\":{\"color\":\"#00a8df\",\"width\":3},\"lon\":[-87.7436227660726,-87.7438889855656,-87.7441013464703,-87.7443360248422,-87.744564475684,-87.7447739111849,-87.7450279843246,-87.745260965397,-87.7454695049987,-87.7457747779616,-87.7461183070024,-87.7465606873484,-87.7469936277735,-87.7475951982308,-87.7480278799312,-87.7483779087483,-87.7487025157635,-87.7489219092653,-87.7492526177492,-87.7495164336126,-87.7497579536298,-87.7500025130426,-87.7508640914004,-87.751636801459,-87.7521888414695,-87.752620361759,-87.7533281826619,-87.7539695900941,-87.7546682197256,-87.7553129004414,-87.7558686890808,-87.7564059297572,-87.7573891446675,-87.7585743478065,-87.7591872174867,-87.7597041048343,-87.7601320779858,-87.7605779634349,-87.7608980764385],\"mode\":\"lines\",\"type\":\"scattermapbox\"},{\"hoverinfo\":\"none\",\"lat\":[41.8541384318186,41.8541559500295,41.854184981014,41.8542021959283,41.8542555260891,41.8542874766599],\"line\":{\"color\":\"#f68eb9\",\"width\":3},\"lon\":[-87.7054337264749,-87.7042617912248,-87.7023179244374,-87.7011642195356,-87.6983087721589,-87.6948286813098],\"mode\":\"lines\",\"type\":\"scattermapbox\"},{\"hoverinfo\":\"none\",\"lat\":[41.8842273832401,41.8842616498171,41.8843226380701,41.8843578742623,41.8843813581751,41.8844167076186,41.8844635352116,41.884567130259,41.8846046123897,41.8846914363658,41.884777300641,41.884838773525,41.884879510209,41.884933445328,41.8849850231602,41.8850148204483,41.8850641140069,41.8851092057783,41.885144763344,41.8852119048717,41.8852504951233],\"line\":{\"color\":\"#00a447\",\"width\":3},\"lon\":[-87.6962399852839,-87.6951168762512,-87.6935985966938,-87.6926535708951,-87.6916776866112,-87.6907558869878,-87.6898184842452,-87.687657075426,-87.6860925568812,-87.6840474561473,-87.6818397496638,-87.680437587465,-87.6794615169325,-87.6777574418511,-87.6766573631344,-87.6757975508646,-87.6743025841339,-87.673086418872,-87.6722265427548,-87.6708243062379,-87.6694344325993],\"mode\":\"lines\",\"type\":\"scattermapbox\"},{\"hoverinfo\":\"none\",\"lat\":[41.9662579136293,41.9662609234488,41.9662510680433,41.9662386742266,41.9662178145283],\"line\":{\"color\":\"#7b4213\",\"width\":3},\"lon\":[-87.6885083821724,-87.689469104947,-87.6902607884965,-87.6914514814697,-87.6941169025643],\"mode\":\"lines\",\"type\":\"scattermapbox\"},{\"hoverinfo\":\"none\",\"lat\":[41.8579155564504,41.860095270598,41.8610363907102,41.8628018561838,41.864816298431,41.8667457217103,41.8680865681442,41.8691538065537,41.8697350419277,41.8715708546185],\"line\":{\"color\":\"#f68eb9\",\"width\":3},\"lon\":[-87.6691658845026,-87.669221561905,-87.669250063256,-87.6692987166362,-87.6693543557602,-87.6694260852473,-87.6694602375073,-87.6694874214552,-87.6695022260803,-87.6695489887748],\"mode\":\"lines\",\"type\":\"scattermapbox\"},{\"hoverinfo\":\"none\",\"lat\":[41.8758934865899,41.8758886824439,41.8758906984098,41.87590319144,41.8759043301887,41.8759081945963,41.8758839818397,41.8758546991987,41.875842802908,41.8757871066957,41.8756066068748,41.8754734065009,41.8754849602563,41.8755240610582],\"line\":{\"color\":\"#00a8df\",\"width\":3},\"lon\":[-87.6594612674364,-87.6593502013148,-87.658986270221,-87.6586388967611,-87.6582138834307,-87.6578686340996,-87.6573913834037,-87.6569789689689,-87.6568114269956,-87.6558482983964,-87.6537612082629,-87.6518009555759,-87.6504039963159,-87.6496479861494],\"mode\":\"lines\",\"type\":\"scattermapbox\"},{\"hoverinfo\":\"none\",\"lat\":[41.8852504951233,41.8853192483222],\"line\":{\"color\":\"#00a447\",\"width\":3},\"lon\":[-87.6694344325993,-87.6669566986234],\"mode\":\"lines\",\"type\":\"scattermapbox\"},{\"hoverinfo\":\"none\",\"lat\":[41.8853204951233,41.8853892483222],\"line\":{\"color\":\"#f68eb9\",\"width\":3},\"lon\":[-87.6693844325993,-87.6669066986234],\"mode\":\"lines\",\"type\":\"scattermapbox\"},{\"hoverinfo\":\"none\",\"lat\":[41.9537828118747,41.9537733072796,41.9537717827142,41.9537816573679,41.9538089019345,41.9538849059902,41.9539740921152,41.9540498860901,41.9541743364541,41.9543073638993,41.954418108337,41.9549144381456,41.9569304592477,41.9586185764054,41.9618220542055,41.963962052679,41.9642625598462],\"line\":{\"color\":\"#fb003d\",\"width\":3},\"lon\":[-87.6549351560049,-87.6555761974257,-87.6560687859351,-87.6562407864824,-87.6563532552175,-87.6564711447557,-87.6565710900526,-87.6566533734013,-87.6567232714327,-87.6567456014073,-87.6567444301034,-87.6567747911816,-87.6568424901058,-87.6568958539005,-87.6570044211734,-87.6576373013953,-87.6577401341247],\"mode\":\"lines\",\"type\":\"scattermapbox\"},{\"hoverinfo\":\"none\",\"lat\":[41.953852811874704,41.9538433072796,41.9538417827142,41.9538516573679,41.9538789019345,41.9539549059902,41.954044092115204,41.9541198860901,41.9542443364541,41.9543773638993,41.954488108337,41.9549844381456,41.9570004592477,41.9586885764054,41.9618920542055,41.964032052679,41.9643325598462],\"line\":{\"color\":\"#492f8a\",\"width\":3},\"lon\":[-87.6548851560049,-87.6555261974257,-87.6560187859351,-87.6561907864824,-87.6563032552175,-87.6564211447557,-87.65652109005259,-87.6566033734013,-87.6566732714327,-87.65669560140729,-87.6566944301034,-87.6567247911816,-87.6567924901058,-87.65684585390049,-87.6569544211734,-87.6575873013953,-87.65769013412469],\"mode\":\"lines\",\"type\":\"scattermapbox\"},{\"hoverinfo\":\"none\",\"lat\":[41.7790357041972,41.7790857584523,41.7791266616641,41.7791495173274,41.7792315169472,41.7792676863213,41.7793001827863,41.7793141677833,41.779350458919,41.7794912258332,41.7796630115494,41.7799957661464,41.7802023088696,41.780298214171,41.7803636714568,41.78046426315,41.7805493448623,41.7807461008224,41.7815513784229,41.7819064090879,41.7833036853382,41.7836806121199,41.7857448945751,41.7861416878508,41.7862576374175,41.7863384516658,41.7864213865989,41.7864846354004,41.7865346450616,41.7865976604324,41.7866669635115,41.7867228313685,41.7867634482816,41.786779495034,41.7867888759734,41.7868269556096,41.786852913459,41.7869137539891,41.7869009893127,41.7869127156021,41.786927411171,41.7869460643877,41.7869779966615,41.7870053379106,41.7870484380553,41.7871200624701,41.787211537982,41.787296693767,41.7874761907081],\"line\":{\"color\":\"#00a447\",\"width\":3},\"lon\":[-87.6440288721395,-87.6396013252115,-87.6373053950228,-87.6356538010863,-87.634721831749,-87.634182702729,-87.6337607273062,-87.6335380529739,-87.6333795504739,-87.6331027931697,-87.6328813285479,-87.6324619371201,-87.6321903153064,-87.6321043592075,-87.6320567986166,-87.6320205675706,-87.6320084524624,-87.6320061365003,-87.6320350738271,-87.6320341331195,-87.6320569728183,-87.6320528655069,-87.632021585775,-87.6320406860108,-87.6320072122637,-87.6319624077903,-87.6319058665227,-87.6318553970997,-87.6317904302276,-87.6317018954605,-87.631566439921,-87.6313842785661,-87.631216923833,-87.6309737026591,-87.6307159124089,-87.6294182746716,-87.627933357229,-87.6257101314194,-87.6247058753184,-87.6241200912544,-87.6229515485017,-87.6206555764235,-87.618740129771,-87.6185553452083,-87.6184377357166,-87.6183256641536,-87.618233872214,-87.6181831440624,-87.6181489384272],\"mode\":\"lines\",\"type\":\"scattermapbox\"},{\"hoverinfo\":\"none\",\"lat\":[41.8769161943032,41.8768939929018,41.8768631883765],\"line\":{\"color\":\"#7b4213\",\"width\":3},\"lon\":[-87.6282148945424,-87.6292587102634,-87.6317395847616],\"mode\":\"lines\",\"type\":\"scattermapbox\"},{\"hoverinfo\":\"none\",\"lat\":[41.8769861943032,41.8769639929018,41.8769331883765],\"line\":{\"color\":\"#fe9307\",\"width\":3},\"lon\":[-87.6281648945424,-87.6292087102634,-87.6316895847616],\"mode\":\"lines\",\"type\":\"scattermapbox\"},{\"hoverinfo\":\"none\",\"lat\":[41.8770561943032,41.8770339929018,41.8770031883765],\"line\":{\"color\":\"#ff85bc\",\"width\":3},\"lon\":[-87.62811489454239,-87.6291587102634,-87.6316395847616],\"mode\":\"lines\",\"type\":\"scattermapbox\"},{\"hoverinfo\":\"none\",\"lat\":[41.8771261943032,41.8771039929018,41.8770731883765],\"line\":{\"color\":\"#492f8a\",\"width\":3},\"lon\":[-87.62806489454239,-87.6291087102634,-87.6315895847616],\"mode\":\"lines\",\"type\":\"scattermapbox\"},{\"hoverinfo\":\"none\",\"lat\":[41.8674128120025,41.8699825828834,41.8736192612715,41.8737919202835,41.8739029610164,41.8740056797842,41.8741041872716,41.8742209217493,41.8743296688698,41.8744770582469,41.8745875913141,41.8747061078387,41.8747919464457,41.874906419814,41.8750005794488,41.8751111808631,41.8752709668064,41.875390058663,41.875701367583,41.8767114751458],\"line\":{\"color\":\"#00a447\",\"width\":3},\"lon\":[-87.6265956346338,-87.6267167377052,-87.6267983954381,-87.6268019942093,-87.6268117707795,-87.6268051391293,-87.6267820551129,-87.6267401730284,-87.6266860793729,-87.6265909608832,-87.6265182473224,-87.6264069485534,-87.6263290061351,-87.6262287497086,-87.6261672152325,-87.6261054993061,-87.626021242566,-87.6260034291713,-87.6259843876016,-87.6260357842179],\"mode\":\"lines\",\"type\":\"scattermapbox\"},{\"hoverinfo\":\"none\",\"lat\":[41.8674828120025,41.8700525828834,41.8736892612715,41.8738619202835,41.8739729610164,41.8740756797842,41.8741741872716,41.8742909217493,41.8743996688698,41.874547058246904,41.874657591314104,41.8747761078387,41.8748619464457,41.874976419814004,41.8750705794488,41.8751811808631,41.8753409668064,41.875460058663,41.875771367583,41.8767814751458],\"line\":{\"color\":\"#fe9307\",\"width\":3},\"lon\":[-87.6265456346338,-87.6266667377052,-87.6267483954381,-87.6267519942093,-87.6267617707795,-87.6267551391293,-87.6267320551129,-87.6266901730284,-87.6266360793729,-87.6265409608832,-87.62646824732239,-87.6263569485534,-87.62627900613509,-87.6261787497086,-87.6261172152325,-87.6260554993061,-87.625971242566,-87.6259534291713,-87.6259343876016,-87.6259857842179],\"mode\":\"lines\",\"type\":\"scattermapbox\"},{\"hoverinfo\":\"none\",\"lat\":[41.8855864852067,41.8855889300151,41.8856118820623,41.8856299971588,41.885653534599,41.8856716718653,41.8856867523828,41.8857021899524,41.8857147082049,41.8857103226011,41.8857112782613],\"line\":{\"color\":\"#00a447\",\"width\":3},\"lon\":[-87.6520244962054,-87.6518794973039,-87.650885615478,-87.6497270362128,-87.6485117677917,-87.6473609100563,-87.6463439415789,-87.6450669764355,-87.6439470674723,-87.6428051719669,-87.641777058709],\"mode\":\"lines\",\"type\":\"scattermapbox\"},{\"hoverinfo\":\"none\",\"lat\":[41.8856564852067,41.885658930015104,41.8856818820623,41.8856999971588,41.885723534599,41.885741671865304,41.885756752382804,41.8857721899524,41.8857847082049,41.8857803226011,41.8857812782613],\"line\":{\"color\":\"#f68eb9\",\"width\":3},\"lon\":[-87.6519744962054,-87.6518294973039,-87.650835615478,-87.6496770362128,-87.6484617677917,-87.6473109100563,-87.6462939415789,-87.6450169764355,-87.6438970674723,-87.6427551719669,-87.641727058709],\"mode\":\"lines\",\"type\":\"scattermapbox\"},{\"hoverinfo\":\"none\",\"lat\":[41.8857112782613,41.8857104768779,41.8857155876441,41.8857239200672,41.8857323806163],\"line\":{\"color\":\"#00a447\",\"width\":3},\"lon\":[-87.641777058709,-87.6394489470812,-87.6381647351058,-87.6360630420923,-87.6339189266405],\"mode\":\"lines\",\"type\":\"scattermapbox\"},{\"hoverinfo\":\"none\",\"lat\":[41.8857812782613,41.8857804768779,41.8857855876441,41.8857939200672,41.8858023806163],\"line\":{\"color\":\"#f68eb9\",\"width\":3},\"lon\":[-87.641727058709,-87.6393989470812,-87.6381147351058,-87.6360130420923,-87.6338689266405],\"mode\":\"lines\",\"type\":\"scattermapbox\"},{\"hoverinfo\":\"none\",\"lat\":[41.870894238177,41.870986045981,41.8713091452167,41.8714584000557,41.871731756494,41.8721158174934],\"line\":{\"color\":\"#00a8df\",\"width\":3},\"lon\":[-87.7767910618494,-87.7782681340013,-87.7825216284025,-87.7841887401173,-87.7872427115807,-87.7916079460048],\"mode\":\"lines\",\"type\":\"scattermapbox\"},{\"hoverinfo\":\"none\",\"lat\":[41.8868561488323,41.8868725847528,41.8868886296025,41.8869022387126,41.8869191735664,41.8869275523809,41.8869319754896,41.8869434734924,41.8869531462722,41.8869653017116,41.8869818531895,41.8869953670712],\"line\":{\"color\":\"#00a447\",\"width\":3},\"lon\":[-87.8031817889909,-87.8021108331176,-87.8013588702486,-87.8007208718249,-87.7999267721332,-87.7986374145467,-87.7979557702728,-87.7971351738055,-87.7964444113436,-87.7955761689343,-87.7945002503644,-87.7937891500914],\"mode\":\"lines\",\"type\":\"scattermapbox\"},{\"hoverinfo\":\"none\",\"lat\":[41.9706420007559,41.9708864090543,41.9710817115859,41.9712273061922,41.9713531958326,41.9714631525886,41.9716223382083,41.9717625410433,41.9719217573754,41.97201586535,41.9721727810661,41.9724420822982,41.9729927959099,41.9733934514424,41.974219474839,41.9756397341186,41.9766407600069,41.9775193059644,41.9785327297652,41.9792873956387,41.9801151881864,41.9806887210527,41.9812023495987,41.9816467408148,41.9818994750364,41.9821255615112,41.9822771127434,41.9823836536871,41.9824544055798,41.9824889678099,41.9825089269986,41.9825054819526,41.9824935385421,41.9824854232828,41.9824685790789,41.9824392528988,41.9824041976846,41.9823910880035,41.9823717524142,41.9823545644248,41.9823478250498,41.9823312318923],\"line\":{\"color\":\"#00a8df\",\"width\":3},\"lon\":[-87.7608980764385,-87.7614956139515,-87.7621006477952,-87.7626895050479,-87.763207824506,-87.7637154128003,-87.7643029642853,-87.7647205399847,-87.7651354016456,-87.765350682914,-87.7657233375106,-87.7662446175971,-87.7672289000554,-87.767973465024,-87.7694457814057,-87.7719353675703,-87.773688888508,-87.7752426639341,-87.7770206682259,-87.778387582495,-87.7798359868225,-87.7808326991003,-87.7817581101429,-87.7825284918191,-87.783073056706,-87.7836497813496,-87.7842071968403,-87.7846931651876,-87.7851674694256,-87.785546305591,-87.7859851284118,-87.7865119525062,-87.7871306379746,-87.7879288799893,-87.7906575751129,-87.7940388794703,-87.7987675423695,-87.8010727711775,-87.8030715524865,-87.8060632396777,-87.8071903111862,-87.8089007487516],\"mode\":\"lines\",\"type\":\"scattermapbox\"},{\"hoverinfo\":\"none\",\"lat\":[41.8873006319817,41.8873132348829,41.8873417879386,41.8873615039096,41.8873681713964,41.8873691210805,41.887389214177,41.8873962812731,41.8873968612886],\"line\":{\"color\":\"#00a447\",\"width\":3},\"lon\":[-87.77414104894,-87.7731652443534,-87.7719027864789,-87.7700209152181,-87.7690219309054,-87.7680384844817,-87.7674188160605,-87.7665050073644,-87.7656552971061],\"mode\":\"lines\",\"type\":\"scattermapbox\"},{\"hoverinfo\":\"none\",\"lat\":[41.8517811523277,41.851891569522,41.851887551559,41.8519325583217],\"line\":{\"color\":\"#f68eb9\",\"width\":3},\"lon\":[-87.7566978002568,-87.7521356513782,-87.7492162154407,-87.745347791325],\"mode\":\"lines\",\"type\":\"scattermapbox\"},{\"hoverinfo\":\"none\",\"lat\":[41.9529481226917,41.9536502964307,41.9549582205572,41.9559582566174,41.9567115581944,41.9574346050834,41.9594146704549,41.9597086472362,41.9600060899015,41.9602906568778,41.9605664775239,41.9607653993441,41.9609834928525,41.9611828487959,41.961338198219,41.9614944950344],\"line\":{\"color\":\"#00a8df\",\"width\":3},\"lon\":[-87.729183052557,-87.7304369643412,-87.7327351467677,-87.7344714310923,-87.7359483803023,-87.7372505406992,-87.7407461325223,-87.7412200786815,-87.7416985242116,-87.742151293631,-87.7425157778294,-87.7427501174795,-87.7430066242671,-87.7432699209151,-87.7434349908829,-87.7436227660726],\"mode\":\"lines\",\"type\":\"scattermapbox\"},{\"hoverinfo\":\"none\",\"lat\":[41.8756432797114,41.8756171417074,41.8755886429511,41.8755529790527,41.875546130696,41.8755374238653],\"line\":{\"color\":\"#00a8df\",\"width\":3},\"lon\":[-87.6739516424767,-87.6764571734724,-87.6802737144786,-87.6861346375497,-87.6870335399229,-87.688440278454],\"mode\":\"lines\",\"type\":\"scattermapbox\"},{\"hoverinfo\":\"none\",\"lat\":[41.9097516489735,41.9109254681397,41.9120444850193,41.9127430231935,41.9138699228179,41.9147746906155,41.9161652859286],\"line\":{\"color\":\"#00a8df\",\"width\":3},\"lon\":[-87.6774424221587,-87.6792832992508,-87.6809991663751,-87.6820979527573,-87.6838243713928,-87.6852265805162,-87.6873701509231],\"mode\":\"lines\",\"type\":\"scattermapbox\"},{\"hoverinfo\":\"none\",\"lat\":[41.8757696802508,41.8757424270658,41.8756626315014,41.8756589675165,41.8756432797114],\"line\":{\"color\":\"#00a8df\",\"width\":3},\"lon\":[-87.6675368284109,-87.6688701883381,-87.672759370859,-87.6733650075607,-87.6739516424767],\"mode\":\"lines\",\"type\":\"scattermapbox\"},{\"hoverinfo\":\"none\",\"lat\":[41.9033629413559,41.9044112861115,41.904659357178,41.9051458539229,41.9053847089596,41.90561097324,41.907266435315,41.9086079712072,41.9097516489735],\"line\":{\"color\":\"#00a8df\",\"width\":3},\"lon\":[-87.6665018309868,-87.668281703585,-87.6690057704408,-87.6701486184956,-87.6706411116894,-87.67104147698,-87.6736336542031,-87.675726179192,-87.6774424221587],\"mode\":\"lines\",\"type\":\"scattermapbox\"},{\"hoverinfo\":\"none\",\"lat\":[41.8911971490473,41.8918490386958,41.8923769537034,41.8930319534362,41.8939853758835,41.8946035421593,41.8952097643835,41.8958580901543,41.896083092569],\"line\":{\"color\":\"#00a8df\",\"width\":3},\"lon\":[-87.6475840672401,-87.6485916509231,-87.6494287070149,-87.6504489194808,-87.6519348067301,-87.6528532425993,-87.653806067441,-87.6548515267684,-87.6552200373308],\"mode\":\"lines\",\"type\":\"scattermapbox\"},{\"hoverinfo\":\"none\",\"lat\":[41.9437170111757,41.9437098367334,41.9436944303418,41.9436937193428,41.9437095348456,41.9437345847406,41.9437716531629,41.9438081719587,41.9438712222653,41.9439413811072,41.9440496703395,41.9441505564286,41.9442440587444,41.9443895787758,41.9445591765977,41.944745393491,41.9449482102726,41.9451389525021,41.9459704505681,41.9470365188989],\"line\":{\"color\":\"#7b4213\",\"width\":3},\"lon\":[-87.6708897113686,-87.6715059555796,-87.6723449257479,-87.6726352905498,-87.6728999596817,-87.6731134810204,-87.6733460230317,-87.6734828486337,-87.6736768343428,-87.6738643664808,-87.6740546959502,-87.674200432446,-87.6743047640627,-87.6744245152383,-87.6745057296896,-87.6745772005075,-87.6746357380614,-87.6746656823528,-87.6746890327881,-87.6747418779021],\"mode\":\"lines\",\"type\":\"scattermapbox\"},{\"hoverinfo\":\"none\",\"lat\":[41.9438201193626,41.9437977236166,41.9437902680828,41.943775970844,41.9437345509983,41.9437170111757],\"line\":{\"color\":\"#7b4213\",\"width\":3},\"lon\":[-87.6636153263714,-87.6650864970154,-87.6658523544935,-87.6674925486257,-87.6693898787371,-87.6708897113686],\"mode\":\"lines\",\"type\":\"scattermapbox\"},{\"hoverinfo\":\"none\",\"lat\":[41.9250592275336,41.9253763474654,41.9259991058643,41.9271566525525,41.9276859488844,41.9284259891579,41.9287106367659,41.929515362593,41.9303095898094,41.9309095969421,41.9315225429246,41.9321848302485,41.9327393618077],\"line\":{\"color\":\"#7b4213\",\"width\":3},\"lon\":[-87.6528715981382,-87.6528808292875,-87.6528971050489,-87.6529273609531,-87.652941199255,-87.6529605446977,-87.6529679851635,-87.6529989356317,-87.6530294798492,-87.6530525596719,-87.6530761341678,-87.6531016107008,-87.6531366197265],\"mode\":\"lines\",\"type\":\"scattermapbox\"},{\"hoverinfo\":\"none\",\"lat\":[41.9251292275336,41.9254463474654,41.9260691058643,41.9272266525525,41.9277559488844,41.9284959891579,41.9287806367659,41.929585362593,41.9303795898094,41.9309795969421,41.9315925429246,41.9322548302485,41.9328093618077],\"line\":{\"color\":\"#492f8a\",\"width\":3},\"lon\":[-87.6528215981382,-87.6528308292875,-87.65284710504889,-87.6528773609531,-87.652891199255,-87.6529105446977,-87.6529179851635,-87.6529489356317,-87.6529794798492,-87.6530025596719,-87.6530261341678,-87.6530516107008,-87.6530866197265],\"mode\":\"lines\",\"type\":\"scattermapbox\"},{\"hoverinfo\":\"none\",\"lat\":[41.925199227533604,41.925516347465404,41.9261391058643,41.9272966525525,41.927825948884404,41.9285659891579,41.9288506367659,41.929655362593,41.9304495898094,41.9310495969421,41.9316625429246,41.932324830248504,41.9328793618077],\"line\":{\"color\":\"#fa0034\",\"width\":3},\"lon\":[-87.6527715981382,-87.6527808292875,-87.65279710504889,-87.6528273609531,-87.652841199255,-87.6528605446977,-87.6528679851635,-87.6528989356317,-87.65292947984919,-87.6529525596719,-87.6529761341678,-87.6530016107008,-87.65303661972649],\"mode\":\"lines\",\"type\":\"scattermapbox\"},{\"hoverinfo\":\"none\",\"lat\":[41.9835120944546,41.9845098358284,41.9876094198266,41.9888197390807,41.9902673647687],\"line\":{\"color\":\"#fb003d\",\"width\":3},\"lon\":[-87.6588460537024,-87.6588793579021,-87.6589891177563,-87.6590201831818,-87.6590816285986],\"mode\":\"lines\",\"type\":\"scattermapbox\"},{\"hoverinfo\":\"none\",\"lat\":[41.983582094454604,41.9845798358284,41.9876794198266,41.9888897390807,41.9903373647687],\"line\":{\"color\":\"#492f8a\",\"width\":3},\"lon\":[-87.6587960537024,-87.65882935790209,-87.6589391177563,-87.6589701831818,-87.6590316285986],\"mode\":\"lines\",\"type\":\"scattermapbox\"},{\"hoverinfo\":\"none\",\"lat\":[42.0158840544707,42.0165846709156,42.0169843171896,42.0173336272166,42.0178579126384,42.0181505958372,42.0186032347881,42.019071094732],\"line\":{\"color\":\"#fb003d\",\"width\":3},\"lon\":[-87.6690978869621,-87.6698879050711,-87.67037087959,-87.6707930195656,-87.6714266380863,-87.6717803568046,-87.672330047723,-87.6728982270991],\"mode\":\"lines\",\"type\":\"scattermapbox\"},{\"hoverinfo\":\"none\",\"lat\":[42.015954054470704,42.0166546709156,42.017054317189604,42.0174036272166,42.0179279126384,42.0182205958372,42.0186732347881,42.019141094732],\"line\":{\"color\":\"#492f8a\",\"width\":3},\"lon\":[-87.6690478869621,-87.6698379050711,-87.67032087959,-87.67074301956559,-87.6713766380863,-87.6717303568046,-87.67228004772299,-87.6728482270991],\"mode\":\"lines\",\"type\":\"scattermapbox\"},{\"hoverinfo\":\"none\",\"lat\":[41.8755754792177,41.8756161324327,41.8756364933528,41.8756733120153,41.8757484884496,41.8758690374278,41.8759847311396,41.8763141173806,41.876506141283,41.8768512306791,41.8768939929018,41.8781903710703],\"line\":{\"color\":\"#00a8df\",\"width\":3},\"lon\":[-87.6317278263445,-87.6296960270064,-87.6295537493324,-87.6294264023209,-87.6292915290375,-87.6292324275112,-87.6292265328681,-87.6292396093683,-87.6292459331987,-87.6292573027298,-87.6292587102634,-87.629301413904],\"mode\":\"lines\",\"type\":\"scattermapbox\"},{\"hoverinfo\":\"none\",\"lat\":[41.8673755182111,41.8692224954718,41.8707712200847,41.8718985879038,41.8730650969251,41.8740470967729],\"line\":{\"color\":\"#fb003d\",\"width\":3},\"lon\":[-87.6274081308717,-87.627457162117,-87.6274747981021,-87.6274623946697,-87.6274929068507,-87.6274848644505],\"mode\":\"lines\",\"type\":\"scattermapbox\"},{\"hoverinfo\":\"none\",\"lat\":[41.8916730572819,41.8923420579087,41.8941267033572,41.8956308126668,41.8966790696385],\"line\":{\"color\":\"#fb003d\",\"width\":3},\"lon\":[-87.6280270087574,-87.6280452509893,-87.6280939169549,-87.6281349366155,-87.6281821040788],\"mode\":\"lines\",\"type\":\"scattermapbox\"},{\"hoverinfo\":\"none\",\"lat\":[41.7951844940029,41.7956837856263,41.7970433747262,41.7993329526204,41.801564191219,41.8020994255918],\"line\":{\"color\":\"#00a447\",\"width\":3},\"lon\":[-87.6183298460096,-87.6183447057973,-87.618370001935,-87.6184553763046,-87.6184987898919,-87.6185073393227],\"mode\":\"lines\",\"type\":\"scattermapbox\"},{\"hoverinfo\":\"none\",\"lat\":[41.8871672452821,41.8872020706439,41.8872181483114,41.8872354763976,41.8872411079406,41.8872642724949,41.8872756249269,41.8872995914886,41.8873006319817],\"line\":{\"color\":\"#00a447\",\"width\":3},\"lon\":[-87.7836668281808,-87.7824817594737,-87.7810103392744,-87.7798021878189,-87.7785709066705,-87.7773781924243,-87.7761391170302,-87.7751167512997,-87.77414104894],\"mode\":\"lines\",\"type\":\"scattermapbox\"},{\"hoverinfo\":\"none\",\"lat\":[41.8873968612886,41.8873945993042,41.8874186256139,41.8874463835005,41.8874479930409,41.8874832539613,41.8875092939601,41.8875022647728,41.8874834313345,41.8874532189814,41.8874230838045,41.8873870054288,41.8873099974001,41.8872442872388,41.8871842848114,41.8871710740841],\"line\":{\"color\":\"#00a447\",\"width\":3},\"lon\":[-87.7656552971061,-87.7651372933457,-87.7640036218144,-87.7626017795213,-87.7607805258522,-87.7584639693801,-87.7578156550901,-87.7575679222416,-87.7572738336126,-87.7570185666511,-87.7567787845061,-87.7565080831183,-87.7561525695251,-87.7557427495119,-87.755317392476,-87.7549922824435],\"mode\":\"lines\",\"type\":\"scattermapbox\"},{\"hoverinfo\":\"none\",\"lat\":[41.8519325583217,41.851968503945,41.8520245164762,41.8520380329514,41.8520448462345,41.852056471844,41.8520771052723,41.8521068696503,41.8521437176283,41.8522113946983,41.8523290970447,41.8524160042836,41.8526039288724,41.8530879273716,41.8533367881823,41.8534166107441,41.8534838533749,41.8535493212068,41.8536206356013,41.8536690512711,41.8537005869306,41.8537231149513,41.8537364734085,41.8537417427949,41.853758531126],\"line\":{\"color\":\"#f68eb9\",\"width\":3},\"lon\":[-87.745347791325,-87.7425313548541,-87.7398807252761,-87.7390394453871,-87.7379401469842,-87.7377703755894,-87.7376148568796,-87.7374974875691,-87.7373681052412,-87.7371770569122,-87.7369410254465,-87.7368183460315,-87.7365952201439,-87.7361597203026,-87.7359160457707,-87.7358053775665,-87.7356804871432,-87.7355580034303,-87.7353906967786,-87.7352199397426,-87.7351001618586,-87.7349661275023,-87.7347867743712,-87.7346101700615,-87.7332694370623],\"mode\":\"lines\",\"type\":\"scattermapbox\"},{\"hoverinfo\":\"none\",\"lat\":[41.8738965719657,41.8738829797543,41.8738361887533,41.8738158555208,41.8737807900074,41.8737036201091,41.8736141389339,41.8734823550825,41.8733851448559,41.8730688085222,41.8728776485503,41.8724391648676,41.8723066162331,41.8721509116932,41.872072313797,41.8719798535164,41.8719153433263,41.8717959580288,41.8717459424329,41.8717104069366,41.8716916734633,41.8716745785672,41.8716418872692,41.8716119095561,41.8716158968258],\"line\":{\"color\":\"#00a8df\",\"width\":3},\"lon\":[-87.7256307080426,-87.7270717436635,-87.7302692941833,-87.7326846566776,-87.7331894595843,-87.7337545607139,-87.734218882711,-87.73470566818,-87.7350439396361,-87.7358414280226,-87.7362404757199,-87.7371147571627,-87.7374565013504,-87.7378772811565,-87.7381712290738,-87.7385189023316,-87.7388032596148,-87.7394128697069,-87.7397664530544,-87.7401861125962,-87.7406655210004,-87.7414633524529,-87.7438125347299,-87.7448595593955,-87.7451779610035],\"mode\":\"lines\",\"type\":\"scattermapbox\"},{\"hoverinfo\":\"none\",\"lat\":[41.853758531126,41.8538219699796,41.8538744345109,41.8538829773828,41.8538646760374],\"line\":{\"color\":\"#f68eb9\",\"width\":3},\"lon\":[-87.7332694370623,-87.7299563769573,-87.7273654374217,-87.7259386985672,-87.7243325009003],\"mode\":\"lines\",\"type\":\"scattermapbox\"},{\"hoverinfo\":\"none\",\"lat\":[41.8854198277098,41.8853755871841,41.8852827471217,41.8852521571195,41.8852035307016,41.8851648140234,41.8851135438527,41.8849284296125,41.8849122292596],\"line\":{\"color\":\"#00a447\",\"width\":3},\"lon\":[-87.7254095452949,-87.7246225116525,-87.7229711027904,-87.722427069164,-87.7215623434456,-87.7208739864845,-87.7199624981829,-87.7168048510845,-87.7165286096911],\"mode\":\"lines\",\"type\":\"scattermapbox\"},{\"hoverinfo\":\"none\",\"lat\":[41.9381395288976,41.9392724027975,41.9401494455137,41.9404661277536,41.9406613215543,41.9409179632336,41.9411016057901,41.9412735224463,41.9414334469249,41.941569037573,41.94173769941,41.9418618288454,41.9419636721631,41.9421399035331,41.9423126529826,41.9425618791987,41.9427947014143,41.9430055878994,41.9432281609156,41.9434053039452,41.9435822582438,41.943802243615,41.9441727048765,41.9445717857826,41.9449922686713,41.9453673901842,41.9456947520683,41.946105774346,41.9464163767658,41.9466699124042,41.9469471820706,41.947071660947,41.9472080846424,41.9473679633494],\"line\":{\"color\":\"#00a8df\",\"width\":3},\"lon\":[-87.7123651312808,-87.7124001103675,-87.712423180098,-87.7124852957727,-87.7125811808804,-87.7127905461454,-87.7130006230448,-87.7132922976991,-87.7136166833012,-87.7139413060271,-87.7142839979862,-87.7145287859115,-87.7147360365382,-87.7150336075912,-87.715299647644,-87.7156286890353,-87.7159400024225,-87.7161740807041,-87.716366568316,-87.7165275882294,-87.7166535117409,-87.716807738691,-87.7170370969344,-87.7172725630511,-87.7175014440981,-87.7177116195517,-87.717899920668,-87.7181416649785,-87.7183141773133,-87.7185063849921,-87.7186824118828,-87.7187960889401,-87.7189160339756,-87.7191050859651],\"mode\":\"lines\",\"type\":\"scattermapbox\"},{\"hoverinfo\":\"none\",\"lat\":[41.8544046838239,41.8544362075553,41.8544413476568,41.8544502172694,41.8545227088584],\"line\":{\"color\":\"#f68eb9\",\"width\":3},\"lon\":[-87.6851849849327,-87.683223037574,-87.6829121560472,-87.6823504472796,-87.6759798572999],\"mode\":\"lines\",\"type\":\"scattermapbox\"},{\"hoverinfo\":\"none\",\"lat\":[41.9161652859286,41.9171558931342,41.9184738249834,41.9202456681766,41.9219470285986],\"line\":{\"color\":\"#00a8df\",\"width\":3},\"lon\":[-87.6873701509231,-87.6889733390835,-87.6911341364129,-87.6940678446929,-87.6968955718318],\"mode\":\"lines\",\"type\":\"scattermapbox\"},{\"hoverinfo\":\"none\",\"lat\":[42.0276197249624,42.0289513939389,42.0306082149437,42.0321241055177,42.0334635884778],\"line\":{\"color\":\"#492f8a\",\"width\":3},\"lon\":[-87.6783351948529,-87.678560485524,-87.6789212739364,-87.6792646334169,-87.679543702829],\"mode\":\"lines\",\"type\":\"scattermapbox\"},{\"hoverinfo\":\"none\",\"lat\":[42.0639944250275,42.0641932813115,42.0648012619318,42.0655719440482,42.0661175761142,42.067003010657,42.0682328675318,42.0687933084156,42.0694124038418,42.0701330077854,42.0706723989518,42.0711263655958,42.071623063235,42.0724026787428,42.0731606457274],\"line\":{\"color\":\"#492f8a\",\"width\":3},\"lon\":[-87.685623041275,-87.6857373638205,-87.6860868977128,-87.6865159556763,-87.6868197275648,-87.6873126981296,-87.6879209423745,-87.6882152497019,-87.6885303872938,-87.6889159326667,-87.6892533182311,-87.6895415780096,-87.6898579796748,-87.6903286680214,-87.6907353054427],\"mode\":\"lines\",\"type\":\"scattermapbox\"},{\"hoverinfo\":\"none\",\"lat\":[42.0541681048939,42.0546411820095,42.0553057345201,42.0557789827407,42.0569161403153,42.0573948073208,42.0579467024884,42.058290351857],\"line\":{\"color\":\"#492f8a\",\"width\":3},\"lon\":[-87.6835661099688,-87.6835461678929,-87.6835167147352,-87.6835270104277,-87.6833944721838,-87.6833669164772,-87.6833386135306,-87.683342663302],\"mode\":\"lines\",\"type\":\"scattermapbox\"},{\"hoverinfo\":\"none\",\"lat\":[42.058290351857,42.0584536625017,42.0585719960976,42.0590283853537,42.0594004143006,42.0596372090098,42.0600265192185,42.0602634868552,42.060438406539,42.0605343777222,42.0606641928947,42.0608674456334,42.0614890733772,42.0627491372526,42.0639944250275],\"line\":{\"color\":\"#492f8a\",\"width\":3},\"lon\":[-87.683342663302,-87.6833334434788,-87.6833397910527,-87.6833578168459,-87.6833993762473,-87.6834347569669,-87.6835441778077,-87.6836097976747,-87.6836609280275,-87.6836977481254,-87.6837417816172,-87.6838228642123,-87.6841718218556,-87.6848544753557,-87.685623041275],\"mode\":\"lines\",\"type\":\"scattermapbox\"},{\"hoverinfo\":\"none\",\"lat\":[41.8469092882045,41.8462642476827,41.8459871888241,41.8457856321251,41.8455543719502,41.8453985576414,41.8452423999342,41.8450880366094,41.8449263173554,41.8446425956399,41.8429549715722,41.8425173444576,41.84081101342,41.839363723964],\"line\":{\"color\":\"#fe9307\",\"width\":3},\"lon\":[-87.6481368571609,-87.6494244695188,-87.650102829113,-87.6506593145526,-87.6514295657738,-87.6520683916214,-87.6526498728812,-87.6531325700833,-87.6535803001548,-87.6543447132177,-87.6578031488849,-87.6587316084179,-87.6622728359902,-87.6653174204984],\"mode\":\"lines\",\"type\":\"scattermapbox\"},{\"hoverinfo\":\"none\",\"lat\":[41.8545227088584,41.8545470261727,41.8545651688832,41.8546069973157,41.8546121453378,41.8546259532622,41.8546355170299,41.8546530356365,41.8546711521046,41.8546993284548,41.8547214654111,41.8547449586581,41.8548201796776,41.8548682037664,41.8549381664289,41.8549972868551,41.855049070275,41.8551054339692,41.8551826677879,41.8552199968565,41.8553331835699,41.8579155564504],\"line\":{\"color\":\"#f68eb9\",\"width\":3},\"lon\":[-87.6759798572999,-87.6746108094074,-87.6735788240655,-87.6699607038229,-87.6699003550608,-87.6698163888885,-87.6697589364935,-87.6696971760483,-87.6696468006215,-87.6695759207333,-87.6695276569067,-87.6694813299482,-87.6693702559227,-87.6693094634086,-87.6692396212994,-87.6691963625057,-87.6691745760153,-87.6691481573955,-87.6691223838502,-87.6691131738138,-87.669103178848,-87.6691658845026],\"mode\":\"lines\",\"type\":\"scattermapbox\"},{\"hoverinfo\":\"none\",\"lat\":[41.9397586084045,41.9399216372874,41.940840272411,41.9414647108029,41.9418602102823,41.9421846769564],\"line\":{\"color\":\"#7b4213\",\"width\":3},\"lon\":[-87.6533862517653,-87.6533887536253,-87.6534028442674,-87.6534286804638,-87.6534476974301,-87.6534596813753],\"mode\":\"lines\",\"type\":\"scattermapbox\"},{\"hoverinfo\":\"none\",\"lat\":[41.939828608404504,41.9399916372874,41.940910272411,41.9415347108029,41.9419302102823,41.9422546769564],\"line\":{\"color\":\"#492f8a\",\"width\":3},\"lon\":[-87.6533362517653,-87.65333875362529,-87.6533528442674,-87.6533786804638,-87.6533976974301,-87.6534096813753],\"mode\":\"lines\",\"type\":\"scattermapbox\"},{\"hoverinfo\":\"none\",\"lat\":[41.939898608404505,41.9400616372874,41.940980272411004,41.9416047108029,41.9420002102823,41.9423246769564],\"line\":{\"color\":\"#fa0034\",\"width\":3},\"lon\":[-87.6532862517653,-87.65328875362529,-87.6533028442674,-87.6533286804638,-87.65334769743009,-87.65335968137529],\"mode\":\"lines\",\"type\":\"scattermapbox\"},{\"hoverinfo\":\"none\",\"lat\":[41.9617595773874,41.9637192525799,41.9643720442424,41.9646198434608,41.9647770723165,41.9649176829547,41.9650416287474,41.9651968230544,41.9653701904131,41.9654787201669,41.9656533545041,41.9657969871726,41.9659696046719,41.9661234215201,41.9662392187428,41.9663288859346,41.9663878056218,41.966410767265,41.9664213709183,41.9664299758425,41.9664188391096],\"line\":{\"color\":\"#7b4213\",\"width\":3},\"lon\":[-87.6751711612231,-87.6751956774495,-87.6752113016799,-87.6752215181521,-87.6752230920172,-87.6752344117038,-87.6752475001477,-87.6753097396432,-87.6753967942043,-87.6754504703842,-87.675579538729,-87.6757025437238,-87.6758954727503,-87.6761332812695,-87.6763874394609,-87.6766546364102,-87.6769604522093,-87.6772267377913,-87.6774149505249,-87.677670212566,-87.6786406582611],\"mode\":\"lines\",\"type\":\"scattermapbox\"},{\"hoverinfo\":\"none\",\"lat\":[41.9642625598462,41.9657842270065,41.9661893250597,41.9664977869133,41.9666978892334,41.9668893707426,41.9674668290406,41.9683840105696,41.9691468073954],\"line\":{\"color\":\"#fb003d\",\"width\":3},\"lon\":[-87.6577401341247,-87.6582045477273,-87.6583195458828,-87.6583566996581,-87.6583643542459,-87.6583900508923,-87.6584278561688,-87.6584713355362,-87.6584987290284],\"mode\":\"lines\",\"type\":\"scattermapbox\"},{\"hoverinfo\":\"none\",\"lat\":[41.9643325598462,41.9658542270065,41.9662593250597,41.9665677869133,41.9667678892334,41.9669593707426,41.967536829040604,41.9684540105696,41.9692168073954],\"line\":{\"color\":\"#492f8a\",\"width\":3},\"lon\":[-87.65769013412469,-87.65815454772729,-87.6582695458828,-87.6583066996581,-87.6583143542459,-87.65834005089229,-87.6583778561688,-87.6584213355362,-87.6584487290284],\"mode\":\"lines\",\"type\":\"scattermapbox\"},{\"hoverinfo\":\"none\",\"lat\":[41.9779918604896,41.9796765259214,41.9806006862315,41.9818519561937,41.9835120944546],\"line\":{\"color\":\"#fb003d\",\"width\":3},\"lon\":[-87.6586741876597,-87.6587221563387,-87.6587562352474,-87.6587978213343,-87.6588460537024],\"mode\":\"lines\",\"type\":\"scattermapbox\"},{\"hoverinfo\":\"none\",\"lat\":[41.9780618604896,41.9797465259214,41.9806706862315,41.9819219561937,41.983582094454604],\"line\":{\"color\":\"#492f8a\",\"width\":3},\"lon\":[-87.6586241876597,-87.6586721563387,-87.6587062352474,-87.6587478213343,-87.6587960537024],\"mode\":\"lines\",\"type\":\"scattermapbox\"},{\"hoverinfo\":\"none\",\"lat\":[41.8587665624876,41.8601694850312,41.8618961005937,41.8657409183868,41.8674128120025],\"line\":{\"color\":\"#00a447\",\"width\":3},\"lon\":[-87.6264237360407,-87.6264784236417,-87.6265053409609,-87.6265690369676,-87.6265956346338],\"mode\":\"lines\",\"type\":\"scattermapbox\"},{\"hoverinfo\":\"none\",\"lat\":[41.8588365624876,41.8602394850312,41.8619661005937,41.8658109183868,41.8674828120025],\"line\":{\"color\":\"#fe9307\",\"width\":3},\"lon\":[-87.6263737360407,-87.6264284236417,-87.6264553409609,-87.6265190369676,-87.6265456346338],\"mode\":\"lines\",\"type\":\"scattermapbox\"},{\"hoverinfo\":\"none\",\"lat\":[41.8755467574394,41.8756118157876,41.8755764756845,41.8755754792177],\"line\":{\"color\":\"#00a8df\",\"width\":3},\"lon\":[-87.6409899691766,-87.6373045236955,-87.6336313201932,-87.6317278263445],\"mode\":\"lines\",\"type\":\"scattermapbox\"},{\"hoverinfo\":\"none\",\"lat\":[41.8767114751458,41.8768140382881,41.8768883119553,41.8769534307927,41.8769683310257,41.8769671538071,41.8769399642897,41.8769161943032],\"line\":{\"color\":\"#7b4213\",\"width\":3},\"lon\":[-87.6260357842179,-87.6260569653438,-87.6261262690023,-87.626256236003,-87.6263548817916,-87.6265018021264,-87.6275729326653,-87.6282148945424],\"mode\":\"lines\",\"type\":\"scattermapbox\"},{\"hoverinfo\":\"none\",\"lat\":[41.8767814751458,41.876884038288104,41.8769583119553,41.877023430792704,41.8770383310257,41.8770371538071,41.8770099642897,41.8769861943032],\"line\":{\"color\":\"#fe9307\",\"width\":3},\"lon\":[-87.6259857842179,-87.6260069653438,-87.6260762690023,-87.626206236003,-87.6263048817916,-87.6264518021264,-87.6275229326653,-87.6281648945424],\"mode\":\"lines\",\"type\":\"scattermapbox\"},{\"hoverinfo\":\"none\",\"lat\":[41.8768514751458,41.876954038288105,41.8770283119553,41.877093430792705,41.8771083310257,41.8771071538071,41.8770799642897,41.8770561943032],\"line\":{\"color\":\"#ff85bc\",\"width\":3},\"lon\":[-87.6259357842179,-87.6259569653438,-87.6260262690023,-87.626156236003,-87.6262548817916,-87.6264018021264,-87.6274729326653,-87.62811489454239],\"mode\":\"lines\",\"type\":\"scattermapbox\"},{\"hoverinfo\":\"none\",\"lat\":[41.8769214751458,41.877024038288106,41.8770983119553,41.877163430792706,41.8771783310257,41.877177153807104,41.8771499642897,41.8771261943032],\"line\":{\"color\":\"#492f8a\",\"width\":3},\"lon\":[-87.6258857842179,-87.6259069653438,-87.6259762690023,-87.626106236003,-87.6262048817916,-87.6263518021264,-87.6274229326653,-87.62806489454239],\"mode\":\"lines\",\"type\":\"scattermapbox\"},{\"hoverinfo\":\"none\",\"lat\":[41.9182244264862,41.9211364241568,41.9217260616863,41.92353017732,41.9250592275336],\"line\":{\"color\":\"#7b4213\",\"width\":3},\"lon\":[-87.6526500672848,-87.6527469042993,-87.6527656386748,-87.6528229642588,-87.6528715981382],\"mode\":\"lines\",\"type\":\"scattermapbox\"},{\"hoverinfo\":\"none\",\"lat\":[41.9182944264862,41.9212064241568,41.9217960616863,41.923600177320004,41.9251292275336],\"line\":{\"color\":\"#492f8a\",\"width\":3},\"lon\":[-87.6526000672848,-87.6526969042993,-87.65271563867479,-87.6527729642588,-87.6528215981382],\"mode\":\"lines\",\"type\":\"scattermapbox\"},{\"hoverinfo\":\"none\",\"lat\":[41.9183644264862,41.9212764241568,41.9218660616863,41.923670177320005,41.925199227533604],\"line\":{\"color\":\"#fa0034\",\"width\":3},\"lon\":[-87.65255006728479,-87.6526469042993,-87.65266563867479,-87.6527229642588,-87.6527715981382],\"mode\":\"lines\",\"type\":\"scattermapbox\"},{\"hoverinfo\":\"none\",\"lat\":[41.9140673299076,41.9137730836003,41.9136264651873,41.9135149417216,41.9133961386209,41.9132248572043,41.9126087201913,41.9120382359277,41.9118052253065,41.9117218841454,41.9116526164163,41.9116096633792,41.9115878949352,41.9115349068031,41.9115077452326,41.9115067479569,41.9115125989286,41.9115201521654,41.9115077393135,41.9114668600671,41.9113930249134,41.911228126792,41.9111325967675,41.9110204323521,41.9108660579131,41.9107150068058,41.9106205517044,41.9105187949831,41.9104521838048,41.9104045133539,41.9103707445252,41.9103462576849,41.910337868781,41.9103404896512,41.9103495974548,41.9103485441132,41.9103710542028,41.910394993052,41.9104048701074,41.9104088283362,41.9104128464045,41.9104170378312],\"line\":{\"color\":\"#7b4213\",\"width\":3},\"lon\":[-87.6525061864663,-87.6524276223111,-87.6523498002798,-87.6522341676071,-87.6520838834066,-87.6518331270872,-87.6509319879094,-87.6501740293122,-87.6498544849155,-87.6497196159131,-87.6495719686659,-87.6494871851752,-87.649395859646,-87.6492101529052,-87.6490052298705,-87.6488379125531,-87.6486326345418,-87.6479221974991,-87.6478181441621,-87.6476859819975,-87.6475636431196,-87.6474542423926,-87.6474102530748,-87.6473964463357,-87.6473830144269,-87.647362531993,-87.6473414436703,-87.6472825490748,-87.6471853914076,-87.6471006604218,-87.6469747394846,-87.6468234617461,-87.6466493202433,-87.6464617540246,-87.6458095903011,-87.6452354245265,-87.64348457786,-87.6425554203495,-87.6410055278554,-87.6403836214143,-87.6397519077655,-87.63930792093],\"mode\":\"lines\",\"type\":\"scattermapbox\"},{\"hoverinfo\":\"none\",\"lat\":[41.914137329907604,41.9138430836003,41.9136964651873,41.9135849417216,41.9134661386209,41.9132948572043,41.9126787201913,41.912108235927704,41.9118752253065,41.9117918841454,41.9117226164163,41.9116796633792,41.9116578949352,41.9116049068031,41.9115777452326,41.9115767479569,41.911582598928604,41.9115901521654,41.9115777393135,41.9115368600671,41.9114630249134,41.911298126792,41.9112025967675,41.911090432352104,41.9109360579131,41.9107850068058,41.9106905517044,41.9105887949831,41.9105221838048,41.910474513353904,41.910440744525204,41.9104162576849,41.910407868781,41.9104104896512,41.9104195974548,41.9104185441132,41.9104410542028,41.910464993052,41.9104748701074,41.9104788283362,41.9104828464045,41.9104870378312],\"line\":{\"color\":\"#492f8a\",\"width\":3},\"lon\":[-87.6524561864663,-87.65237762231109,-87.65229980027979,-87.6521841676071,-87.6520338834066,-87.6517831270872,-87.6508819879094,-87.6501240293122,-87.64980448491549,-87.6496696159131,-87.6495219686659,-87.6494371851752,-87.649345859646,-87.6491601529052,-87.6489552298705,-87.6487879125531,-87.6485826345418,-87.6478721974991,-87.6477681441621,-87.6476359819975,-87.6475136431196,-87.6474042423926,-87.6473602530748,-87.6473464463357,-87.64733301442689,-87.647312531993,-87.6472914436703,-87.6472325490748,-87.6471353914076,-87.6470506604218,-87.6469247394846,-87.6467734617461,-87.6465993202433,-87.6464117540246,-87.6457595903011,-87.6451854245265,-87.64343457785999,-87.6425054203495,-87.6409555278554,-87.6403336214143,-87.6397019077655,-87.63925792092999],\"mode\":\"lines\",\"type\":\"scattermapbox\"},{\"hoverinfo\":\"none\",\"lat\":[41.7803166054758,41.7802524911387,41.780180312646,41.7801375547008],\"line\":{\"color\":\"#00a447\",\"width\":3},\"lon\":[-87.6058631507948,-87.6097114577922,-87.6122941986811,-87.615551619367],\"mode\":\"lines\",\"type\":\"scattermapbox\"},{\"hoverinfo\":\"none\",\"lat\":[41.7874761907081,41.7889732480926,41.7893149100788,41.7915420965828,41.7933011190375,41.7951844940029],\"line\":{\"color\":\"#00a447\",\"width\":3},\"lon\":[-87.6181489384272,-87.6181820806466,-87.6181460715507,-87.6182325966463,-87.6182774730644,-87.6183298460096],\"mode\":\"lines\",\"type\":\"scattermapbox\"},{\"hoverinfo\":\"none\",\"lat\":[41.8531229334703,41.8533266254867,41.8553850504839,41.8564690587965,41.8580771650976,41.8583966601269,41.8587665624876],\"line\":{\"color\":\"#00a447\",\"width\":3},\"lon\":[-87.6264081313519,-87.626412641793,-87.6264505147781,-87.6264704423312,-87.6264941576751,-87.6264615219085,-87.6264237360407],\"mode\":\"lines\",\"type\":\"scattermapbox\"},{\"hoverinfo\":\"none\",\"lat\":[41.9823312318923,41.9823217774328,41.982297739238,41.9822901240763,41.9823156099748,41.9823570060889,41.9824633350357,41.9825436806288,41.9826657637023,41.9828410411783,41.9830642604839,41.9832674801221,41.9834494946967,41.983582930876,41.9837562861116,41.9838964511552,41.9840442848825,41.9841706871022,41.9843208567689,41.9844426493818,41.9845135574218,41.9845558195103,41.9845810635035,41.9845443876895,41.9844749469898,41.9844031661258,41.9843479683163,41.9843019186394],\"line\":{\"color\":\"#00a8df\",\"width\":3},\"lon\":[-87.8089007487516,-87.8098491614055,-87.811128687808,-87.8124865944581,-87.8130406090721,-87.8135575461606,-87.8142094342945,-87.8147045046747,-87.815285449679,-87.81594602165,-87.8168543856832,-87.8177335270674,-87.8186128448431,-87.8194948063276,-87.8207589159334,-87.8217954444811,-87.8230089653126,-87.8240548505925,-87.8252822188699,-87.8268500602099,-87.82834440994,-87.8295972784571,-87.8311643528174,-87.8327611656908,-87.8342242901192,-87.8356181506017,-87.8367920909434,-87.8380318065809],\"mode\":\"lines\",\"type\":\"scattermapbox\"},{\"hoverinfo\":\"none\",\"lat\":[41.8721158174934,41.8722203090334,41.8725146941129,41.8729749289432,41.8732566774028,41.873371009916,41.873497893919],\"line\":{\"color\":\"#00a8df\",\"width\":3},\"lon\":[-87.7916079460048,-87.7927959505532,-87.7963602352753,-87.8015234050115,-87.8044891515149,-87.8056928728303,-87.8069666736692],\"mode\":\"lines\",\"type\":\"scattermapbox\"},{\"hoverinfo\":\"none\",\"lat\":[41.8849122292596,41.8848821842202,41.8848403933146,41.8847966268767,41.8847729174257,41.8846939829365,41.8846613081215,41.8846067641269,41.8845141603897,41.8844724122424,41.8844056613917,41.8843603581371,41.8843289474067],\"line\":{\"color\":\"#00a447\",\"width\":3},\"lon\":[-87.7165286096911,-87.7160162608626,-87.7153037134362,-87.7145575299711,-87.7141481417492,-87.7126851276266,-87.7120796015281,-87.7110689614358,-87.7093534121539,-87.708580191318,-87.707454590637,-87.7066907048117,-87.7061611915269],\"mode\":\"lines\",\"type\":\"scattermapbox\"},{\"hoverinfo\":\"none\",\"lat\":[41.8295679306378,41.8288883975192,41.8273043988861,41.8270380886898,41.8268495564978,41.8266702456499,41.8264999770364,41.826289160491,41.8261135712157,41.8258902150689,41.8255809617991,41.8254380572627,41.8252593319369,41.8249897837066,41.8248536130059,41.8246290176087,41.8242654569471,41.8231892245505,41.820589336673,41.8185971702935,41.8165551621793,41.8161133974069,41.8156860151152,41.8151921702546,41.8148177003093,41.8146341735695,41.8142550840797,41.8118964036464,41.8108932893557,41.8086942409605,41.8069406707267,41.8066740268359,41.8064122723526,41.8061792844475,41.8059204201359,41.8057400902864,41.8055292280235,41.8053210733114,41.8051392478755,41.8049744026492,41.8048760736684,41.8047691180268,41.804723245901,41.8047010677319,41.8047117836201,41.8046913979137],\"line\":{\"color\":\"#fe9307\",\"width\":3},\"lon\":[-87.6805931282853,-87.681749656044,-87.6843009467936,-87.684810042731,-87.6851718436698,-87.6854794048433,-87.6857008811124,-87.6859132106134,-87.6860360060685,-87.6861369875283,-87.6862133538955,-87.6862179780217,-87.6862070375714,-87.6861428709279,-87.6860741751975,-87.6859554137294,-87.685694736507,-87.6849412411501,-87.6830917246594,-87.6817138706735,-87.6803716360881,-87.6801850595031,-87.6800142597528,-87.6798855358577,-87.6798033658508,-87.6797861256333,-87.6797294774944,-87.6796738518176,-87.6796362887429,-87.6795854120391,-87.6795363780015,-87.6795645596975,-87.6796149802675,-87.6796969466608,-87.6798364855215,-87.6799624889866,-87.6801652160802,-87.6804252238945,-87.6807072499912,-87.6810432274344,-87.6813466907937,-87.6818094316772,-87.6821219125939,-87.6824118674172,-87.683042159271,-87.6840707456663],\"mode\":\"lines\",\"type\":\"scattermapbox\"},{\"hoverinfo\":\"none\",\"lat\":[41.8542874766599,41.8543916407171,41.8544046838239],\"line\":{\"color\":\"#f68eb9\",\"width\":3},\"lon\":[-87.6948286813098,-87.6885216315763,-87.6851849849327],\"mode\":\"lines\",\"type\":\"scattermapbox\"},{\"hoverinfo\":\"none\",\"lat\":[41.9662178145283,41.9662133559571,41.9662062701619,41.9661911618554,41.9661672033828,41.9661597543036,41.9661545513129,41.9661547603867],\"line\":{\"color\":\"#7b4213\",\"width\":3},\"lon\":[-87.6941169025643,-87.6950282262671,-87.6967550991957,-87.6978979386582,-87.6987344466299,-87.699542063001,-87.7007582168617,-87.70166151306],\"mode\":\"lines\",\"type\":\"scattermapbox\"},{\"hoverinfo\":\"none\",\"lat\":[41.7789612406872,41.7789995957552,41.7790848710678,41.7791373956964,41.7791873012669,41.7792229974276,41.7791595187467,41.7790918481851,41.7790352219335,41.779030241294,41.7790357041972],\"line\":{\"color\":\"#00a447\",\"width\":3},\"lon\":[-87.6638505975286,-87.6615684490974,-87.6570956425174,-87.6526300115746,-87.649593227964,-87.6463926282758,-87.6460390274174,-87.6457176785818,-87.645410853566,-87.6449453672791,-87.6440288721395],\"mode\":\"lines\",\"type\":\"scattermapbox\"},{\"hoverinfo\":\"none\",\"lat\":[41.9474358602955,41.9482067288772,41.950607812818,41.9510907510561,41.9520033320511,41.9524638387946,41.9531194024296,41.9533281493964,41.9534388222193,41.9535232292403,41.9535899927039,41.9536523943719,41.9537105053026,41.9537419026075,41.9537614074034,41.9537828118747],\"line\":{\"color\":\"#fb003d\",\"width\":3},\"lon\":[-87.6536316943489,-87.6536413077234,-87.6536514032287,-87.6536640768884,-87.6536662510622,-87.6536316846232,-87.6536773487048,-87.6536904499915,-87.6536984769854,-87.6537391231037,-87.6537918227032,-87.6538564431494,-87.6539448436541,-87.6540843944252,-87.6543122511209,-87.6549351560049],\"mode\":\"lines\",\"type\":\"scattermapbox\"},{\"hoverinfo\":\"none\",\"lat\":[41.9475058602955,41.948276728877204,41.950677812818,41.9511607510561,41.9520733320511,41.9525338387946,41.9531894024296,41.9533981493964,41.9535088222193,41.9535932292403,41.9536599927039,41.9537223943719,41.9537805053026,41.9538119026075,41.9538314074034,41.953852811874704],\"line\":{\"color\":\"#492f8a\",\"width\":3},\"lon\":[-87.6535816943489,-87.6535913077234,-87.65360140322869,-87.6536140768884,-87.6536162510622,-87.6535816846232,-87.6536273487048,-87.6536404499915,-87.6536484769854,-87.6536891231037,-87.6537418227032,-87.65380644314939,-87.6538948436541,-87.6540343944252,-87.6542622511209,-87.6548851560049],\"mode\":\"lines\",\"type\":\"scattermapbox\"},{\"hoverinfo\":\"none\",\"lat\":[41.9734611909612,41.9752358636372,41.9779918604896],\"line\":{\"color\":\"#fb003d\",\"width\":3},\"lon\":[-87.6585357303,-87.658593698834,-87.6586741876597],\"mode\":\"lines\",\"type\":\"scattermapbox\"},{\"hoverinfo\":\"none\",\"lat\":[41.973531190961204,41.9753058636372,41.9780618604896],\"line\":{\"color\":\"#492f8a\",\"width\":3},\"lon\":[-87.6584857303,-87.658543698834,-87.6586241876597],\"mode\":\"lines\",\"type\":\"scattermapbox\"},{\"hoverinfo\":\"none\",\"lat\":[41.9691468073954,41.9711878409382,41.9734611909612],\"line\":{\"color\":\"#fb003d\",\"width\":3},\"lon\":[-87.6584987290284,-87.6584939818116,-87.6585357303],\"mode\":\"lines\",\"type\":\"scattermapbox\"},{\"hoverinfo\":\"none\",\"lat\":[41.9692168073954,41.9712578409382,41.973531190961204],\"line\":{\"color\":\"#492f8a\",\"width\":3},\"lon\":[-87.6584487290284,-87.6584439818116,-87.6584857303],\"mode\":\"lines\",\"type\":\"scattermapbox\"},{\"hoverinfo\":\"none\",\"lat\":[41.7683757012028,41.7701567886536,41.7718793586311,41.7721889516155,41.7725321380411,41.7725940858961,41.7728721307241,41.7729650953683,41.7734404649954,41.7734966145767,41.773837974386,41.7739820518551,41.774028649193,41.7741683606492,41.7744582987862,41.7746396250527,41.7749135240929,41.7750142177738,41.7751513329769,41.775416661556,41.7762406950696,41.7764497240529,41.7767775072812,41.7769873875714,41.7772366717268,41.7774969998359,41.7778401652991,41.7781563905357,41.7784760501978,41.7787499292165,41.7789311557731,41.779429269537,41.7798300617756,41.780542171265],\"line\":{\"color\":\"#fb003d\",\"width\":3},\"lon\":[-87.6258150885691,-87.6258545693106,-87.6259035538045,-87.6259257412532,-87.6259593730546,-87.6259685344064,-87.6260127231486,-87.6260333559736,-87.6261810837586,-87.6261997615694,-87.6263554643369,-87.6264208122483,-87.6264498284183,-87.6265240830366,-87.6267049598491,-87.6268368311417,-87.6270454471378,-87.6271250538627,-87.6272564284945,-87.6275094333994,-87.6285320727816,-87.6288263077865,-87.6292619691527,-87.6295451240999,-87.6297958623522,-87.6300452501754,-87.6302863522524,-87.6304896077426,-87.6306522244265,-87.6307725882033,-87.6308244390891,-87.630937790184,-87.6309770470116,-87.6310061903463],\"mode\":\"lines\",\"type\":\"scattermapbox\"},{\"hoverinfo\":\"none\",\"lat\":[41.8857323806163,41.8870771299671,41.8889757889061],\"line\":{\"color\":\"#7b4213\",\"width\":3},\"lon\":[-87.6339189266405,-87.6339613991533,-87.6339791131933],\"mode\":\"lines\",\"type\":\"scattermapbox\"},{\"hoverinfo\":\"none\",\"lat\":[41.8858023806163,41.887147129967104,41.8890457889061],\"line\":{\"color\":\"#492f8a\",\"width\":3},\"lon\":[-87.6338689266405,-87.6339113991533,-87.6339291131933],\"mode\":\"lines\",\"type\":\"scattermapbox\"},{\"hoverinfo\":\"none\",\"lat\":[41.8966790696385,41.8991443435775,41.9002695532937,41.9021281869616,41.9031712171529,41.903650252994,41.9037639846128,41.9038263560903,41.9038780466948,41.9039108534176,41.9039439895796,41.9039531038096,41.9039281704908],\"line\":{\"color\":\"#fb003d\",\"width\":3},\"lon\":[-87.6281821040788,-87.6282698979187,-87.6283031002336,-87.6283536957689,-87.6286258801237,-87.6286481631119,-87.6286722517265,-87.6287005267739,-87.6287506369768,-87.6288081993165,-87.6289200547206,-87.6290828589034,-87.6314180452581],\"mode\":\"lines\",\"type\":\"scattermapbox\"},{\"hoverinfo\":\"none\",\"lat\":[41.9843019186394,41.9841971299778,41.9841022982695,41.9840385518621,41.9839858563695,41.9839838296759,41.9838891220114,41.9837961845787,41.9837797276049,41.9837535641981,41.9836297301817,41.9835151467296],\"line\":{\"color\":\"#00a8df\",\"width\":3},\"lon\":[-87.8380318065809,-87.8402241089531,-87.8418627460876,-87.8433970779721,-87.844779509472,-87.8456817755668,-87.8481490877377,-87.8506731694672,-87.8523874442903,-87.8536021449789,-87.8566916787995,-87.8593935292431],\"mode\":\"lines\",\"type\":\"scattermapbox\"},{\"hoverinfo\":\"none\",\"lat\":[41.873497893919,41.8737012156471,41.8738471098674,41.8738479792862,41.8738275532153,41.8738221757549,41.873818978022,41.8738059712545,41.8737632882735,41.8737443777348,41.8737261933873,41.8736894820278,41.8736804197618,41.8736616321403,41.8736375424921,41.873618557129,41.8736102676629,41.8735893379847,41.8736147039497,41.8736597787278,41.8737492988165,41.8738239605573,41.8739209116873,41.8739880965468,41.8740405998699,41.8740785089302,41.8741095224441,41.8741480093253,41.8742651534074],\"line\":{\"color\":\"#00a8df\",\"width\":3},\"lon\":[-87.8069666736692,-87.8090082208203,-87.8104522987695,-87.8108051361587,-87.8111060186135,-87.8112534160519,-87.8113410276472,-87.8114950776764,-87.8118174880181,-87.8119781775653,-87.8121326813374,-87.8124184841089,-87.8126902329637,-87.8128661958163,-87.8130273363823,-87.8132179995629,-87.8134309628573,-87.8137100146819,-87.8139392244718,-87.8141068554559,-87.8143037767821,-87.8144810531298,-87.8146877958559,-87.8148453678066,-87.8150228232642,-87.8152399272235,-87.8155657928804,-87.8159113595502,-87.8173235824148],\"mode\":\"lines\",\"type\":\"scattermapbox\"},{\"hoverinfo\":\"none\",\"lat\":[41.8744333581058,41.8744039804103,41.8743207011243,41.8742617900138,41.8742164494976,41.8741829245338,41.8741403328932,41.8741043976363,41.8740726161618,41.8740715718737,41.8740453658635,41.8740246263724,41.8739758054281,41.8739244692174,41.8739010875542,41.8738965719657],\"line\":{\"color\":\"#00a8df\",\"width\":3},\"lon\":[-87.7059840677601,-87.7061963149139,-87.7067655043584,-87.7071980395306,-87.7075263929681,-87.707860934632,-87.7082617785997,-87.7094539553588,-87.71076276227,-87.712528427462,-87.7142218294214,-87.7156219502299,-87.7197023672278,-87.7242242187379,-87.725148261163,-87.7256307080426],\"mode\":\"lines\",\"type\":\"scattermapbox\"},{\"hoverinfo\":\"none\",\"lat\":[41.9661547603867,41.9661460308683,41.9661413896132,41.9661238693281,41.9661160021957,41.9661004715607],\"line\":{\"color\":\"#7b4213\",\"width\":3},\"lon\":[-87.70166151306,-87.7026734215452,-87.7039980911119,-87.7064560025006,-87.7076338766221,-87.7088495751247],\"mode\":\"lines\",\"type\":\"scattermapbox\"},{\"hoverinfo\":\"none\",\"lat\":[41.8843289474067,41.8843266356172,41.8843003383302,41.8842962216912,41.8842119436086,41.8841820693122,41.8841223022355,41.8840292985107,41.8840302332953,41.8840392647403,41.8840466833621,41.8840656345737,41.8840835824987,41.8841200647522,41.8841380718881,41.8842273832401],\"line\":{\"color\":\"#00a447\",\"width\":3},\"lon\":[-87.7061611915269,-87.7061221739541,-87.7056788687028,-87.7056094697213,-87.7041889746295,-87.7037192853917,-87.702779721676,-87.7013178994929,-87.7012958564107,-87.701082757635,-87.7006312033117,-87.7002376402307,-87.6995322774487,-87.6988040536219,-87.69787469116,-87.6962399852839],\"mode\":\"lines\",\"type\":\"scattermapbox\"},{\"hoverinfo\":\"none\",\"lat\":[42.0334635884778,42.0336400467849,42.0339722167794,42.0342333843523,42.0359256188586,42.0382452122706,42.0405176279487,42.0410590272491,42.0413297067571,42.041662522131],\"line\":{\"color\":\"#492f8a\",\"width\":3},\"lon\":[-87.679543702829,-87.6796174556693,-87.6798312929722,-87.6799419610899,-87.680340232379,-87.6808549005774,-87.6813700874271,-87.6814779086022,-87.6815280444977,-87.6816077685658],\"mode\":\"lines\",\"type\":\"scattermapbox\"},{\"hoverinfo\":\"none\",\"lat\":[41.839363723964,41.8388998514446,41.8385225911894,41.8379038729077,41.8370724225757,41.8358531537538,41.8341212247628,41.8331483815755,41.8311823975001,41.8295679306378],\"line\":{\"color\":\"#fe9307\",\"width\":3},\"lon\":[-87.6653174204984,-87.6662492350505,-87.6669189253705,-87.6678523203762,-87.6690745886703,-87.6707945624452,-87.6732619166413,-87.6747626091804,-87.6779742829647,-87.6805931282853],\"mode\":\"lines\",\"type\":\"scattermapbox\"},{\"hoverinfo\":\"none\",\"lat\":[41.9327393618077,41.9331246200238,41.934459969419,41.9349180654021,41.9353277990035,41.9360404655646],\"line\":{\"color\":\"#7b4213\",\"width\":3},\"lon\":[-87.6531366197265,-87.6531430706095,-87.6532022377216,-87.6532225340702,-87.6532406881242,-87.6532722121844],\"mode\":\"lines\",\"type\":\"scattermapbox\"},{\"hoverinfo\":\"none\",\"lat\":[41.9328093618077,41.9331946200238,41.934529969419,41.9349880654021,41.9353977990035,41.9361104655646],\"line\":{\"color\":\"#492f8a\",\"width\":3},\"lon\":[-87.6530866197265,-87.6530930706095,-87.6531522377216,-87.6531725340702,-87.6531906881242,-87.6532222121844],\"mode\":\"lines\",\"type\":\"scattermapbox\"},{\"hoverinfo\":\"none\",\"lat\":[41.9328793618077,41.9332646200238,41.934599969419004,41.9350580654021,41.935467799003504,41.936180465564604],\"line\":{\"color\":\"#fa0034\",\"width\":3},\"lon\":[-87.65303661972649,-87.6530430706095,-87.6531022377216,-87.65312253407019,-87.6531406881242,-87.6531722121844],\"mode\":\"lines\",\"type\":\"scattermapbox\"},{\"hoverinfo\":\"none\",\"lat\":[42.0010812324704,42.0013746377415,42.0015328407258,42.0018767531075,42.0022730834862,42.0026453206292,42.0026457792917,42.0030552932178,42.0034879307903,42.0038232284687,42.0041557246762,42.0046731327479,42.0052575454031,42.005867544311,42.006192326145,42.0068739324683,42.0083696918601],\"line\":{\"color\":\"#fb003d\",\"width\":3},\"lon\":[-87.6610664723575,-87.6614260091433,-87.6616632541365,-87.6622549886699,-87.6628863029108,-87.6634670410833,-87.6634675722073,-87.6640112689862,-87.6644812014463,-87.6647740237225,-87.665004867758,-87.6652769671597,-87.6655313752938,-87.6657182403758,-87.6657754799134,-87.6658373758342,-87.6659148623224],\"mode\":\"lines\",\"type\":\"scattermapbox\"},{\"hoverinfo\":\"none\",\"lat\":[42.0011512324704,42.0014446377415,42.0016028407258,42.001946753107504,42.0023430834862,42.0027153206292,42.0027157792917,42.0031252932178,42.0035579307903,42.0038932284687,42.0042257246762,42.0047431327479,42.0053275454031,42.005937544311,42.006262326145,42.0069439324683,42.008439691860104],\"line\":{\"color\":\"#492f8a\",\"width\":3},\"lon\":[-87.6610164723575,-87.6613760091433,-87.6616132541365,-87.6622049886699,-87.6628363029108,-87.66341704108329,-87.6634175722073,-87.6639612689862,-87.6644312014463,-87.6647240237225,-87.664954867758,-87.6652269671597,-87.6654813752938,-87.6656682403758,-87.6657254799134,-87.6657873758342,-87.6658648623224],\"mode\":\"lines\",\"type\":\"scattermapbox\"},{\"hoverinfo\":\"none\",\"lat\":[41.9936721323951,41.9946424803987,41.9954979931664,41.9963306028278,41.9972323446391,41.997517555967,41.9979912956266,41.9982306986796,41.9985023332619,41.998810903804,41.9990043899477,41.999225616689,41.9994423144643,41.9996960566538,41.9998945056106,42.0000931678076,42.000282704108,42.0004445041866,42.000597104296,42.0007637079085,42.0009072276749,42.0010812324704],\"line\":{\"color\":\"#fb003d\",\"width\":3},\"lon\":[-87.6592080481102,-87.6591889034554,-87.6591949443742,-87.6592169872633,-87.6592629603664,-87.6592722832127,-87.6592734525436,-87.6593140863432,-87.6593605467957,-87.6594312802941,-87.6594847350769,-87.6595625588727,-87.6596527604793,-87.6597857393325,-87.6599008036169,-87.6600528576808,-87.6602173445735,-87.6603574568329,-87.6604976715481,-87.6606758452244,-87.6608335454584,-87.6610664723575],\"mode\":\"lines\",\"type\":\"scattermapbox\"},{\"hoverinfo\":\"none\",\"lat\":[41.9937421323951,41.994712480398704,41.995567993166404,41.9964006028278,41.9973023446391,41.997587555967,41.9980612956266,41.9983006986796,41.9985723332619,41.998880903804,41.9990743899477,41.999295616689004,41.9995123144643,41.9997660566538,41.9999645056106,42.0001631678076,42.000352704108,42.000514504186604,42.000667104296,42.0008337079085,42.0009772276749,42.0011512324704],\"line\":{\"color\":\"#492f8a\",\"width\":3},\"lon\":[-87.6591580481102,-87.6591389034554,-87.6591449443742,-87.6591669872633,-87.6592129603664,-87.6592222832127,-87.6592234525436,-87.6592640863432,-87.6593105467957,-87.6593812802941,-87.6594347350769,-87.65951255887269,-87.6596027604793,-87.6597357393325,-87.6598508036169,-87.6600028576808,-87.6601673445735,-87.6603074568329,-87.6604476715481,-87.6606258452244,-87.6607835454584,-87.6610164723575],\"mode\":\"lines\",\"type\":\"scattermapbox\"},{\"hoverinfo\":\"none\",\"lat\":[41.780542171265,41.782707677628,41.78336763771,41.785590086655,41.7872233378753,41.7877296434788,41.7916802836172,41.7939095120525,41.7954261020888],\"line\":{\"color\":\"#fb003d\",\"width\":3},\"lon\":[-87.6310061903463,-87.6310507156046,-87.6310657935208,-87.6311278121108,-87.6310369232153,-87.6310095347996,-87.6311049056732,-87.63115047738,-87.6311749126874],\"mode\":\"lines\",\"type\":\"scattermapbox\"},{\"hoverinfo\":\"none\",\"lat\":[41.8827028730225,41.8844134762947,41.8857323806163],\"line\":{\"color\":\"#7b4213\",\"width\":3},\"lon\":[-87.6338592819792,-87.6338948159896,-87.6339189266405],\"mode\":\"lines\",\"type\":\"scattermapbox\"},{\"hoverinfo\":\"none\",\"lat\":[41.8827728730225,41.8844834762947,41.8858023806163],\"line\":{\"color\":\"#fe9307\",\"width\":3},\"lon\":[-87.6338092819792,-87.6338448159896,-87.6338689266405],\"mode\":\"lines\",\"type\":\"scattermapbox\"},{\"hoverinfo\":\"none\",\"lat\":[41.882842873022504,41.8845534762947,41.8858723806163],\"line\":{\"color\":\"#ff85bc\",\"width\":3},\"lon\":[-87.6337592819792,-87.6337948159896,-87.6338189266405],\"mode\":\"lines\",\"type\":\"scattermapbox\"},{\"hoverinfo\":\"none\",\"lat\":[41.882912873022505,41.8846234762947,41.8859423806163],\"line\":{\"color\":\"#492f8a\",\"width\":3},\"lon\":[-87.6337092819792,-87.6337448159896,-87.6337689266405],\"mode\":\"lines\",\"type\":\"scattermapbox\"},{\"hoverinfo\":\"none\",\"lat\":[41.8781903710703,41.8782074116444,41.8787382418192,41.8790433829659,41.8795054006315,41.8807113144901],\"line\":{\"color\":\"#00a8df\",\"width\":3},\"lon\":[-87.629301413904,-87.6293019725819,-87.6293194598512,-87.6293295083704,-87.6293444502994,-87.6293834498268],\"mode\":\"lines\",\"type\":\"scattermapbox\"},{\"hoverinfo\":\"none\",\"lat\":[41.8781606098482,41.880752412153],\"line\":{\"color\":\"#fb003d\",\"width\":3},\"lon\":[-87.6276018464021,-87.6277022096758],\"mode\":\"lines\",\"type\":\"scattermapbox\"},{\"hoverinfo\":\"none\",\"lat\":[41.8857448395519,41.8857445108962,41.8857379955916,41.8857323806163,41.8857239200672,41.8857156211632,41.8857104768779,41.8857389050654,41.8857584192724,41.8857988297566,41.8858471788506,41.8862646901687,41.8864701858594,41.8867204034602,41.8872824516313,41.8877943301772,41.888309337915,41.8891071783368,41.8895261324978,41.8899774784564,41.89067476311,41.8911971490473],\"line\":{\"color\":\"#00a8df\",\"width\":3},\"lon\":[-87.630891768284,-87.6320455055585,-87.6328514670137,-87.6339189266405,-87.6360630420923,-87.63815614291,-87.6394489470812,-87.6397034884247,-87.6398548411806,-87.6399433467934,-87.6400132745091,-87.6405808407729,-87.6408601978238,-87.6412003538633,-87.6419646177825,-87.6426607189872,-87.6433591110089,-87.6444495358007,-87.6450618770634,-87.6457215763152,-87.6467830176752,-87.6475840672401],\"mode\":\"lines\",\"type\":\"scattermapbox\"},{\"hoverinfo\":\"none\",\"lat\":[41.9140673299076,41.9147615783984,41.9151022979502,41.9154096693546,41.915633652419,41.9171872051466,41.9176404224086,41.9180895783071,41.9182244264862],\"line\":{\"color\":\"#7b4213\",\"width\":3},\"lon\":[-87.6525061864663,-87.6525187308978,-87.6525310561052,-87.6525437358349,-87.6525541123461,-87.6526155731281,-87.6526306454509,-87.6526455802851,-87.6526500672848],\"mode\":\"lines\",\"type\":\"scattermapbox\"},{\"hoverinfo\":\"none\",\"lat\":[41.914137329907604,41.9148315783984,41.9151722979502,41.9154796693546,41.915703652419,41.9172572051466,41.917710422408604,41.9181595783071,41.9182944264862],\"line\":{\"color\":\"#492f8a\",\"width\":3},\"lon\":[-87.6524561864663,-87.6524687308978,-87.6524810561052,-87.6524937358349,-87.6525041123461,-87.6525655731281,-87.6525806454509,-87.6525955802851,-87.6526000672848],\"mode\":\"lines\",\"type\":\"scattermapbox\"},{\"hoverinfo\":\"none\",\"lat\":[41.914207329907605,41.9149015783984,41.9152422979502,41.915549669354604,41.915773652419,41.9173272051466,41.917780422408605,41.9182295783071,41.9183644264862],\"line\":{\"color\":\"#fa0034\",\"width\":3},\"lon\":[-87.6524061864663,-87.6524187308978,-87.6524310561052,-87.6524437358349,-87.65245411234609,-87.6525155731281,-87.6525306454509,-87.65254558028509,-87.65255006728479],\"mode\":\"lines\",\"type\":\"scattermapbox\"},{\"hoverinfo\":\"none\",\"lat\":[41.7801375547008,41.7800963429824,41.7800634531318,41.7800787732736,41.7801505793462,41.7802291897156,41.7803642889848,41.7814646632882,41.7838159314692,41.784774061631,41.7874761907081],\"line\":{\"color\":\"#00a447\",\"width\":3},\"lon\":[-87.615551619367,-87.6170940800765,-87.6175117273519,-87.6176917454253,-87.6178237182564,-87.6179081970579,-87.6179446306465,-87.617960852008,-87.6180082881191,-87.6180198832097,-87.6181489384272],\"mode\":\"lines\",\"type\":\"scattermapbox\"},{\"hoverinfo\":\"none\",\"lat\":[41.8020994255918,41.8039323843155,41.8058014373438,41.806096925877,41.8062185279868,41.8063735974565,41.8064905144442,41.806755471549,41.8092166773954],\"line\":{\"color\":\"#00a447\",\"width\":3},\"lon\":[-87.6185073393227,-87.6185864984748,-87.6186091922354,-87.6186250113821,-87.6186427632663,-87.6186792467284,-87.6187097861197,-87.6187734387628,-87.61883186836],\"mode\":\"lines\",\"type\":\"scattermapbox\"},{\"hoverinfo\":\"none\",\"lat\":[41.9811950107506,41.9813263329598,41.9814752821826,41.9815940957866,41.9816817481327,41.9817460890637,41.9817127233206,41.9816542615262,41.9814755125861,41.9811763717229,41.9808515357433,41.980441469001,41.9800257811888,41.9798344193364,41.9796484452097,41.979457005646,41.9791670451679,41.9788845941731],\"line\":{\"color\":\"#00a8df\",\"width\":3},\"lon\":[-87.8956292363712,-87.8957681542876,-87.8960185192785,-87.8962792504644,-87.8965898428249,-87.8971387076828,-87.8977783659061,-87.8982359388675,-87.8987212232127,-87.8992073214142,-87.8996544805173,-87.900143098815,-87.9005949331185,-87.900824421588,-87.9010244268043,-87.9012318258212,-87.9015282189283,-87.9018542390136],\"mode\":\"lines\",\"type\":\"scattermapbox\"},{\"hoverinfo\":\"none\",\"lat\":[41.9835151467296,41.9834479227258,41.9833577927955,41.9833055747649,41.9832721440733,41.9832413089308,41.9832189913852,41.9832176363743,41.9831982725859,41.9831628680179,41.9831334867975,41.9830732561071,41.982982276204,41.9828478677935,41.9827808458142,41.9826705642393,41.9822415740865,41.9809884797343,41.9809861893486,41.9782373372818,41.9774739993826,41.977375463477,41.9772853158704,41.977178544506,41.9771017175371,41.9770520682679,41.9770394753728,41.9770405329732,41.9770451479605,41.9770906420193,41.9771634906674,41.9772498106222,41.9773631328898,41.9774968157408,41.9776337396398,41.9777943713739,41.9787141013864,41.9796549705978,41.9811912800389,41.9811950107506],\"line\":{\"color\":\"#00a8df\",\"width\":3},\"lon\":[-87.8593935292431,-87.8613038292733,-87.8639597117737,-87.8663327068508,-87.8687719288173,-87.8703317693003,-87.8709375272038,-87.8713959799315,-87.8719414727193,-87.8723731130879,-87.8727632281554,-87.8731784543176,-87.8736436722163,-87.8740843176692,-87.8743502627553,-87.8746331121707,-87.8757063380636,-87.8787442060073,-87.8787499032378,-87.8855136650736,-87.8872609110257,-87.8874780232702,-87.8877228242434,-87.8880552455121,-87.8884065839916,-87.8887531741348,-87.8890129459912,-87.8892862910804,-87.8896006135675,-87.8899374316092,-87.8903150651004,-87.8906607124697,-87.8909560606777,-87.8912421569392,-87.8914872295306,-87.8917093588342,-87.8927961916323,-87.8938322148409,-87.8956252883872,-87.8956292363712],\"mode\":\"lines\",\"type\":\"scattermapbox\"},{\"hoverinfo\":\"none\",\"lat\":[41.8869953670712,41.8870180689442,41.8870470535684,41.8870680410168,41.88708084851,41.8871066183055,41.8871330475826,41.8871539593054,41.8871672452821],\"line\":{\"color\":\"#00a447\",\"width\":3},\"lon\":[-87.7937891500914,-87.7924648085725,-87.7912488213886,-87.7895682872759,-87.7886079748493,-87.7879418091302,-87.7861992755792,-87.7845187371584,-87.7836668281808],\"mode\":\"lines\",\"type\":\"scattermapbox\"},{\"hoverinfo\":\"none\",\"lat\":[41.8716158968258,41.8715650459626,41.871506677595,41.8714956489874,41.8714884129824,41.8714694033822,41.8714398408231,41.8714191633814,41.8713579522795,41.8712656164427,41.8711423474843,41.871033200246,41.8709656969451,41.8708352935975,41.8706814818673,41.8704926213027,41.8703971070054,41.8703181485714,41.8702392846033,41.8702047212984,41.8701587366496,41.8701128776908,41.8700789081855,41.8700541921437,41.8700462983879,41.8700533710756,41.8701057445359,41.8703206815267,41.8703838292496,41.8704968201271,41.8706360092081,41.8707277660731,41.8707502364897,41.870894238177],\"line\":{\"color\":\"#00a8df\",\"width\":3},\"lon\":[-87.7451779610035,-87.7499928398504,-87.7533574653508,-87.7558451666314,-87.756750099902,-87.7576582934535,-87.758342726956,-87.7589198837334,-87.7594028170671,-87.7597882897891,-87.7601141336806,-87.7604366978265,-87.7606044002965,-87.76091769279,-87.7612627225504,-87.7616679652242,-87.7618895131244,-87.7621235224121,-87.7623764480409,-87.7625343950787,-87.7627649572917,-87.7630207416852,-87.7632984889347,-87.7635414718654,-87.7638505142247,-87.7643265234994,-87.7649093234513,-87.7673949758261,-87.7682551336573,-87.7701489745228,-87.7724631143029,-87.7739595225842,-87.774456728652,-87.7767910618494],\"mode\":\"lines\",\"type\":\"scattermapbox\"},{\"hoverinfo\":\"none\",\"lat\":[41.7998956551215,41.7984289379919,41.7961225246376,41.795826365358,41.7956191138374,41.7953123753529,41.7950928445598,41.7948138926351,41.7945489672746,41.7942529744954,41.7940041768243,41.7938143695778,41.7933916791134,41.7932348899349,41.7929755236403,41.7927113268848,41.7923325915429,41.7866213827539],\"line\":{\"color\":\"#fe9307\",\"width\":3},\"lon\":[-87.724455411955,-87.7281972122511,-87.7340190975694,-87.7347858733447,-87.7352430283044,-87.7358093376111,-87.7361965648232,-87.7366098053645,-87.7369719805459,-87.7373153406335,-87.7375723106501,-87.7377205008844,-87.7379790767807,-87.738063293118,-87.7381198080982,-87.738163634722,-87.7381703217722,-87.7379621447884],\"mode\":\"lines\",\"type\":\"scattermapbox\"},{\"hoverinfo\":\"none\",\"lat\":[41.8865272009792,41.8865267595664,41.8864238851535,41.8863250384988,41.8862801415096,41.8861400558102,41.8860012429485,41.8859296735409,41.8859008336911,41.8858615755513,41.8858002260553,41.8857480712459,41.8856799480855,41.8856404924842,41.8854961978289,41.8854679552698,41.8854383138916,41.8854198277098],\"line\":{\"color\":\"#00a447\",\"width\":3},\"lon\":[-87.7447041843611,-87.7446967591561,-87.7429660725579,-87.7413035898252,-87.7405486316383,-87.7380614239799,-87.735591263073,-87.7343180753697,-87.7338051142687,-87.7331197040615,-87.7320488017166,-87.7311385047976,-87.7299497107618,-87.7292612601035,-87.7267441630815,-87.7262516351955,-87.7257347203042,-87.7254095452949],\"mode\":\"lines\",\"type\":\"scattermapbox\"},{\"hoverinfo\":\"none\",\"lat\":[42.026199732958,42.0262144492981,42.0264915022936,42.0267958343001,42.0273373795865,42.0277741979759,42.0280848409166,42.0284656385091,42.0292707269166,42.0306600537241,42.0309196945787,42.0320264737878,42.0324692005706,42.0325626918332,42.0329388271892,42.0333587034609,42.0334693980411,42.033967359296,42.0347360088133,42.0353372391624,42.0355081026874,42.0363619655709,42.0371777760384,42.0373644732596,42.0381202444325,42.0389585668971],\"line\":{\"color\":\"#f9ef00\",\"width\":3},\"lon\":[-87.7472059613419,-87.7472113698366,-87.7473260238479,-87.7474322788097,-87.7475884208429,-87.7477264583869,-87.7478304435701,-87.7479579165876,-87.7482056563571,-87.7486182927589,-87.7486894317215,-87.7490818802133,-87.7492170723127,-87.7492456196474,-87.749371256447,-87.7494878621443,-87.7495265190201,-87.749700413489,-87.7500646562443,-87.7503317470214,-87.7504035655394,-87.7508050063554,-87.7511780771226,-87.7512634618453,-87.751612027645,-87.7519244270264],\"mode\":\"lines\",\"type\":\"scattermapbox\"},{\"hoverinfo\":\"none\",\"lat\":[41.8539997998715,41.8540541813529,41.8541384318186],\"line\":{\"color\":\"#f68eb9\",\"width\":3},\"lon\":[-87.7148860364167,-87.7097761040755,-87.7054337264749],\"mode\":\"lines\",\"type\":\"scattermapbox\"},{\"hoverinfo\":\"none\",\"lat\":[41.9219470285986,41.9227823161475,41.9238290994598,41.9250674143654,41.9262748932242,41.9265808153134,41.9268390288964,41.9271029856853,41.927378908791,41.9276128328215,41.9279667445571,41.9283388906584,41.9286995463173,41.9290030598416,41.9297358999808],\"line\":{\"color\":\"#00a8df\",\"width\":3},\"lon\":[-87.6968955718318,-87.6982361885338,-87.6999487116653,-87.7020333707521,-87.7039581379754,-87.7043774586519,-87.7047102676892,-87.705003103203,-87.7053038075129,-87.7055570173653,-87.705944791593,-87.7063962686129,-87.7069277109983,-87.7073556116938,-87.7085471633271],\"mode\":\"lines\",\"type\":\"scattermapbox\"},{\"hoverinfo\":\"none\",\"lat\":[41.9473679633494,41.9475197683123,41.9476872353894,41.9478473650895,41.9479636832495,41.9480630317522,41.9482113773511,41.9483352839164,41.9484526477638,41.9485492166869,41.9486955767408,41.948816521601,41.9491097239316,41.9494440323777,41.9497573178227,41.950856311623,41.9513278523458,41.9522758144565,41.9529481226917],\"line\":{\"color\":\"#00a8df\",\"width\":3},\"lon\":[-87.7191050859651,-87.7192840086051,-87.7195022092025,-87.7197244238086,-87.7199253931841,-87.720125378983,-87.7204323754089,-87.7207394456301,-87.7209884268339,-87.7212223176904,-87.7215531235744,-87.7218138360139,-87.7224088567873,-87.7230223512294,-87.7235736892367,-87.7254813775259,-87.7263270187297,-87.7279842847487,-87.729183052557],\"mode\":\"lines\",\"type\":\"scattermapbox\"},{\"hoverinfo\":\"none\",\"lat\":[42.041662522131,42.0427511710166,42.0439305913413,42.0444556077901,42.0452800261831,42.0458335052255,42.0463925756554,42.0467655005177,42.0470027672336,42.0470928917378,42.0477179735509],\"line\":{\"color\":\"#492f8a\",\"width\":3},\"lon\":[-87.6816077685658,-87.6818611472454,-87.682226968249,-87.6824256597732,-87.682772448255,-87.683023760715,-87.6832674651263,-87.6834677203416,-87.6835862262938,-87.6835853079048,-87.6835487087939],\"mode\":\"lines\",\"type\":\"scattermapbox\"},{\"hoverinfo\":\"none\",\"lat\":[42.0477179735509,42.0484953561025,42.0490079071615,42.0516609125925,42.0521735498184,42.0523482130235,42.0529737613068,42.0541681048939],\"line\":{\"color\":\"#492f8a\",\"width\":3},\"lon\":[-87.6835487087939,-87.6835483394779,-87.6835355625895,-87.6834934028939,-87.683495735796,-87.6835015162496,-87.6835480446363,-87.6835661099688],\"mode\":\"lines\",\"type\":\"scattermapbox\"},{\"hoverinfo\":\"none\",\"lat\":[41.8757696802508,41.8757799423136,41.875818048262,41.8758790710845,41.8758934865899],\"line\":{\"color\":\"#00a8df\",\"width\":3},\"lon\":[-87.6675368284109,-87.6665870727205,-87.6649959959668,-87.6601892373717,-87.6594612674364],\"mode\":\"lines\",\"type\":\"scattermapbox\"},{\"hoverinfo\":\"none\",\"lat\":[41.9421846769564,41.9423908307356,41.9425792346538,41.9426938340078,41.9428108712397,41.9429279385646,41.9430713481989,41.9431932826669,41.9433177125003,41.9434278117312,41.9435212746598,41.9436484072085,41.9437541956497,41.9438097544097,41.9438678469299,41.9439117973036,41.9439365027834,41.9439495056298,41.9439487823375,41.9439403360888,41.9439186940416,41.9439151870588,41.9438201193626],\"line\":{\"color\":\"#7b4213\",\"width\":3},\"lon\":[-87.6534596813753,-87.6534807318599,-87.6535170185855,-87.6535604712604,-87.6536134708787,-87.6536712543075,-87.6537526900091,-87.6538279722666,-87.653922373835,-87.6540105448328,-87.6541052745691,-87.6542538907736,-87.654418686309,-87.6545489171696,-87.6547046489657,-87.654886056168,-87.6550357592924,-87.6552206858089,-87.6555014791242,-87.6560886686369,-87.6576715124977,-87.6591010083559,-87.6636153263714],\"mode\":\"lines\",\"type\":\"scattermapbox\"},{\"hoverinfo\":\"none\",\"lat\":[41.9421846769564,41.9423801086468,41.9426900416155,41.9428892723227,41.9431815608201,41.9435804041855,41.9438994462503,41.9440723089283,41.9442185216158,41.9443561585104,41.9444848636921,41.9453975511004,41.9468998020002,41.9474358602955],\"line\":{\"color\":\"#fb003d\",\"width\":3},\"lon\":[-87.6534596813753,-87.6534302464241,-87.6534032197848,-87.653383303474,-87.6533683302743,-87.6533937599005,-87.6534081723158,-87.6534241367664,-87.6534285154014,-87.6534804602183,-87.6535206286377,-87.6535405997274,-87.6536255191321,-87.6536316943489],\"mode\":\"lines\",\"type\":\"scattermapbox\"},{\"hoverinfo\":\"none\",\"lat\":[41.9422546769564,41.9424501086468,41.9427600416155,41.9429592723227,41.9432515608201,41.9436504041855,41.9439694462503,41.9441423089283,41.9442885216158,41.9444261585104,41.9445548636921,41.9454675511004,41.946969802000204,41.9475058602955],\"line\":{\"color\":\"#492f8a\",\"width\":3},\"lon\":[-87.6534096813753,-87.65338024642409,-87.6533532197848,-87.653333303474,-87.6533183302743,-87.6533437599005,-87.6533581723158,-87.6533741367664,-87.6533785154014,-87.6534304602183,-87.65347062863769,-87.6534905997274,-87.6535755191321,-87.6535816943489],\"mode\":\"lines\",\"type\":\"scattermapbox\"},{\"hoverinfo\":\"none\",\"lat\":[41.9902673647687,41.990839754851,41.9923608981213,41.9936721323951],\"line\":{\"color\":\"#fb003d\",\"width\":3},\"lon\":[-87.6590816285986,-87.6590865507386,-87.6591362575646,-87.6592080481102],\"mode\":\"lines\",\"type\":\"scattermapbox\"},{\"hoverinfo\":\"none\",\"lat\":[41.9903373647687,41.990909754851,41.9924308981213,41.9937421323951],\"line\":{\"color\":\"#492f8a\",\"width\":3},\"lon\":[-87.6590316285986,-87.6590365507386,-87.6590862575646,-87.6591580481102],\"mode\":\"lines\",\"type\":\"scattermapbox\"},{\"hoverinfo\":\"none\",\"lat\":[42.019071094732,42.0194773140131,42.0198712956709,42.0200299508762,42.0213070490792,42.0219822415463,42.0220937550116,42.0222410364434,42.0224186439606,42.022751146828,42.023218877828,42.0243288429766,42.0261068994186,42.0276197249624],\"line\":{\"color\":\"#492f8a\",\"width\":3},\"lon\":[-87.6728982270991,-87.6734037431124,-87.6738882542473,-87.6740622177688,-87.675741460298,-87.6768973085184,-87.6770593020808,-87.6771912666987,-87.6773080880471,-87.6774381490252,-87.6775260376788,-87.6777593489061,-87.6781155855423,-87.6783351948529],\"mode\":\"lines\",\"type\":\"scattermapbox\"},{\"hoverinfo\":\"none\",\"lat\":[41.8103459746632,41.8110938646346,41.811392606123,41.8114802065427,41.8118265160108,41.8121461980405,41.8124751979822,41.8128186755739,41.81351534214,41.8152478384296,41.8164749384735,41.8176944943246,41.8226934042708,41.8251978432007,41.8274915912304,41.8311984061385],\"line\":{\"color\":\"#fb003d\",\"width\":3},\"lon\":[-87.6310315404715,-87.6305630512376,-87.6304205379549,-87.6303850552429,-87.6302776945289,-87.6302242604013,-87.6301992499567,-87.6301920417564,-87.6302166458867,-87.630257542541,-87.6302848641519,-87.6303147038365,-87.6304418637526,-87.6305075655144,-87.6305647161859,-87.630642040869],\"mode\":\"lines\",\"type\":\"scattermapbox\"},{\"hoverinfo\":\"none\",\"lat\":[41.8311984061385,41.8349540909589,41.8372195433623,41.8395331543355,41.8403735935885,41.8418450890431,41.8428594545772,41.844591021084,41.8454794402115,41.8458642024377,41.8464803121521,41.8466973417785,41.8468615837496,41.8471828043307,41.8474848720167,41.8483700444542,41.8489767359258,41.8496101544461,41.8510800685647,41.8517990493789,41.8524362300066,41.8526841543772,41.8529467838624,41.8532136454739],\"line\":{\"color\":\"#fb003d\",\"width\":3},\"lon\":[-87.630642040869,-87.6307521309678,-87.6308170717827,-87.6308727267461,-87.6309361387716,-87.6310373714935,-87.6311415091811,-87.6312622794913,-87.6312849664282,-87.6312775052069,-87.6312092254494,-87.6311760039342,-87.6311550924528,-87.6310942329719,-87.6310176527912,-87.6308550431916,-87.6307305224986,-87.6306917309569,-87.630694497411,-87.6307406319567,-87.6308264833859,-87.6308556321419,-87.6309116879379,-87.6309735745971],\"mode\":\"lines\",\"type\":\"scattermapbox\"},{\"hoverinfo\":\"none\",\"lat\":[41.8787311367445,41.8801487701951,41.8814474247079,41.8827028730225],\"line\":{\"color\":\"#7b4213\",\"width\":3},\"lon\":[-87.633745725906,-87.6337883224695,-87.6338506608852,-87.6338592819792],\"mode\":\"lines\",\"type\":\"scattermapbox\"},{\"hoverinfo\":\"none\",\"lat\":[41.8788011367445,41.8802187701951,41.8815174247079,41.8827728730225],\"line\":{\"color\":\"#fe9307\",\"width\":3},\"lon\":[-87.633695725906,-87.6337383224695,-87.6338006608852,-87.6338092819792],\"mode\":\"lines\",\"type\":\"scattermapbox\"},{\"hoverinfo\":\"none\",\"lat\":[41.8788711367445,41.8802887701951,41.8815874247079,41.882842873022504],\"line\":{\"color\":\"#ff85bc\",\"width\":3},\"lon\":[-87.63364572590599,-87.6336883224695,-87.6337506608852,-87.6337592819792],\"mode\":\"lines\",\"type\":\"scattermapbox\"},{\"hoverinfo\":\"none\",\"lat\":[41.8789411367445,41.8803587701951,41.8816574247079,41.882912873022505],\"line\":{\"color\":\"#492f8a\",\"width\":3},\"lon\":[-87.63359572590599,-87.6336383224695,-87.6337006608852,-87.6337092819792],\"mode\":\"lines\",\"type\":\"scattermapbox\"},{\"hoverinfo\":\"none\",\"lat\":[41.8768631883765,41.8768567270936,41.876854149084,41.876866505674,41.8768884287399,41.8769149810006,41.876960608006,41.877070655827,41.8772691071849,41.8787311367445],\"line\":{\"color\":\"#7b4213\",\"width\":3},\"lon\":[-87.6317395847616,-87.6326321319514,-87.63338120261,-87.6334543779928,-87.6335338242583,-87.6335909079962,-87.6336509713298,-87.6336988573995,-87.6336922041357,-87.633745725906],\"mode\":\"lines\",\"type\":\"scattermapbox\"},{\"hoverinfo\":\"none\",\"lat\":[41.8769331883765,41.876926727093604,41.876924149084,41.876936505674,41.876958428739904,41.876984981000604,41.877030608006,41.877140655827,41.8773391071849,41.8788011367445],\"line\":{\"color\":\"#fe9307\",\"width\":3},\"lon\":[-87.6316895847616,-87.6325821319514,-87.63333120261,-87.6334043779928,-87.63348382425829,-87.63354090799619,-87.6336009713298,-87.63364885739949,-87.6336422041357,-87.633695725906],\"mode\":\"lines\",\"type\":\"scattermapbox\"},{\"hoverinfo\":\"none\",\"lat\":[41.8770031883765,41.876996727093605,41.876994149084,41.877006505674004,41.877028428739905,41.877054981000605,41.877100608006,41.877210655827,41.8774091071849,41.8788711367445],\"line\":{\"color\":\"#ff85bc\",\"width\":3},\"lon\":[-87.6316395847616,-87.6325321319514,-87.63328120261,-87.6333543779928,-87.63343382425829,-87.63349090799619,-87.6335509713298,-87.63359885739949,-87.6335922041357,-87.63364572590599],\"mode\":\"lines\",\"type\":\"scattermapbox\"},{\"hoverinfo\":\"none\",\"lat\":[41.8770731883765,41.877066727093606,41.877064149084,41.877076505674005,41.877098428739906,41.877124981000605,41.877170608006004,41.877280655827,41.877479107184904,41.8789411367445],\"line\":{\"color\":\"#492f8a\",\"width\":3},\"lon\":[-87.6315895847616,-87.63248213195139,-87.63323120260999,-87.6333043779928,-87.63338382425829,-87.63344090799619,-87.6335009713298,-87.63354885739949,-87.6335422041357,-87.63359572590599],\"mode\":\"lines\",\"type\":\"scattermapbox\"},{\"hoverinfo\":\"none\",\"lat\":[41.8807113144901,41.8807664217439,41.8813527189734,41.882010798301,41.8821357713869,41.8831722797599],\"line\":{\"color\":\"#00a8df\",\"width\":3},\"lon\":[-87.6293834498268,-87.6293852316108,-87.6294041930272,-87.6294254776119,-87.6294295190529,-87.6294458095462],\"mode\":\"lines\",\"type\":\"scattermapbox\"},{\"hoverinfo\":\"none\",\"lat\":[41.880752412153,41.8832225604856,41.8848167226655],\"line\":{\"color\":\"#fb003d\",\"width\":3},\"lon\":[-87.6277022096758,-87.6277541159871,-87.6278191314659],\"mode\":\"lines\",\"type\":\"scattermapbox\"},{\"hoverinfo\":\"none\",\"lat\":[41.9104170378312,41.910426813055,41.9104170655628,41.9104003131877,41.9103486854681,41.9102787481413,41.9102159052676,41.9101162968011,41.9099984536486,41.9098667435416,41.9097371766996,41.9095154585265,41.9087496608954,41.9075836255088,41.9060750335544,41.9054416338667,41.903819124548,41.9036852790716,41.9033455297849,41.9032274288245,41.9031235085168,41.9030022246928,41.9029327967558,41.9027996971806,41.9026608168325,41.9025568028386,41.9024587088451,41.9023577609388,41.9022167737782,41.9021189369576,41.9020298983635,41.9019091763009,41.9017800057815,41.9015645354076,41.9014352021068,41.9013201194996,41.9012021344282,41.9002950220989,41.900087037064,41.8997597247282,41.8989234376235,41.898673818554,41.8976175115402,41.8973843511219,41.8972631605178,41.8971561513242,41.8970866529721,41.8969938475375,41.8967820284628],\"line\":{\"color\":\"#7b4213\",\"width\":3},\"lon\":[-87.63930792093,-87.6381449572359,-87.6379816154385,-87.6378769837675,-87.6377172390555,-87.6375761914609,-87.6374658931055,-87.6373683259262,-87.637301785447,-87.6372743165564,-87.6372680162197,-87.6372550115345,-87.6372325046369,-87.6371873725126,-87.6371382571969,-87.6371143138691,-87.6370212741799,-87.637029361881,-87.63701378845,-87.6369996597646,-87.6369506990825,-87.636886515388,-87.6368294742657,-87.636715331023,-87.6365973969481,-87.6365330266035,-87.6364955626221,-87.6364619839182,-87.6364712228156,-87.6364761395642,-87.6365079321829,-87.6365362150828,-87.636595414065,-87.6366632554806,-87.63669548555,-87.6367044422005,-87.636709577507,-87.6366423798764,-87.6366450745487,-87.636627859766,-87.6365838797904,-87.6365707522372,-87.6365481960226,-87.6365468779835,-87.6364981113262,-87.6364145159394,-87.6363459221771,-87.6362313519738,-87.6359524103699],\"mode\":\"lines\",\"type\":\"scattermapbox\"},{\"hoverinfo\":\"none\",\"lat\":[41.9104870378312,41.910496813055,41.9104870655628,41.9104703131877,41.9104186854681,41.9103487481413,41.9102859052676,41.9101862968011,41.9100684536486,41.9099367435416,41.9098071766996,41.9095854585265,41.908819660895404,41.9076536255088,41.9061450335544,41.9055116338667,41.903889124548,41.9037552790716,41.9034155297849,41.9032974288245,41.9031935085168,41.9030722246928,41.9030027967558,41.9028696971806,41.9027308168325,41.902626802838604,41.902528708845104,41.9024277609388,41.9022867737782,41.9021889369576,41.9020998983635,41.9019791763009,41.9018500057815,41.9016345354076,41.901505202106804,41.9013901194996,41.901272134428204,41.9003650220989,41.900157037064,41.8998297247282,41.8989934376235,41.898743818554,41.8976875115402,41.8974543511219,41.8973331605178,41.8972261513242,41.8971566529721,41.8970638475375,41.8968520284628],\"line\":{\"color\":\"#492f8a\",\"width\":3},\"lon\":[-87.63925792092999,-87.6380949572359,-87.6379316154385,-87.6378269837675,-87.6376672390555,-87.63752619146089,-87.6374158931055,-87.6373183259262,-87.63725178544699,-87.6372243165564,-87.6372180162197,-87.6372050115345,-87.6371825046369,-87.6371373725126,-87.6370882571969,-87.6370643138691,-87.6369712741799,-87.636979361881,-87.63696378845,-87.6369496597646,-87.6369006990825,-87.636836515388,-87.6367794742657,-87.636665331023,-87.6365473969481,-87.6364830266035,-87.6364455626221,-87.6364119839182,-87.6364212228156,-87.6364261395642,-87.63645793218289,-87.6364862150828,-87.636545414065,-87.6366132554806,-87.63664548555,-87.6366544422005,-87.636659577507,-87.6365923798764,-87.6365950745487,-87.63657785976599,-87.63653387979039,-87.6365207522372,-87.6364981960226,-87.6364968779835,-87.6364481113262,-87.6363645159394,-87.6362959221771,-87.6361813519738,-87.6359024103699],\"mode\":\"lines\",\"type\":\"scattermapbox\"},{\"hoverinfo\":\"none\",\"lat\":[41.8831722797599,41.8853769661372,41.8854728282832,41.8855229518178,41.885578680455,41.8856409135796,41.885685522453,41.8857156732802,41.8857307953163,41.8857410966654,41.8857462583252,41.8857460142089,41.885745567667,41.8857453724799,41.8857448395519],\"line\":{\"color\":\"#00a8df\",\"width\":3},\"lon\":[-87.6294458095462,-87.6294713412234,-87.6294731493249,-87.6294763522677,-87.6294837480306,-87.6295304374328,-87.6295891604655,-87.6296660439967,-87.6297101143682,-87.6297585522456,-87.6298220409721,-87.6299274035705,-87.6301196952021,-87.6302042722754,-87.630891768284],\"mode\":\"lines\",\"type\":\"scattermapbox\"},{\"hoverinfo\":\"none\",\"lat\":[41.8857482652165,41.8857466611448,41.8857463122051,41.8857441006914,41.8857408382589,41.8857303668879,41.8856972561699,41.8856661073419,41.8856256231321,41.8855778773776,41.8855292152635,41.8853505657988,41.8832278682829],\"line\":{\"color\":\"#7b4213\",\"width\":3},\"lon\":[-87.6278409353155,-87.6268356143564,-87.6266179499657,-87.6265601183195,-87.6265089840114,-87.6264264197676,-87.6263525897503,-87.6263080221859,-87.626273439818,-87.6262586959607,-87.6262605060626,-87.6262624759252,-87.6261945340447],\"mode\":\"lines\",\"type\":\"scattermapbox\"},{\"hoverinfo\":\"none\",\"lat\":[41.8858182652165,41.8858166611448,41.8858163122051,41.8858141006914,41.8858108382589,41.8858003668879,41.8857672561699,41.8857361073419,41.8856956231321,41.8856478773776,41.885599215263504,41.8854205657988,41.8832978682829],\"line\":{\"color\":\"#00a447\",\"width\":3},\"lon\":[-87.6277909353155,-87.6267856143564,-87.6265679499657,-87.6265101183195,-87.62645898401139,-87.6263764197676,-87.6263025897503,-87.6262580221859,-87.62622343981799,-87.6262086959607,-87.62621050606259,-87.6262124759252,-87.6261445340447],\"mode\":\"lines\",\"type\":\"scattermapbox\"},{\"hoverinfo\":\"none\",\"lat\":[41.8858882652165,41.8858866611448,41.8858863122051,41.8858841006914,41.8858808382589,41.8858703668879,41.8858372561699,41.8858061073419,41.8857656231321,41.8857178773776,41.885669215263505,41.885490565798804,41.8833678682829],\"line\":{\"color\":\"#fe9307\",\"width\":3},\"lon\":[-87.6277409353155,-87.62673561435639,-87.6265179499657,-87.6264601183195,-87.62640898401139,-87.6263264197676,-87.6262525897503,-87.62620802218589,-87.62617343981799,-87.6261586959607,-87.62616050606259,-87.6261624759252,-87.6260945340447],\"mode\":\"lines\",\"type\":\"scattermapbox\"},{\"hoverinfo\":\"none\",\"lat\":[41.8859582652165,41.8859566611448,41.8859563122051,41.8859541006914,41.8859508382589,41.8859403668879,41.8859072561699,41.8858761073419,41.8858356231321,41.8857878773776,41.885739215263506,41.885560565798805,41.883437868282904],\"line\":{\"color\":\"#f68eb9\",\"width\":3},\"lon\":[-87.6276909353155,-87.62668561435639,-87.6264679499657,-87.6264101183195,-87.62635898401139,-87.62627641976759,-87.62620258975029,-87.62615802218589,-87.62612343981799,-87.6261086959607,-87.62611050606259,-87.6261124759252,-87.6260445340447],\"mode\":\"lines\",\"type\":\"scattermapbox\"},{\"hoverinfo\":\"none\",\"lat\":[41.886028265216495,41.8860266611448,41.8860263122051,41.886024100691394,41.886020838258894,41.886010366887895,41.885977256169895,41.885946107341894,41.885905623132096,41.885857877377596,41.8858092152635,41.8856305657988,41.8835078682829],\"line\":{\"color\":\"#492f8a\",\"width\":3},\"lon\":[-87.6276409353155,-87.62663561435639,-87.6264179499657,-87.6263601183195,-87.62630898401139,-87.62622641976759,-87.62615258975029,-87.62610802218589,-87.62607343981799,-87.6260586959607,-87.62606050606259,-87.6260624759252,-87.6259945340447],\"mode\":\"lines\",\"type\":\"scattermapbox\"},{\"hoverinfo\":\"none\",\"lat\":[41.7353790410194,41.7361427143393,41.7394912367867,41.7430376203909,41.7446072887257,41.7504201752088],\"line\":{\"color\":\"#fb003d\",\"width\":3},\"lon\":[-87.6247588078634,-87.6247896187955,-87.6248285634721,-87.624972734292,-87.6250037860022,-87.6251840900823],\"mode\":\"lines\",\"type\":\"scattermapbox\"},{\"hoverinfo\":\"none\",\"lat\":[41.7223838118166,41.7280091675602,41.7290525611213,41.7321252856815,41.7344909136583,41.7353790410194],\"line\":{\"color\":\"#fb003d\",\"width\":3},\"lon\":[-87.6244204786409,-87.6245494382768,-87.6245898176287,-87.6246399988014,-87.6247274999549,-87.6247588078634],\"mode\":\"lines\",\"type\":\"scattermapbox\"},{\"hoverinfo\":\"none\",\"lat\":[41.8218230407767,41.8217986155996,41.8217755181574,41.8217635641986,41.8217745845468,41.8217943477889,41.8218405288289,41.8219177544969,41.8219944296442,41.8220590191491,41.8221554624721,41.822469236982,41.8247943582921,41.8278566613259,41.8309833676811,41.8316858681808],\"line\":{\"color\":\"#00a447\",\"width\":3},\"lon\":[-87.6214685536977,-87.6235443261274,-87.6244331072914,-87.6248122163855,-87.6250541309841,-87.625168561513,-87.6253177323277,-87.6254793009578,-87.6255517040335,-87.6255955787656,-87.6256414138604,-87.6256738641703,-87.6257155408188,-87.6257886009156,-87.6258722462793,-87.6258872175477],\"mode\":\"lines\",\"type\":\"scattermapbox\"},{\"hoverinfo\":\"none\",\"lat\":[41.8092166773954,41.8106033359596,41.8127082953582,41.8147609885876,41.8164710670136],\"line\":{\"color\":\"#00a447\",\"width\":3},\"lon\":[-87.61883186836,-87.6188639768287,-87.6189261185414,-87.6189844897902,-87.6190415221625],\"mode\":\"lines\",\"type\":\"scattermapbox\"},{\"hoverinfo\":\"none\",\"lat\":[41.8316858681808,41.8349495604592,41.8372256459011,41.8382874324182,41.84116327903,41.8418751909226,41.8427080000909,41.8443308131189,41.8471061737297,41.8474779426727,41.8479875986284,41.8495594330747,41.8502513054448,41.8531229334703],\"line\":{\"color\":\"#00a447\",\"width\":3},\"lon\":[-87.6258872175477,-87.6259330279001,-87.6259877635283,-87.6260072234867,-87.6261201970997,-87.6261304122744,-87.6261528731384,-87.6261577610772,-87.626235810323,-87.6262603905392,-87.6262712293624,-87.626329863931,-87.6263445481136,-87.6264081313519],\"mode\":\"lines\",\"type\":\"scattermapbox\"},{\"hoverinfo\":\"none\",\"lat\":[41.8832278682829,41.8820387531077,41.8795180733519],\"line\":{\"color\":\"#7b4213\",\"width\":3},\"lon\":[-87.6261945340447,-87.626161920254,-87.6261036489066],\"mode\":\"lines\",\"type\":\"scattermapbox\"},{\"hoverinfo\":\"none\",\"lat\":[41.8832978682829,41.8821087531077,41.879588073351904],\"line\":{\"color\":\"#00a447\",\"width\":3},\"lon\":[-87.6261445340447,-87.626111920254,-87.62605364890659],\"mode\":\"lines\",\"type\":\"scattermapbox\"},{\"hoverinfo\":\"none\",\"lat\":[41.8833678682829,41.8821787531077,41.879658073351905],\"line\":{\"color\":\"#fe9307\",\"width\":3},\"lon\":[-87.6260945340447,-87.626061920254,-87.62600364890659],\"mode\":\"lines\",\"type\":\"scattermapbox\"},{\"hoverinfo\":\"none\",\"lat\":[41.883437868282904,41.8822487531077,41.879728073351906],\"line\":{\"color\":\"#f68eb9\",\"width\":3},\"lon\":[-87.6260445340447,-87.626011920254,-87.62595364890659],\"mode\":\"lines\",\"type\":\"scattermapbox\"},{\"hoverinfo\":\"none\",\"lat\":[41.8835078682829,41.8823187531077,41.8797980733519],\"line\":{\"color\":\"#492f8a\",\"width\":3},\"lon\":[-87.6259945340447,-87.625961920254,-87.62590364890659],\"mode\":\"lines\",\"type\":\"scattermapbox\"},{\"hoverinfo\":\"none\",\"lat\":[41.8795180733519,41.8783148133867,41.8767114751458],\"line\":{\"color\":\"#7b4213\",\"width\":3},\"lon\":[-87.6261036489066,-87.6260595416769,-87.6260357842179],\"mode\":\"lines\",\"type\":\"scattermapbox\"},{\"hoverinfo\":\"none\",\"lat\":[41.879588073351904,41.8783848133867,41.8767814751458],\"line\":{\"color\":\"#00a447\",\"width\":3},\"lon\":[-87.62605364890659,-87.6260095416769,-87.6259857842179],\"mode\":\"lines\",\"type\":\"scattermapbox\"},{\"hoverinfo\":\"none\",\"lat\":[41.879658073351905,41.8784548133867,41.8768514751458],\"line\":{\"color\":\"#fe9307\",\"width\":3},\"lon\":[-87.62600364890659,-87.62595954167689,-87.6259357842179],\"mode\":\"lines\",\"type\":\"scattermapbox\"},{\"hoverinfo\":\"none\",\"lat\":[41.879728073351906,41.878524813386704,41.8769214751458],\"line\":{\"color\":\"#f68eb9\",\"width\":3},\"lon\":[-87.62595364890659,-87.62590954167689,-87.6258857842179],\"mode\":\"lines\",\"type\":\"scattermapbox\"},{\"hoverinfo\":\"none\",\"lat\":[41.8797980733519,41.8785948133867,41.87699147514579],\"line\":{\"color\":\"#492f8a\",\"width\":3},\"lon\":[-87.62590364890659,-87.62585954167689,-87.6258357842179],\"mode\":\"lines\",\"type\":\"scattermapbox\"},{\"lat\":[41.8781,41.93024,41.9662,41.94371,41.88574,41.8795,41.88705,41.88571,41.82959,41.85386,41.88558,41.93294,41.87557,41.98244,41.97063,41.87562,41.98429,41.98384,41.97729,41.87395,41.90336,41.87089,42.01588,41.88618,41.96914,41.96427,41.91709,41.8479,41.80112,41.75042,41.85764,41.80468,42.06399,42.03346,41.88572,41.93922,41.98429,41.97699,41.92505,41.95451,41.78493,41.83168,41.88516,41.87161,41.87818,41.90336,41.95257,41.87578,41.92505,41.94743,41.85323,41.9835,41.7561,41.82127,41.80928,41.88074,41.85272,41.88558,41.88571,41.88716,41.87332,41.84149,41.87872,41.80435,42.01906],\"lon\":[-87.63372,-87.65302,-87.69646,-87.67091,-87.6305,-87.6261,-87.75332,-87.63799,-87.62583,-87.72431,-87.65219,-87.71221,-87.63913,-87.7851,-87.76089,-87.62961,-87.83803,-87.84917,-87.88769,-87.72158,-87.6665,-87.77681,-87.66909,-87.62784,-87.65849,-87.65759,-87.65261,-87.63094,-87.63133,-87.62518,-87.63066,-87.68402,-87.68562,-87.67954,-87.63457,-87.71239,-87.83803,-87.77432,-87.65287,-87.67496,-87.63203,-87.62588,-87.72096,-87.74515,-87.6293,-87.6665,-87.72852,-87.66636,-87.65287,-87.65363,-87.63098,-87.65884,-87.62553,-87.6304,-87.63159,-87.6277,-87.73648,-87.65219,-87.63633,-87.75499,-87.62679,-87.66085,-87.63374,-87.70441,-87.67289],\"marker\":{\"color\":\"white\",\"size\":11,\"symbol\":\"circle\"},\"mode\":\"markers\",\"type\":\"scattermapbox\"},{\"hovertemplate\":\"<b>%{text[0]} %{text[1]} %{text[2]}</b><br>%{text[3]} %{text[4]} %{text[5]} %{text[6]} %{text[7]} %{text[8]}\",\"lat\":[41.8781,41.93024,41.9662,41.94371,41.88574,41.8795,41.88705,41.88571,41.82959,41.85386,41.88558,41.93294,41.87557,41.98244,41.97063,41.87562,41.98429,41.98384,41.97729,41.87395,41.90336,41.87089,42.01588,41.88618,41.96914,41.96427,41.91709,41.8479,41.80112,41.75042,41.85764,41.80468,42.06399,42.03346,41.88572,41.93922,41.98429,41.97699,41.92505,41.95451,41.78493,41.83168,41.88516,41.87161,41.87818,41.90336,41.95257,41.87578,41.92505,41.94743,41.85323,41.9835,41.7561,41.82127,41.80928,41.88074,41.85272,41.88558,41.88571,41.88716,41.87332,41.84149,41.87872,41.80435,42.01906],\"lon\":[-87.63372,-87.65302,-87.69646,-87.67091,-87.6305,-87.6261,-87.75332,-87.63799,-87.62583,-87.72431,-87.65219,-87.71221,-87.63913,-87.7851,-87.76089,-87.62961,-87.83803,-87.84917,-87.88769,-87.72158,-87.6665,-87.77681,-87.66909,-87.62784,-87.65849,-87.65759,-87.65261,-87.63094,-87.63133,-87.62518,-87.63066,-87.68402,-87.68562,-87.67954,-87.63457,-87.71239,-87.83803,-87.77432,-87.65287,-87.67496,-87.63203,-87.62588,-87.72096,-87.74515,-87.6293,-87.6665,-87.72852,-87.66636,-87.65287,-87.65363,-87.63098,-87.65884,-87.62553,-87.6304,-87.63159,-87.6277,-87.73648,-87.65219,-87.63633,-87.75499,-87.62679,-87.66085,-87.63374,-87.70441,-87.67289],\"marker\":{\"color\":[\"#7b4213\",\"#7b4213\",\"#7b4213\",\"#7b4213\",\"#7b4213\",\"#00a447\",\"#00a447\",\"#00a447\",\"#00a447\",\"#f68eb9\",\"#f68eb9\",\"#00a8df\",\"#00a8df\",\"#00a8df\",\"#00a8df\",\"#00a8df\",\"#00a8df\",\"#00a8df\",\"#00a8df\",\"#00a8df\",\"#00a8df\",\"#00a8df\",\"#fb003d\",\"#fb003d\",\"#fb003d\",\"#fb003d\",\"#fb003d\",\"#fb003d\",\"#fb003d\",\"#fb003d\",\"#fe9307\",\"#fe9307\",\"#492f8a\",\"#492f8a\",\"#00a8df\",\"#00a8df\",\"#00a8df\",\"#00a8df\",\"#7b4213\",\"#7b4213\",\"#00a447\",\"#00a447\",\"#00a447\",\"#00a8df\",\"#00a8df\",\"#00a8df\",\"#00a8df\",\"#00a8df\",\"#fb003d\",\"#fb003d\",\"#fb003d\",\"#fb003d\",\"#fb003d\",\"#fb003d\",\"#fb003d\",\"#fb003d\",\"#f68eb9\",\"#f68eb9\",\"#00a447\",\"#00a447\",\"#fe9307\",\"#fe9307\",\"#fe9307\",\"#fe9307\",\"#492f8a\"],\"size\":10,\"symbol\":\"circle\"},\"mode\":\"markers\",\"text\":[[\"400\",\"Towards:\",\"Kimball\",\"Arriving\",\"at\",\"LaSalle/Van\",\"Buren\",\"in\",\"1\",\"min\"],[\"401\",\"Towards:\",\"Kimball\",\"Arriving\",\"at\",\"Diversey\",\"in\",\"1\",\"min\"],[\"406\",\"Towards:\",\"Kimball\",\"Arriving\",\"at\",\"Francisco\",\"in\",\"1\",\"min\"],[\"407\",\"Towards:\",\"Kimball\",\"Arriving\",\"at\",\"Addison\",\"in\",\"2\",\"min\"],[\"413\",\"Towards:\",\"Kimball\",\"Arriving\",\"at\",\"Clark/Lake\",\"in\",\"1\",\"min\"],[\"11\",\"Towards:\",\"Harlem/Lake\",\"Arriving\",\"at\",\"Washington/Wabash\",\"in\",\"1\",\"min\"],[\"607\",\"Towards:\",\"Harlem/Lake\",\"Arriving\",\"at\",\"Laramie\",\"in\",\"1\",\"min\"],[\"612\",\"Towards:\",\"Harlem/Lake\",\"Arriving\",\"at\",\"Clinton\",\"in\",\"1\",\"min\"],[\"613\",\"Towards:\",\"Harlem/Lake\",\"Arriving\",\"at\",\"35th-Bronzeville-IIT\",\"in\",\"1\",\"min\"],[\"307\",\"Towards:\",\"Loop\",\"Arriving\",\"at\",\"Central\",\"Park\",\"in\",\"1\",\"min\"],[\"312\",\"Towards:\",\"54th/Cermak\",\"Arriving\",\"at\",\"Ashland\",\"in\",\"1\",\"min\"],[\"104\",\"Towards:\",\"O'Hare\",\"Arriving\",\"at\",\"Belmont\",\"in\",\"1\",\"min\"],[\"111\",\"Towards:\",\"O'Hare\",\"Arriving\",\"at\",\"LaSalle\",\"in\",\"1\",\"min\"],[\"113\",\"Towards:\",\"O'Hare\",\"Arriving\",\"at\",\"Harlem\",\"(O'Hare\",\"Branch)\",\"in\",\"1\",\"min\"],[\"119\",\"Towards:\",\"O'Hare\",\"Arriving\",\"at\",\"Jefferson\",\"Park\",\"in\",\"1\",\"min\"],[\"120\",\"Towards:\",\"O'Hare\",\"Arriving\",\"at\",\"Jackson\",\"in\",\"1\",\"min\"],[\"207\",\"Towards:\",\"O'Hare\",\"Arriving\",\"at\",\"Cumberland\",\"in\",\"2\",\"min\"],[\"208\",\"Towards:\",\"O'Hare\",\"Arriving\",\"at\",\"Rosemont\",\"in\",\"1\",\"min\"],[\"211\",\"Towards:\",\"O'Hare\",\"Arriving\",\"at\",\"O'Hare\",\"in\",\"2\",\"min\"],[\"212\",\"Towards:\",\"O'Hare\",\"Arriving\",\"at\",\"Kedzie-Homan\",\"in\",\"1\",\"min\"],[\"213\",\"Towards:\",\"O'Hare\",\"Arriving\",\"at\",\"Damen\",\"in\",\"2\",\"min\"],[\"216\",\"Towards:\",\"O'Hare\",\"Arriving\",\"at\",\"Cicero\",\"in\",\"5\",\"min\"],[\"805\",\"Towards:\",\"Howard\",\"Arriving\",\"at\",\"Howard\",\"in\",\"2\",\"min\"],[\"806\",\"Towards:\",\"Howard\",\"Arriving\",\"at\",\"Grand\",\"in\",\"1\",\"min\"],[\"812\",\"Towards:\",\"Howard\",\"Arriving\",\"at\",\"Argyle\",\"in\",\"1\",\"min\"],[\"823\",\"Towards:\",\"Howard\",\"Arriving\",\"at\",\"Wilson\",\"in\",\"2\",\"min\"],[\"906\",\"Towards:\",\"Howard\",\"Arriving\",\"at\",\"Fullerton\",\"in\",\"2\",\"min\"],[\"914\",\"Towards:\",\"Howard\",\"Arriving\",\"at\",\"Cermak-Chinatown\",\"in\",\"1\",\"min\"],[\"916\",\"Towards:\",\"Howard\",\"Arriving\",\"at\",\"47th\",\"in\",\"1\",\"min\"],[\"917\",\"Towards:\",\"Howard\",\"Arriving\",\"at\",\"69th\",\"in\",\"2\",\"min\"],[\"707\",\"Towards:\",\"Loop\",\"Arriving\",\"at\",\"Roosevelt\",\"in\",\"3\",\"min\"],[\"714\",\"Towards:\",\"Loop\",\"Arriving\",\"at\",\"35th/Archer\",\"in\",\"4\",\"min\"],[\"512\",\"Towards:\",\"Linden\",\"Arriving\",\"at\",\"Linden\",\"in\",\"2\",\"min\"],[\"515\",\"Towards:\",\"Linden\",\"Arriving\",\"at\",\"Dempster\",\"in\",\"1\",\"min\"],[\"107\",\"Towards:\",\"UIC-Halsted\",\"Arriving\",\"at\",\"Clark/Lake\",\"in\",\"1\",\"min\"],[\"109\",\"Towards:\",\"UIC-Halsted\",\"Arriving\",\"at\",\"Belmont\",\"in\",\"1\",\"min\"],[\"117\",\"Towards:\",\"UIC-Halsted\",\"Arriving\",\"at\",\"Cumberland\",\"in\",\"1\",\"min\"],[\"215\",\"Towards:\",\"UIC-Halsted\",\"Arriving\",\"at\",\"Jefferson\",\"Park\",\"in\",\"2\",\"min\"],[\"402\",\"Towards:\",\"Loop\",\"Arriving\",\"at\",\"Armitage\",\"in\",\"2\",\"min\"],[\"409\",\"Towards:\",\"Loop\",\"Arriving\",\"at\",\"Addison\",\"in\",\"1\",\"min\"],[\"8\",\"Towards:\",\"Ashland/63rd\",\"Arriving\",\"at\",\"Halsted\",\"in\",\"2\",\"min\"],[\"10\",\"Towards:\",\"Ashland/63rd\",\"Arriving\",\"at\",\"35th-Bronzeville-IIT\",\"in\",\"3\",\"min\"],[\"13\",\"Towards:\",\"Ashland/63rd\",\"Arriving\",\"at\",\"Conservatory-Central\",\"Park\",\"Drive\",\"in\",\"1\",\"min\"],[\"110\",\"Towards:\",\"Forest\",\"Park\",\"Arriving\",\"at\",\"Austin\",\"in\",\"5\",\"min\"],[\"114\",\"Towards:\",\"Forest\",\"Park\",\"Arriving\",\"at\",\"Clinton\",\"in\",\"2\",\"min\"],[\"205\",\"Towards:\",\"Forest\",\"Park\",\"Arriving\",\"at\",\"Chicago\",\"in\",\"2\",\"min\"],[\"206\",\"Towards:\",\"Forest\",\"Park\",\"Arriving\",\"at\",\"Addison\",\"in\",\"1\",\"min\"],[\"214\",\"Towards:\",\"Forest\",\"Park\",\"Arriving\",\"at\",\"Illinois\",\"Medical\",\"District\",\"in\",\"1\",\"min\"],[\"808\",\"Towards:\",\"95th/Dan\",\"Ryan\",\"Arriving\",\"at\",\"North/Clybourn\",\"in\",\"2\",\"min\"],[\"809\",\"Towards:\",\"95th/Dan\",\"Ryan\",\"Arriving\",\"at\",\"Belmont\",\"in\",\"2\",\"min\"],[\"818\",\"Towards:\",\"95th/Dan\",\"Ryan\",\"Arriving\",\"at\",\"Sox-35th\",\"in\",\"3\",\"min\"],[\"819\",\"Towards:\",\"95th/Dan\",\"Ryan\",\"Arriving\",\"at\",\"Bryn\",\"Mawr\",\"in\",\"1\",\"min\"],[\"903\",\"Towards:\",\"95th/Dan\",\"Ryan\",\"Arriving\",\"at\",\"79th\",\"in\",\"1\",\"min\"],[\"904\",\"Towards:\",\"95th/Dan\",\"Ryan\",\"Arriving\",\"at\",\"47th\",\"in\",\"1\",\"min\"],[\"909\",\"Towards:\",\"95th/Dan\",\"Ryan\",\"Arriving\",\"at\",\"Garfield\",\"in\",\"2\",\"min\"],[\"915\",\"Towards:\",\"95th/Dan\",\"Ryan\",\"Arriving\",\"at\",\"Jackson\",\"in\",\"1\",\"min\"],[\"305\",\"Towards:\",\"54th/Cermak\",\"Arriving\",\"at\",\"Cicero\",\"in\",\"1\",\"min\"],[\"310\",\"Towards:\",\"Loop\",\"Arriving\",\"at\",\"Clinton\",\"in\",\"1\",\"min\"],[\"12\",\"Towards:\",\"Cottage\",\"Grove\",\"Arriving\",\"at\",\"Clark/Lake\",\"in\",\"1\",\"min\"],[\"14\",\"Towards:\",\"Cottage\",\"Grove\",\"Arriving\",\"at\",\"Cicero\",\"in\",\"1\",\"min\"],[\"706\",\"Towards:\",\"Midway\",\"Arriving\",\"at\",\"Roosevelt\",\"in\",\"2\",\"min\"],[\"708\",\"Towards:\",\"Midway\",\"Arriving\",\"at\",\"Ashland\",\"in\",\"1\",\"min\"],[\"711\",\"Towards:\",\"Midway\",\"Arriving\",\"at\",\"Washington/Wells\",\"in\",\"1\",\"min\"],[\"713\",\"Towards:\",\"Midway\",\"Arriving\",\"at\",\"Pulaski\",\"in\",\"2\",\"min\"],[\"510\",\"Towards:\",\"See\",\"train\",\"Arriving\",\"at\",\"Wilson\",\"in\",\"12\",\"min\"]],\"type\":\"scattermapbox\"}],                        {\"template\":{\"data\":{\"histogram2dcontour\":[{\"type\":\"histogram2dcontour\",\"colorbar\":{\"outlinewidth\":0,\"ticks\":\"\"},\"colorscale\":[[0.0,\"#0d0887\"],[0.1111111111111111,\"#46039f\"],[0.2222222222222222,\"#7201a8\"],[0.3333333333333333,\"#9c179e\"],[0.4444444444444444,\"#bd3786\"],[0.5555555555555556,\"#d8576b\"],[0.6666666666666666,\"#ed7953\"],[0.7777777777777778,\"#fb9f3a\"],[0.8888888888888888,\"#fdca26\"],[1.0,\"#f0f921\"]]}],\"choropleth\":[{\"type\":\"choropleth\",\"colorbar\":{\"outlinewidth\":0,\"ticks\":\"\"}}],\"histogram2d\":[{\"type\":\"histogram2d\",\"colorbar\":{\"outlinewidth\":0,\"ticks\":\"\"},\"colorscale\":[[0.0,\"#0d0887\"],[0.1111111111111111,\"#46039f\"],[0.2222222222222222,\"#7201a8\"],[0.3333333333333333,\"#9c179e\"],[0.4444444444444444,\"#bd3786\"],[0.5555555555555556,\"#d8576b\"],[0.6666666666666666,\"#ed7953\"],[0.7777777777777778,\"#fb9f3a\"],[0.8888888888888888,\"#fdca26\"],[1.0,\"#f0f921\"]]}],\"heatmap\":[{\"type\":\"heatmap\",\"colorbar\":{\"outlinewidth\":0,\"ticks\":\"\"},\"colorscale\":[[0.0,\"#0d0887\"],[0.1111111111111111,\"#46039f\"],[0.2222222222222222,\"#7201a8\"],[0.3333333333333333,\"#9c179e\"],[0.4444444444444444,\"#bd3786\"],[0.5555555555555556,\"#d8576b\"],[0.6666666666666666,\"#ed7953\"],[0.7777777777777778,\"#fb9f3a\"],[0.8888888888888888,\"#fdca26\"],[1.0,\"#f0f921\"]]}],\"heatmapgl\":[{\"type\":\"heatmapgl\",\"colorbar\":{\"outlinewidth\":0,\"ticks\":\"\"},\"colorscale\":[[0.0,\"#0d0887\"],[0.1111111111111111,\"#46039f\"],[0.2222222222222222,\"#7201a8\"],[0.3333333333333333,\"#9c179e\"],[0.4444444444444444,\"#bd3786\"],[0.5555555555555556,\"#d8576b\"],[0.6666666666666666,\"#ed7953\"],[0.7777777777777778,\"#fb9f3a\"],[0.8888888888888888,\"#fdca26\"],[1.0,\"#f0f921\"]]}],\"contourcarpet\":[{\"type\":\"contourcarpet\",\"colorbar\":{\"outlinewidth\":0,\"ticks\":\"\"}}],\"contour\":[{\"type\":\"contour\",\"colorbar\":{\"outlinewidth\":0,\"ticks\":\"\"},\"colorscale\":[[0.0,\"#0d0887\"],[0.1111111111111111,\"#46039f\"],[0.2222222222222222,\"#7201a8\"],[0.3333333333333333,\"#9c179e\"],[0.4444444444444444,\"#bd3786\"],[0.5555555555555556,\"#d8576b\"],[0.6666666666666666,\"#ed7953\"],[0.7777777777777778,\"#fb9f3a\"],[0.8888888888888888,\"#fdca26\"],[1.0,\"#f0f921\"]]}],\"surface\":[{\"type\":\"surface\",\"colorbar\":{\"outlinewidth\":0,\"ticks\":\"\"},\"colorscale\":[[0.0,\"#0d0887\"],[0.1111111111111111,\"#46039f\"],[0.2222222222222222,\"#7201a8\"],[0.3333333333333333,\"#9c179e\"],[0.4444444444444444,\"#bd3786\"],[0.5555555555555556,\"#d8576b\"],[0.6666666666666666,\"#ed7953\"],[0.7777777777777778,\"#fb9f3a\"],[0.8888888888888888,\"#fdca26\"],[1.0,\"#f0f921\"]]}],\"mesh3d\":[{\"type\":\"mesh3d\",\"colorbar\":{\"outlinewidth\":0,\"ticks\":\"\"}}],\"scatter\":[{\"fillpattern\":{\"fillmode\":\"overlay\",\"size\":10,\"solidity\":0.2},\"type\":\"scatter\"}],\"parcoords\":[{\"type\":\"parcoords\",\"line\":{\"colorbar\":{\"outlinewidth\":0,\"ticks\":\"\"}}}],\"scatterpolargl\":[{\"type\":\"scatterpolargl\",\"marker\":{\"colorbar\":{\"outlinewidth\":0,\"ticks\":\"\"}}}],\"bar\":[{\"error_x\":{\"color\":\"#2a3f5f\"},\"error_y\":{\"color\":\"#2a3f5f\"},\"marker\":{\"line\":{\"color\":\"#E5ECF6\",\"width\":0.5},\"pattern\":{\"fillmode\":\"overlay\",\"size\":10,\"solidity\":0.2}},\"type\":\"bar\"}],\"scattergeo\":[{\"type\":\"scattergeo\",\"marker\":{\"colorbar\":{\"outlinewidth\":0,\"ticks\":\"\"}}}],\"scatterpolar\":[{\"type\":\"scatterpolar\",\"marker\":{\"colorbar\":{\"outlinewidth\":0,\"ticks\":\"\"}}}],\"histogram\":[{\"marker\":{\"pattern\":{\"fillmode\":\"overlay\",\"size\":10,\"solidity\":0.2}},\"type\":\"histogram\"}],\"scattergl\":[{\"type\":\"scattergl\",\"marker\":{\"colorbar\":{\"outlinewidth\":0,\"ticks\":\"\"}}}],\"scatter3d\":[{\"type\":\"scatter3d\",\"line\":{\"colorbar\":{\"outlinewidth\":0,\"ticks\":\"\"}},\"marker\":{\"colorbar\":{\"outlinewidth\":0,\"ticks\":\"\"}}}],\"scattermapbox\":[{\"type\":\"scattermapbox\",\"marker\":{\"colorbar\":{\"outlinewidth\":0,\"ticks\":\"\"}}}],\"scatterternary\":[{\"type\":\"scatterternary\",\"marker\":{\"colorbar\":{\"outlinewidth\":0,\"ticks\":\"\"}}}],\"scattercarpet\":[{\"type\":\"scattercarpet\",\"marker\":{\"colorbar\":{\"outlinewidth\":0,\"ticks\":\"\"}}}],\"carpet\":[{\"aaxis\":{\"endlinecolor\":\"#2a3f5f\",\"gridcolor\":\"white\",\"linecolor\":\"white\",\"minorgridcolor\":\"white\",\"startlinecolor\":\"#2a3f5f\"},\"baxis\":{\"endlinecolor\":\"#2a3f5f\",\"gridcolor\":\"white\",\"linecolor\":\"white\",\"minorgridcolor\":\"white\",\"startlinecolor\":\"#2a3f5f\"},\"type\":\"carpet\"}],\"table\":[{\"cells\":{\"fill\":{\"color\":\"#EBF0F8\"},\"line\":{\"color\":\"white\"}},\"header\":{\"fill\":{\"color\":\"#C8D4E3\"},\"line\":{\"color\":\"white\"}},\"type\":\"table\"}],\"barpolar\":[{\"marker\":{\"line\":{\"color\":\"#E5ECF6\",\"width\":0.5},\"pattern\":{\"fillmode\":\"overlay\",\"size\":10,\"solidity\":0.2}},\"type\":\"barpolar\"}],\"pie\":[{\"automargin\":true,\"type\":\"pie\"}]},\"layout\":{\"autotypenumbers\":\"strict\",\"colorway\":[\"#636efa\",\"#EF553B\",\"#00cc96\",\"#ab63fa\",\"#FFA15A\",\"#19d3f3\",\"#FF6692\",\"#B6E880\",\"#FF97FF\",\"#FECB52\"],\"font\":{\"color\":\"#2a3f5f\"},\"hovermode\":\"closest\",\"hoverlabel\":{\"align\":\"left\"},\"paper_bgcolor\":\"white\",\"plot_bgcolor\":\"#E5ECF6\",\"polar\":{\"bgcolor\":\"#E5ECF6\",\"angularaxis\":{\"gridcolor\":\"white\",\"linecolor\":\"white\",\"ticks\":\"\"},\"radialaxis\":{\"gridcolor\":\"white\",\"linecolor\":\"white\",\"ticks\":\"\"}},\"ternary\":{\"bgcolor\":\"#E5ECF6\",\"aaxis\":{\"gridcolor\":\"white\",\"linecolor\":\"white\",\"ticks\":\"\"},\"baxis\":{\"gridcolor\":\"white\",\"linecolor\":\"white\",\"ticks\":\"\"},\"caxis\":{\"gridcolor\":\"white\",\"linecolor\":\"white\",\"ticks\":\"\"}},\"coloraxis\":{\"colorbar\":{\"outlinewidth\":0,\"ticks\":\"\"}},\"colorscale\":{\"sequential\":[[0.0,\"#0d0887\"],[0.1111111111111111,\"#46039f\"],[0.2222222222222222,\"#7201a8\"],[0.3333333333333333,\"#9c179e\"],[0.4444444444444444,\"#bd3786\"],[0.5555555555555556,\"#d8576b\"],[0.6666666666666666,\"#ed7953\"],[0.7777777777777778,\"#fb9f3a\"],[0.8888888888888888,\"#fdca26\"],[1.0,\"#f0f921\"]],\"sequentialminus\":[[0.0,\"#0d0887\"],[0.1111111111111111,\"#46039f\"],[0.2222222222222222,\"#7201a8\"],[0.3333333333333333,\"#9c179e\"],[0.4444444444444444,\"#bd3786\"],[0.5555555555555556,\"#d8576b\"],[0.6666666666666666,\"#ed7953\"],[0.7777777777777778,\"#fb9f3a\"],[0.8888888888888888,\"#fdca26\"],[1.0,\"#f0f921\"]],\"diverging\":[[0,\"#8e0152\"],[0.1,\"#c51b7d\"],[0.2,\"#de77ae\"],[0.3,\"#f1b6da\"],[0.4,\"#fde0ef\"],[0.5,\"#f7f7f7\"],[0.6,\"#e6f5d0\"],[0.7,\"#b8e186\"],[0.8,\"#7fbc41\"],[0.9,\"#4d9221\"],[1,\"#276419\"]]},\"xaxis\":{\"gridcolor\":\"white\",\"linecolor\":\"white\",\"ticks\":\"\",\"title\":{\"standoff\":15},\"zerolinecolor\":\"white\",\"automargin\":true,\"zerolinewidth\":2},\"yaxis\":{\"gridcolor\":\"white\",\"linecolor\":\"white\",\"ticks\":\"\",\"title\":{\"standoff\":15},\"zerolinecolor\":\"white\",\"automargin\":true,\"zerolinewidth\":2},\"scene\":{\"xaxis\":{\"backgroundcolor\":\"#E5ECF6\",\"gridcolor\":\"white\",\"linecolor\":\"white\",\"showbackground\":true,\"ticks\":\"\",\"zerolinecolor\":\"white\",\"gridwidth\":2},\"yaxis\":{\"backgroundcolor\":\"#E5ECF6\",\"gridcolor\":\"white\",\"linecolor\":\"white\",\"showbackground\":true,\"ticks\":\"\",\"zerolinecolor\":\"white\",\"gridwidth\":2},\"zaxis\":{\"backgroundcolor\":\"#E5ECF6\",\"gridcolor\":\"white\",\"linecolor\":\"white\",\"showbackground\":true,\"ticks\":\"\",\"zerolinecolor\":\"white\",\"gridwidth\":2}},\"shapedefaults\":{\"line\":{\"color\":\"#2a3f5f\"}},\"annotationdefaults\":{\"arrowcolor\":\"#2a3f5f\",\"arrowhead\":0,\"arrowwidth\":1},\"geo\":{\"bgcolor\":\"white\",\"landcolor\":\"#E5ECF6\",\"subunitcolor\":\"white\",\"showland\":true,\"showlakes\":true,\"lakecolor\":\"white\"},\"title\":{\"x\":0.05},\"mapbox\":{\"style\":\"light\"}}},\"mapbox\":{\"center\":{\"lat\":41.894,\"lon\":-87.72},\"style\":\"carto-darkmatter\",\"zoom\":9.85},\"height\":800,\"width\":720,\"showlegend\":false},                        {\"responsive\": true}                    ).then(function(){\n",
       "                            \n",
       "var gd = document.getElementById('9fb604c2-27db-4cab-8939-08961ba050da');\n",
       "var x = new MutationObserver(function (mutations, observer) {{\n",
       "        var display = window.getComputedStyle(gd).display;\n",
       "        if (!display || display === 'none') {{\n",
       "            console.log([gd, 'removed!']);\n",
       "            Plotly.purge(gd);\n",
       "            observer.disconnect();\n",
       "        }}\n",
       "}});\n",
       "\n",
       "// Listen for the removal of the full notebook cells\n",
       "var notebookContainer = gd.closest('#notebook-container');\n",
       "if (notebookContainer) {{\n",
       "    x.observe(notebookContainer, {childList: true});\n",
       "}}\n",
       "\n",
       "// Listen for the clearing of the current output cell\n",
       "var outputEl = gd.closest('.output');\n",
       "if (outputEl) {{\n",
       "    x.observe(outputEl, {childList: true});\n",
       "}}\n",
       "\n",
       "                        })                };                });            </script>        </div>"
      ]
     },
     "metadata": {},
     "output_type": "display_data"
    }
   ],
   "source": [
    "train_df = get_bq_data()\n",
    "\n",
    "# Read in the CTA train lines GeoJSON file\n",
    "with open('CTA_RailLines.geojson', 'r') as f:\n",
    "    cta_lines = json.load(f)\n",
    "\n",
    "# Create a mapbox plot of the CTA train lines\n",
    "line_color_map = {'Yellow Line': '#f9ef00',\n",
    " 'Orange Line': '#fe9307',\n",
    " 'Pink Line': '#f68eb9',\n",
    " 'Brown Line': '#7b4213',\n",
    " 'Green Line': '#00a447',\n",
    " 'Red Line': '#fb003d',\n",
    " \"Blue Line (O'Hare)\": '#00a8df',\n",
    " \"Blue Line (Forest Park)\": '#00a8df',\n",
    " 'Purple Line': '#492f8a',\n",
    " 'Blue Line' : '#00a8df',\n",
    " 'Brown, Orange, Pink, Purple (Express)': ['#7b4213', '#fe9307', '#ff85bc', '#492f8a'],\n",
    " 'Brown, Purple': ['#7b4213', '#492f8a'],\n",
    " 'Green, Orange': ['#00a447', '#fe9307'],\n",
    " 'Brown, Green, Orange, Pink, Purple (Exp)': ['#7b4213', '#00a447', '#fe9307', '#f68eb9', '#492f8a'],\n",
    " 'Red, Purple Line': ['#fb003d', '#492f8a'],\n",
    " 'Brown, Purple (Express), Red':['#7b4213', '#492f8a', '#fa0034'], \n",
    " 'Green, Pink': ['#00a447', '#f68eb9']\n",
    "}\n",
    "\n",
    "line_color_scales = {}\n",
    "\n",
    "for line, color in line_color_map.items():\n",
    "    if isinstance(color, list):\n",
    "        line_color_scales[line] = color\n",
    "    else:\n",
    "        line_color_scales[line] = [color]\n",
    "\n",
    "line_traces = []\n",
    "\n",
    "for feature in cta_lines['features']:\n",
    "    line = feature['properties']['Name']\n",
    "    geo = feature['geometry']\n",
    "    coords = geo['coordinates']\n",
    "    line_colors = line_color_map[line]\n",
    "    if isinstance(line_colors, str):\n",
    "        # If line color is a string, create a single trace with the given color\n",
    "        trace = go.Scattermapbox(\n",
    "            lat=[c[1] for c in coords],\n",
    "            lon=[c[0] for c in coords],\n",
    "            mode='lines',\n",
    "            line=dict(color=line_colors, width=3),\n",
    "            hoverinfo='none'\n",
    "        )\n",
    "        line_traces.append(trace)\n",
    "    elif isinstance(line_colors, list):\n",
    "        # If line color is a list, create multiple traces with different colors\n",
    "        n_colors = len(line_colors)\n",
    "        for i in range(n_colors):\n",
    "            trace = go.Scattermapbox(\n",
    "                lat=[c[1] + i*.00007 for c in coords],\n",
    "                lon=[c[0] + i*.00005 for c in coords],\n",
    "                mode= 'lines',\n",
    "                line=dict(color=line_colors[i], width=3),\n",
    "                hoverinfo='none'\n",
    "            )\n",
    "            line_traces.append(trace)\n",
    "\n",
    "\n",
    "train_df['min_to_arrival'] = ((train_df['arrival_time'] -train_df['timestamp']).dt.total_seconds() / 60).astype('int')\n",
    "train_df['hover_info'] = train_df['train_id'].astype('str') + ' Towards: ' + train_df['destination'].astype('str') + '\\n' + 'Arriving at ' + train_df['next_station_name'].astype('str') + ' in ' + train_df['min_to_arrival'].astype('str') + ' min'\n",
    "train_df['route_color'] = train_df['route'].apply(lambda x: line_color_map[x])\n",
    "\n",
    "# Create a scatter mapbox plot of the train locations\n",
    "with open('rail.svg', 'r') as f:\n",
    "    rail_svg = f.read()\n",
    "\n",
    "hover_template = '<b>{}</b><br>{}'.format(\n",
    "    '%{text[0]} %{text[1]} %{text[2]}',\n",
    "    '%{text[3]} %{text[4]} %{text[5]} %{text[6]} %{text[7]} %{text[8]}'\n",
    ")\n",
    "\n",
    "scatter_trace_outline = go.Scattermapbox(\n",
    "    lat=train_df['latitude'],\n",
    "    lon=train_df['longitude'],\n",
    "    mode='markers',\n",
    "    marker=dict(\n",
    "    symbol='circle', \n",
    "    size = 11, \n",
    "    color = 'white')\n",
    "\n",
    ")\n",
    "scatter_trace = go.Scattermapbox(\n",
    "    lat=train_df['latitude'],\n",
    "    lon=train_df['longitude'],\n",
    "    mode='markers',\n",
    "    marker=dict(\n",
    "    symbol='circle', \n",
    "    size = 10, \n",
    "    color = train_df['route_color']),\n",
    "    text=train_df['hover_info'].apply(lambda x: x.split()),\n",
    "    hovertemplate= hover_template\n",
    "\n",
    ")\n",
    "\n",
    "# Add the line and scatter traces to the figure\n",
    "fig = go.Figure(line_traces + [scatter_trace_outline] + [scatter_trace])\n",
    "\n",
    "fig.update_layout(\n",
    "    mapbox=dict(\n",
    "        style='carto-darkmatter',\n",
    "        zoom=9.85,\n",
    "        center=dict(lat=41.894, lon=-87.72),\n",
    "    ),\n",
    "    height = 800, \n",
    "    width = 720,\n",
    "    showlegend=False\n",
    ")"
   ]
  },
  {
   "cell_type": "code",
   "execution_count": 98,
   "id": "c635b956",
   "metadata": {},
   "outputs": [
    {
     "data": {
      "text/plain": [
       "'400 Towards: Kimball\\nArriving at LaSalle/Van Buren in 1 min'"
      ]
     },
     "execution_count": 98,
     "metadata": {},
     "output_type": "execute_result"
    }
   ],
   "source": [
    "train_df.hover_info[0]"
   ]
  },
  {
   "cell_type": "code",
   "execution_count": 99,
   "id": "82cf36ee",
   "metadata": {},
   "outputs": [],
   "source": [
    "train_df['hover_info'] = train_df['train_id'].astype('str') + ' Towards: ' + train_df['destination'].str.replace(' ', '_').astype('str') + '\\n' + 'Arriving at ' + train_df['next_station_name'].str.replace(' ', '_').astype('str') + ' in ' + train_df['min_to_arrival'].astype('str') + ' min'\n"
   ]
  },
  {
   "cell_type": "code",
   "execution_count": 101,
   "id": "5cdacdd2",
   "metadata": {},
   "outputs": [
    {
     "data": {
      "text/plain": [
       "'400 Towards: Kimball\\nArriving at LaSalle/Van Buren in 1 min'"
      ]
     },
     "execution_count": 101,
     "metadata": {},
     "output_type": "execute_result"
    }
   ],
   "source": [
    "train_df.hover_info[0]"
   ]
  },
  {
   "cell_type": "code",
   "execution_count": 103,
   "id": "73db1f9c",
   "metadata": {},
   "outputs": [
    {
     "data": {
      "text/plain": [
       "0     LaSalle/Van_Buren\n",
       "1              Diversey\n",
       "2             Francisco\n",
       "3               Addison\n",
       "4            Clark/Lake\n",
       "            ...        \n",
       "60            Roosevelt\n",
       "61              Ashland\n",
       "62     Washington/Wells\n",
       "63              Pulaski\n",
       "64               Wilson\n",
       "Name: next_station_name, Length: 65, dtype: object"
      ]
     },
     "execution_count": 103,
     "metadata": {},
     "output_type": "execute_result"
    }
   ],
   "source": [
    "train_df['next_station_name'].str.replace(' ', '_').astype('str')"
   ]
  },
  {
   "cell_type": "code",
   "execution_count": null,
   "id": "9a34defd",
   "metadata": {},
   "outputs": [],
   "source": []
  }
 ],
 "metadata": {
  "kernelspec": {
   "display_name": "Python 3 (ipykernel)",
   "language": "python",
   "name": "python3"
  },
  "language_info": {
   "codemirror_mode": {
    "name": "ipython",
    "version": 3
   },
   "file_extension": ".py",
   "mimetype": "text/x-python",
   "name": "python",
   "nbconvert_exporter": "python",
   "pygments_lexer": "ipython3",
   "version": "3.9.13"
  }
 },
 "nbformat": 4,
 "nbformat_minor": 5
}
